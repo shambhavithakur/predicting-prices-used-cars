{
 "cells": [
  {
   "cell_type": "markdown",
   "metadata": {
    "papermill": {
     "duration": 0.105684,
     "end_time": "2020-09-12T19:28:55.957708",
     "exception": false,
     "start_time": "2020-09-12T19:28:55.852024",
     "status": "completed"
    },
    "tags": []
   },
   "source": [
    "<h1>How to Predict the Prices of Used Cars</h1>\n",
    "<p>Subtitle: Using supervised learning to build a price-prediction algorithm</p>\n",
    "<p style=\"margin-bottom:0 !important;\">Created: 2020-05-2020</p>\n",
    "<p>Author: <a href=\"https://sthakur.work\">Shambhavi Thakur</a></p>"
   ]
  },
  {
   "cell_type": "markdown",
   "metadata": {
    "papermill": {
     "duration": 0.104345,
     "end_time": "2020-09-12T19:28:56.164313",
     "exception": false,
     "start_time": "2020-09-12T19:28:56.059968",
     "status": "completed"
    },
    "tags": []
   },
   "source": [
    "## Introduction\n",
    "\n",
    "When we want to sell used cars, one of the biggest problems is deciding reasonable selling prices for the cars. An effective way to solve this problem is to use a machine-learning model that can predict car prices.\n",
    "\n",
    "In this notebook, I use Python code and libraries to build a price-prediction model. The notebook is an implementation of the project [Predicting the Prices of Used Cars](https://sthakur.work/project/predicting-prices-of-used-cars/).\n",
    "\n",
    "Let us understand the objectives and implemention strategy of the project first. Subsequently, we will discuss and run the project&nbsp;code."
   ]
  },
  {
   "cell_type": "markdown",
   "metadata": {
    "papermill": {
     "duration": 0.103076,
     "end_time": "2020-09-12T19:28:56.370755",
     "exception": false,
     "start_time": "2020-09-12T19:28:56.267679",
     "status": "completed"
    },
    "tags": []
   },
   "source": [
    "## Project objectives\n",
    "\n",
    "The main objectives of this project are as follows:\n",
    "\n",
    "- Identify relevant machine-learning algorithms for the project.\n",
    "\n",
    "- Build price-prediction models based on the chosen algorithms.\n",
    "\n",
    "- Validate the models.\n",
    "\n",
    "- Identify the most appropriate model.\n"
   ]
  },
  {
   "cell_type": "markdown",
   "metadata": {
    "papermill": {
     "duration": 0.102874,
     "end_time": "2020-09-12T19:28:56.576321",
     "exception": false,
     "start_time": "2020-09-12T19:28:56.473447",
     "status": "completed"
    },
    "tags": []
   },
   "source": [
    "## Implementation strategy\n",
    "\n",
    "To achieve the project objectives, I intend to work through the following steps:\n",
    "\n",
    "1. [Identify machine-learning algorithms that can help predict car prices.](#step1-desc)<a id=\"step1\" name=\"step1\"></a>\n",
    "\n",
    "2. [Obtain a dataset about used&nbsp;cars.](#step2-desc)<a id=\"step2\" name=\"step2\"></a>\n",
    "\n",
    "3. [Explore and clean the dataset.](#step3-desc)<a id=\"step3\" name=\"step3\"></a>\n",
    "\n",
    "4. [Visualize the dataset and clean it further.](#step4-desc)<a id=\"step4\" name=\"step4\"></a>\n",
    "\n",
    "5. [Split the dataset for training and testing.](#step5-desc)<a id=\"step5\" name=\"step5\"></a>\n",
    "\n",
    "6. [Build and validate price-prediction models.](#step6-desc)<a id=\"step6\" name=\"step6\"></a>\n",
    "\n",
    "7. [Identify the most appropriate model.](#step7-desc)<a id=\"step7\" name=\"step7\"></a>"
   ]
  },
  {
   "cell_type": "markdown",
   "metadata": {
    "papermill": {
     "duration": 0.103162,
     "end_time": "2020-09-12T19:28:56.783578",
     "exception": false,
     "start_time": "2020-09-12T19:28:56.680416",
     "status": "completed"
    },
    "tags": []
   },
   "source": [
    "<h2>Step 1: Identifying machine-learning algorithms<a aria-pressed=\"true\" class=\"btn btn-primary btn-sm\" data-toggle=\"popover\" name='step1-desc' id='step1-desc' href=\"#step1\" role=\"button\" style=\"color: white; margin-left: 20px; target='_self'\">Go to steplist</a></h2>\n",
    "\n",
    "Cars have been bought and sold for a long time, and there are numerous data sets that list features of cars and their prices. As we can easily obtain a data set of this type, I am opting for supervised learning in this project.\n",
    "\n",
    "### Tasks that comprise supervised learning\n",
    "\n",
    "Supervised learning is all about training an algorithm using prepared, labeled&nbsp;data. Supervised learning for car-price prediction involves the following tasks:\n",
    "\n",
    "1. Obtain a dataset that contains the attributes of various cars, including their prices and mileage.\n",
    "\n",
    "2. Split the dataset into training and testing datasets.\n",
    "\n",
    "3. Train a machine-learning model using the training dataset.\n",
    "\n",
    "4. Once the model has been trained, validate it by passing on to it all columns from the testing data except the price column. The accuracy of the algorithm depends on how close the prices it predicts are to the actual prices in the testing dataset.\n",
    "\n",
    "### Types of supervised learning\n",
    "\n",
    "Supervised learning is of two types, regression and classification. When the target variable is numerical, we have a regression problem. When the target variable is categorical, we have a classification problem.\n",
    "\n",
    "The target variable for this project, car price, is definitely numerical. So, regression will be the most appropriate for this project.\n",
    "\n",
    "### Regression algorithms\n",
    "\n",
    "Regression algorithms are of various types. In this project, we will build and compare models based on four regression algorithms, or regressors. Here is a description of these regressors:\n",
    "\n",
    "- **Linear**: A linear regressor uses linear or step-by-step techniques to find out how a target, or dependent, variable is related to one or more independent variables.\n",
    "\n",
    "- **Random forest**: Given a set of independent variables, a random-forest regressor uses multiple decision trees—in other words, a forest of decision trees—to predict the value of the corresponding target variable. It uses the collective knowledge of the forest to determine which independent variables have the maximum impact on the target variable and predicts values accordingly.\n",
    "\n",
    "- **XGBoost**: Short for extreme gradient boosting, XGBoost is a library that lets us build highly efficient decision trees. Using an XGBoost regressor, we can train different models in tandem. Each model learns from and improves upon the model that preceded it. Collectively, all the models based on an XGBoost regressor determine the impact that independent variables have on the corresponding target variable and rank the independent variables accordingly. This ranking eventually enables the XGBoost regressor to predict target values."
   ]
  },
  {
   "cell_type": "markdown",
   "metadata": {
    "papermill": {
     "duration": 0.103353,
     "end_time": "2020-09-12T19:28:56.989692",
     "exception": false,
     "start_time": "2020-09-12T19:28:56.886339",
     "status": "completed"
    },
    "tags": []
   },
   "source": [
    "<h2>Step 2: Obtaining a dataset<a aria-pressed=\"true\" class=\"btn btn-primary btn-sm\" data-toggle=\"popover\" name='step2-desc' id='step2-desc' href=\"#step2\" role=\"button\" style=\"color: white; margin-left: 20px; target='_self'\">Go to steplist</a></h2>\n",
    "\n",
    "We will use a [Kaggle dataset](https://www.kaggle.com/austinreese/craigslist-carstrucks-data) for this project. This dataset contains data that was scraped recently from Craiglist in the United States&nbsp;(US).\n",
    "\n",
    "I have already added the dataset to the project environment. Here is code that lists the path to the dataset:"
   ]
  },
  {
   "cell_type": "code",
   "execution_count": 1,
   "metadata": {
    "_cell_guid": "b1076dfc-b9ad-4769-8c92-a6c4dae69d19",
    "_uuid": "8f2839f25d086af736a60e9eeb907d3b93b6e0e5",
    "execution": {
     "iopub.execute_input": "2020-09-12T19:28:57.209278Z",
     "iopub.status.busy": "2020-09-12T19:28:57.208546Z",
     "iopub.status.idle": "2020-09-12T19:28:57.221371Z",
     "shell.execute_reply": "2020-09-12T19:28:57.220435Z"
    },
    "papermill": {
     "duration": 0.12267,
     "end_time": "2020-09-12T19:28:57.221563",
     "exception": false,
     "start_time": "2020-09-12T19:28:57.098893",
     "status": "completed"
    },
    "tags": []
   },
   "outputs": [
    {
     "name": "stdout",
     "output_type": "stream",
     "text": [
      "../input/craigslist-carstrucks-data/vehicles.csv\n"
     ]
    }
   ],
   "source": [
    "import os\n",
    "for dirname, _, filenames in os.walk('../input'):\n",
    "    for filename in filenames:\n",
    "        print(os.path.join(dirname, filename))\n"
   ]
  },
  {
   "cell_type": "markdown",
   "metadata": {
    "papermill": {
     "duration": 0.104976,
     "end_time": "2020-09-12T19:28:57.431233",
     "exception": false,
     "start_time": "2020-09-12T19:28:57.326257",
     "status": "completed"
    },
    "tags": []
   },
   "source": [
    "<h2>Step 3: Exploring and cleaning the dataset<a aria-pressed=\"true\" class=\"btn btn-primary btn-sm\" data-toggle=\"popover\" name='step3-desc' id='step3-desc' href=\"#step3\" role=\"button\" style=\"color: white; margin-left: 20px; target='_self'\">Go to steplist</a></h2>\n",
    "\n",
    "To explore the dataset, we will first save it as a pandas dataframe. Then, we will view the contents and properties of the dataset and, if required, clean it.\n",
    "\n",
    "### Converting the dataset into a pandas dataframe\n",
    "\n",
    "We will begin by importing pandas, the standard data-science package."
   ]
  },
  {
   "cell_type": "code",
   "execution_count": 2,
   "metadata": {
    "execution": {
     "iopub.execute_input": "2020-09-12T19:28:57.644390Z",
     "iopub.status.busy": "2020-09-12T19:28:57.643690Z",
     "iopub.status.idle": "2020-09-12T19:28:57.646849Z",
     "shell.execute_reply": "2020-09-12T19:28:57.646122Z"
    },
    "papermill": {
     "duration": 0.111192,
     "end_time": "2020-09-12T19:28:57.646971",
     "exception": false,
     "start_time": "2020-09-12T19:28:57.535779",
     "status": "completed"
    },
    "tags": []
   },
   "outputs": [],
   "source": [
    "import pandas as pd"
   ]
  },
  {
   "cell_type": "markdown",
   "metadata": {
    "papermill": {
     "duration": 0.107565,
     "end_time": "2020-09-12T19:28:57.858008",
     "exception": false,
     "start_time": "2020-09-12T19:28:57.750443",
     "status": "completed"
    },
    "tags": []
   },
   "source": [
    "Next, we will import the dataset."
   ]
  },
  {
   "cell_type": "code",
   "execution_count": 3,
   "metadata": {
    "execution": {
     "iopub.execute_input": "2020-09-12T19:28:58.081819Z",
     "iopub.status.busy": "2020-09-12T19:28:58.081071Z",
     "iopub.status.idle": "2020-09-12T19:29:15.124507Z",
     "shell.execute_reply": "2020-09-12T19:29:15.123694Z"
    },
    "papermill": {
     "duration": 17.162103,
     "end_time": "2020-09-12T19:29:15.124647",
     "exception": false,
     "start_time": "2020-09-12T19:28:57.962544",
     "status": "completed"
    },
    "tags": []
   },
   "outputs": [],
   "source": [
    "df_original = pd.read_csv('../input/craigslist-carstrucks-data/vehicles.csv')"
   ]
  },
  {
   "cell_type": "markdown",
   "metadata": {
    "papermill": {
     "duration": 0.103338,
     "end_time": "2020-09-12T19:29:15.332612",
     "exception": false,
     "start_time": "2020-09-12T19:29:15.229274",
     "status": "completed"
    },
    "tags": []
   },
   "source": [
    "### Looking at the contents of the dataset\n",
    "\n",
    "Let us browse through the first few rows of the dataset."
   ]
  },
  {
   "cell_type": "code",
   "execution_count": 4,
   "metadata": {
    "execution": {
     "iopub.execute_input": "2020-09-12T19:29:15.546302Z",
     "iopub.status.busy": "2020-09-12T19:29:15.545473Z",
     "iopub.status.idle": "2020-09-12T19:29:15.722631Z",
     "shell.execute_reply": "2020-09-12T19:29:15.722041Z"
    },
    "papermill": {
     "duration": 0.2866,
     "end_time": "2020-09-12T19:29:15.722754",
     "exception": false,
     "start_time": "2020-09-12T19:29:15.436154",
     "status": "completed"
    },
    "tags": []
   },
   "outputs": [
    {
     "data": {
      "text/html": [
       "<div>\n",
       "<style scoped>\n",
       "    .dataframe tbody tr th:only-of-type {\n",
       "        vertical-align: middle;\n",
       "    }\n",
       "\n",
       "    .dataframe tbody tr th {\n",
       "        vertical-align: top;\n",
       "    }\n",
       "\n",
       "    .dataframe thead th {\n",
       "        text-align: right;\n",
       "    }\n",
       "</style>\n",
       "<table border=\"1\" class=\"dataframe\">\n",
       "  <thead>\n",
       "    <tr style=\"text-align: right;\">\n",
       "      <th></th>\n",
       "      <th>id</th>\n",
       "      <th>url</th>\n",
       "      <th>region</th>\n",
       "      <th>region_url</th>\n",
       "      <th>price</th>\n",
       "      <th>year</th>\n",
       "      <th>manufacturer</th>\n",
       "      <th>model</th>\n",
       "      <th>condition</th>\n",
       "      <th>cylinders</th>\n",
       "      <th>...</th>\n",
       "      <th>drive</th>\n",
       "      <th>size</th>\n",
       "      <th>type</th>\n",
       "      <th>paint_color</th>\n",
       "      <th>image_url</th>\n",
       "      <th>description</th>\n",
       "      <th>county</th>\n",
       "      <th>state</th>\n",
       "      <th>lat</th>\n",
       "      <th>long</th>\n",
       "    </tr>\n",
       "  </thead>\n",
       "  <tbody>\n",
       "    <tr>\n",
       "      <th>0</th>\n",
       "      <td>7119256118</td>\n",
       "      <td>https://mohave.craigslist.org/ctd/d/lake-havas...</td>\n",
       "      <td>mohave county</td>\n",
       "      <td>https://mohave.craigslist.org</td>\n",
       "      <td>3495</td>\n",
       "      <td>2012.0</td>\n",
       "      <td>jeep</td>\n",
       "      <td>patriot</td>\n",
       "      <td>like new</td>\n",
       "      <td>4 cylinders</td>\n",
       "      <td>...</td>\n",
       "      <td>NaN</td>\n",
       "      <td>NaN</td>\n",
       "      <td>NaN</td>\n",
       "      <td>silver</td>\n",
       "      <td>https://images.craigslist.org/00B0B_k2AXIJ21ok...</td>\n",
       "      <td>THIS 2012 JEEP PATRIOT IS A 4CYL. AC, STEREO, ...</td>\n",
       "      <td>NaN</td>\n",
       "      <td>az</td>\n",
       "      <td>34.4554</td>\n",
       "      <td>-114.2690</td>\n",
       "    </tr>\n",
       "    <tr>\n",
       "      <th>1</th>\n",
       "      <td>7120880186</td>\n",
       "      <td>https://oregoncoast.craigslist.org/cto/d/warre...</td>\n",
       "      <td>oregon coast</td>\n",
       "      <td>https://oregoncoast.craigslist.org</td>\n",
       "      <td>13750</td>\n",
       "      <td>2014.0</td>\n",
       "      <td>bmw</td>\n",
       "      <td>328i m-sport</td>\n",
       "      <td>good</td>\n",
       "      <td>NaN</td>\n",
       "      <td>...</td>\n",
       "      <td>rwd</td>\n",
       "      <td>NaN</td>\n",
       "      <td>sedan</td>\n",
       "      <td>grey</td>\n",
       "      <td>https://images.craigslist.org/00U0U_3cLk0WGOJ8...</td>\n",
       "      <td>Selling my 2014 BMW 328i with the following be...</td>\n",
       "      <td>NaN</td>\n",
       "      <td>or</td>\n",
       "      <td>46.1837</td>\n",
       "      <td>-123.8240</td>\n",
       "    </tr>\n",
       "    <tr>\n",
       "      <th>2</th>\n",
       "      <td>7115048251</td>\n",
       "      <td>https://greenville.craigslist.org/cto/d/sparta...</td>\n",
       "      <td>greenville / upstate</td>\n",
       "      <td>https://greenville.craigslist.org</td>\n",
       "      <td>2300</td>\n",
       "      <td>2001.0</td>\n",
       "      <td>dodge</td>\n",
       "      <td>caravan</td>\n",
       "      <td>excellent</td>\n",
       "      <td>6 cylinders</td>\n",
       "      <td>...</td>\n",
       "      <td>NaN</td>\n",
       "      <td>NaN</td>\n",
       "      <td>NaN</td>\n",
       "      <td>NaN</td>\n",
       "      <td>https://images.craigslist.org/00k0k_t4WqYn5nDC...</td>\n",
       "      <td>01 DODGE CARAVAN,3.3 ENGINE,AUT TRANS,199000 M...</td>\n",
       "      <td>NaN</td>\n",
       "      <td>sc</td>\n",
       "      <td>34.9352</td>\n",
       "      <td>-81.9654</td>\n",
       "    </tr>\n",
       "    <tr>\n",
       "      <th>435846</th>\n",
       "      <td>7120896708</td>\n",
       "      <td>https://oregoncoast.craigslist.org/cto/d/corne...</td>\n",
       "      <td>oregon coast</td>\n",
       "      <td>https://oregoncoast.craigslist.org</td>\n",
       "      <td>2450</td>\n",
       "      <td>2001.0</td>\n",
       "      <td>ford</td>\n",
       "      <td>focus</td>\n",
       "      <td>good</td>\n",
       "      <td>4 cylinders</td>\n",
       "      <td>...</td>\n",
       "      <td>rwd</td>\n",
       "      <td>compact</td>\n",
       "      <td>other</td>\n",
       "      <td>black</td>\n",
       "      <td>https://images.craigslist.org/00707_6cmfCa9Pc9...</td>\n",
       "      <td>I am selling my ford focus 2001 SE, 130 thousa...</td>\n",
       "      <td>NaN</td>\n",
       "      <td>or</td>\n",
       "      <td>45.5272</td>\n",
       "      <td>-123.0950</td>\n",
       "    </tr>\n",
       "    <tr>\n",
       "      <th>435847</th>\n",
       "      <td>7120885819</td>\n",
       "      <td>https://oregoncoast.craigslist.org/ctd/d/portl...</td>\n",
       "      <td>oregon coast</td>\n",
       "      <td>https://oregoncoast.craigslist.org</td>\n",
       "      <td>8995</td>\n",
       "      <td>2013.0</td>\n",
       "      <td>mazda</td>\n",
       "      <td>mazda3</td>\n",
       "      <td>NaN</td>\n",
       "      <td>NaN</td>\n",
       "      <td>...</td>\n",
       "      <td>fwd</td>\n",
       "      <td>NaN</td>\n",
       "      <td>sedan</td>\n",
       "      <td>NaN</td>\n",
       "      <td>https://images.craigslist.org/00j0j_jEvFN3iSx1...</td>\n",
       "      <td>Simple Easy Car BuyingNo Games No Gimmicks    ...</td>\n",
       "      <td>NaN</td>\n",
       "      <td>or</td>\n",
       "      <td>45.5231</td>\n",
       "      <td>-122.5790</td>\n",
       "    </tr>\n",
       "    <tr>\n",
       "      <th>435848</th>\n",
       "      <td>7112215161</td>\n",
       "      <td>https://rapidcity.craigslist.org/ctd/d/rapid-c...</td>\n",
       "      <td>rapid city / west SD</td>\n",
       "      <td>https://rapidcity.craigslist.org</td>\n",
       "      <td>6577</td>\n",
       "      <td>2010.0</td>\n",
       "      <td>dodge</td>\n",
       "      <td>grand caravan</td>\n",
       "      <td>NaN</td>\n",
       "      <td>NaN</td>\n",
       "      <td>...</td>\n",
       "      <td>fwd</td>\n",
       "      <td>NaN</td>\n",
       "      <td>mini-van</td>\n",
       "      <td>blue</td>\n",
       "      <td>https://images.craigslist.org/00f0f_5yUMSGZFBn...</td>\n",
       "      <td>2010 Dodge Grand Caravan SXT     Offered by: L...</td>\n",
       "      <td>NaN</td>\n",
       "      <td>sd</td>\n",
       "      <td>44.0804</td>\n",
       "      <td>-103.1910</td>\n",
       "    </tr>\n",
       "  </tbody>\n",
       "</table>\n",
       "<p>6 rows × 25 columns</p>\n",
       "</div>"
      ],
      "text/plain": [
       "                id                                                url  \\\n",
       "0       7119256118  https://mohave.craigslist.org/ctd/d/lake-havas...   \n",
       "1       7120880186  https://oregoncoast.craigslist.org/cto/d/warre...   \n",
       "2       7115048251  https://greenville.craigslist.org/cto/d/sparta...   \n",
       "435846  7120896708  https://oregoncoast.craigslist.org/cto/d/corne...   \n",
       "435847  7120885819  https://oregoncoast.craigslist.org/ctd/d/portl...   \n",
       "435848  7112215161  https://rapidcity.craigslist.org/ctd/d/rapid-c...   \n",
       "\n",
       "                      region                          region_url  price  \\\n",
       "0              mohave county       https://mohave.craigslist.org   3495   \n",
       "1               oregon coast  https://oregoncoast.craigslist.org  13750   \n",
       "2       greenville / upstate   https://greenville.craigslist.org   2300   \n",
       "435846          oregon coast  https://oregoncoast.craigslist.org   2450   \n",
       "435847          oregon coast  https://oregoncoast.craigslist.org   8995   \n",
       "435848  rapid city / west SD    https://rapidcity.craigslist.org   6577   \n",
       "\n",
       "          year manufacturer          model  condition    cylinders  ... drive  \\\n",
       "0       2012.0         jeep        patriot   like new  4 cylinders  ...   NaN   \n",
       "1       2014.0          bmw   328i m-sport       good          NaN  ...   rwd   \n",
       "2       2001.0        dodge        caravan  excellent  6 cylinders  ...   NaN   \n",
       "435846  2001.0         ford          focus       good  4 cylinders  ...   rwd   \n",
       "435847  2013.0        mazda         mazda3        NaN          NaN  ...   fwd   \n",
       "435848  2010.0        dodge  grand caravan        NaN          NaN  ...   fwd   \n",
       "\n",
       "           size      type paint_color  \\\n",
       "0           NaN       NaN      silver   \n",
       "1           NaN     sedan        grey   \n",
       "2           NaN       NaN         NaN   \n",
       "435846  compact     other       black   \n",
       "435847      NaN     sedan         NaN   \n",
       "435848      NaN  mini-van        blue   \n",
       "\n",
       "                                                image_url  \\\n",
       "0       https://images.craigslist.org/00B0B_k2AXIJ21ok...   \n",
       "1       https://images.craigslist.org/00U0U_3cLk0WGOJ8...   \n",
       "2       https://images.craigslist.org/00k0k_t4WqYn5nDC...   \n",
       "435846  https://images.craigslist.org/00707_6cmfCa9Pc9...   \n",
       "435847  https://images.craigslist.org/00j0j_jEvFN3iSx1...   \n",
       "435848  https://images.craigslist.org/00f0f_5yUMSGZFBn...   \n",
       "\n",
       "                                              description county state  \\\n",
       "0       THIS 2012 JEEP PATRIOT IS A 4CYL. AC, STEREO, ...    NaN    az   \n",
       "1       Selling my 2014 BMW 328i with the following be...    NaN    or   \n",
       "2       01 DODGE CARAVAN,3.3 ENGINE,AUT TRANS,199000 M...    NaN    sc   \n",
       "435846  I am selling my ford focus 2001 SE, 130 thousa...    NaN    or   \n",
       "435847  Simple Easy Car BuyingNo Games No Gimmicks    ...    NaN    or   \n",
       "435848  2010 Dodge Grand Caravan SXT     Offered by: L...    NaN    sd   \n",
       "\n",
       "            lat      long  \n",
       "0       34.4554 -114.2690  \n",
       "1       46.1837 -123.8240  \n",
       "2       34.9352  -81.9654  \n",
       "435846  45.5272 -123.0950  \n",
       "435847  45.5231 -122.5790  \n",
       "435848  44.0804 -103.1910  \n",
       "\n",
       "[6 rows x 25 columns]"
      ]
     },
     "execution_count": 4,
     "metadata": {},
     "output_type": "execute_result"
    }
   ],
   "source": [
    "import numpy as np\n",
    "\n",
    "df = df_original.copy()\n",
    "\n",
    "df.iloc[np.r_[0:3, -3:0]]"
   ]
  },
  {
   "cell_type": "markdown",
   "metadata": {
    "papermill": {
     "duration": 0.105668,
     "end_time": "2020-09-12T19:29:15.933609",
     "exception": false,
     "start_time": "2020-09-12T19:29:15.827941",
     "status": "completed"
    },
    "tags": []
   },
   "source": [
    "### Cleaning the dataset\n",
    "\n",
    "Some of the dataset columns, such as url and region_url, seem irrelevant to this project, and some columns have NaN, or null, values. In addition, the price column, which represents our target variable (the values that our algorithm should predict), seems to lose its relevance sandwiched between all the other columns. We need to move it to the end of the dataset.\n",
    "\n",
    "Let us remove the irrelevant columns first."
   ]
  },
  {
   "cell_type": "code",
   "execution_count": 5,
   "metadata": {
    "execution": {
     "iopub.execute_input": "2020-09-12T19:29:16.276183Z",
     "iopub.status.busy": "2020-09-12T19:29:16.191660Z",
     "iopub.status.idle": "2020-09-12T19:29:16.279818Z",
     "shell.execute_reply": "2020-09-12T19:29:16.279059Z"
    },
    "papermill": {
     "duration": 0.239797,
     "end_time": "2020-09-12T19:29:16.279941",
     "exception": false,
     "start_time": "2020-09-12T19:29:16.040144",
     "status": "completed"
    },
    "tags": []
   },
   "outputs": [],
   "source": [
    "irrelevant_cols = ['id', 'url', 'region_url', 'vin', 'image_url', \\\n",
    "                   'description', 'county']\n",
    "\n",
    "df = df.drop(columns=irrelevant_cols)"
   ]
  },
  {
   "cell_type": "markdown",
   "metadata": {
    "papermill": {
     "duration": 0.106016,
     "end_time": "2020-09-12T19:29:16.491541",
     "exception": false,
     "start_time": "2020-09-12T19:29:16.385525",
     "status": "completed"
    },
    "tags": []
   },
   "source": [
    "Next, let us reposition the price column."
   ]
  },
  {
   "cell_type": "code",
   "execution_count": 6,
   "metadata": {
    "execution": {
     "iopub.execute_input": "2020-09-12T19:29:16.825409Z",
     "iopub.status.busy": "2020-09-12T19:29:16.786554Z",
     "iopub.status.idle": "2020-09-12T19:29:16.851380Z",
     "shell.execute_reply": "2020-09-12T19:29:16.850748Z"
    },
    "papermill": {
     "duration": 0.204796,
     "end_time": "2020-09-12T19:29:16.851537",
     "exception": false,
     "start_time": "2020-09-12T19:29:16.646741",
     "status": "completed"
    },
    "tags": []
   },
   "outputs": [],
   "source": [
    "col_list = ['price']\n",
    "rearranged_cols = np.hstack((df.columns.difference(col_list, sort=False), col_list))\n",
    "\n",
    "df = df.reindex(columns=rearranged_cols)"
   ]
  },
  {
   "cell_type": "markdown",
   "metadata": {
    "papermill": {
     "duration": 0.105484,
     "end_time": "2020-09-12T19:29:17.062382",
     "exception": false,
     "start_time": "2020-09-12T19:29:16.956898",
     "status": "completed"
    },
    "tags": []
   },
   "source": [
    "We will also make sure that all string values in the dataset are in lowercase and do not contain any unnecessary spaces.\n",
    "\n",
    "Here is the code that we will use:"
   ]
  },
  {
   "cell_type": "code",
   "execution_count": 7,
   "metadata": {
    "execution": {
     "iopub.execute_input": "2020-09-12T19:29:17.326463Z",
     "iopub.status.busy": "2020-09-12T19:29:17.280924Z",
     "iopub.status.idle": "2020-09-12T19:29:22.877774Z",
     "shell.execute_reply": "2020-09-12T19:29:22.877082Z"
    },
    "papermill": {
     "duration": 5.709136,
     "end_time": "2020-09-12T19:29:22.877899",
     "exception": false,
     "start_time": "2020-09-12T19:29:17.168763",
     "status": "completed"
    },
    "tags": []
   },
   "outputs": [],
   "source": [
    "for column in df.columns[1:]:\n",
    "    if df[column].dtype == 'object':\n",
    "        df[column] = df[column].str.lower().str.strip()"
   ]
  },
  {
   "cell_type": "markdown",
   "metadata": {
    "papermill": {
     "duration": 0.10614,
     "end_time": "2020-09-12T19:29:23.090996",
     "exception": false,
     "start_time": "2020-09-12T19:29:22.984856",
     "status": "completed"
    },
    "tags": []
   },
   "source": [
    "Here is the structure of the edited dataset:"
   ]
  },
  {
   "cell_type": "code",
   "execution_count": 8,
   "metadata": {
    "execution": {
     "iopub.execute_input": "2020-09-12T19:29:23.859188Z",
     "iopub.status.busy": "2020-09-12T19:29:23.858398Z",
     "iopub.status.idle": "2020-09-12T19:29:23.924803Z",
     "shell.execute_reply": "2020-09-12T19:29:23.923890Z"
    },
    "papermill": {
     "duration": 0.726323,
     "end_time": "2020-09-12T19:29:23.924988",
     "exception": false,
     "start_time": "2020-09-12T19:29:23.198665",
     "status": "completed"
    },
    "tags": []
   },
   "outputs": [
    {
     "name": "stdout",
     "output_type": "stream",
     "text": [
      "<class 'pandas.core.frame.DataFrame'>\n",
      "RangeIndex: 435849 entries, 0 to 435848\n",
      "Data columns (total 18 columns):\n",
      " #   Column        Non-Null Count   Dtype  \n",
      "---  ------        --------------   -----  \n",
      " 0   region        435849 non-null  object \n",
      " 1   year          434732 non-null  float64\n",
      " 2   manufacturer  415102 non-null  object \n",
      " 3   model         429650 non-null  object \n",
      " 4   condition     249043 non-null  object \n",
      " 5   cylinders     269465 non-null  object \n",
      " 6   fuel          432858 non-null  object \n",
      " 7   odometer      360701 non-null  float64\n",
      " 8   title_status  434043 non-null  object \n",
      " 9   transmission  433703 non-null  object \n",
      " 10  drive         313838 non-null  object \n",
      " 11  size          139888 non-null  object \n",
      " 12  type          318741 non-null  object \n",
      " 13  paint_color   300602 non-null  object \n",
      " 14  state         435849 non-null  object \n",
      " 15  lat           427614 non-null  float64\n",
      " 16  long          427614 non-null  float64\n",
      " 17  price         435849 non-null  int64  \n",
      "dtypes: float64(4), int64(1), object(13)\n",
      "memory usage: 59.9+ MB\n"
     ]
    }
   ],
   "source": [
    "df.info()"
   ]
  },
  {
   "cell_type": "markdown",
   "metadata": {
    "papermill": {
     "duration": 0.106855,
     "end_time": "2020-09-12T19:29:24.141044",
     "exception": false,
     "start_time": "2020-09-12T19:29:24.034189",
     "status": "completed"
    },
    "tags": []
   },
   "source": [
    "So, some of the columns have been removed and the price column is at the end of the dataset. However, there are still quite a few columns with null values.\n",
    "\n",
    "Let us determine the total number of null values in each column."
   ]
  },
  {
   "cell_type": "code",
   "execution_count": 9,
   "metadata": {
    "execution": {
     "iopub.execute_input": "2020-09-12T19:29:24.904726Z",
     "iopub.status.busy": "2020-09-12T19:29:24.903961Z",
     "iopub.status.idle": "2020-09-12T19:29:24.926273Z",
     "shell.execute_reply": "2020-09-12T19:29:24.925563Z"
    },
    "papermill": {
     "duration": 0.678813,
     "end_time": "2020-09-12T19:29:24.926390",
     "exception": false,
     "start_time": "2020-09-12T19:29:24.247577",
     "status": "completed"
    },
    "tags": []
   },
   "outputs": [
    {
     "data": {
      "text/plain": [
       "region               0\n",
       "year              1117\n",
       "manufacturer     20747\n",
       "model             6199\n",
       "condition       186806\n",
       "cylinders       166384\n",
       "fuel              2991\n",
       "odometer         75148\n",
       "title_status      1806\n",
       "transmission      2146\n",
       "drive           122011\n",
       "size            295961\n",
       "type            117108\n",
       "paint_color     135247\n",
       "state                0\n",
       "lat               8235\n",
       "long              8235\n",
       "price                0\n",
       "dtype: int64"
      ]
     },
     "execution_count": 9,
     "metadata": {},
     "output_type": "execute_result"
    }
   ],
   "source": [
    "df.isnull().sum()"
   ]
  },
  {
   "cell_type": "markdown",
   "metadata": {
    "papermill": {
     "duration": 0.10684,
     "end_time": "2020-09-12T19:29:25.141299",
     "exception": false,
     "start_time": "2020-09-12T19:29:25.034459",
     "status": "completed"
    },
    "tags": []
   },
   "source": [
    "Let us also depict the distribution of the null values via a graph."
   ]
  },
  {
   "cell_type": "code",
   "execution_count": 10,
   "metadata": {
    "execution": {
     "iopub.execute_input": "2020-09-12T19:29:25.362317Z",
     "iopub.status.busy": "2020-09-12T19:29:25.361560Z",
     "iopub.status.idle": "2020-09-12T19:29:33.345989Z",
     "shell.execute_reply": "2020-09-12T19:29:33.345329Z"
    },
    "papermill": {
     "duration": 8.097881,
     "end_time": "2020-09-12T19:29:33.346117",
     "exception": false,
     "start_time": "2020-09-12T19:29:25.248236",
     "status": "completed"
    },
    "tags": []
   },
   "outputs": [
    {
     "data": {
      "image/png": "[encoded data removed]",
      "text/plain": [
       "<Figure size 432x288 with 2 Axes>"
      ]
     },
     "metadata": {},
     "output_type": "display_data"
    }
   ],
   "source": [
    "import seaborn as sns\n",
    "import matplotlib.pyplot as plt\n",
    "\n",
    "heat_map = sns.heatmap(df.isnull(), yticklabels=False, cbar=True, cmap='Blues')\n",
    "_ = heat_map.set_xticklabels(heat_map.get_xticklabels(), color='#6eafd7')"
   ]
  },
  {
   "cell_type": "markdown",
   "metadata": {
    "papermill": {
     "duration": 0.136316,
     "end_time": "2020-09-12T19:29:33.591391",
     "exception": false,
     "start_time": "2020-09-12T19:29:33.455075",
     "status": "completed"
    },
    "tags": []
   },
   "source": [
    "Missing values can lead to errors in machine-learning models. To avoid these errors, we can use the following workarounds:\n",
    "\n",
    "- Remove selected rows that contain missing values.\n",
    "\n",
    "- Replace missing values with estimates by using scikit-learn imputers.\n",
    "\n",
    "As we want our algorithms to be accurate, we must retain as much of the car data as possible. This means that we will have to impute many of the missing values. At the same time, we want to minimize instances of incorrect data. So, we will delete selected rows as&nbsp;well.\n",
    "\n",
    "We will first impute specific values. We will fill out the numerical columns of the dataset by using the Extratreesregressor imputer of scikit-learn. And, to fill out the categorical columns, we will use BayesianRidge.\n",
    "\n",
    "How do Extratreesregressor and BayesianRidge work?\n",
    "\n",
    "Extratreesregressor divides a target dataset into smaller subsets. Then, it uses multiple decision trees, or extra trees, on the subsets to determine how various attributes of the dataset interrelate. It combines the findings of the trees to generate an average value for each null&nbsp;field.\n",
    "\n",
    "An imputer of the Extratreesregressor type prevents overfitting. In other words, it allows us to create models that can transfer what they learn from training datasets to other, real-world datasets and make highly accurate predictions.\n",
    "\n",
    "Unlike Extratreesregressor, BayesianRidge uses linear regression to determine relationships between variables. Based on these relationships, it generates regularized values for non-null fields.\n",
    "\n",
    "To be able to use the Extratreesregressor and BayesianRidge imputers, we will import relevant modules. We will also save the initializers of these imputers in a&nbsp;list:"
   ]
  },
  {
   "cell_type": "code",
   "execution_count": 11,
   "metadata": {
    "execution": {
     "iopub.execute_input": "2020-09-12T19:29:33.827130Z",
     "iopub.status.busy": "2020-09-12T19:29:33.826293Z",
     "iopub.status.idle": "2020-09-12T19:29:34.133221Z",
     "shell.execute_reply": "2020-09-12T19:29:34.132421Z"
    },
    "papermill": {
     "duration": 0.423368,
     "end_time": "2020-09-12T19:29:34.133344",
     "exception": false,
     "start_time": "2020-09-12T19:29:33.709976",
     "status": "completed"
    },
    "tags": []
   },
   "outputs": [],
   "source": [
    "import warnings\n",
    "warnings.filterwarnings('ignore')\n",
    "\n",
    "from sklearn.experimental import enable_iterative_imputer\n",
    "\n",
    "from sklearn import preprocessing\n",
    "from sklearn.impute import IterativeImputer\n",
    "from sklearn.linear_model import BayesianRidge\n",
    "from sklearn.ensemble import ExtraTreesRegressor\n",
    "\n",
    "imputers = [\n",
    "    BayesianRidge(),\n",
    "    ExtraTreesRegressor(n_estimators=10, random_state=0),\n",
    "]"
   ]
  },
  {
   "cell_type": "markdown",
   "metadata": {
    "papermill": {
     "duration": 0.107936,
     "end_time": "2020-09-12T19:29:34.350032",
     "exception": false,
     "start_time": "2020-09-12T19:29:34.242096",
     "status": "completed"
    },
    "tags": []
   },
   "source": [
    "Next, we will organize some of its column names into two groups, numerical and categorical. We will use the corresponding columns as independent variables for our models.\n",
    "\n",
    "Here are the groups:"
   ]
  },
  {
   "cell_type": "code",
   "execution_count": 12,
   "metadata": {
    "execution": {
     "iopub.execute_input": "2020-09-12T19:29:34.573031Z",
     "iopub.status.busy": "2020-09-12T19:29:34.572168Z",
     "iopub.status.idle": "2020-09-12T19:29:34.575298Z",
     "shell.execute_reply": "2020-09-12T19:29:34.574411Z"
    },
    "papermill": {
     "duration": 0.117715,
     "end_time": "2020-09-12T19:29:34.575428",
     "exception": false,
     "start_time": "2020-09-12T19:29:34.457713",
     "status": "completed"
    },
    "tags": []
   },
   "outputs": [],
   "source": [
    "from collections import Counter\n",
    "\n",
    "numerical = ['year', 'odometer', 'lat', 'long']\n",
    "\n",
    "categorical = list((Counter(df.columns) -\\\n",
    "                    Counter(numerical + ['manufacturer', 'model', 'price'])).elements())"
   ]
  },
  {
   "cell_type": "markdown",
   "metadata": {
    "papermill": {
     "duration": 0.10736,
     "end_time": "2020-09-12T19:29:34.790767",
     "exception": false,
     "start_time": "2020-09-12T19:29:34.683407",
     "status": "completed"
    },
    "tags": []
   },
   "source": [
    "We excluded manufacturer and model from the categorical list because we want to avoid any incorrect combinations of manufacturers and models. And we excluded price because it is the dependent variable.\n",
    "\n",
    "Now, let us use the items in the `imputers` list to generate values.\n",
    "\n",
    "First, we will use Extratreesregressor to fill out the null fields of the numerical columns."
   ]
  },
  {
   "cell_type": "code",
   "execution_count": 13,
   "metadata": {
    "execution": {
     "iopub.execute_input": "2020-09-12T19:29:35.021146Z",
     "iopub.status.busy": "2020-09-12T19:29:35.019997Z",
     "iopub.status.idle": "2020-09-12T19:32:54.171315Z",
     "shell.execute_reply": "2020-09-12T19:32:54.170647Z"
    },
    "papermill": {
     "duration": 199.272934,
     "end_time": "2020-09-12T19:32:54.171463",
     "exception": false,
     "start_time": "2020-09-12T19:29:34.898529",
     "status": "completed"
    },
    "tags": []
   },
   "outputs": [],
   "source": [
    "sr_numerical = df[numerical]\n",
    "imp_numerical = IterativeImputer(imputers[1])\n",
    "imputed_vals = imp_numerical.fit_transform(sr_numerical)\n",
    "df[numerical] = imputed_vals"
   ]
  },
  {
   "cell_type": "markdown",
   "metadata": {
    "papermill": {
     "duration": 0.108361,
     "end_time": "2020-09-12T19:32:54.388452",
     "exception": false,
     "start_time": "2020-09-12T19:32:54.280091",
     "status": "completed"
    },
    "tags": []
   },
   "source": [
    "The numerical columns do not have any null values now."
   ]
  },
  {
   "cell_type": "code",
   "execution_count": 14,
   "metadata": {
    "execution": {
     "iopub.execute_input": "2020-09-12T19:32:55.165958Z",
     "iopub.status.busy": "2020-09-12T19:32:55.165191Z",
     "iopub.status.idle": "2020-09-12T19:32:55.187578Z",
     "shell.execute_reply": "2020-09-12T19:32:55.186998Z"
    },
    "papermill": {
     "duration": 0.690837,
     "end_time": "2020-09-12T19:32:55.187709",
     "exception": false,
     "start_time": "2020-09-12T19:32:54.496872",
     "status": "completed"
    },
    "tags": []
   },
   "outputs": [
    {
     "data": {
      "text/plain": [
       "year        0\n",
       "odometer    0\n",
       "lat         0\n",
       "long        0\n",
       "dtype: int64"
      ]
     },
     "execution_count": 14,
     "metadata": {},
     "output_type": "execute_result"
    }
   ],
   "source": [
    "df.isnull().sum()[numerical]"
   ]
  },
  {
   "cell_type": "markdown",
   "metadata": {
    "papermill": {
     "duration": 0.109081,
     "end_time": "2020-09-12T19:32:55.407042",
     "exception": false,
     "start_time": "2020-09-12T19:32:55.297961",
     "status": "completed"
    },
    "tags": []
   },
   "source": [
    "Next, we will use BayesianRidge to generate values for the null fields of the categorical columns.\n",
    "\n",
    "The BayesianRidge algorithm will generate the required values based on the data that already exist in the categorical columns. But the algorithm cannot understand the existing data in their raw form because they are strings. We will have to encode these strings first.\n",
    "\n",
    "Here is a function that can do the encoding&nbsp;for&nbsp;us:"
   ]
  },
  {
   "cell_type": "code",
   "execution_count": 15,
   "metadata": {
    "execution": {
     "iopub.execute_input": "2020-09-12T19:32:55.635821Z",
     "iopub.status.busy": "2020-09-12T19:32:55.635095Z",
     "iopub.status.idle": "2020-09-12T19:32:55.637939Z",
     "shell.execute_reply": "2020-09-12T19:32:55.637227Z"
    },
    "papermill": {
     "duration": 0.119765,
     "end_time": "2020-09-12T19:32:55.638057",
     "exception": false,
     "start_time": "2020-09-12T19:32:55.518292",
     "status": "completed"
    },
    "tags": []
   },
   "outputs": [],
   "source": [
    "def encode(data_col):\n",
    "    '''A function that transforms non-null values'''\n",
    "    vals = np.array(data_col.dropna())\n",
    "    # Reshaping the non-null data of a column\n",
    "    reshaped_data = vals.reshape(-1,1)\n",
    "    # Encoding the reshaped data\n",
    "    encoded_data = encoder.fit_transform(reshaped_data)\n",
    "    # Assigning the encoded values to the corresponding column values\n",
    "    data_col.loc[data_col.notnull()] = np.squeeze(encoded_data)\n",
    "    return data_col"
   ]
  },
  {
   "cell_type": "markdown",
   "metadata": {
    "papermill": {
     "duration": 0.109552,
     "end_time": "2020-09-12T19:32:55.858237",
     "exception": false,
     "start_time": "2020-09-12T19:32:55.748685",
     "status": "completed"
    },
    "tags": []
   },
   "source": [
    "Now, let us use the `encode` function along with other code to update the categorical columns."
   ]
  },
  {
   "cell_type": "code",
   "execution_count": 16,
   "metadata": {
    "execution": {
     "iopub.execute_input": "2020-09-12T19:32:56.141687Z",
     "iopub.status.busy": "2020-09-12T19:32:56.107109Z",
     "iopub.status.idle": "2020-09-12T19:33:00.228460Z",
     "shell.execute_reply": "2020-09-12T19:33:00.227851Z"
    },
    "papermill": {
     "duration": 4.261503,
     "end_time": "2020-09-12T19:33:00.228623",
     "exception": false,
     "start_time": "2020-09-12T19:32:55.967120",
     "status": "completed"
    },
    "tags": []
   },
   "outputs": [],
   "source": [
    "sr_categorical = df[categorical]\n",
    "encoder = preprocessing.LabelEncoder()\n",
    "\n",
    "# Using a for loop to iterate through each categorical column and\n",
    "# filling out its null fields\n",
    "for column in categorical:\n",
    "    encode(sr_categorical[column])\n",
    "    imp_categorical = IterativeImputer(BayesianRidge())\n",
    "    imputed_vals_cat = imp_categorical.fit_transform(sr_categorical[column].values.reshape(-1, 1))\n",
    "    imputed_vals_cat = imputed_vals_cat.astype('int64')\n",
    "    imputed_vals_cat = pd.DataFrame(imputed_vals_cat)\n",
    "    imputed_vals_cat = encoder.inverse_transform(imputed_vals_cat.values.reshape(-1, 1))\n",
    "    sr_categorical[column] = imputed_vals_cat\n",
    "\n",
    "df[categorical]= sr_categorical"
   ]
  },
  {
   "cell_type": "markdown",
   "metadata": {
    "papermill": {
     "duration": 0.11117,
     "end_time": "2020-09-12T19:33:00.450149",
     "exception": false,
     "start_time": "2020-09-12T19:33:00.338979",
     "status": "completed"
    },
    "tags": []
   },
   "source": [
    "The categorical columns also don't have any null values&nbsp;now."
   ]
  },
  {
   "cell_type": "code",
   "execution_count": 17,
   "metadata": {
    "execution": {
     "iopub.execute_input": "2020-09-12T19:33:01.268326Z",
     "iopub.status.busy": "2020-09-12T19:33:01.267200Z",
     "iopub.status.idle": "2020-09-12T19:33:01.289958Z",
     "shell.execute_reply": "2020-09-12T19:33:01.289209Z"
    },
    "papermill": {
     "duration": 0.730881,
     "end_time": "2020-09-12T19:33:01.290081",
     "exception": false,
     "start_time": "2020-09-12T19:33:00.559200",
     "status": "completed"
    },
    "tags": []
   },
   "outputs": [
    {
     "data": {
      "text/plain": [
       "region          0\n",
       "condition       0\n",
       "cylinders       0\n",
       "fuel            0\n",
       "title_status    0\n",
       "transmission    0\n",
       "drive           0\n",
       "size            0\n",
       "type            0\n",
       "paint_color     0\n",
       "state           0\n",
       "dtype: int64"
      ]
     },
     "execution_count": 17,
     "metadata": {},
     "output_type": "execute_result"
    }
   ],
   "source": [
    "df.isnull().sum()[categorical]"
   ]
  },
  {
   "cell_type": "markdown",
   "metadata": {
    "papermill": {
     "duration": 0.109801,
     "end_time": "2020-09-12T19:33:01.511422",
     "exception": false,
     "start_time": "2020-09-12T19:33:01.401621",
     "status": "completed"
    },
    "tags": []
   },
   "source": [
    "Here are the first five rows of the updated dataset:"
   ]
  },
  {
   "cell_type": "code",
   "execution_count": 18,
   "metadata": {
    "execution": {
     "iopub.execute_input": "2020-09-12T19:33:01.759240Z",
     "iopub.status.busy": "2020-09-12T19:33:01.758257Z",
     "iopub.status.idle": "2020-09-12T19:33:01.763184Z",
     "shell.execute_reply": "2020-09-12T19:33:01.762463Z"
    },
    "papermill": {
     "duration": 0.141243,
     "end_time": "2020-09-12T19:33:01.763303",
     "exception": false,
     "start_time": "2020-09-12T19:33:01.622060",
     "status": "completed"
    },
    "tags": []
   },
   "outputs": [
    {
     "data": {
      "text/html": [
       "<div>\n",
       "<style scoped>\n",
       "    .dataframe tbody tr th:only-of-type {\n",
       "        vertical-align: middle;\n",
       "    }\n",
       "\n",
       "    .dataframe tbody tr th {\n",
       "        vertical-align: top;\n",
       "    }\n",
       "\n",
       "    .dataframe thead th {\n",
       "        text-align: right;\n",
       "    }\n",
       "</style>\n",
       "<table border=\"1\" class=\"dataframe\">\n",
       "  <thead>\n",
       "    <tr style=\"text-align: right;\">\n",
       "      <th></th>\n",
       "      <th>region</th>\n",
       "      <th>year</th>\n",
       "      <th>manufacturer</th>\n",
       "      <th>model</th>\n",
       "      <th>condition</th>\n",
       "      <th>cylinders</th>\n",
       "      <th>fuel</th>\n",
       "      <th>odometer</th>\n",
       "      <th>title_status</th>\n",
       "      <th>transmission</th>\n",
       "      <th>drive</th>\n",
       "      <th>size</th>\n",
       "      <th>type</th>\n",
       "      <th>paint_color</th>\n",
       "      <th>state</th>\n",
       "      <th>lat</th>\n",
       "      <th>long</th>\n",
       "      <th>price</th>\n",
       "    </tr>\n",
       "  </thead>\n",
       "  <tbody>\n",
       "    <tr>\n",
       "      <th>0</th>\n",
       "      <td>mohave county</td>\n",
       "      <td>2012.0</td>\n",
       "      <td>jeep</td>\n",
       "      <td>patriot</td>\n",
       "      <td>like new</td>\n",
       "      <td>4 cylinders</td>\n",
       "      <td>gas</td>\n",
       "      <td>247071.0</td>\n",
       "      <td>clean</td>\n",
       "      <td>automatic</td>\n",
       "      <td>4wd</td>\n",
       "      <td>full-size</td>\n",
       "      <td>pickup</td>\n",
       "      <td>silver</td>\n",
       "      <td>az</td>\n",
       "      <td>34.4554</td>\n",
       "      <td>-114.2690</td>\n",
       "      <td>3495</td>\n",
       "    </tr>\n",
       "    <tr>\n",
       "      <th>1</th>\n",
       "      <td>oregon coast</td>\n",
       "      <td>2014.0</td>\n",
       "      <td>bmw</td>\n",
       "      <td>328i m-sport</td>\n",
       "      <td>good</td>\n",
       "      <td>5 cylinders</td>\n",
       "      <td>gas</td>\n",
       "      <td>76237.0</td>\n",
       "      <td>clean</td>\n",
       "      <td>automatic</td>\n",
       "      <td>rwd</td>\n",
       "      <td>full-size</td>\n",
       "      <td>sedan</td>\n",
       "      <td>grey</td>\n",
       "      <td>or</td>\n",
       "      <td>46.1837</td>\n",
       "      <td>-123.8240</td>\n",
       "      <td>13750</td>\n",
       "    </tr>\n",
       "    <tr>\n",
       "      <th>2</th>\n",
       "      <td>greenville / upstate</td>\n",
       "      <td>2001.0</td>\n",
       "      <td>dodge</td>\n",
       "      <td>caravan</td>\n",
       "      <td>excellent</td>\n",
       "      <td>6 cylinders</td>\n",
       "      <td>gas</td>\n",
       "      <td>199000.0</td>\n",
       "      <td>clean</td>\n",
       "      <td>automatic</td>\n",
       "      <td>4wd</td>\n",
       "      <td>full-size</td>\n",
       "      <td>pickup</td>\n",
       "      <td>grey</td>\n",
       "      <td>sc</td>\n",
       "      <td>34.9352</td>\n",
       "      <td>-81.9654</td>\n",
       "      <td>2300</td>\n",
       "    </tr>\n",
       "    <tr>\n",
       "      <th>3</th>\n",
       "      <td>mohave county</td>\n",
       "      <td>2004.0</td>\n",
       "      <td>chevrolet</td>\n",
       "      <td>colorado ls</td>\n",
       "      <td>excellent</td>\n",
       "      <td>5 cylinders</td>\n",
       "      <td>gas</td>\n",
       "      <td>54000.0</td>\n",
       "      <td>clean</td>\n",
       "      <td>automatic</td>\n",
       "      <td>rwd</td>\n",
       "      <td>mid-size</td>\n",
       "      <td>pickup</td>\n",
       "      <td>red</td>\n",
       "      <td>az</td>\n",
       "      <td>34.4783</td>\n",
       "      <td>-114.2710</td>\n",
       "      <td>9000</td>\n",
       "    </tr>\n",
       "    <tr>\n",
       "      <th>4</th>\n",
       "      <td>maine</td>\n",
       "      <td>2021.0</td>\n",
       "      <td>NaN</td>\n",
       "      <td>honda-nissan-kia-ford-hyundai-vw</td>\n",
       "      <td>fair</td>\n",
       "      <td>5 cylinders</td>\n",
       "      <td>other</td>\n",
       "      <td>61006.7</td>\n",
       "      <td>clean</td>\n",
       "      <td>other</td>\n",
       "      <td>4wd</td>\n",
       "      <td>full-size</td>\n",
       "      <td>pickup</td>\n",
       "      <td>grey</td>\n",
       "      <td>me</td>\n",
       "      <td>44.4699</td>\n",
       "      <td>-68.8963</td>\n",
       "      <td>0</td>\n",
       "    </tr>\n",
       "  </tbody>\n",
       "</table>\n",
       "</div>"
      ],
      "text/plain": [
       "                 region    year manufacturer  \\\n",
       "0         mohave county  2012.0         jeep   \n",
       "1          oregon coast  2014.0          bmw   \n",
       "2  greenville / upstate  2001.0        dodge   \n",
       "3         mohave county  2004.0    chevrolet   \n",
       "4                 maine  2021.0          NaN   \n",
       "\n",
       "                              model  condition    cylinders   fuel  odometer  \\\n",
       "0                           patriot   like new  4 cylinders    gas  247071.0   \n",
       "1                      328i m-sport       good  5 cylinders    gas   76237.0   \n",
       "2                           caravan  excellent  6 cylinders    gas  199000.0   \n",
       "3                       colorado ls  excellent  5 cylinders    gas   54000.0   \n",
       "4  honda-nissan-kia-ford-hyundai-vw       fair  5 cylinders  other   61006.7   \n",
       "\n",
       "  title_status transmission drive       size    type paint_color state  \\\n",
       "0        clean    automatic   4wd  full-size  pickup      silver    az   \n",
       "1        clean    automatic   rwd  full-size   sedan        grey    or   \n",
       "2        clean    automatic   4wd  full-size  pickup        grey    sc   \n",
       "3        clean    automatic   rwd   mid-size  pickup         red    az   \n",
       "4        clean        other   4wd  full-size  pickup        grey    me   \n",
       "\n",
       "       lat      long  price  \n",
       "0  34.4554 -114.2690   3495  \n",
       "1  46.1837 -123.8240  13750  \n",
       "2  34.9352  -81.9654   2300  \n",
       "3  34.4783 -114.2710   9000  \n",
       "4  44.4699  -68.8963      0  "
      ]
     },
     "execution_count": 18,
     "metadata": {},
     "output_type": "execute_result"
    }
   ],
   "source": [
    "df.head()"
   ]
  },
  {
   "cell_type": "markdown",
   "metadata": {
    "papermill": {
     "duration": 0.110156,
     "end_time": "2020-09-12T19:33:01.985240",
     "exception": false,
     "start_time": "2020-09-12T19:33:01.875084",
     "status": "completed"
    },
    "tags": []
   },
   "source": [
    "In the 5th row, the model name seems unrealistic. There are other such model names in the dataset. Consider the output of the following code:"
   ]
  },
  {
   "cell_type": "code",
   "execution_count": 19,
   "metadata": {
    "execution": {
     "iopub.execute_input": "2020-09-12T19:33:02.213747Z",
     "iopub.status.busy": "2020-09-12T19:33:02.213024Z",
     "iopub.status.idle": "2020-09-12T19:33:02.562844Z",
     "shell.execute_reply": "2020-09-12T19:33:02.562221Z"
    },
    "papermill": {
     "duration": 0.466993,
     "end_time": "2020-09-12T19:33:02.562970",
     "exception": false,
     "start_time": "2020-09-12T19:33:02.095977",
     "status": "completed"
    },
    "tags": []
   },
   "outputs": [
    {
     "data": {
      "text/html": [
       "<div>\n",
       "<style scoped>\n",
       "    .dataframe tbody tr th:only-of-type {\n",
       "        vertical-align: middle;\n",
       "    }\n",
       "\n",
       "    .dataframe tbody tr th {\n",
       "        vertical-align: top;\n",
       "    }\n",
       "\n",
       "    .dataframe thead th {\n",
       "        text-align: right;\n",
       "    }\n",
       "</style>\n",
       "<table border=\"1\" class=\"dataframe\">\n",
       "  <thead>\n",
       "    <tr style=\"text-align: right;\">\n",
       "      <th></th>\n",
       "      <th>region</th>\n",
       "      <th>manufacturer</th>\n",
       "      <th>model</th>\n",
       "    </tr>\n",
       "  </thead>\n",
       "  <tbody>\n",
       "    <tr>\n",
       "      <th>5</th>\n",
       "      <td>maine</td>\n",
       "      <td>NaN</td>\n",
       "      <td>$500 down programs!!!</td>\n",
       "    </tr>\n",
       "    <tr>\n",
       "      <th>26442</th>\n",
       "      <td>boston</td>\n",
       "      <td>NaN</td>\n",
       "      <td>$500 down programs!</td>\n",
       "    </tr>\n",
       "    <tr>\n",
       "      <th>180783</th>\n",
       "      <td>las vegas</td>\n",
       "      <td>NaN</td>\n",
       "      <td>$500 down</td>\n",
       "    </tr>\n",
       "    <tr>\n",
       "      <th>235958</th>\n",
       "      <td>maine</td>\n",
       "      <td>NaN</td>\n",
       "      <td>$500 down programs!!!</td>\n",
       "    </tr>\n",
       "    <tr>\n",
       "      <th>244169</th>\n",
       "      <td>new hampshire</td>\n",
       "      <td>NaN</td>\n",
       "      <td>$500 down programs!!!</td>\n",
       "    </tr>\n",
       "    <tr>\n",
       "      <th>293551</th>\n",
       "      <td>new hampshire</td>\n",
       "      <td>NaN</td>\n",
       "      <td>$500 down programs!!!</td>\n",
       "    </tr>\n",
       "  </tbody>\n",
       "</table>\n",
       "</div>"
      ],
      "text/plain": [
       "               region manufacturer                  model\n",
       "5               maine          NaN  $500 down programs!!!\n",
       "26442          boston          NaN    $500 down programs!\n",
       "180783      las vegas          NaN              $500 down\n",
       "235958          maine          NaN  $500 down programs!!!\n",
       "244169  new hampshire          NaN  $500 down programs!!!\n",
       "293551  new hampshire          NaN  $500 down programs!!!"
      ]
     },
     "execution_count": 19,
     "metadata": {},
     "output_type": "execute_result"
    }
   ],
   "source": [
    "df.loc[:, ['region', 'manufacturer', 'model']]\\\n",
    "[df.model.str.startswith(r'$500', na=False)]"
   ]
  },
  {
   "cell_type": "markdown",
   "metadata": {
    "papermill": {
     "duration": 0.117381,
     "end_time": "2020-09-12T19:33:02.791815",
     "exception": false,
     "start_time": "2020-09-12T19:33:02.674434",
     "status": "completed"
    },
    "tags": []
   },
   "source": [
    "We will delete such unrealistic model names later.\n",
    "\n",
    "How many unique values does each dataset column have now?"
   ]
  },
  {
   "cell_type": "code",
   "execution_count": 20,
   "metadata": {
    "execution": {
     "iopub.execute_input": "2020-09-12T19:33:03.053857Z",
     "iopub.status.busy": "2020-09-12T19:33:03.053061Z",
     "iopub.status.idle": "2020-09-12T19:33:03.684289Z",
     "shell.execute_reply": "2020-09-12T19:33:03.683507Z"
    },
    "papermill": {
     "duration": 0.748846,
     "end_time": "2020-09-12T19:33:03.684418",
     "exception": false,
     "start_time": "2020-09-12T19:33:02.935572",
     "status": "completed"
    },
    "tags": []
   },
   "outputs": [
    {
     "data": {
      "text/plain": [
       "region             403\n",
       "year               260\n",
       "manufacturer        42\n",
       "model            32301\n",
       "condition            6\n",
       "cylinders            8\n",
       "fuel                 5\n",
       "odometer        140612\n",
       "title_status         6\n",
       "transmission         3\n",
       "drive                3\n",
       "size                 4\n",
       "type                13\n",
       "paint_color         12\n",
       "state               51\n",
       "lat              51391\n",
       "long             50633\n",
       "price            16742\n",
       "dtype: int64"
      ]
     },
     "execution_count": 20,
     "metadata": {},
     "output_type": "execute_result"
    }
   ],
   "source": [
    "df.apply(pd.Series.nunique)"
   ]
  },
  {
   "cell_type": "markdown",
   "metadata": {
    "papermill": {
     "duration": 0.112209,
     "end_time": "2020-09-12T19:33:03.910229",
     "exception": false,
     "start_time": "2020-09-12T19:33:03.798020",
     "status": "completed"
    },
    "tags": []
   },
   "source": [
    "The dataset has a large number of car models at present. We will remove many of these models later. This step will reduce the number of unrealistic model names in our dataset. It will also ensure that the dataset has an adequate number of cars of each model—a crucial factor when training machine-learning models.\n",
    "\n",
    "Aside from the number of models, another conspicuous fact is that there is one additional value in the state column. It is 'dc' and represents District of Columbia, which is a federal district rather than a state. We will let this inconsistency be. Car prices are probably different in District of Columbia compared to the rest of Washington state. Our algorithms should be able to figure this&nbsp;out.\n",
    "\n",
    "So, the dataset is fairly clean now. Let us save it as a CSV file."
   ]
  },
  {
   "cell_type": "code",
   "execution_count": 21,
   "metadata": {
    "execution": {
     "iopub.execute_input": "2020-09-12T19:33:04.143185Z",
     "iopub.status.busy": "2020-09-12T19:33:04.142404Z",
     "iopub.status.idle": "2020-09-12T19:33:11.086119Z",
     "shell.execute_reply": "2020-09-12T19:33:11.085365Z"
    },
    "papermill": {
     "duration": 7.061216,
     "end_time": "2020-09-12T19:33:11.086244",
     "exception": false,
     "start_time": "2020-09-12T19:33:04.025028",
     "status": "completed"
    },
    "tags": []
   },
   "outputs": [],
   "source": [
    "df.to_csv('vehicles_eda.csv', index=False)"
   ]
  },
  {
   "cell_type": "markdown",
   "metadata": {
    "papermill": {
     "duration": 0.112156,
     "end_time": "2020-09-12T19:33:11.312709",
     "exception": false,
     "start_time": "2020-09-12T19:33:11.200553",
     "status": "completed"
    },
    "tags": []
   },
   "source": [
    "Now we will proceed to visualizing the contents of the updated dataset and cleaning it further."
   ]
  },
  {
   "cell_type": "markdown",
   "metadata": {
    "papermill": {
     "duration": 0.112046,
     "end_time": "2020-09-12T19:33:11.537745",
     "exception": false,
     "start_time": "2020-09-12T19:33:11.425699",
     "status": "completed"
    },
    "tags": []
   },
   "source": [
    "<h2>Step 4: Visualization and further cleaning<a aria-pressed=\"true\" class=\"btn btn-primary btn-sm\" data-toggle=\"popover\" name='step4-desc' id='step4-desc' href=\"#step4\" role=\"button\" style=\"color: white; margin-left: 20px; target='_self'\">Go to steplist</a></h2>\n",
    "\n",
    "We will begin this step by looking at the distribution of the target variable, price. We will use a seaborn distplot for this purpose.\n",
    "\n",
    "As we want to create multiple seaborn distplots, let us write a reusable plot-drawing function first."
   ]
  },
  {
   "cell_type": "code",
   "execution_count": 22,
   "metadata": {
    "execution": {
     "iopub.execute_input": "2020-09-12T19:33:11.774636Z",
     "iopub.status.busy": "2020-09-12T19:33:11.771040Z",
     "iopub.status.idle": "2020-09-12T19:33:11.777743Z",
     "shell.execute_reply": "2020-09-12T19:33:11.777149Z"
    },
    "papermill": {
     "duration": 0.127744,
     "end_time": "2020-09-12T19:33:11.777886",
     "exception": false,
     "start_time": "2020-09-12T19:33:11.650142",
     "status": "completed"
    },
    "tags": []
   },
   "outputs": [],
   "source": [
    "sns.set(color_codes=True)\n",
    "sns.set(rc={'figure.figsize':(6,3)})\n",
    "\n",
    "def plot_histogram(col, color_val='#005c9d',\\\n",
    "                   x_label='Price [x10\\u2076 USD]', y_label='Frequency',\\\n",
    "                   title_text='Distribution of car prices'):\n",
    "    sns.distplot(col, kde=False, color=color_val)\n",
    "    \n",
    "    ax = plt.gca()\n",
    "    ax.set_xlabel(x_label)\n",
    "    ax.set_ylabel(y_label)\n",
    "    ax.set_title(title_text)\n",
    "    ax.get_xaxis().get_major_formatter().set_scientific(False)\n",
    "    ax.get_yaxis().get_major_formatter().set_scientific(False)\n",
    "\n",
    "    plt.show()"
   ]
  },
  {
   "cell_type": "markdown",
   "metadata": {
    "papermill": {
     "duration": 0.113155,
     "end_time": "2020-09-12T19:33:12.003555",
     "exception": false,
     "start_time": "2020-09-12T19:33:11.890400",
     "status": "completed"
    },
    "tags": []
   },
   "source": [
    "We will also import the CSV file that we had saved in the previous step."
   ]
  },
  {
   "cell_type": "code",
   "execution_count": 23,
   "metadata": {
    "execution": {
     "iopub.execute_input": "2020-09-12T19:33:12.234949Z",
     "iopub.status.busy": "2020-09-12T19:33:12.234199Z",
     "iopub.status.idle": "2020-09-12T19:33:13.597455Z",
     "shell.execute_reply": "2020-09-12T19:33:13.596705Z"
    },
    "papermill": {
     "duration": 1.480725,
     "end_time": "2020-09-12T19:33:13.597615",
     "exception": false,
     "start_time": "2020-09-12T19:33:12.116890",
     "status": "completed"
    },
    "tags": []
   },
   "outputs": [],
   "source": [
    "df = pd.read_csv('vehicles_eda.csv')"
   ]
  },
  {
   "cell_type": "markdown",
   "metadata": {
    "papermill": {
     "duration": 0.124938,
     "end_time": "2020-09-12T19:33:13.837037",
     "exception": false,
     "start_time": "2020-09-12T19:33:13.712099",
     "status": "completed"
    },
    "tags": []
   },
   "source": [
    "Using the `plot_histogram` function on the price column of the dataset, we get the following plot."
   ]
  },
  {
   "cell_type": "code",
   "execution_count": 24,
   "metadata": {
    "execution": {
     "iopub.execute_input": "2020-09-12T19:33:14.102427Z",
     "iopub.status.busy": "2020-09-12T19:33:14.101696Z",
     "iopub.status.idle": "2020-09-12T19:33:14.603553Z",
     "shell.execute_reply": "2020-09-12T19:33:14.602831Z"
    },
    "papermill": {
     "duration": 0.623015,
     "end_time": "2020-09-12T19:33:14.603673",
     "exception": false,
     "start_time": "2020-09-12T19:33:13.980658",
     "status": "completed"
    },
    "tags": []
   },
   "outputs": [
    {
     "data": {
      "image/png": "[encoded data removed]",
      "text/plain": [
       "<Figure size 432x216 with 1 Axes>"
      ]
     },
     "metadata": {},
     "output_type": "display_data"
    }
   ],
   "source": [
    "price_mill = df.price/10**6\n",
    "plot_histogram(price_mill)"
   ]
  },
  {
   "cell_type": "markdown",
   "metadata": {
    "papermill": {
     "duration": 0.116101,
     "end_time": "2020-09-12T19:33:14.836327",
     "exception": false,
     "start_time": "2020-09-12T19:33:14.720226",
     "status": "completed"
    },
    "tags": []
   },
   "source": [
    "The plot indicates that the prices are skewed toward the left, with the maximum number of cars hovering around&nbsp;zero.\n",
    "\n",
    "For a better perspective, let us view the distribution in the USD&nbsp;0–60,000 range."
   ]
  },
  {
   "cell_type": "code",
   "execution_count": 25,
   "metadata": {
    "execution": {
     "iopub.execute_input": "2020-09-12T19:33:15.076619Z",
     "iopub.status.busy": "2020-09-12T19:33:15.075777Z",
     "iopub.status.idle": "2020-09-12T19:33:15.544827Z",
     "shell.execute_reply": "2020-09-12T19:33:15.544169Z"
    },
    "papermill": {
     "duration": 0.591296,
     "end_time": "2020-09-12T19:33:15.544971",
     "exception": false,
     "start_time": "2020-09-12T19:33:14.953675",
     "status": "completed"
    },
    "tags": []
   },
   "outputs": [
    {
     "data": {
      "image/png": "[encoded data removed]",
      "text/plain": [
       "<Figure size 432x216 with 1 Axes>"
      ]
     },
     "metadata": {},
     "output_type": "display_data"
    }
   ],
   "source": [
    "plot_histogram(df.price[df.price<60000])"
   ]
  },
  {
   "cell_type": "markdown",
   "metadata": {
    "papermill": {
     "duration": 0.117795,
     "end_time": "2020-09-12T19:33:15.780905",
     "exception": false,
     "start_time": "2020-09-12T19:33:15.663110",
     "status": "completed"
    },
    "tags": []
   },
   "source": [
    "Apparently, a large number of cars in the database are priced at 0. Here is code that proves this:"
   ]
  },
  {
   "cell_type": "code",
   "execution_count": 26,
   "metadata": {
    "execution": {
     "iopub.execute_input": "2020-09-12T19:33:16.024586Z",
     "iopub.status.busy": "2020-09-12T19:33:16.023817Z",
     "iopub.status.idle": "2020-09-12T19:33:16.037067Z",
     "shell.execute_reply": "2020-09-12T19:33:16.037641Z"
    },
    "papermill": {
     "duration": 0.13819,
     "end_time": "2020-09-12T19:33:16.037804",
     "exception": false,
     "start_time": "2020-09-12T19:33:15.899614",
     "status": "completed"
    },
    "tags": []
   },
   "outputs": [
    {
     "name": "stdout",
     "output_type": "stream",
     "text": [
      "Price:  0 \n",
      "Counts:  30701\n",
      "\n",
      "Ten most frequently occurring prices:\n",
      "\n",
      "0       30701\n",
      "6995     3964\n",
      "7995     3877\n",
      "4500     3822\n",
      "5995     3748\n",
      "3500     3727\n",
      "8995     3667\n",
      "5500     3494\n",
      "6500     3408\n",
      "9995     3369\n",
      "Name: price, dtype: int64\n"
     ]
    }
   ],
   "source": [
    "price_counts = df.price.value_counts()\n",
    "print('Price: ', price_counts.index[0], '\\nCounts: ', price_counts.values[0])\n",
    "print('\\nTen most frequently occurring prices:\\n')\n",
    "print(price_counts[:10])"
   ]
  },
  {
   "cell_type": "markdown",
   "metadata": {
    "papermill": {
     "duration": 0.115604,
     "end_time": "2020-09-12T19:33:16.273183",
     "exception": false,
     "start_time": "2020-09-12T19:33:16.157579",
     "status": "completed"
    },
    "tags": []
   },
   "source": [
    "How do the mean and the median of the prices compare? "
   ]
  },
  {
   "cell_type": "code",
   "execution_count": 27,
   "metadata": {
    "execution": {
     "iopub.execute_input": "2020-09-12T19:33:16.512758Z",
     "iopub.status.busy": "2020-09-12T19:33:16.511530Z",
     "iopub.status.idle": "2020-09-12T19:33:16.523971Z",
     "shell.execute_reply": "2020-09-12T19:33:16.523192Z"
    },
    "papermill": {
     "duration": 0.13532,
     "end_time": "2020-09-12T19:33:16.524133",
     "exception": false,
     "start_time": "2020-09-12T19:33:16.388813",
     "status": "completed"
    },
    "tags": []
   },
   "outputs": [
    {
     "name": "stdout",
     "output_type": "stream",
     "text": [
      "Mean: 134912.71421524428\n",
      "\n",
      "Median:  9995.0\n"
     ]
    }
   ],
   "source": [
    "print('Mean:', df.price.mean())\n",
    "print()\n",
    "print('Median: ', df.price.median())"
   ]
  },
  {
   "cell_type": "markdown",
   "metadata": {
    "papermill": {
     "duration": 0.115143,
     "end_time": "2020-09-12T19:33:16.756435",
     "exception": false,
     "start_time": "2020-09-12T19:33:16.641292",
     "status": "completed"
    },
    "tags": []
   },
   "source": [
    "The minimum price is 0. What is the maximum price?"
   ]
  },
  {
   "cell_type": "code",
   "execution_count": 28,
   "metadata": {
    "execution": {
     "iopub.execute_input": "2020-09-12T19:33:16.994267Z",
     "iopub.status.busy": "2020-09-12T19:33:16.993368Z",
     "iopub.status.idle": "2020-09-12T19:33:16.997889Z",
     "shell.execute_reply": "2020-09-12T19:33:16.998411Z"
    },
    "papermill": {
     "duration": 0.126468,
     "end_time": "2020-09-12T19:33:16.998608",
     "exception": false,
     "start_time": "2020-09-12T19:33:16.872140",
     "status": "completed"
    },
    "tags": []
   },
   "outputs": [
    {
     "name": "stdout",
     "output_type": "stream",
     "text": [
      "Max. price:  3647256576\n"
     ]
    }
   ],
   "source": [
    "print('Max. price: ', df.price.max())"
   ]
  },
  {
   "cell_type": "markdown",
   "metadata": {
    "papermill": {
     "duration": 0.116657,
     "end_time": "2020-09-12T19:33:17.231974",
     "exception": false,
     "start_time": "2020-09-12T19:33:17.115317",
     "status": "completed"
    },
    "tags": []
   },
   "source": [
    "The huge difference between the mean and the median corroborates that there are outliers in the price data. In addition, the maximum price is unrealistic.\n",
    "\n",
    "The minimum price is also unrealistic for us. It does not conform to our requirements. We definitely don't want our algorithms to learn about cars whose prices are pegged at 0. The model will be a price-predictor, after&nbsp;all. So, let us remove rows where the price is 0 and reset the database index."
   ]
  },
  {
   "cell_type": "markdown",
   "metadata": {
    "papermill": {
     "duration": 0.116519,
     "end_time": "2020-09-12T19:33:17.464468",
     "exception": false,
     "start_time": "2020-09-12T19:33:17.347949",
     "status": "completed"
    },
    "tags": []
   },
   "source": [
    "Let us look at some of the attributes of cars with the highest prices."
   ]
  },
  {
   "cell_type": "code",
   "execution_count": 29,
   "metadata": {
    "execution": {
     "iopub.execute_input": "2020-09-12T19:33:17.703992Z",
     "iopub.status.busy": "2020-09-12T19:33:17.703205Z",
     "iopub.status.idle": "2020-09-12T19:33:17.737903Z",
     "shell.execute_reply": "2020-09-12T19:33:17.737161Z"
    },
    "papermill": {
     "duration": 0.157327,
     "end_time": "2020-09-12T19:33:17.738023",
     "exception": false,
     "start_time": "2020-09-12T19:33:17.580696",
     "status": "completed"
    },
    "tags": []
   },
   "outputs": [
    {
     "data": {
      "text/html": [
       "<div>\n",
       "<style scoped>\n",
       "    .dataframe tbody tr th:only-of-type {\n",
       "        vertical-align: middle;\n",
       "    }\n",
       "\n",
       "    .dataframe tbody tr th {\n",
       "        vertical-align: top;\n",
       "    }\n",
       "\n",
       "    .dataframe thead th {\n",
       "        text-align: right;\n",
       "    }\n",
       "</style>\n",
       "<table border=\"1\" class=\"dataframe\">\n",
       "  <thead>\n",
       "    <tr style=\"text-align: right;\">\n",
       "      <th></th>\n",
       "      <th>region</th>\n",
       "      <th>year</th>\n",
       "      <th>manufacturer</th>\n",
       "      <th>model</th>\n",
       "      <th>price</th>\n",
       "    </tr>\n",
       "  </thead>\n",
       "  <tbody>\n",
       "    <tr>\n",
       "      <th>66766</th>\n",
       "      <td>pullman / moscow</td>\n",
       "      <td>1968.0</td>\n",
       "      <td>NaN</td>\n",
       "      <td>1968 chevelle</td>\n",
       "      <td>3647256576</td>\n",
       "    </tr>\n",
       "    <tr>\n",
       "      <th>41214</th>\n",
       "      <td>tucson</td>\n",
       "      <td>1973.0</td>\n",
       "      <td>mazda</td>\n",
       "      <td>rx3</td>\n",
       "      <td>3333333333</td>\n",
       "    </tr>\n",
       "    <tr>\n",
       "      <th>146720</th>\n",
       "      <td>bozeman</td>\n",
       "      <td>1973.0</td>\n",
       "      <td>NaN</td>\n",
       "      <td>1973 rx2</td>\n",
       "      <td>3268562261</td>\n",
       "    </tr>\n",
       "    <tr>\n",
       "      <th>312502</th>\n",
       "      <td>bend</td>\n",
       "      <td>1973.0</td>\n",
       "      <td>mazda</td>\n",
       "      <td>rx2</td>\n",
       "      <td>2989542968</td>\n",
       "    </tr>\n",
       "    <tr>\n",
       "      <th>343656</th>\n",
       "      <td>el paso</td>\n",
       "      <td>1973.0</td>\n",
       "      <td>mazda</td>\n",
       "      <td>rx3</td>\n",
       "      <td>2989542968</td>\n",
       "    </tr>\n",
       "    <tr>\n",
       "      <th>366552</th>\n",
       "      <td>odessa / midland</td>\n",
       "      <td>1973.0</td>\n",
       "      <td>mazda</td>\n",
       "      <td>rx3</td>\n",
       "      <td>2989542968</td>\n",
       "    </tr>\n",
       "    <tr>\n",
       "      <th>78638</th>\n",
       "      <td>eastern NC</td>\n",
       "      <td>1997.0</td>\n",
       "      <td>dodge</td>\n",
       "      <td>3500</td>\n",
       "      <td>2525141468</td>\n",
       "    </tr>\n",
       "    <tr>\n",
       "      <th>364499</th>\n",
       "      <td>kennewick-pasco-richland</td>\n",
       "      <td>1964.0</td>\n",
       "      <td>volvo</td>\n",
       "      <td>544</td>\n",
       "      <td>2521176519</td>\n",
       "    </tr>\n",
       "    <tr>\n",
       "      <th>66099</th>\n",
       "      <td>atlanta</td>\n",
       "      <td>2015.0</td>\n",
       "      <td>NaN</td>\n",
       "      <td>scion frs</td>\n",
       "      <td>2490531375</td>\n",
       "    </tr>\n",
       "    <tr>\n",
       "      <th>66127</th>\n",
       "      <td>atlanta</td>\n",
       "      <td>2011.0</td>\n",
       "      <td>ford</td>\n",
       "      <td>fiesta</td>\n",
       "      <td>2490531375</td>\n",
       "    </tr>\n",
       "  </tbody>\n",
       "</table>\n",
       "</div>"
      ],
      "text/plain": [
       "                          region    year manufacturer          model  \\\n",
       "66766           pullman / moscow  1968.0          NaN  1968 chevelle   \n",
       "41214                     tucson  1973.0        mazda            rx3   \n",
       "146720                   bozeman  1973.0          NaN       1973 rx2   \n",
       "312502                      bend  1973.0        mazda            rx2   \n",
       "343656                   el paso  1973.0        mazda            rx3   \n",
       "366552          odessa / midland  1973.0        mazda            rx3   \n",
       "78638                 eastern NC  1997.0        dodge           3500   \n",
       "364499  kennewick-pasco-richland  1964.0        volvo            544   \n",
       "66099                    atlanta  2015.0          NaN      scion frs   \n",
       "66127                    atlanta  2011.0         ford         fiesta   \n",
       "\n",
       "             price  \n",
       "66766   3647256576  \n",
       "41214   3333333333  \n",
       "146720  3268562261  \n",
       "312502  2989542968  \n",
       "343656  2989542968  \n",
       "366552  2989542968  \n",
       "78638   2525141468  \n",
       "364499  2521176519  \n",
       "66099   2490531375  \n",
       "66127   2490531375  "
      ]
     },
     "execution_count": 29,
     "metadata": {},
     "output_type": "execute_result"
    }
   ],
   "source": [
    "cols = ['region', 'year', 'manufacturer', 'model', 'price']\n",
    "\n",
    "df.loc[:, cols][df.price>100000].sort_values(by='price', ascending=False).head(10)"
   ]
  },
  {
   "cell_type": "markdown",
   "metadata": {
    "papermill": {
     "duration": 0.11784,
     "end_time": "2020-09-12T19:33:17.975916",
     "exception": false,
     "start_time": "2020-09-12T19:33:17.858076",
     "status": "completed"
    },
    "tags": []
   },
   "source": [
    "Well, a 1997 Dodge RAM 3500 shouldn't cost USD 2+ billions. As per the [Cargurus](https://www.cargurus.com/Cars/l-Used-1997-Dodge-RAM-3500-c5452) website, Dodge RAM 3500s from 1998 and earlier cost less than USD 20,000. That's much lower than USD 2 billions. The extremely high price listed in our dataset is erroneous, and there are quite a few outliers like this.\n",
    "\n",
    "We will have to remove outliers from the price column as well as other numerical columns of the dataset. We can use the interquartile range (IQR) of each column to do so. IQR is the difference between the third quartile and the first quartile of a data range—for example, a database column.\n",
    "\n",
    "#### What are first and third quartiles?\n",
    "\n",
    "Suppose we have sorted a data range and found its median value. The lower half of this range includes all the values that are less than the median, and the upper half includes values that are greater than the median.\n",
    "\n",
    "The first quartile is the median of the values in the lower half. Almost 25% of all the values in the data range will be less than the first quartile.\n",
    "\n",
    "The third quartile is the median of the upper half. Almost 75% of all the values in the data range will be less than the third quartile.\n",
    "\n",
    "#### How to remove outliers using IQR?\n",
    "\n",
    "To remove outliers from a data range using IQR, we will have to remove values that are\n",
    "\n",
    "- less than the difference between the first quartile and 1.5 times the IQR\n",
    "\n",
    "- more than the difference between the third quartile and 1.5 times the IQR\n",
    "\n",
    "If Q1 is the first quartile, Q3 is the third quartile, and IQR is their difference, outliers in the lower half of the data range will be less than the following value:\n",
    "\n",
    "`Q1 - 1.5 * IQR`\n",
    "\n",
    "And outliers in the upper half of the data range will be greater than the following value:\n",
    "\n",
    "\n",
    "`Q3 + 1.5 * IQR`\n",
    "\n",
    "But using IQR on the price column as is won't give us satisfactory results. This is because the car prices in our dataset are not uniform. Most of the prices are clustered near the lowest end of the price scale and the price range is huge. This type of non-uniformity can prevent machine-learning algorithms from interpreting data effectively.\n",
    "\n",
    "So, we will have to bring in uniformity into the dataset via an additional column. This column will contain uniformized versions of the values in the price column. To uniformize the values, we will apply a logarithmic function, log1p, to them. The logarithmic function will create a new scale for the price values. The price values will be distributed more evenly across this scale.\n",
    "\n",
    "To create the proposed column, let us run the following code:"
   ]
  },
  {
   "cell_type": "code",
   "execution_count": 30,
   "metadata": {
    "execution": {
     "iopub.execute_input": "2020-09-12T19:33:18.217773Z",
     "iopub.status.busy": "2020-09-12T19:33:18.216817Z",
     "iopub.status.idle": "2020-09-12T19:33:18.231993Z",
     "shell.execute_reply": "2020-09-12T19:33:18.231389Z"
    },
    "papermill": {
     "duration": 0.138155,
     "end_time": "2020-09-12T19:33:18.232119",
     "exception": false,
     "start_time": "2020-09-12T19:33:18.093964",
     "status": "completed"
    },
    "tags": []
   },
   "outputs": [],
   "source": [
    "df.insert(17, 'logprice', np.log1p(df['price']))"
   ]
  },
  {
   "cell_type": "markdown",
   "metadata": {
    "papermill": {
     "duration": 0.118092,
     "end_time": "2020-09-12T19:33:18.467718",
     "exception": false,
     "start_time": "2020-09-12T19:33:18.349626",
     "status": "completed"
    },
    "tags": []
   },
   "source": [
    "To check whether the values in the logprice column are uniform, we will view their distribution graphically."
   ]
  },
  {
   "cell_type": "code",
   "execution_count": 31,
   "metadata": {
    "execution": {
     "iopub.execute_input": "2020-09-12T19:33:18.717918Z",
     "iopub.status.busy": "2020-09-12T19:33:18.714433Z",
     "iopub.status.idle": "2020-09-12T19:33:19.147053Z",
     "shell.execute_reply": "2020-09-12T19:33:19.146328Z"
    },
    "papermill": {
     "duration": 0.56117,
     "end_time": "2020-09-12T19:33:19.147173",
     "exception": false,
     "start_time": "2020-09-12T19:33:18.586003",
     "status": "completed"
    },
    "tags": []
   },
   "outputs": [
    {
     "data": {
      "image/png": "[encoded data removed]",
      "text/plain": [
       "<Figure size 432x216 with 1 Axes>"
      ]
     },
     "metadata": {},
     "output_type": "display_data"
    }
   ],
   "source": [
    "plot_histogram(df.logprice) "
   ]
  },
  {
   "cell_type": "markdown",
   "metadata": {
    "papermill": {
     "duration": 0.118105,
     "end_time": "2020-09-12T19:33:19.384118",
     "exception": false,
     "start_time": "2020-09-12T19:33:19.266013",
     "status": "completed"
    },
    "tags": []
   },
   "source": [
    "Yes, this histogram is evenly distributed. Now, it will be easier for us to remove outliers from our dataset by using the IQR method.\n",
    "\n",
    "But before we apply this method, we will change the datatype of the price column to `string`. This will ensure that the IQR method is not applied to the price column. Later, once we have removed outliers from the dataset, we will change the data type of its price column back to `int64`."
   ]
  },
  {
   "cell_type": "code",
   "execution_count": 32,
   "metadata": {
    "execution": {
     "iopub.execute_input": "2020-09-12T19:33:19.627627Z",
     "iopub.status.busy": "2020-09-12T19:33:19.626891Z",
     "iopub.status.idle": "2020-09-12T19:33:19.835802Z",
     "shell.execute_reply": "2020-09-12T19:33:19.835149Z"
    },
    "papermill": {
     "duration": 0.332863,
     "end_time": "2020-09-12T19:33:19.835926",
     "exception": false,
     "start_time": "2020-09-12T19:33:19.503063",
     "status": "completed"
    },
    "tags": []
   },
   "outputs": [],
   "source": [
    "df['price'] = df.price.astype(str)"
   ]
  },
  {
   "cell_type": "markdown",
   "metadata": {
    "papermill": {
     "duration": 0.118899,
     "end_time": "2020-09-12T19:33:20.074039",
     "exception": false,
     "start_time": "2020-09-12T19:33:19.955140",
     "status": "completed"
    },
    "tags": []
   },
   "source": [
    "Now, it's time to apply the IQR method.\n",
    "\n",
    "To begin with, we will calculate the Q1 and Q3 values and the IQRs of the numerical columns in the dataset."
   ]
  },
  {
   "cell_type": "code",
   "execution_count": 33,
   "metadata": {
    "execution": {
     "iopub.execute_input": "2020-09-12T19:33:20.318416Z",
     "iopub.status.busy": "2020-09-12T19:33:20.317714Z",
     "iopub.status.idle": "2020-09-12T19:33:20.617335Z",
     "shell.execute_reply": "2020-09-12T19:33:20.617910Z"
    },
    "papermill": {
     "duration": 0.423756,
     "end_time": "2020-09-12T19:33:20.618084",
     "exception": false,
     "start_time": "2020-09-12T19:33:20.194328",
     "status": "completed"
    },
    "tags": []
   },
   "outputs": [],
   "source": [
    "Q1 = df.quantile(0.25)\n",
    "Q3 = df.quantile(0.75)\n",
    "IQR = Q3 - Q1"
   ]
  },
  {
   "cell_type": "code",
   "execution_count": 34,
   "metadata": {
    "execution": {
     "iopub.execute_input": "2020-09-12T19:33:20.865079Z",
     "iopub.status.busy": "2020-09-12T19:33:20.864037Z",
     "iopub.status.idle": "2020-09-12T19:33:20.868446Z",
     "shell.execute_reply": "2020-09-12T19:33:20.867892Z"
    },
    "papermill": {
     "duration": 0.130873,
     "end_time": "2020-09-12T19:33:20.868588",
     "exception": false,
     "start_time": "2020-09-12T19:33:20.737715",
     "status": "completed"
    },
    "tags": []
   },
   "outputs": [
    {
     "data": {
      "text/plain": [
       "year         2007.000000\n",
       "odometer    51300.000000\n",
       "lat            34.235100\n",
       "long         -111.140000\n",
       "logprice        8.497195\n",
       "Name: 0.25, dtype: float64"
      ]
     },
     "execution_count": 34,
     "metadata": {},
     "output_type": "execute_result"
    }
   ],
   "source": [
    "Q1"
   ]
  },
  {
   "cell_type": "code",
   "execution_count": 35,
   "metadata": {
    "execution": {
     "iopub.execute_input": "2020-09-12T19:33:21.116933Z",
     "iopub.status.busy": "2020-09-12T19:33:21.116113Z",
     "iopub.status.idle": "2020-09-12T19:33:21.120629Z",
     "shell.execute_reply": "2020-09-12T19:33:21.120007Z"
    },
    "papermill": {
     "duration": 0.131323,
     "end_time": "2020-09-12T19:33:21.120751",
     "exception": false,
     "start_time": "2020-09-12T19:33:20.989428",
     "status": "completed"
    },
    "tags": []
   },
   "outputs": [
    {
     "data": {
      "text/plain": [
       "year          2015.000000\n",
       "odometer    137551.000000\n",
       "lat             42.468100\n",
       "long           -81.417900\n",
       "logprice         9.797571\n",
       "Name: 0.75, dtype: float64"
      ]
     },
     "execution_count": 35,
     "metadata": {},
     "output_type": "execute_result"
    }
   ],
   "source": [
    "Q3"
   ]
  },
  {
   "cell_type": "code",
   "execution_count": 36,
   "metadata": {
    "execution": {
     "iopub.execute_input": "2020-09-12T19:33:21.367920Z",
     "iopub.status.busy": "2020-09-12T19:33:21.367032Z",
     "iopub.status.idle": "2020-09-12T19:33:21.371600Z",
     "shell.execute_reply": "2020-09-12T19:33:21.370869Z"
    },
    "papermill": {
     "duration": 0.130923,
     "end_time": "2020-09-12T19:33:21.371723",
     "exception": false,
     "start_time": "2020-09-12T19:33:21.240800",
     "status": "completed"
    },
    "tags": []
   },
   "outputs": [
    {
     "data": {
      "text/plain": [
       "year            8.000000\n",
       "odometer    86251.000000\n",
       "lat             8.233000\n",
       "long           29.722100\n",
       "logprice        1.300377\n",
       "dtype: float64"
      ]
     },
     "execution_count": 36,
     "metadata": {},
     "output_type": "execute_result"
    }
   ],
   "source": [
    "IQR"
   ]
  },
  {
   "cell_type": "markdown",
   "metadata": {
    "papermill": {
     "duration": 0.120339,
     "end_time": "2020-09-12T19:33:21.614158",
     "exception": false,
     "start_time": "2020-09-12T19:33:21.493819",
     "status": "completed"
    },
    "tags": []
   },
   "source": [
    "Next, we will update the dataset, applying the IQR formula to remove outliers."
   ]
  },
  {
   "cell_type": "code",
   "execution_count": 37,
   "metadata": {
    "execution": {
     "iopub.execute_input": "2020-09-12T19:33:21.934651Z",
     "iopub.status.busy": "2020-09-12T19:33:21.864720Z",
     "iopub.status.idle": "2020-09-12T19:33:24.687322Z",
     "shell.execute_reply": "2020-09-12T19:33:24.686579Z"
    },
    "papermill": {
     "duration": 2.952817,
     "end_time": "2020-09-12T19:33:24.687442",
     "exception": false,
     "start_time": "2020-09-12T19:33:21.734625",
     "status": "completed"
    },
    "tags": []
   },
   "outputs": [],
   "source": [
    "df = df[~((df < (Q1 - 1.5 * IQR)) | (df > (Q3 + 1.5 * IQR))).any(axis=1)]"
   ]
  },
  {
   "cell_type": "markdown",
   "metadata": {
    "papermill": {
     "duration": 0.120589,
     "end_time": "2020-09-12T19:33:24.928661",
     "exception": false,
     "start_time": "2020-09-12T19:33:24.808072",
     "status": "completed"
    },
    "tags": []
   },
   "source": [
    "Finally, we will revert the data type of the price column to its original value."
   ]
  },
  {
   "cell_type": "code",
   "execution_count": 38,
   "metadata": {
    "execution": {
     "iopub.execute_input": "2020-09-12T19:33:25.235207Z",
     "iopub.status.busy": "2020-09-12T19:33:25.234457Z",
     "iopub.status.idle": "2020-09-12T19:33:25.326039Z",
     "shell.execute_reply": "2020-09-12T19:33:25.325369Z"
    },
    "papermill": {
     "duration": 0.276145,
     "end_time": "2020-09-12T19:33:25.326161",
     "exception": false,
     "start_time": "2020-09-12T19:33:25.050016",
     "status": "completed"
    },
    "tags": []
   },
   "outputs": [],
   "source": [
    "df['price'] = df.price.astype(np.int64)"
   ]
  },
  {
   "cell_type": "markdown",
   "metadata": {
    "papermill": {
     "duration": 0.121299,
     "end_time": "2020-09-12T19:33:25.568575",
     "exception": false,
     "start_time": "2020-09-12T19:33:25.447276",
     "status": "completed"
    },
    "tags": []
   },
   "source": [
    "As the dataset is quite clean now, we can reduce the number of car models in it. We will delete data about models that appear less than 1000 times in the dataset. This step will dramatically reduce the chance of unrealistic model names and manufacturer-model combinations appearing in our dataset. It will also ensure that the proposed machine-learning models have enough relevant data to understand the interrelations between car attributes or characteristics and their prices.\n",
    "\n",
    "Here is the code that will update the dataset according to the above requirements:"
   ]
  },
  {
   "cell_type": "code",
   "execution_count": 39,
   "metadata": {
    "execution": {
     "iopub.execute_input": "2020-09-12T19:33:25.931179Z",
     "iopub.status.busy": "2020-09-12T19:33:25.929599Z",
     "iopub.status.idle": "2020-09-12T19:33:27.689034Z",
     "shell.execute_reply": "2020-09-12T19:33:27.688375Z"
    },
    "papermill": {
     "duration": 1.999757,
     "end_time": "2020-09-12T19:33:27.689169",
     "exception": false,
     "start_time": "2020-09-12T19:33:25.689412",
     "status": "completed"
    },
    "tags": []
   },
   "outputs": [],
   "source": [
    "df = df.groupby(\"model\").filter(lambda x: len(x) >= 1000)\n",
    "df.reset_index(drop=True, inplace=True)"
   ]
  },
  {
   "cell_type": "markdown",
   "metadata": {
    "papermill": {
     "duration": 0.121656,
     "end_time": "2020-09-12T19:33:27.935659",
     "exception": false,
     "start_time": "2020-09-12T19:33:27.814003",
     "status": "completed"
    },
    "tags": []
   },
   "source": [
    "Next, for each model, we will fill any missing values in the manufacturer column with the name of the most common manufacturer for that&nbsp;model."
   ]
  },
  {
   "cell_type": "code",
   "execution_count": 40,
   "metadata": {
    "execution": {
     "iopub.execute_input": "2020-09-12T19:33:28.190468Z",
     "iopub.status.busy": "2020-09-12T19:33:28.189722Z",
     "iopub.status.idle": "2020-09-12T19:33:28.312463Z",
     "shell.execute_reply": "2020-09-12T19:33:28.311780Z"
    },
    "papermill": {
     "duration": 0.254261,
     "end_time": "2020-09-12T19:33:28.312604",
     "exception": false,
     "start_time": "2020-09-12T19:33:28.058343",
     "status": "completed"
    },
    "tags": []
   },
   "outputs": [],
   "source": [
    "df['manufacturer'] = df.groupby('model').manufacturer.transform(\n",
    "    lambda x: x.fillna(x.mode()[0])\n",
    ")"
   ]
  },
  {
   "cell_type": "markdown",
   "metadata": {
    "papermill": {
     "duration": 0.122268,
     "end_time": "2020-09-12T19:33:28.556997",
     "exception": false,
     "start_time": "2020-09-12T19:33:28.434729",
     "status": "completed"
    },
    "tags": []
   },
   "source": [
    "Next, let us sort the dataset and browse through some of its rows."
   ]
  },
  {
   "cell_type": "code",
   "execution_count": 41,
   "metadata": {
    "execution": {
     "iopub.execute_input": "2020-09-12T19:33:28.808195Z",
     "iopub.status.busy": "2020-09-12T19:33:28.807474Z",
     "iopub.status.idle": "2020-09-12T19:33:28.888611Z",
     "shell.execute_reply": "2020-09-12T19:33:28.889182Z"
    },
    "papermill": {
     "duration": 0.20971,
     "end_time": "2020-09-12T19:33:28.889348",
     "exception": false,
     "start_time": "2020-09-12T19:33:28.679638",
     "status": "completed"
    },
    "tags": []
   },
   "outputs": [],
   "source": [
    "df.sort_values(by=['year','manufacturer', 'price'], inplace=True)\n",
    "df.reset_index(drop=True, inplace=True)"
   ]
  },
  {
   "cell_type": "code",
   "execution_count": 42,
   "metadata": {
    "execution": {
     "iopub.execute_input": "2020-09-12T19:33:29.163277Z",
     "iopub.status.busy": "2020-09-12T19:33:29.139973Z",
     "iopub.status.idle": "2020-09-12T19:33:29.168576Z",
     "shell.execute_reply": "2020-09-12T19:33:29.168001Z"
    },
    "papermill": {
     "duration": 0.156387,
     "end_time": "2020-09-12T19:33:29.168728",
     "exception": false,
     "start_time": "2020-09-12T19:33:29.012341",
     "status": "completed"
    },
    "tags": []
   },
   "outputs": [
    {
     "data": {
      "text/html": [
       "<div>\n",
       "<style scoped>\n",
       "    .dataframe tbody tr th:only-of-type {\n",
       "        vertical-align: middle;\n",
       "    }\n",
       "\n",
       "    .dataframe tbody tr th {\n",
       "        vertical-align: top;\n",
       "    }\n",
       "\n",
       "    .dataframe thead th {\n",
       "        text-align: right;\n",
       "    }\n",
       "</style>\n",
       "<table border=\"1\" class=\"dataframe\">\n",
       "  <thead>\n",
       "    <tr style=\"text-align: right;\">\n",
       "      <th></th>\n",
       "      <th>region</th>\n",
       "      <th>year</th>\n",
       "      <th>manufacturer</th>\n",
       "      <th>model</th>\n",
       "      <th>condition</th>\n",
       "      <th>cylinders</th>\n",
       "      <th>fuel</th>\n",
       "      <th>odometer</th>\n",
       "      <th>title_status</th>\n",
       "      <th>transmission</th>\n",
       "      <th>drive</th>\n",
       "      <th>size</th>\n",
       "      <th>type</th>\n",
       "      <th>paint_color</th>\n",
       "      <th>state</th>\n",
       "      <th>lat</th>\n",
       "      <th>long</th>\n",
       "      <th>logprice</th>\n",
       "      <th>price</th>\n",
       "    </tr>\n",
       "  </thead>\n",
       "  <tbody>\n",
       "    <tr>\n",
       "      <th>0</th>\n",
       "      <td>bloomington</td>\n",
       "      <td>1995.0</td>\n",
       "      <td>chevrolet</td>\n",
       "      <td>silverado 1500</td>\n",
       "      <td>fair</td>\n",
       "      <td>8 cylinders</td>\n",
       "      <td>gas</td>\n",
       "      <td>154737.0</td>\n",
       "      <td>clean</td>\n",
       "      <td>automatic</td>\n",
       "      <td>4wd</td>\n",
       "      <td>full-size</td>\n",
       "      <td>pickup</td>\n",
       "      <td>blue</td>\n",
       "      <td>in</td>\n",
       "      <td>38.9957</td>\n",
       "      <td>-86.7568</td>\n",
       "      <td>6.621406</td>\n",
       "      <td>750</td>\n",
       "    </tr>\n",
       "    <tr>\n",
       "      <th>1</th>\n",
       "      <td>san antonio</td>\n",
       "      <td>1995.0</td>\n",
       "      <td>chevrolet</td>\n",
       "      <td>3500</td>\n",
       "      <td>fair</td>\n",
       "      <td>8 cylinders</td>\n",
       "      <td>gas</td>\n",
       "      <td>231621.1</td>\n",
       "      <td>clean</td>\n",
       "      <td>automatic</td>\n",
       "      <td>rwd</td>\n",
       "      <td>full-size</td>\n",
       "      <td>truck</td>\n",
       "      <td>grey</td>\n",
       "      <td>tx</td>\n",
       "      <td>29.4969</td>\n",
       "      <td>-98.4032</td>\n",
       "      <td>6.803505</td>\n",
       "      <td>900</td>\n",
       "    </tr>\n",
       "    <tr>\n",
       "      <th>2</th>\n",
       "      <td>lima / findlay</td>\n",
       "      <td>1995.0</td>\n",
       "      <td>chevrolet</td>\n",
       "      <td>silverado 1500</td>\n",
       "      <td>fair</td>\n",
       "      <td>8 cylinders</td>\n",
       "      <td>gas</td>\n",
       "      <td>173219.8</td>\n",
       "      <td>clean</td>\n",
       "      <td>manual</td>\n",
       "      <td>rwd</td>\n",
       "      <td>full-size</td>\n",
       "      <td>pickup</td>\n",
       "      <td>red</td>\n",
       "      <td>oh</td>\n",
       "      <td>41.0449</td>\n",
       "      <td>-83.6457</td>\n",
       "      <td>6.908755</td>\n",
       "      <td>1000</td>\n",
       "    </tr>\n",
       "    <tr>\n",
       "      <th>102260</th>\n",
       "      <td>ocala</td>\n",
       "      <td>2021.0</td>\n",
       "      <td>dodge</td>\n",
       "      <td>grand caravan</td>\n",
       "      <td>new</td>\n",
       "      <td>6 cylinders</td>\n",
       "      <td>gas</td>\n",
       "      <td>40515.2</td>\n",
       "      <td>clean</td>\n",
       "      <td>automatic</td>\n",
       "      <td>fwd</td>\n",
       "      <td>full-size</td>\n",
       "      <td>mini-van</td>\n",
       "      <td>grey</td>\n",
       "      <td>fl</td>\n",
       "      <td>29.1605</td>\n",
       "      <td>-82.1288</td>\n",
       "      <td>8.987322</td>\n",
       "      <td>8000</td>\n",
       "    </tr>\n",
       "    <tr>\n",
       "      <th>102261</th>\n",
       "      <td>space coast</td>\n",
       "      <td>2021.0</td>\n",
       "      <td>dodge</td>\n",
       "      <td>grand caravan</td>\n",
       "      <td>new</td>\n",
       "      <td>6 cylinders</td>\n",
       "      <td>gas</td>\n",
       "      <td>118433.5</td>\n",
       "      <td>clean</td>\n",
       "      <td>automatic</td>\n",
       "      <td>fwd</td>\n",
       "      <td>full-size</td>\n",
       "      <td>pickup</td>\n",
       "      <td>grey</td>\n",
       "      <td>fl</td>\n",
       "      <td>28.0991</td>\n",
       "      <td>-80.6796</td>\n",
       "      <td>8.987322</td>\n",
       "      <td>8000</td>\n",
       "    </tr>\n",
       "    <tr>\n",
       "      <th>102262</th>\n",
       "      <td>tulsa</td>\n",
       "      <td>2021.0</td>\n",
       "      <td>toyota</td>\n",
       "      <td>prius</td>\n",
       "      <td>like new</td>\n",
       "      <td>4 cylinders</td>\n",
       "      <td>hybrid</td>\n",
       "      <td>47000.0</td>\n",
       "      <td>clean</td>\n",
       "      <td>automatic</td>\n",
       "      <td>fwd</td>\n",
       "      <td>full-size</td>\n",
       "      <td>hatchback</td>\n",
       "      <td>red</td>\n",
       "      <td>ok</td>\n",
       "      <td>36.0544</td>\n",
       "      <td>-95.7223</td>\n",
       "      <td>9.159152</td>\n",
       "      <td>9500</td>\n",
       "    </tr>\n",
       "  </tbody>\n",
       "</table>\n",
       "</div>"
      ],
      "text/plain": [
       "                region    year manufacturer           model condition  \\\n",
       "0          bloomington  1995.0    chevrolet  silverado 1500      fair   \n",
       "1          san antonio  1995.0    chevrolet            3500      fair   \n",
       "2       lima / findlay  1995.0    chevrolet  silverado 1500      fair   \n",
       "102260           ocala  2021.0        dodge   grand caravan       new   \n",
       "102261     space coast  2021.0        dodge   grand caravan       new   \n",
       "102262           tulsa  2021.0       toyota           prius  like new   \n",
       "\n",
       "          cylinders    fuel  odometer title_status transmission drive  \\\n",
       "0       8 cylinders     gas  154737.0        clean    automatic   4wd   \n",
       "1       8 cylinders     gas  231621.1        clean    automatic   rwd   \n",
       "2       8 cylinders     gas  173219.8        clean       manual   rwd   \n",
       "102260  6 cylinders     gas   40515.2        clean    automatic   fwd   \n",
       "102261  6 cylinders     gas  118433.5        clean    automatic   fwd   \n",
       "102262  4 cylinders  hybrid   47000.0        clean    automatic   fwd   \n",
       "\n",
       "             size       type paint_color state      lat     long  logprice  \\\n",
       "0       full-size     pickup        blue    in  38.9957 -86.7568  6.621406   \n",
       "1       full-size      truck        grey    tx  29.4969 -98.4032  6.803505   \n",
       "2       full-size     pickup         red    oh  41.0449 -83.6457  6.908755   \n",
       "102260  full-size   mini-van        grey    fl  29.1605 -82.1288  8.987322   \n",
       "102261  full-size     pickup        grey    fl  28.0991 -80.6796  8.987322   \n",
       "102262  full-size  hatchback         red    ok  36.0544 -95.7223  9.159152   \n",
       "\n",
       "        price  \n",
       "0         750  \n",
       "1         900  \n",
       "2        1000  \n",
       "102260   8000  \n",
       "102261   8000  \n",
       "102262   9500  "
      ]
     },
     "execution_count": 42,
     "metadata": {},
     "output_type": "execute_result"
    }
   ],
   "source": [
    "df.iloc[np.r_[0:3, -3:0]]"
   ]
  },
  {
   "cell_type": "markdown",
   "metadata": {
    "papermill": {
     "duration": 0.121964,
     "end_time": "2020-09-12T19:33:29.412752",
     "exception": false,
     "start_time": "2020-09-12T19:33:29.290788",
     "status": "completed"
    },
    "tags": []
   },
   "source": [
    "The structure and standard summary statistics of the updated dataset are as follows:"
   ]
  },
  {
   "cell_type": "code",
   "execution_count": 43,
   "metadata": {
    "execution": {
     "iopub.execute_input": "2020-09-12T19:33:29.663668Z",
     "iopub.status.busy": "2020-09-12T19:33:29.662895Z",
     "iopub.status.idle": "2020-09-12T19:33:29.819650Z",
     "shell.execute_reply": "2020-09-12T19:33:29.818320Z"
    },
    "papermill": {
     "duration": 0.28424,
     "end_time": "2020-09-12T19:33:29.819830",
     "exception": false,
     "start_time": "2020-09-12T19:33:29.535590",
     "status": "completed"
    },
    "tags": []
   },
   "outputs": [
    {
     "name": "stdout",
     "output_type": "stream",
     "text": [
      "<class 'pandas.core.frame.DataFrame'>\n",
      "RangeIndex: 102263 entries, 0 to 102262\n",
      "Data columns (total 19 columns):\n",
      " #   Column        Non-Null Count   Dtype  \n",
      "---  ------        --------------   -----  \n",
      " 0   region        102263 non-null  object \n",
      " 1   year          102263 non-null  float64\n",
      " 2   manufacturer  102263 non-null  object \n",
      " 3   model         102263 non-null  object \n",
      " 4   condition     102263 non-null  object \n",
      " 5   cylinders     102263 non-null  object \n",
      " 6   fuel          102263 non-null  object \n",
      " 7   odometer      102263 non-null  float64\n",
      " 8   title_status  102263 non-null  object \n",
      " 9   transmission  102263 non-null  object \n",
      " 10  drive         102263 non-null  object \n",
      " 11  size          102263 non-null  object \n",
      " 12  type          102263 non-null  object \n",
      " 13  paint_color   102263 non-null  object \n",
      " 14  state         102263 non-null  object \n",
      " 15  lat           102263 non-null  float64\n",
      " 16  long          102263 non-null  float64\n",
      " 17  logprice      102263 non-null  float64\n",
      " 18  price         102263 non-null  int64  \n",
      "dtypes: float64(5), int64(1), object(13)\n",
      "memory usage: 14.8+ MB\n"
     ]
    }
   ],
   "source": [
    "df.info()"
   ]
  },
  {
   "cell_type": "code",
   "execution_count": 44,
   "metadata": {
    "execution": {
     "iopub.execute_input": "2020-09-12T19:33:30.081972Z",
     "iopub.status.busy": "2020-09-12T19:33:30.081200Z",
     "iopub.status.idle": "2020-09-12T19:33:30.125925Z",
     "shell.execute_reply": "2020-09-12T19:33:30.125218Z"
    },
    "papermill": {
     "duration": 0.177171,
     "end_time": "2020-09-12T19:33:30.126050",
     "exception": false,
     "start_time": "2020-09-12T19:33:29.948879",
     "status": "completed"
    },
    "tags": []
   },
   "outputs": [
    {
     "data": {
      "text/html": [
       "<div>\n",
       "<style scoped>\n",
       "    .dataframe tbody tr th:only-of-type {\n",
       "        vertical-align: middle;\n",
       "    }\n",
       "\n",
       "    .dataframe tbody tr th {\n",
       "        vertical-align: top;\n",
       "    }\n",
       "\n",
       "    .dataframe thead th {\n",
       "        text-align: right;\n",
       "    }\n",
       "</style>\n",
       "<table border=\"1\" class=\"dataframe\">\n",
       "  <thead>\n",
       "    <tr style=\"text-align: right;\">\n",
       "      <th></th>\n",
       "      <th>year</th>\n",
       "      <th>odometer</th>\n",
       "      <th>lat</th>\n",
       "      <th>long</th>\n",
       "      <th>logprice</th>\n",
       "      <th>price</th>\n",
       "    </tr>\n",
       "  </thead>\n",
       "  <tbody>\n",
       "    <tr>\n",
       "      <th>count</th>\n",
       "      <td>102263.000000</td>\n",
       "      <td>102263.000000</td>\n",
       "      <td>102263.000000</td>\n",
       "      <td>102263.000000</td>\n",
       "      <td>102263.000000</td>\n",
       "      <td>102263.000000</td>\n",
       "    </tr>\n",
       "    <tr>\n",
       "      <th>mean</th>\n",
       "      <td>2011.245965</td>\n",
       "      <td>104662.900795</td>\n",
       "      <td>38.410307</td>\n",
       "      <td>-93.872677</td>\n",
       "      <td>9.264572</td>\n",
       "      <td>13888.608588</td>\n",
       "    </tr>\n",
       "    <tr>\n",
       "      <th>std</th>\n",
       "      <td>5.194971</td>\n",
       "      <td>56653.800911</td>\n",
       "      <td>5.304348</td>\n",
       "      <td>15.891344</td>\n",
       "      <td>0.782629</td>\n",
       "      <td>10322.340598</td>\n",
       "    </tr>\n",
       "    <tr>\n",
       "      <th>min</th>\n",
       "      <td>1995.000000</td>\n",
       "      <td>0.000000</td>\n",
       "      <td>22.910200</td>\n",
       "      <td>-124.441000</td>\n",
       "      <td>6.551080</td>\n",
       "      <td>699.000000</td>\n",
       "    </tr>\n",
       "    <tr>\n",
       "      <th>25%</th>\n",
       "      <td>2008.000000</td>\n",
       "      <td>61300.000000</td>\n",
       "      <td>35.024200</td>\n",
       "      <td>-105.069000</td>\n",
       "      <td>8.740497</td>\n",
       "      <td>6250.000000</td>\n",
       "    </tr>\n",
       "    <tr>\n",
       "      <th>50%</th>\n",
       "      <td>2012.000000</td>\n",
       "      <td>103590.000000</td>\n",
       "      <td>39.051400</td>\n",
       "      <td>-90.181700</td>\n",
       "      <td>9.305741</td>\n",
       "      <td>11000.000000</td>\n",
       "    </tr>\n",
       "    <tr>\n",
       "      <th>75%</th>\n",
       "      <td>2015.000000</td>\n",
       "      <td>143974.966667</td>\n",
       "      <td>42.484500</td>\n",
       "      <td>-81.481100</td>\n",
       "      <td>9.825580</td>\n",
       "      <td>18500.000000</td>\n",
       "    </tr>\n",
       "    <tr>\n",
       "      <th>max</th>\n",
       "      <td>2021.000000</td>\n",
       "      <td>266900.000000</td>\n",
       "      <td>51.879800</td>\n",
       "      <td>-54.184600</td>\n",
       "      <td>11.736077</td>\n",
       "      <td>125000.000000</td>\n",
       "    </tr>\n",
       "  </tbody>\n",
       "</table>\n",
       "</div>"
      ],
      "text/plain": [
       "                year       odometer            lat           long  \\\n",
       "count  102263.000000  102263.000000  102263.000000  102263.000000   \n",
       "mean     2011.245965  104662.900795      38.410307     -93.872677   \n",
       "std         5.194971   56653.800911       5.304348      15.891344   \n",
       "min      1995.000000       0.000000      22.910200    -124.441000   \n",
       "25%      2008.000000   61300.000000      35.024200    -105.069000   \n",
       "50%      2012.000000  103590.000000      39.051400     -90.181700   \n",
       "75%      2015.000000  143974.966667      42.484500     -81.481100   \n",
       "max      2021.000000  266900.000000      51.879800     -54.184600   \n",
       "\n",
       "            logprice          price  \n",
       "count  102263.000000  102263.000000  \n",
       "mean        9.264572   13888.608588  \n",
       "std         0.782629   10322.340598  \n",
       "min         6.551080     699.000000  \n",
       "25%         8.740497    6250.000000  \n",
       "50%         9.305741   11000.000000  \n",
       "75%         9.825580   18500.000000  \n",
       "max        11.736077  125000.000000  "
      ]
     },
     "execution_count": 44,
     "metadata": {},
     "output_type": "execute_result"
    }
   ],
   "source": [
    "df.describe()"
   ]
  },
  {
   "cell_type": "markdown",
   "metadata": {
    "papermill": {
     "duration": 0.123875,
     "end_time": "2020-09-12T19:33:30.374920",
     "exception": false,
     "start_time": "2020-09-12T19:33:30.251045",
     "status": "completed"
    },
    "tags": []
   },
   "source": [
    "What are the rounded mean, median, and mode of the target variable, price?"
   ]
  },
  {
   "cell_type": "code",
   "execution_count": 45,
   "metadata": {
    "execution": {
     "iopub.execute_input": "2020-09-12T19:33:30.631985Z",
     "iopub.status.busy": "2020-09-12T19:33:30.630899Z",
     "iopub.status.idle": "2020-09-12T19:33:30.639276Z",
     "shell.execute_reply": "2020-09-12T19:33:30.638551Z"
    },
    "papermill": {
     "duration": 0.139549,
     "end_time": "2020-09-12T19:33:30.639394",
     "exception": false,
     "start_time": "2020-09-12T19:33:30.499845",
     "status": "completed"
    },
    "tags": []
   },
   "outputs": [
    {
     "name": "stdout",
     "output_type": "stream",
     "text": [
      "Mean:  13889\n",
      "\n",
      "Median:  11000\n",
      "\n",
      "Mode:  6995\n"
     ]
    }
   ],
   "source": [
    "print('Mean: ', round(df.price.mean()))\n",
    "print()\n",
    "print('Median: ', round(df.price.median()))\n",
    "print()\n",
    "print('Mode: ', df.price.mode()[0])"
   ]
  },
  {
   "cell_type": "markdown",
   "metadata": {
    "papermill": {
     "duration": 0.124549,
     "end_time": "2020-09-12T19:33:30.888538",
     "exception": false,
     "start_time": "2020-09-12T19:33:30.763989",
     "status": "completed"
    },
    "tags": []
   },
   "source": [
    "The mean is greater than the median, and the median is greater than the mode. This indicates that most prices in the price column are on the lower side and a few are much higher. The following histogram proves this:"
   ]
  },
  {
   "cell_type": "code",
   "execution_count": 46,
   "metadata": {
    "execution": {
     "iopub.execute_input": "2020-09-12T19:33:31.151934Z",
     "iopub.status.busy": "2020-09-12T19:33:31.145797Z",
     "iopub.status.idle": "2020-09-12T19:33:31.549896Z",
     "shell.execute_reply": "2020-09-12T19:33:31.550521Z"
    },
    "papermill": {
     "duration": 0.536226,
     "end_time": "2020-09-12T19:33:31.550680",
     "exception": false,
     "start_time": "2020-09-12T19:33:31.014454",
     "status": "completed"
    },
    "tags": []
   },
   "outputs": [
    {
     "data": {
      "image/png": "[encoded data removed]",
      "text/plain": [
       "<Figure size 432x216 with 1 Axes>"
      ]
     },
     "metadata": {},
     "output_type": "display_data"
    }
   ],
   "source": [
    "plot_histogram(df.price)"
   ]
  },
  {
   "cell_type": "markdown",
   "metadata": {
    "papermill": {
     "duration": 0.125745,
     "end_time": "2020-09-12T19:33:31.802746",
     "exception": false,
     "start_time": "2020-09-12T19:33:31.677001",
     "status": "completed"
    },
    "tags": []
   },
   "source": [
    "Later in the project, we will make sure that we pass on logarithmic versions of these prices to our machine-learning models. For now, though, let us look further into the cleaned data that we&nbsp;have.\n",
    "\n",
    "First, we will look at the number of cars per manufacturer."
   ]
  },
  {
   "cell_type": "code",
   "execution_count": 47,
   "metadata": {
    "execution": {
     "iopub.execute_input": "2020-09-12T19:33:32.067005Z",
     "iopub.status.busy": "2020-09-12T19:33:32.066040Z",
     "iopub.status.idle": "2020-09-12T19:33:32.494634Z",
     "shell.execute_reply": "2020-09-12T19:33:32.494001Z"
    },
    "papermill": {
     "duration": 0.565781,
     "end_time": "2020-09-12T19:33:32.494758",
     "exception": false,
     "start_time": "2020-09-12T19:33:31.928977",
     "status": "completed"
    },
    "tags": []
   },
   "outputs": [
    {
     "data": {
      "image/png": "[encoded data removed]",
      "text/plain": [
       "<Figure size 720x288 with 1 Axes>"
      ]
     },
     "metadata": {},
     "output_type": "display_data"
    }
   ],
   "source": [
    "plt.figure(figsize=(10, 4))\n",
    "plt.xticks(rotation=90)\n",
    "sns.countplot(df.manufacturer);"
   ]
  },
  {
   "cell_type": "markdown",
   "metadata": {
    "papermill": {
     "duration": 0.136119,
     "end_time": "2020-09-12T19:33:32.762622",
     "exception": false,
     "start_time": "2020-09-12T19:33:32.626503",
     "status": "completed"
    },
    "tags": []
   },
   "source": [
    "Next, let us look at the counts of some of the other categorical variables."
   ]
  },
  {
   "cell_type": "code",
   "execution_count": 48,
   "metadata": {
    "execution": {
     "iopub.execute_input": "2020-09-12T19:33:33.065673Z",
     "iopub.status.busy": "2020-09-12T19:33:33.064584Z",
     "iopub.status.idle": "2020-09-12T19:33:35.513356Z",
     "shell.execute_reply": "2020-09-12T19:33:35.513952Z"
    },
    "papermill": {
     "duration": 2.597691,
     "end_time": "2020-09-12T19:33:35.514135",
     "exception": false,
     "start_time": "2020-09-12T19:33:32.916444",
     "status": "completed"
    },
    "tags": []
   },
   "outputs": [
    {
     "data": {
      "image/png": "[encoded data removed]",
      "text/plain": [
       "<Figure size 1440x1080 with 9 Axes>"
      ]
     },
     "metadata": {},
     "output_type": "display_data"
    }
   ],
   "source": [
    "categ_x = categorical.copy()\n",
    "categ_x.remove('region')\n",
    "categ_x.remove('state')\n",
    "\n",
    "fig, ax = plt.subplots(3, 3, figsize=(20, 15))\n",
    "for variable, subplot in zip(categ_x, ax.flatten()):\n",
    "    sns.countplot(df[variable], ax=subplot)\n",
    "    for label in subplot.get_xticklabels():\n",
    "        label.set_rotation(90)\n",
    "plt.tight_layout()"
   ]
  },
  {
   "cell_type": "markdown",
   "metadata": {
    "papermill": {
     "duration": 0.129926,
     "end_time": "2020-09-12T19:33:35.783220",
     "exception": false,
     "start_time": "2020-09-12T19:33:35.653294",
     "status": "completed"
    },
    "tags": []
   },
   "source": [
    "Next, let us look at how prices are interrelated with various categorical variables."
   ]
  },
  {
   "cell_type": "code",
   "execution_count": 49,
   "metadata": {
    "execution": {
     "iopub.execute_input": "2020-09-12T19:33:36.064715Z",
     "iopub.status.busy": "2020-09-12T19:33:36.061788Z",
     "iopub.status.idle": "2020-09-12T19:33:37.522000Z",
     "shell.execute_reply": "2020-09-12T19:33:37.521182Z"
    },
    "papermill": {
     "duration": 1.605753,
     "end_time": "2020-09-12T19:33:37.522145",
     "exception": false,
     "start_time": "2020-09-12T19:33:35.916392",
     "status": "completed"
    },
    "tags": []
   },
   "outputs": [
    {
     "data": {
      "image/png": "[encoded data removed]",
      "text/plain": [
       "<Figure size 720x288 with 1 Axes>"
      ]
     },
     "metadata": {},
     "output_type": "display_data"
    }
   ],
   "source": [
    "plt.figure(figsize=(10, 4))\n",
    "plt.xticks(rotation=90)\n",
    "sns.barplot(x='manufacturer', y='price', data=df);"
   ]
  },
  {
   "cell_type": "markdown",
   "metadata": {
    "papermill": {
     "duration": 0.130431,
     "end_time": "2020-09-12T19:33:37.784901",
     "exception": false,
     "start_time": "2020-09-12T19:33:37.654470",
     "status": "completed"
    },
    "tags": []
   },
   "source": [
    "As the graph above indicates, Ram Trucks lead on the price front.\n",
    "\n",
    "And the following graphs show that new cars, diesel cars, cars that have liens on them, and cars with four-wheel drives have higher average prices than other types of cars in their respective categories."
   ]
  },
  {
   "cell_type": "code",
   "execution_count": 50,
   "metadata": {
    "execution": {
     "iopub.execute_input": "2020-09-12T19:33:38.066056Z",
     "iopub.status.busy": "2020-09-12T19:33:38.063237Z",
     "iopub.status.idle": "2020-09-12T19:33:49.636994Z",
     "shell.execute_reply": "2020-09-12T19:33:49.637574Z"
    },
    "papermill": {
     "duration": 11.718722,
     "end_time": "2020-09-12T19:33:49.637735",
     "exception": false,
     "start_time": "2020-09-12T19:33:37.919013",
     "status": "completed"
    },
    "tags": []
   },
   "outputs": [
    {
     "data": {
      "image/png": "[encoded data removed]",
      "text/plain": [
       "<Figure size 1440x1080 with 9 Axes>"
      ]
     },
     "metadata": {},
     "output_type": "display_data"
    }
   ],
   "source": [
    "fig, ax = plt.subplots(3, 3, figsize=(20, 15))\n",
    "for var, subplot in zip(categ_x, ax.flatten()):\n",
    "    sns.barplot(x=var, y='price', data=df, ax=subplot)\n",
    "    for label in subplot.get_xticklabels():\n",
    "        label.set_rotation(90)\n",
    "plt.tight_layout()"
   ]
  },
  {
   "cell_type": "markdown",
   "metadata": {
    "papermill": {
     "duration": 0.135785,
     "end_time": "2020-09-12T19:33:49.908205",
     "exception": false,
     "start_time": "2020-09-12T19:33:49.772420",
     "status": "completed"
    },
    "tags": []
   },
   "source": [
    "Let us also look at how prices vary with year of manufacture."
   ]
  },
  {
   "cell_type": "code",
   "execution_count": 51,
   "metadata": {
    "execution": {
     "iopub.execute_input": "2020-09-12T19:33:50.187782Z",
     "iopub.status.busy": "2020-09-12T19:33:50.187052Z",
     "iopub.status.idle": "2020-09-12T19:33:52.450577Z",
     "shell.execute_reply": "2020-09-12T19:33:52.449936Z"
    },
    "papermill": {
     "duration": 2.405786,
     "end_time": "2020-09-12T19:33:52.450700",
     "exception": false,
     "start_time": "2020-09-12T19:33:50.044914",
     "status": "completed"
    },
    "tags": []
   },
   "outputs": [
    {
     "data": {
      "image/png": "[encoded data removed]",
      "text/plain": [
       "<Figure size 720x288 with 1 Axes>"
      ]
     },
     "metadata": {},
     "output_type": "display_data"
    }
   ],
   "source": [
    "year = df.year.astype(np.int64)\n",
    "price = df.price\n",
    "plt.figure(figsize=(10, 4))\n",
    "plt.xticks(rotation=90)\n",
    "sns.barplot(year, price);"
   ]
  },
  {
   "cell_type": "markdown",
   "metadata": {
    "papermill": {
     "duration": 0.135728,
     "end_time": "2020-09-12T19:33:52.731342",
     "exception": false,
     "start_time": "2020-09-12T19:33:52.595614",
     "status": "completed"
    },
    "tags": []
   },
   "source": [
    "The above graph shows that prices increase fairly consistently with year.\n",
    "\n",
    "What about comparing three sets of variables? How are the fuel and price variables related to condition? The following graphs provide an answer to this question, as well as questions about other triadic combinations."
   ]
  },
  {
   "cell_type": "code",
   "execution_count": 52,
   "metadata": {
    "execution": {
     "iopub.execute_input": "2020-09-12T19:33:53.025024Z",
     "iopub.status.busy": "2020-09-12T19:33:53.020026Z",
     "iopub.status.idle": "2020-09-12T19:34:04.361948Z",
     "shell.execute_reply": "2020-09-12T19:34:04.362531Z"
    },
    "papermill": {
     "duration": 11.491151,
     "end_time": "2020-09-12T19:34:04.362692",
     "exception": false,
     "start_time": "2020-09-12T19:33:52.871541",
     "status": "completed"
    },
    "tags": []
   },
   "outputs": [
    {
     "data": {
      "image/png": "[encoded data removed]",
      "text/plain": [
       "<Figure size 1440x1080 with 6 Axes>"
      ]
     },
     "metadata": {},
     "output_type": "display_data"
    }
   ],
   "source": [
    "factor_combos = [('fuel', 'condition'), ('condition', 'size'),\\\n",
    "                 ('fuel', 'cylinders'), ('transmission', 'size'),\\\n",
    "                 ('size', 'drive'), ('drive', 'size')]\n",
    "fig, ax = plt.subplots(3, 2, figsize=(20, 15))\n",
    "for var, subplot in zip(factor_combos, ax.flatten()):\n",
    "    sns.barplot(x=var[0], y='price', hue=var[1], data=df, ax=subplot)\n",
    "    for label in subplot.get_xticklabels():\n",
    "        label.set_rotation(90)\n",
    "plt.tight_layout()"
   ]
  },
  {
   "cell_type": "markdown",
   "metadata": {
    "papermill": {
     "duration": 0.139121,
     "end_time": "2020-09-12T19:34:04.640804",
     "exception": false,
     "start_time": "2020-09-12T19:34:04.501683",
     "status": "completed"
    },
    "tags": []
   },
   "source": [
    "So, all the car characteristics in our dataset have some impact on the target variable, price. To determine the interdependence among these variables mathematically, let us calculate the correlation between them."
   ]
  },
  {
   "cell_type": "code",
   "execution_count": 53,
   "metadata": {
    "execution": {
     "iopub.execute_input": "2020-09-12T19:34:04.923865Z",
     "iopub.status.busy": "2020-09-12T19:34:04.923141Z",
     "iopub.status.idle": "2020-09-12T19:34:04.950861Z",
     "shell.execute_reply": "2020-09-12T19:34:04.950211Z"
    },
    "papermill": {
     "duration": 0.17176,
     "end_time": "2020-09-12T19:34:04.950984",
     "exception": false,
     "start_time": "2020-09-12T19:34:04.779224",
     "status": "completed"
    },
    "tags": []
   },
   "outputs": [
    {
     "data": {
      "text/html": [
       "<div>\n",
       "<style scoped>\n",
       "    .dataframe tbody tr th:only-of-type {\n",
       "        vertical-align: middle;\n",
       "    }\n",
       "\n",
       "    .dataframe tbody tr th {\n",
       "        vertical-align: top;\n",
       "    }\n",
       "\n",
       "    .dataframe thead th {\n",
       "        text-align: right;\n",
       "    }\n",
       "</style>\n",
       "<table border=\"1\" class=\"dataframe\">\n",
       "  <thead>\n",
       "    <tr style=\"text-align: right;\">\n",
       "      <th></th>\n",
       "      <th>year</th>\n",
       "      <th>odometer</th>\n",
       "      <th>lat</th>\n",
       "      <th>long</th>\n",
       "      <th>logprice</th>\n",
       "      <th>price</th>\n",
       "    </tr>\n",
       "  </thead>\n",
       "  <tbody>\n",
       "    <tr>\n",
       "      <th>year</th>\n",
       "      <td>1.000000</td>\n",
       "      <td>-0.637221</td>\n",
       "      <td>-0.000382</td>\n",
       "      <td>-0.057482</td>\n",
       "      <td>0.645978</td>\n",
       "      <td>0.572508</td>\n",
       "    </tr>\n",
       "    <tr>\n",
       "      <th>odometer</th>\n",
       "      <td>-0.637221</td>\n",
       "      <td>1.000000</td>\n",
       "      <td>-0.000794</td>\n",
       "      <td>0.079670</td>\n",
       "      <td>-0.526203</td>\n",
       "      <td>-0.510515</td>\n",
       "    </tr>\n",
       "    <tr>\n",
       "      <th>lat</th>\n",
       "      <td>-0.000382</td>\n",
       "      <td>-0.000794</td>\n",
       "      <td>1.000000</td>\n",
       "      <td>-0.111542</td>\n",
       "      <td>0.054917</td>\n",
       "      <td>0.041309</td>\n",
       "    </tr>\n",
       "    <tr>\n",
       "      <th>long</th>\n",
       "      <td>-0.057482</td>\n",
       "      <td>0.079670</td>\n",
       "      <td>-0.111542</td>\n",
       "      <td>1.000000</td>\n",
       "      <td>-0.140667</td>\n",
       "      <td>-0.135305</td>\n",
       "    </tr>\n",
       "    <tr>\n",
       "      <th>logprice</th>\n",
       "      <td>0.645978</td>\n",
       "      <td>-0.526203</td>\n",
       "      <td>0.054917</td>\n",
       "      <td>-0.140667</td>\n",
       "      <td>1.000000</td>\n",
       "      <td>0.892002</td>\n",
       "    </tr>\n",
       "    <tr>\n",
       "      <th>price</th>\n",
       "      <td>0.572508</td>\n",
       "      <td>-0.510515</td>\n",
       "      <td>0.041309</td>\n",
       "      <td>-0.135305</td>\n",
       "      <td>0.892002</td>\n",
       "      <td>1.000000</td>\n",
       "    </tr>\n",
       "  </tbody>\n",
       "</table>\n",
       "</div>"
      ],
      "text/plain": [
       "              year  odometer       lat      long  logprice     price\n",
       "year      1.000000 -0.637221 -0.000382 -0.057482  0.645978  0.572508\n",
       "odometer -0.637221  1.000000 -0.000794  0.079670 -0.526203 -0.510515\n",
       "lat      -0.000382 -0.000794  1.000000 -0.111542  0.054917  0.041309\n",
       "long     -0.057482  0.079670 -0.111542  1.000000 -0.140667 -0.135305\n",
       "logprice  0.645978 -0.526203  0.054917 -0.140667  1.000000  0.892002\n",
       "price     0.572508 -0.510515  0.041309 -0.135305  0.892002  1.000000"
      ]
     },
     "execution_count": 53,
     "metadata": {},
     "output_type": "execute_result"
    }
   ],
   "source": [
    "df.corr()"
   ]
  },
  {
   "cell_type": "markdown",
   "metadata": {
    "papermill": {
     "duration": 0.140126,
     "end_time": "2020-09-12T19:34:05.230946",
     "exception": false,
     "start_time": "2020-09-12T19:34:05.090820",
     "status": "completed"
    },
    "tags": []
   },
   "source": [
    "Correlation varies between -1 and 1. A positive correlation value indicates direct proportion, and a negative correlation value indicates inverse proportion.\n",
    "\n",
    "If a pair of values are positively correlated, they increase or decrease in unison. Consider the year of manufacture and the price of a car. These values are positively correlated. The more recent or higher the year of manufacture of a vehicle is, the higher is its price.\n",
    "\n",
    "If a pair of values are negatively correlated, they travel on the Cartesian plane in opposite directions. If one value increases, the other decreases. Odometer readings and car prices are inversely correlated. The higher the odometer reading of a car is, the lower is its price.\n",
    "\n",
    "The strength of a correlation depends on how close the absolute value of the correlation is to 1. For example, a correlation of 0.8 denotes a strong positive correlation. The -0.8 is indicative of a strong negative correlation.\n",
    "\n",
    "The correlation table above indicates average positive correlation between price and year and average negative correlation between price and odometer reading.\n",
    "\n",
    "The proposed machine-learning models should be able to learn effectively from the car dataset if we allocate adequate data to train and test them. In the next step, we will work in this direction.\n",
    "\n",
    "Before we proceed to the next step, let us save the updated dataset as a CSV&nbsp;file."
   ]
  },
  {
   "cell_type": "code",
   "execution_count": 54,
   "metadata": {
    "execution": {
     "iopub.execute_input": "2020-09-12T19:34:05.515255Z",
     "iopub.status.busy": "2020-09-12T19:34:05.514461Z",
     "iopub.status.idle": "2020-09-12T19:34:07.274835Z",
     "shell.execute_reply": "2020-09-12T19:34:07.274192Z"
    },
    "papermill": {
     "duration": 1.905137,
     "end_time": "2020-09-12T19:34:07.274971",
     "exception": false,
     "start_time": "2020-09-12T19:34:05.369834",
     "status": "completed"
    },
    "tags": []
   },
   "outputs": [],
   "source": [
    "df.to_csv('vehicles_viz.csv', index=False)"
   ]
  },
  {
   "cell_type": "markdown",
   "metadata": {
    "papermill": {
     "duration": 0.139564,
     "end_time": "2020-09-12T19:34:07.554563",
     "exception": false,
     "start_time": "2020-09-12T19:34:07.414999",
     "status": "completed"
    },
    "tags": []
   },
   "source": [
    "<h2>Step 5: Splitting the dataset<a aria-pressed=\"true\" class=\"btn btn-primary btn-sm\" data-toggle=\"popover\" name='step5-desc' id='step5-desc' href=\"#step5\" role=\"button\" style=\"color: white; margin-left: 20px; target='_self'\">Go to steplist</a></h2>"
   ]
  },
  {
   "cell_type": "markdown",
   "metadata": {
    "papermill": {
     "duration": 0.141626,
     "end_time": "2020-09-12T19:34:07.835620",
     "exception": false,
     "start_time": "2020-09-12T19:34:07.693994",
     "status": "completed"
    },
    "tags": []
   },
   "source": [
    "We will begin this step by importing the CSV file that we had saved in the previous&nbsp;step."
   ]
  },
  {
   "cell_type": "code",
   "execution_count": 55,
   "metadata": {
    "execution": {
     "iopub.execute_input": "2020-09-12T19:34:08.155909Z",
     "iopub.status.busy": "2020-09-12T19:34:08.155133Z",
     "iopub.status.idle": "2020-09-12T19:34:08.484612Z",
     "shell.execute_reply": "2020-09-12T19:34:08.483775Z"
    },
    "papermill": {
     "duration": 0.479634,
     "end_time": "2020-09-12T19:34:08.484743",
     "exception": false,
     "start_time": "2020-09-12T19:34:08.005109",
     "status": "completed"
    },
    "tags": []
   },
   "outputs": [],
   "source": [
    "df = pd.read_csv('vehicles_viz.csv')"
   ]
  },
  {
   "cell_type": "markdown",
   "metadata": {
    "papermill": {
     "duration": 0.140409,
     "end_time": "2020-09-12T19:34:08.771286",
     "exception": false,
     "start_time": "2020-09-12T19:34:08.630877",
     "status": "completed"
    },
    "tags": []
   },
   "source": [
    "Next, we will drop the price column because the logprice column, whose values are uniformly distributed, is more conducive to machine learning."
   ]
  },
  {
   "cell_type": "code",
   "execution_count": 56,
   "metadata": {
    "execution": {
     "iopub.execute_input": "2020-09-12T19:34:09.060147Z",
     "iopub.status.busy": "2020-09-12T19:34:09.059351Z",
     "iopub.status.idle": "2020-09-12T19:34:09.078618Z",
     "shell.execute_reply": "2020-09-12T19:34:09.078009Z"
    },
    "papermill": {
     "duration": 0.166242,
     "end_time": "2020-09-12T19:34:09.078747",
     "exception": false,
     "start_time": "2020-09-12T19:34:08.912505",
     "status": "completed"
    },
    "tags": []
   },
   "outputs": [],
   "source": [
    "df.drop('price', axis=1, inplace=True)"
   ]
  },
  {
   "cell_type": "markdown",
   "metadata": {
    "papermill": {
     "duration": 0.140845,
     "end_time": "2020-09-12T19:34:09.361454",
     "exception": false,
     "start_time": "2020-09-12T19:34:09.220609",
     "status": "completed"
    },
    "tags": []
   },
   "source": [
    "We will also update the list of categorical columns."
   ]
  },
  {
   "cell_type": "code",
   "execution_count": 57,
   "metadata": {
    "execution": {
     "iopub.execute_input": "2020-09-12T19:34:09.654398Z",
     "iopub.status.busy": "2020-09-12T19:34:09.653426Z",
     "iopub.status.idle": "2020-09-12T19:34:09.658114Z",
     "shell.execute_reply": "2020-09-12T19:34:09.657379Z"
    },
    "papermill": {
     "duration": 0.155447,
     "end_time": "2020-09-12T19:34:09.658233",
     "exception": false,
     "start_time": "2020-09-12T19:34:09.502786",
     "status": "completed"
    },
    "tags": []
   },
   "outputs": [
    {
     "data": {
      "text/plain": [
       "['region',\n",
       " 'manufacturer',\n",
       " 'model',\n",
       " 'condition',\n",
       " 'cylinders',\n",
       " 'fuel',\n",
       " 'title_status',\n",
       " 'transmission',\n",
       " 'drive',\n",
       " 'size',\n",
       " 'type',\n",
       " 'paint_color',\n",
       " 'state']"
      ]
     },
     "execution_count": 57,
     "metadata": {},
     "output_type": "execute_result"
    }
   ],
   "source": [
    "categorical = list((Counter(df.columns) -\\\n",
    "                    Counter(numerical + ['logprice', 'price'])).elements())\n",
    "categorical"
   ]
  },
  {
   "cell_type": "markdown",
   "metadata": {
    "papermill": {
     "duration": 0.140411,
     "end_time": "2020-09-12T19:34:09.939118",
     "exception": false,
     "start_time": "2020-09-12T19:34:09.798707",
     "status": "completed"
    },
    "tags": []
   },
   "source": [
    "The list of numerical columns is already up to date."
   ]
  },
  {
   "cell_type": "code",
   "execution_count": 58,
   "metadata": {
    "execution": {
     "iopub.execute_input": "2020-09-12T19:34:10.229592Z",
     "iopub.status.busy": "2020-09-12T19:34:10.228468Z",
     "iopub.status.idle": "2020-09-12T19:34:10.232868Z",
     "shell.execute_reply": "2020-09-12T19:34:10.232091Z"
    },
    "papermill": {
     "duration": 0.15181,
     "end_time": "2020-09-12T19:34:10.233000",
     "exception": false,
     "start_time": "2020-09-12T19:34:10.081190",
     "status": "completed"
    },
    "tags": []
   },
   "outputs": [
    {
     "data": {
      "text/plain": [
       "['year', 'odometer', 'lat', 'long']"
      ]
     },
     "execution_count": 58,
     "metadata": {},
     "output_type": "execute_result"
    }
   ],
   "source": [
    "numerical"
   ]
  },
  {
   "cell_type": "markdown",
   "metadata": {
    "papermill": {
     "duration": 0.141696,
     "end_time": "2020-09-12T19:34:10.517061",
     "exception": false,
     "start_time": "2020-09-12T19:34:10.375365",
     "status": "completed"
    },
    "tags": []
   },
   "source": [
    "Machine-learning algorithms can interpret numerical values with a high degree of precision. But these algorithms can misinterpret categorical data. Therefore, we must convert the categorical data in our dataset into numerical values.\n",
    "\n",
    "The following code can perform the conversion:"
   ]
  },
  {
   "cell_type": "code",
   "execution_count": 59,
   "metadata": {
    "execution": {
     "iopub.execute_input": "2020-09-12T19:34:10.806319Z",
     "iopub.status.busy": "2020-09-12T19:34:10.805555Z",
     "iopub.status.idle": "2020-09-12T19:34:11.402765Z",
     "shell.execute_reply": "2020-09-12T19:34:11.402122Z"
    },
    "papermill": {
     "duration": 0.74423,
     "end_time": "2020-09-12T19:34:11.402905",
     "exception": false,
     "start_time": "2020-09-12T19:34:10.658675",
     "status": "completed"
    },
    "tags": []
   },
   "outputs": [],
   "source": [
    "# Using the encoder instance of preprocessing.LabelEncoder(),\n",
    "# which we had declared earlier in this noebook\n",
    "\n",
    "df[categorical] = df[categorical].apply(encoder.fit_transform)"
   ]
  },
  {
   "cell_type": "markdown",
   "metadata": {
    "papermill": {
     "duration": 0.162389,
     "end_time": "2020-09-12T19:34:11.709172",
     "exception": false,
     "start_time": "2020-09-12T19:34:11.546783",
     "status": "completed"
    },
    "tags": []
   },
   "source": [
    "Here are the first few rows of the updated dataset:"
   ]
  },
  {
   "cell_type": "code",
   "execution_count": 60,
   "metadata": {
    "execution": {
     "iopub.execute_input": "2020-09-12T19:34:12.018929Z",
     "iopub.status.busy": "2020-09-12T19:34:12.017894Z",
     "iopub.status.idle": "2020-09-12T19:34:12.022931Z",
     "shell.execute_reply": "2020-09-12T19:34:12.022225Z"
    },
    "papermill": {
     "duration": 0.16687,
     "end_time": "2020-09-12T19:34:12.023054",
     "exception": false,
     "start_time": "2020-09-12T19:34:11.856184",
     "status": "completed"
    },
    "tags": []
   },
   "outputs": [
    {
     "data": {
      "text/html": [
       "<div>\n",
       "<style scoped>\n",
       "    .dataframe tbody tr th:only-of-type {\n",
       "        vertical-align: middle;\n",
       "    }\n",
       "\n",
       "    .dataframe tbody tr th {\n",
       "        vertical-align: top;\n",
       "    }\n",
       "\n",
       "    .dataframe thead th {\n",
       "        text-align: right;\n",
       "    }\n",
       "</style>\n",
       "<table border=\"1\" class=\"dataframe\">\n",
       "  <thead>\n",
       "    <tr style=\"text-align: right;\">\n",
       "      <th></th>\n",
       "      <th>region</th>\n",
       "      <th>year</th>\n",
       "      <th>manufacturer</th>\n",
       "      <th>model</th>\n",
       "      <th>condition</th>\n",
       "      <th>cylinders</th>\n",
       "      <th>fuel</th>\n",
       "      <th>odometer</th>\n",
       "      <th>title_status</th>\n",
       "      <th>transmission</th>\n",
       "      <th>drive</th>\n",
       "      <th>size</th>\n",
       "      <th>type</th>\n",
       "      <th>paint_color</th>\n",
       "      <th>state</th>\n",
       "      <th>lat</th>\n",
       "      <th>long</th>\n",
       "      <th>logprice</th>\n",
       "    </tr>\n",
       "  </thead>\n",
       "  <tbody>\n",
       "    <tr>\n",
       "      <th>0</th>\n",
       "      <td>31</td>\n",
       "      <td>1995.0</td>\n",
       "      <td>1</td>\n",
       "      <td>44</td>\n",
       "      <td>1</td>\n",
       "      <td>6</td>\n",
       "      <td>2</td>\n",
       "      <td>154737.0</td>\n",
       "      <td>0</td>\n",
       "      <td>0</td>\n",
       "      <td>0</td>\n",
       "      <td>1</td>\n",
       "      <td>7</td>\n",
       "      <td>1</td>\n",
       "      <td>15</td>\n",
       "      <td>38.9957</td>\n",
       "      <td>-86.7568</td>\n",
       "      <td>6.621406</td>\n",
       "    </tr>\n",
       "    <tr>\n",
       "      <th>1</th>\n",
       "      <td>299</td>\n",
       "      <td>1995.0</td>\n",
       "      <td>1</td>\n",
       "      <td>2</td>\n",
       "      <td>1</td>\n",
       "      <td>6</td>\n",
       "      <td>2</td>\n",
       "      <td>231621.1</td>\n",
       "      <td>0</td>\n",
       "      <td>0</td>\n",
       "      <td>2</td>\n",
       "      <td>1</td>\n",
       "      <td>10</td>\n",
       "      <td>5</td>\n",
       "      <td>43</td>\n",
       "      <td>29.4969</td>\n",
       "      <td>-98.4032</td>\n",
       "      <td>6.803505</td>\n",
       "    </tr>\n",
       "    <tr>\n",
       "      <th>2</th>\n",
       "      <td>191</td>\n",
       "      <td>1995.0</td>\n",
       "      <td>1</td>\n",
       "      <td>44</td>\n",
       "      <td>1</td>\n",
       "      <td>6</td>\n",
       "      <td>2</td>\n",
       "      <td>173219.8</td>\n",
       "      <td>0</td>\n",
       "      <td>1</td>\n",
       "      <td>2</td>\n",
       "      <td>1</td>\n",
       "      <td>7</td>\n",
       "      <td>8</td>\n",
       "      <td>35</td>\n",
       "      <td>41.0449</td>\n",
       "      <td>-83.6457</td>\n",
       "      <td>6.908755</td>\n",
       "    </tr>\n",
       "    <tr>\n",
       "      <th>3</th>\n",
       "      <td>278</td>\n",
       "      <td>1995.0</td>\n",
       "      <td>1</td>\n",
       "      <td>49</td>\n",
       "      <td>1</td>\n",
       "      <td>4</td>\n",
       "      <td>2</td>\n",
       "      <td>182000.0</td>\n",
       "      <td>0</td>\n",
       "      <td>0</td>\n",
       "      <td>0</td>\n",
       "      <td>1</td>\n",
       "      <td>7</td>\n",
       "      <td>5</td>\n",
       "      <td>5</td>\n",
       "      <td>38.0412</td>\n",
       "      <td>-104.7160</td>\n",
       "      <td>7.090910</td>\n",
       "    </tr>\n",
       "    <tr>\n",
       "      <th>4</th>\n",
       "      <td>293</td>\n",
       "      <td>1995.0</td>\n",
       "      <td>1</td>\n",
       "      <td>47</td>\n",
       "      <td>1</td>\n",
       "      <td>4</td>\n",
       "      <td>2</td>\n",
       "      <td>188459.8</td>\n",
       "      <td>0</td>\n",
       "      <td>0</td>\n",
       "      <td>0</td>\n",
       "      <td>1</td>\n",
       "      <td>7</td>\n",
       "      <td>5</td>\n",
       "      <td>4</td>\n",
       "      <td>38.4689</td>\n",
       "      <td>-121.3440</td>\n",
       "      <td>7.313887</td>\n",
       "    </tr>\n",
       "  </tbody>\n",
       "</table>\n",
       "</div>"
      ],
      "text/plain": [
       "   region    year  manufacturer  model  condition  cylinders  fuel  odometer  \\\n",
       "0      31  1995.0             1     44          1          6     2  154737.0   \n",
       "1     299  1995.0             1      2          1          6     2  231621.1   \n",
       "2     191  1995.0             1     44          1          6     2  173219.8   \n",
       "3     278  1995.0             1     49          1          4     2  182000.0   \n",
       "4     293  1995.0             1     47          1          4     2  188459.8   \n",
       "\n",
       "   title_status  transmission  drive  size  type  paint_color  state      lat  \\\n",
       "0             0             0      0     1     7            1     15  38.9957   \n",
       "1             0             0      2     1    10            5     43  29.4969   \n",
       "2             0             1      2     1     7            8     35  41.0449   \n",
       "3             0             0      0     1     7            5      5  38.0412   \n",
       "4             0             0      0     1     7            5      4  38.4689   \n",
       "\n",
       "       long  logprice  \n",
       "0  -86.7568  6.621406  \n",
       "1  -98.4032  6.803505  \n",
       "2  -83.6457  6.908755  \n",
       "3 -104.7160  7.090910  \n",
       "4 -121.3440  7.313887  "
      ]
     },
     "execution_count": 60,
     "metadata": {},
     "output_type": "execute_result"
    }
   ],
   "source": [
    "df.head()"
   ]
  },
  {
   "cell_type": "markdown",
   "metadata": {
    "papermill": {
     "duration": 0.144265,
     "end_time": "2020-09-12T19:34:12.311039",
     "exception": false,
     "start_time": "2020-09-12T19:34:12.166774",
     "status": "completed"
    },
    "tags": []
   },
   "source": [
    "Next, we need to rescale and uniformize the values in selected columns. If these values are uniformly distributed, machine-learning algorithms will process them efficiently.\n",
    "\n",
    "The logprice column is already uniformly distributed. To uniformize the other numerical columns, we will use the StandardScaler module of scikit-learn. StandardScaler can rescale a set of numerical values, giving the set a mean of 0 and a standard deviation of&nbsp;1.\n",
    "\n",
    "Here is code that implements our requirements:"
   ]
  },
  {
   "cell_type": "code",
   "execution_count": 61,
   "metadata": {
    "execution": {
     "iopub.execute_input": "2020-09-12T19:34:12.601706Z",
     "iopub.status.busy": "2020-09-12T19:34:12.600966Z",
     "iopub.status.idle": "2020-09-12T19:34:12.604204Z",
     "shell.execute_reply": "2020-09-12T19:34:12.603525Z"
    },
    "papermill": {
     "duration": 0.1516,
     "end_time": "2020-09-12T19:34:12.604319",
     "exception": false,
     "start_time": "2020-09-12T19:34:12.452719",
     "status": "completed"
    },
    "tags": []
   },
   "outputs": [],
   "source": [
    "columns_to_scale = numerical + ['model', 'region']"
   ]
  },
  {
   "cell_type": "code",
   "execution_count": 62,
   "metadata": {
    "execution": {
     "iopub.execute_input": "2020-09-12T19:34:12.895262Z",
     "iopub.status.busy": "2020-09-12T19:34:12.894531Z",
     "iopub.status.idle": "2020-09-12T19:34:12.912331Z",
     "shell.execute_reply": "2020-09-12T19:34:12.911721Z"
    },
    "papermill": {
     "duration": 0.166096,
     "end_time": "2020-09-12T19:34:12.912462",
     "exception": false,
     "start_time": "2020-09-12T19:34:12.746366",
     "status": "completed"
    },
    "tags": []
   },
   "outputs": [],
   "source": [
    "from sklearn.preprocessing import StandardScaler\n",
    "\n",
    "scaler = StandardScaler()\n",
    "\n",
    "for col in columns_to_scale:\n",
    "    df[col] = scaler.fit_transform(np.array(df[col]).reshape(-1,1))"
   ]
  },
  {
   "cell_type": "markdown",
   "metadata": {
    "papermill": {
     "duration": 0.144251,
     "end_time": "2020-09-12T19:34:13.200092",
     "exception": false,
     "start_time": "2020-09-12T19:34:13.055841",
     "status": "completed"
    },
    "tags": []
   },
   "source": [
    "Having normalized relevant values, we will now apply the IQR method to remove any additional outliers from the dataset."
   ]
  },
  {
   "cell_type": "code",
   "execution_count": 63,
   "metadata": {
    "execution": {
     "iopub.execute_input": "2020-09-12T19:34:13.492355Z",
     "iopub.status.busy": "2020-09-12T19:34:13.491636Z",
     "iopub.status.idle": "2020-09-12T19:34:13.511514Z",
     "shell.execute_reply": "2020-09-12T19:34:13.510758Z"
    },
    "papermill": {
     "duration": 0.169025,
     "end_time": "2020-09-12T19:34:13.511645",
     "exception": false,
     "start_time": "2020-09-12T19:34:13.342620",
     "status": "completed"
    },
    "tags": []
   },
   "outputs": [],
   "source": [
    "Q1 = df.logprice.quantile(0.25)\n",
    "Q3 = df.logprice.quantile(0.75)\n",
    "IQR = Q3 - Q1\n",
    "\n",
    "df = df[(df.logprice >= (Q1 - 1.5 * IQR)) & (df.logprice <= (Q3 + 1.5 * IQR))]"
   ]
  },
  {
   "cell_type": "markdown",
   "metadata": {
    "papermill": {
     "duration": 0.14183,
     "end_time": "2020-09-12T19:34:13.797405",
     "exception": false,
     "start_time": "2020-09-12T19:34:13.655575",
     "status": "completed"
    },
    "tags": []
   },
   "source": [
    "Let us look at the first few rows of the updated dataset:"
   ]
  },
  {
   "cell_type": "code",
   "execution_count": 64,
   "metadata": {
    "execution": {
     "iopub.execute_input": "2020-09-12T19:34:14.104646Z",
     "iopub.status.busy": "2020-09-12T19:34:14.103873Z",
     "iopub.status.idle": "2020-09-12T19:34:14.108321Z",
     "shell.execute_reply": "2020-09-12T19:34:14.108870Z"
    },
    "papermill": {
     "duration": 0.169033,
     "end_time": "2020-09-12T19:34:14.109030",
     "exception": false,
     "start_time": "2020-09-12T19:34:13.939997",
     "status": "completed"
    },
    "tags": []
   },
   "outputs": [
    {
     "data": {
      "text/html": [
       "<div>\n",
       "<style scoped>\n",
       "    .dataframe tbody tr th:only-of-type {\n",
       "        vertical-align: middle;\n",
       "    }\n",
       "\n",
       "    .dataframe tbody tr th {\n",
       "        vertical-align: top;\n",
       "    }\n",
       "\n",
       "    .dataframe thead th {\n",
       "        text-align: right;\n",
       "    }\n",
       "</style>\n",
       "<table border=\"1\" class=\"dataframe\">\n",
       "  <thead>\n",
       "    <tr style=\"text-align: right;\">\n",
       "      <th></th>\n",
       "      <th>region</th>\n",
       "      <th>year</th>\n",
       "      <th>manufacturer</th>\n",
       "      <th>model</th>\n",
       "      <th>condition</th>\n",
       "      <th>cylinders</th>\n",
       "      <th>fuel</th>\n",
       "      <th>odometer</th>\n",
       "      <th>title_status</th>\n",
       "      <th>transmission</th>\n",
       "      <th>drive</th>\n",
       "      <th>size</th>\n",
       "      <th>type</th>\n",
       "      <th>paint_color</th>\n",
       "      <th>state</th>\n",
       "      <th>lat</th>\n",
       "      <th>long</th>\n",
       "      <th>logprice</th>\n",
       "    </tr>\n",
       "  </thead>\n",
       "  <tbody>\n",
       "    <tr>\n",
       "      <th>4</th>\n",
       "      <td>0.867130</td>\n",
       "      <td>-3.127264</td>\n",
       "      <td>1</td>\n",
       "      <td>1.366282</td>\n",
       "      <td>1</td>\n",
       "      <td>4</td>\n",
       "      <td>2</td>\n",
       "      <td>1.479112</td>\n",
       "      <td>0</td>\n",
       "      <td>0</td>\n",
       "      <td>0</td>\n",
       "      <td>1</td>\n",
       "      <td>7</td>\n",
       "      <td>5</td>\n",
       "      <td>4</td>\n",
       "      <td>0.011046</td>\n",
       "      <td>-1.728706</td>\n",
       "      <td>7.313887</td>\n",
       "    </tr>\n",
       "    <tr>\n",
       "      <th>5</th>\n",
       "      <td>0.599886</td>\n",
       "      <td>-3.127264</td>\n",
       "      <td>1</td>\n",
       "      <td>1.491626</td>\n",
       "      <td>2</td>\n",
       "      <td>5</td>\n",
       "      <td>2</td>\n",
       "      <td>-0.441279</td>\n",
       "      <td>0</td>\n",
       "      <td>0</td>\n",
       "      <td>0</td>\n",
       "      <td>1</td>\n",
       "      <td>9</td>\n",
       "      <td>4</td>\n",
       "      <td>4</td>\n",
       "      <td>-0.880793</td>\n",
       "      <td>-1.407963</td>\n",
       "      <td>7.467942</td>\n",
       "    </tr>\n",
       "    <tr>\n",
       "      <th>6</th>\n",
       "      <td>1.608517</td>\n",
       "      <td>-3.127264</td>\n",
       "      <td>1</td>\n",
       "      <td>1.115594</td>\n",
       "      <td>1</td>\n",
       "      <td>4</td>\n",
       "      <td>2</td>\n",
       "      <td>-0.435329</td>\n",
       "      <td>0</td>\n",
       "      <td>1</td>\n",
       "      <td>0</td>\n",
       "      <td>1</td>\n",
       "      <td>7</td>\n",
       "      <td>5</td>\n",
       "      <td>48</td>\n",
       "      <td>1.152059</td>\n",
       "      <td>0.271462</td>\n",
       "      <td>7.601402</td>\n",
       "    </tr>\n",
       "    <tr>\n",
       "      <th>7</th>\n",
       "      <td>-0.831163</td>\n",
       "      <td>-3.127264</td>\n",
       "      <td>1</td>\n",
       "      <td>1.115594</td>\n",
       "      <td>1</td>\n",
       "      <td>4</td>\n",
       "      <td>2</td>\n",
       "      <td>0.709084</td>\n",
       "      <td>5</td>\n",
       "      <td>0</td>\n",
       "      <td>0</td>\n",
       "      <td>1</td>\n",
       "      <td>7</td>\n",
       "      <td>5</td>\n",
       "      <td>43</td>\n",
       "      <td>-1.246966</td>\n",
       "      <td>-0.798698</td>\n",
       "      <td>7.601402</td>\n",
       "    </tr>\n",
       "    <tr>\n",
       "      <th>8</th>\n",
       "      <td>1.263686</td>\n",
       "      <td>-3.127264</td>\n",
       "      <td>1</td>\n",
       "      <td>1.115594</td>\n",
       "      <td>2</td>\n",
       "      <td>6</td>\n",
       "      <td>2</td>\n",
       "      <td>0.870857</td>\n",
       "      <td>0</td>\n",
       "      <td>0</td>\n",
       "      <td>0</td>\n",
       "      <td>1</td>\n",
       "      <td>10</td>\n",
       "      <td>8</td>\n",
       "      <td>14</td>\n",
       "      <td>0.149914</td>\n",
       "      <td>0.267580</td>\n",
       "      <td>7.601402</td>\n",
       "    </tr>\n",
       "  </tbody>\n",
       "</table>\n",
       "</div>"
      ],
      "text/plain": [
       "     region      year  manufacturer     model  condition  cylinders  fuel  \\\n",
       "4  0.867130 -3.127264             1  1.366282          1          4     2   \n",
       "5  0.599886 -3.127264             1  1.491626          2          5     2   \n",
       "6  1.608517 -3.127264             1  1.115594          1          4     2   \n",
       "7 -0.831163 -3.127264             1  1.115594          1          4     2   \n",
       "8  1.263686 -3.127264             1  1.115594          2          6     2   \n",
       "\n",
       "   odometer  title_status  transmission  drive  size  type  paint_color  \\\n",
       "4  1.479112             0             0      0     1     7            5   \n",
       "5 -0.441279             0             0      0     1     9            4   \n",
       "6 -0.435329             0             1      0     1     7            5   \n",
       "7  0.709084             5             0      0     1     7            5   \n",
       "8  0.870857             0             0      0     1    10            8   \n",
       "\n",
       "   state       lat      long  logprice  \n",
       "4      4  0.011046 -1.728706  7.313887  \n",
       "5      4 -0.880793 -1.407963  7.467942  \n",
       "6     48  1.152059  0.271462  7.601402  \n",
       "7     43 -1.246966 -0.798698  7.601402  \n",
       "8     14  0.149914  0.267580  7.601402  "
      ]
     },
     "execution_count": 64,
     "metadata": {},
     "output_type": "execute_result"
    }
   ],
   "source": [
    "df.head()"
   ]
  },
  {
   "cell_type": "markdown",
   "metadata": {
    "papermill": {
     "duration": 0.142828,
     "end_time": "2020-09-12T19:34:14.395883",
     "exception": false,
     "start_time": "2020-09-12T19:34:14.253055",
     "status": "completed"
    },
    "tags": []
   },
   "source": [
    "Finally, we will split the dataset."
   ]
  },
  {
   "cell_type": "code",
   "execution_count": 65,
   "metadata": {
    "execution": {
     "iopub.execute_input": "2020-09-12T19:34:14.699077Z",
     "iopub.status.busy": "2020-09-12T19:34:14.698299Z",
     "iopub.status.idle": "2020-09-12T19:34:14.714050Z",
     "shell.execute_reply": "2020-09-12T19:34:14.713436Z"
    },
    "papermill": {
     "duration": 0.175224,
     "end_time": "2020-09-12T19:34:14.714188",
     "exception": false,
     "start_time": "2020-09-12T19:34:14.538964",
     "status": "completed"
    },
    "tags": []
   },
   "outputs": [],
   "source": [
    "from sklearn.model_selection import train_test_split\n",
    "\n",
    "X = df.iloc[:, :-1]\n",
    "y = df.iloc[:,-1:].values.T[0]\n",
    "\n",
    "X_train, X_test, y_train, y_test =\\\n",
    "train_test_split(X, y, train_size=0.9, test_size=0.1, random_state=0)"
   ]
  },
  {
   "cell_type": "markdown",
   "metadata": {
    "papermill": {
     "duration": 0.144457,
     "end_time": "2020-09-12T19:34:15.002151",
     "exception": false,
     "start_time": "2020-09-12T19:34:14.857694",
     "status": "completed"
    },
    "tags": []
   },
   "source": [
    "Before we proceed to the next step, let us write a couple of helper functions."
   ]
  },
  {
   "cell_type": "code",
   "execution_count": 66,
   "metadata": {
    "execution": {
     "iopub.execute_input": "2020-09-12T19:34:15.297022Z",
     "iopub.status.busy": "2020-09-12T19:34:15.296011Z",
     "iopub.status.idle": "2020-09-12T19:34:15.298983Z",
     "shell.execute_reply": "2020-09-12T19:34:15.299524Z"
    },
    "papermill": {
     "duration": 0.153067,
     "end_time": "2020-09-12T19:34:15.299674",
     "exception": false,
     "start_time": "2020-09-12T19:34:15.146607",
     "status": "completed"
    },
    "tags": []
   },
   "outputs": [],
   "source": [
    "def remove_negatives(y_test, y_pred):\n",
    "    '''This function will remove any negative values from predictions'''\n",
    "    ind = [index for index in range(len(y_pred)) if(y_pred[index]>0)]\n",
    "    y_pred = y_pred[ind]\n",
    "    y_test = y_test[ind]\n",
    "    return (y_test, y_pred)    "
   ]
  },
  {
   "cell_type": "code",
   "execution_count": 67,
   "metadata": {
    "execution": {
     "iopub.execute_input": "2020-09-12T19:34:15.595225Z",
     "iopub.status.busy": "2020-09-12T19:34:15.594251Z",
     "iopub.status.idle": "2020-09-12T19:34:15.596768Z",
     "shell.execute_reply": "2020-09-12T19:34:15.597288Z"
    },
    "papermill": {
     "duration": 0.154494,
     "end_time": "2020-09-12T19:34:15.597446",
     "exception": false,
     "start_time": "2020-09-12T19:34:15.442952",
     "status": "completed"
    },
    "tags": []
   },
   "outputs": [],
   "source": [
    "from sklearn.metrics import mean_squared_log_error,\\\n",
    "r2_score\n",
    "\n",
    "def evaluate_perf(y_test, y_pred):\n",
    "    '''This function will generate metrics about the\n",
    "    performance of a model.'''\n",
    "    res = []\n",
    "    res.append(mean_squared_log_error(y_test, y_pred))\n",
    "    res.append(np.sqrt(res[0]))\n",
    "    res.append(r2_score(y_test, y_pred))\n",
    "    res.append(round(r2_score(y_test, y_pred)*100, 4))\n",
    "    return (res)"
   ]
  },
  {
   "cell_type": "markdown",
   "metadata": {
    "papermill": {
     "duration": 0.143735,
     "end_time": "2020-09-12T19:34:15.886247",
     "exception": false,
     "start_time": "2020-09-12T19:34:15.742512",
     "status": "completed"
    },
    "tags": []
   },
   "source": [
    "We will also create a dataframe to store any performance metrics that the `evaluate_perf` function returns. This dataframe will contain four&nbsp;rows.\n",
    "\n",
    "Among the row indexes of the dataframe, MSLE stands for mean squared logarithmic error and RMSLE is root MSLE. We can use MSLE and RMSLE to determine the variation between actual target values and target values that are predicted by a machine-learning model.\n",
    "\n",
    "The third index, R2 score, refers to the r-squared (R2) statistical measure. Like MSLE, R2 also signifies the variance between predicted and actual values. R2 \"is the proportion of the variance in the dependent variable that is predictable from the independent variable(s)<sup id=\"r2\" style=\"font-size: x-small\">[[1]](#r2-wiki)</sup>\"\n",
    "\n",
    "R2 scores are restricted to the range 0–1. A positive R2 score means that the machine-learning algorithm that we are evaluating is effective. An R2 score of 0 means that the machine-learning model is just returning the average of the actual variables."
   ]
  },
  {
   "cell_type": "code",
   "execution_count": 68,
   "metadata": {
    "execution": {
     "iopub.execute_input": "2020-09-12T19:34:16.182359Z",
     "iopub.status.busy": "2020-09-12T19:34:16.181338Z",
     "iopub.status.idle": "2020-09-12T19:34:16.184760Z",
     "shell.execute_reply": "2020-09-12T19:34:16.184027Z"
    },
    "papermill": {
     "duration": 0.153808,
     "end_time": "2020-09-12T19:34:16.184881",
     "exception": false,
     "start_time": "2020-09-12T19:34:16.031073",
     "status": "completed"
    },
    "tags": []
   },
   "outputs": [],
   "source": [
    "df_metrics = pd.DataFrame(index=['MSLE', 'RMSLE',\\\n",
    "                                 'R2 score','Accuracy(%)'])"
   ]
  },
  {
   "cell_type": "markdown",
   "metadata": {
    "papermill": {
     "duration": 0.143595,
     "end_time": "2020-09-12T19:34:16.473395",
     "exception": false,
     "start_time": "2020-09-12T19:34:16.329800",
     "status": "completed"
    },
    "tags": []
   },
   "source": [
    "<h2>Step 6: Building and validating models<a aria-pressed=\"true\" class=\"btn btn-primary btn-sm\" data-toggle=\"popover\" name='step6-desc' id='step6-desc' href=\"#step6\" role=\"button\" style=\"color: white; margin-left: 20px; target='_self'\">Go to steplist</a></h2>"
   ]
  },
  {
   "cell_type": "markdown",
   "metadata": {
    "papermill": {
     "duration": 0.143649,
     "end_time": "2020-09-12T19:34:16.761376",
     "exception": false,
     "start_time": "2020-09-12T19:34:16.617727",
     "status": "completed"
    },
    "tags": []
   },
   "source": [
    "Our first model will be a linear regressor.\n",
    "\n",
    "### Building the linear regressor\n",
    "\n",
    "We will use the following code to build the model:"
   ]
  },
  {
   "cell_type": "code",
   "execution_count": 69,
   "metadata": {
    "execution": {
     "iopub.execute_input": "2020-09-12T19:34:17.057610Z",
     "iopub.status.busy": "2020-09-12T19:34:17.056877Z",
     "iopub.status.idle": "2020-09-12T19:34:17.133188Z",
     "shell.execute_reply": "2020-09-12T19:34:17.133766Z"
    },
    "papermill": {
     "duration": 0.228601,
     "end_time": "2020-09-12T19:34:17.133951",
     "exception": false,
     "start_time": "2020-09-12T19:34:16.905350",
     "status": "completed"
    },
    "tags": []
   },
   "outputs": [],
   "source": [
    "from sklearn.linear_model import LinearRegression\n",
    "\n",
    "# Instantiating a linear regressor\n",
    "lin_reg = LinearRegression()\n",
    "\n",
    "# Fitting a linear-regression model\n",
    "lin_reg.fit(X_train, y_train)\n",
    "y_pred = lin_reg.predict(X_test)"
   ]
  },
  {
   "cell_type": "markdown",
   "metadata": {
    "papermill": {
     "duration": 0.143797,
     "end_time": "2020-09-12T19:34:17.422641",
     "exception": false,
     "start_time": "2020-09-12T19:34:17.278844",
     "status": "completed"
    },
    "tags": []
   },
   "source": [
    "### Validating the linear regressor\n",
    "\n",
    "Here is code that will validate the model:"
   ]
  },
  {
   "cell_type": "code",
   "execution_count": 70,
   "metadata": {
    "execution": {
     "iopub.execute_input": "2020-09-12T19:34:17.736512Z",
     "iopub.status.busy": "2020-09-12T19:34:17.735768Z",
     "iopub.status.idle": "2020-09-12T19:34:17.744374Z",
     "shell.execute_reply": "2020-09-12T19:34:17.744961Z"
    },
    "papermill": {
     "duration": 0.176437,
     "end_time": "2020-09-12T19:34:17.745128",
     "exception": false,
     "start_time": "2020-09-12T19:34:17.568691",
     "status": "completed"
    },
    "tags": []
   },
   "outputs": [
    {
     "name": "stdout",
     "output_type": "stream",
     "text": [
      "Coefficients: \n",
      " [-0.00079544  0.41645689  0.00131333  0.06372746 -0.03119387  0.19971491\n",
      " -0.18726764 -0.17694099 -0.07913234  0.11473012 -0.14902786 -0.01024615\n",
      " -0.00761459  0.0027042   0.00056523 -0.0050044  -0.06165494]\n",
      "MSLE : 0.0021752573351007222\n",
      "Root MSLE : 0.04663965410571483\n",
      "R2 Score : 0.6192233180743452 or 61.9223%\n"
     ]
    }
   ],
   "source": [
    "# Validating the model by identifying errors\n",
    "y_test_1, y_pred_1 = remove_negatives(y_test, y_pred)\n",
    "res_lin_reg = evaluate_perf(y_test_1, y_pred_1)\n",
    "\n",
    "print(\"Coefficients: \\n\", lin_reg.coef_)\n",
    "print(f\"MSLE : {res_lin_reg[0]}\")\n",
    "print(f\"Root MSLE : {res_lin_reg[1]}\")\n",
    "print(f\"R2 Score : {res_lin_reg[2]} or {res_lin_reg[3]}%\")\n",
    "\n",
    "df_metrics[\"Linear\"] = res_lin_reg"
   ]
  },
  {
   "cell_type": "markdown",
   "metadata": {
    "papermill": {
     "duration": 0.147863,
     "end_time": "2020-09-12T19:34:18.042473",
     "exception": false,
     "start_time": "2020-09-12T19:34:17.894610",
     "status": "completed"
    },
    "tags": []
   },
   "source": [
    "How did the actual and predicted values vary? Let us draw a bar graph to compare some of these values."
   ]
  },
  {
   "cell_type": "code",
   "execution_count": 71,
   "metadata": {
    "execution": {
     "iopub.execute_input": "2020-09-12T19:34:18.345306Z",
     "iopub.status.busy": "2020-09-12T19:34:18.344534Z",
     "iopub.status.idle": "2020-09-12T19:34:18.881795Z",
     "shell.execute_reply": "2020-09-12T19:34:18.883463Z"
    },
    "papermill": {
     "duration": 0.693758,
     "end_time": "2020-09-12T19:34:18.883700",
     "exception": false,
     "start_time": "2020-09-12T19:34:18.189942",
     "status": "completed"
    },
    "tags": []
   },
   "outputs": [
    {
     "data": {
      "image/png": "[encoded data removed]",
      "text/plain": [
       "<Figure size 720x360 with 1 Axes>"
      ]
     },
     "metadata": {},
     "output_type": "display_data"
    }
   ],
   "source": [
    "df_lin_comp = pd.DataFrame({'Actual': y_test_1, 'Predicted': y_pred_1})\n",
    "df_lin_comp = df_lin_comp.head(25)\n",
    "\n",
    "df_lin_comp.plot(kind='bar', figsize=(10,5))\n",
    "\n",
    "plt.grid(which='major', linestyle='-', linewidth='0.1', color='green')\n",
    "plt.title('Linear regressor: Actual vs. predicted')\n",
    "plt.ylabel('MSLE')\n",
    "plt.show()"
   ]
  },
  {
   "cell_type": "markdown",
   "metadata": {
    "papermill": {
     "duration": 0.148191,
     "end_time": "2020-09-12T19:34:19.200226",
     "exception": false,
     "start_time": "2020-09-12T19:34:19.052035",
     "status": "completed"
    },
    "tags": []
   },
   "source": [
    "Next, let us see how the linear regressor ranked independent variables."
   ]
  },
  {
   "cell_type": "code",
   "execution_count": 72,
   "metadata": {
    "execution": {
     "iopub.execute_input": "2020-09-12T19:34:19.511996Z",
     "iopub.status.busy": "2020-09-12T19:34:19.510012Z",
     "iopub.status.idle": "2020-09-12T19:34:19.884287Z",
     "shell.execute_reply": "2020-09-12T19:34:19.884993Z"
    },
    "papermill": {
     "duration": 0.538887,
     "end_time": "2020-09-12T19:34:19.885146",
     "exception": false,
     "start_time": "2020-09-12T19:34:19.346259",
     "status": "completed"
    },
    "tags": []
   },
   "outputs": [
    {
     "data": {
      "image/png": "[encoded data removed]",
      "text/plain": [
       "<Figure size 432x216 with 1 Axes>"
      ]
     },
     "metadata": {},
     "output_type": "display_data"
    }
   ],
   "source": [
    "coefs = pd.Series(lin_reg.coef_, index = X_train.columns)\n",
    "sorted_coefs = coefs.sort_values()\n",
    "\n",
    "sorted_coefs.plot(kind = \"barh\")\n",
    "\n",
    "plt.rcParams['figure.figsize'] = (6.0, 6.0)\n",
    "plt.xlabel('Score'); \n",
    "plt.ylabel('Feature'); \n",
    "plt.title('Linear regressor: Feature importance')\n",
    "\n",
    "plt.show()"
   ]
  },
  {
   "cell_type": "markdown",
   "metadata": {
    "papermill": {
     "duration": 0.149251,
     "end_time": "2020-09-12T19:34:20.183616",
     "exception": false,
     "start_time": "2020-09-12T19:34:20.034365",
     "status": "completed"
    },
    "tags": []
   },
   "source": [
    "Next, we will work on a random-forest regressor.\n",
    "\n",
    "## Building the random-forest regressor"
   ]
  },
  {
   "cell_type": "code",
   "execution_count": 73,
   "metadata": {
    "execution": {
     "iopub.execute_input": "2020-09-12T19:34:20.489173Z",
     "iopub.status.busy": "2020-09-12T19:34:20.488426Z",
     "iopub.status.idle": "2020-09-12T19:34:49.307556Z",
     "shell.execute_reply": "2020-09-12T19:34:49.306759Z"
    },
    "papermill": {
     "duration": 28.975708,
     "end_time": "2020-09-12T19:34:49.307685",
     "exception": false,
     "start_time": "2020-09-12T19:34:20.331977",
     "status": "completed"
    },
    "tags": []
   },
   "outputs": [],
   "source": [
    "from sklearn.ensemble import RandomForestRegressor\n",
    "\n",
    "rf_reg = RandomForestRegressor(n_estimators=180,\n",
    "                               random_state=0,\n",
    "                               min_samples_leaf=1,\n",
    "                               max_features=0.5,\n",
    "                               n_jobs=-1,\n",
    "                               oob_score=True)\n",
    "\n",
    "rf_reg.fit(X_train,y_train)\n",
    "y_pred = rf_reg.predict(X_test)"
   ]
  },
  {
   "cell_type": "markdown",
   "metadata": {
    "papermill": {
     "duration": 0.147503,
     "end_time": "2020-09-12T19:34:49.603745",
     "exception": false,
     "start_time": "2020-09-12T19:34:49.456242",
     "status": "completed"
    },
    "tags": []
   },
   "source": [
    "## Validating the random-forest regressor"
   ]
  },
  {
   "cell_type": "code",
   "execution_count": 74,
   "metadata": {
    "execution": {
     "iopub.execute_input": "2020-09-12T19:34:49.920400Z",
     "iopub.status.busy": "2020-09-12T19:34:49.913549Z",
     "iopub.status.idle": "2020-09-12T19:34:49.930882Z",
     "shell.execute_reply": "2020-09-12T19:34:49.931681Z"
    },
    "papermill": {
     "duration": 0.180127,
     "end_time": "2020-09-12T19:34:49.931882",
     "exception": false,
     "start_time": "2020-09-12T19:34:49.751755",
     "status": "completed"
    },
    "tags": []
   },
   "outputs": [
    {
     "name": "stdout",
     "output_type": "stream",
     "text": [
      "MSLE : 0.0006069708215460708\n",
      "Root MSLE : 0.02463677782393775\n",
      "R2 Score : 0.8993870665879327 or 89.9387%\n"
     ]
    }
   ],
   "source": [
    "y_test_1, y_pred_1 = remove_negatives(y_test, y_pred)\n",
    "res_rf_reg = evaluate_perf(y_test_1, y_pred_1)\n",
    "\n",
    "print(f\"MSLE : {res_rf_reg[0]}\")\n",
    "print(f\"Root MSLE : {res_rf_reg[1]}\")\n",
    "print(f\"R2 Score : {res_rf_reg[2]} or {res_rf_reg[3]}%\")\n",
    "\n",
    "df_metrics['RandomForest'] = res_rf_reg"
   ]
  },
  {
   "cell_type": "markdown",
   "metadata": {
    "papermill": {
     "duration": 0.149251,
     "end_time": "2020-09-12T19:34:50.238666",
     "exception": false,
     "start_time": "2020-09-12T19:34:50.089415",
     "status": "completed"
    },
    "tags": []
   },
   "source": [
    "How did the actual and predicted values vary? Let us draw a bar graph to compare some of these values."
   ]
  },
  {
   "cell_type": "code",
   "execution_count": 75,
   "metadata": {
    "execution": {
     "iopub.execute_input": "2020-09-12T19:34:50.545975Z",
     "iopub.status.busy": "2020-09-12T19:34:50.545215Z",
     "iopub.status.idle": "2020-09-12T19:34:51.067961Z",
     "shell.execute_reply": "2020-09-12T19:34:51.067357Z"
    },
    "papermill": {
     "duration": 0.68191,
     "end_time": "2020-09-12T19:34:51.068090",
     "exception": false,
     "start_time": "2020-09-12T19:34:50.386180",
     "status": "completed"
    },
    "tags": []
   },
   "outputs": [
    {
     "data": {
      "image/png": "[encoded data removed]",
      "text/plain": [
       "<Figure size 720x360 with 1 Axes>"
      ]
     },
     "metadata": {},
     "output_type": "display_data"
    }
   ],
   "source": [
    "df_rf_comp = pd.DataFrame({'Actual': y_test_1, 'Predicted': y_pred_1})\n",
    "df_rf_comp = df_rf_comp.head(25)\n",
    "\n",
    "df_rf_comp.plot(kind='bar', figsize=(10,5))\n",
    "\n",
    "plt.grid(which='major', linestyle='-', linewidth='0.1', color='green')\n",
    "plt.title('Random forest: Actual vs. predicted')\n",
    "plt.ylabel('MSLE')\n",
    "\n",
    "plt.show()"
   ]
  },
  {
   "cell_type": "markdown",
   "metadata": {
    "papermill": {
     "duration": 0.149209,
     "end_time": "2020-09-12T19:34:51.371332",
     "exception": false,
     "start_time": "2020-09-12T19:34:51.222123",
     "status": "completed"
    },
    "tags": []
   },
   "source": [
    "Let us also depict the random-forest ranking of independent variables."
   ]
  },
  {
   "cell_type": "code",
   "execution_count": 76,
   "metadata": {
    "execution": {
     "iopub.execute_input": "2020-09-12T19:34:51.681928Z",
     "iopub.status.busy": "2020-09-12T19:34:51.680943Z",
     "iopub.status.idle": "2020-09-12T19:34:52.244892Z",
     "shell.execute_reply": "2020-09-12T19:34:52.246081Z"
    },
    "papermill": {
     "duration": 0.724731,
     "end_time": "2020-09-12T19:34:52.246298",
     "exception": false,
     "start_time": "2020-09-12T19:34:51.521567",
     "status": "completed"
    },
    "tags": []
   },
   "outputs": [
    {
     "data": {
      "image/png": "[encoded data removed]",
      "text/plain": [
       "<Figure size 432x432 with 1 Axes>"
      ]
     },
     "metadata": {},
     "output_type": "display_data"
    }
   ],
   "source": [
    "importances = rf_reg.feature_importances_\n",
    "features = X_train.columns\n",
    "x_vals = list(range(len(importances)))\n",
    "\n",
    "plt.figure(figsize=(6,6))\n",
    "plt.bar(x_vals, importances, orientation = ('vertical'))\n",
    "\n",
    "plt.xticks(x_vals, features, rotation=90)\n",
    "plt.ylabel('Score'); \n",
    "plt.xlabel('Feature'); \n",
    "plt.title('Random forest: Feature importance')\n",
    "\n",
    "plt.tight_layout()\n",
    "plt.show();"
   ]
  },
  {
   "cell_type": "markdown",
   "metadata": {
    "papermill": {
     "duration": 0.192798,
     "end_time": "2020-09-12T19:34:52.597526",
     "exception": false,
     "start_time": "2020-09-12T19:34:52.404728",
     "status": "completed"
    },
    "tags": []
   },
   "source": [
    "Finally, we will work on an XGBoost regressor.\n",
    "\n",
    "## Building the XGBoost regressor"
   ]
  },
  {
   "cell_type": "code",
   "execution_count": 77,
   "metadata": {
    "execution": {
     "iopub.execute_input": "2020-09-12T19:34:52.908698Z",
     "iopub.status.busy": "2020-09-12T19:34:52.907855Z",
     "iopub.status.idle": "2020-09-12T19:35:44.262449Z",
     "shell.execute_reply": "2020-09-12T19:35:44.263181Z"
    },
    "papermill": {
     "duration": 51.513246,
     "end_time": "2020-09-12T19:35:44.263375",
     "exception": false,
     "start_time": "2020-09-12T19:34:52.750129",
     "status": "completed"
    },
    "tags": []
   },
   "outputs": [],
   "source": [
    "import xgboost as xgb\n",
    "\n",
    "xg_reg = xgb.XGBRegressor(objective ='reg:squarederror',\n",
    "                          learning_rate = 0.4,\n",
    "                          max_depth = 24,\n",
    "                          alpha = 5,\n",
    "                          n_estimators = 200)\n",
    "\n",
    "xg_reg.fit(X_train,y_train)\n",
    "y_pred = xg_reg.predict(X_test)"
   ]
  },
  {
   "cell_type": "markdown",
   "metadata": {
    "papermill": {
     "duration": 0.152852,
     "end_time": "2020-09-12T19:35:44.599659",
     "exception": false,
     "start_time": "2020-09-12T19:35:44.446807",
     "status": "completed"
    },
    "tags": []
   },
   "source": [
    "## Validating the XGBoost regressor"
   ]
  },
  {
   "cell_type": "code",
   "execution_count": 78,
   "metadata": {
    "execution": {
     "iopub.execute_input": "2020-09-12T19:35:44.948409Z",
     "iopub.status.busy": "2020-09-12T19:35:44.943307Z",
     "iopub.status.idle": "2020-09-12T19:35:44.973847Z",
     "shell.execute_reply": "2020-09-12T19:35:44.973061Z"
    },
    "papermill": {
     "duration": 0.221861,
     "end_time": "2020-09-12T19:35:44.973976",
     "exception": false,
     "start_time": "2020-09-12T19:35:44.752115",
     "status": "completed"
    },
    "tags": []
   },
   "outputs": [
    {
     "name": "stdout",
     "output_type": "stream",
     "text": [
      "MSLE : 0.00058766189894909\n",
      "Root MSLE : 0.024241738777346193\n",
      "R2 Score : 0.9021267038003405 or 90.2127%\n"
     ]
    }
   ],
   "source": [
    "y_test_1, y_pred_1 = remove_negatives(y_test, y_pred)\n",
    "res_xg_reg = evaluate_perf(y_test_1,y_pred_1)\n",
    "\n",
    "print(f\"MSLE : {res_xg_reg[0]}\")\n",
    "print(f\"Root MSLE : {res_xg_reg[1]}\")\n",
    "print(f\"R2 Score : {res_xg_reg[2]} or {res_xg_reg[3]}%\")\n",
    "\n",
    "df_metrics['XGBoost'] = res_xg_reg\n",
    "\n",
    "# Saving the metrics dataframe as a CSV file because\n",
    "# it contains data about each of the three models now\n",
    "df_metrics.to_csv('error_metrics.csv')"
   ]
  },
  {
   "cell_type": "markdown",
   "metadata": {
    "papermill": {
     "duration": 0.151732,
     "end_time": "2020-09-12T19:35:45.277948",
     "exception": false,
     "start_time": "2020-09-12T19:35:45.126216",
     "status": "completed"
    },
    "tags": []
   },
   "source": [
    "To round off this step, let us depict the XGBoost ranking of independent variables."
   ]
  },
  {
   "cell_type": "code",
   "execution_count": 79,
   "metadata": {
    "execution": {
     "iopub.execute_input": "2020-09-12T19:35:45.589452Z",
     "iopub.status.busy": "2020-09-12T19:35:45.588440Z",
     "iopub.status.idle": "2020-09-12T19:35:48.708969Z",
     "shell.execute_reply": "2020-09-12T19:35:48.708231Z"
    },
    "papermill": {
     "duration": 3.279642,
     "end_time": "2020-09-12T19:35:48.709089",
     "exception": false,
     "start_time": "2020-09-12T19:35:45.429447",
     "status": "completed"
    },
    "tags": []
   },
   "outputs": [
    {
     "data": {
      "image/png": "[encoded data removed]",
      "text/plain": [
       "<Figure size 432x432 with 1 Axes>"
      ]
     },
     "metadata": {},
     "output_type": "display_data"
    }
   ],
   "source": [
    "xgb.plot_importance(xg_reg)\n",
    "\n",
    "plt.rcParams['figure.figsize'] = [5, 5]\n",
    "plt.title('XGBoost: Feature importance')\n",
    "\n",
    "plt.tight_layout()\n",
    "plt.show();"
   ]
  },
  {
   "cell_type": "markdown",
   "metadata": {
    "papermill": {
     "duration": 0.154796,
     "end_time": "2020-09-12T19:35:49.018451",
     "exception": false,
     "start_time": "2020-09-12T19:35:48.863655",
     "status": "completed"
    },
    "tags": []
   },
   "source": [
    "<h2>Step 7: Identifying the most appropriate model<a aria-pressed=\"true\" class=\"btn btn-primary btn-sm\" data-toggle=\"popover\" name='step7-desc' id='step7-desc' href=\"#step7\" role=\"button\" style=\"color: white; margin-left: 20px; target='_self'\">Go to steplist</a></h2>"
   ]
  },
  {
   "cell_type": "markdown",
   "metadata": {
    "papermill": {
     "duration": 0.152836,
     "end_time": "2020-09-12T19:35:49.325854",
     "exception": false,
     "start_time": "2020-09-12T19:35:49.173018",
     "status": "completed"
    },
    "tags": []
   },
   "source": [
    "As the following table and graph indicate, the linear regressor is the least accurate model. Random forest and XGBoost have performed much better than the linear regressor in multiple iterations of the code. And the accuracies of these high performers have been on a par mostly. \n",
    "\n",
    "But if I had to choose one regressor for this type of project, it would be XGBoost. If an XGBoost model is tuned properly, it can reduce bias and variance and give accurate results. What adds to its appeal is that it is optimized for speed and real-world performance."
   ]
  },
  {
   "cell_type": "code",
   "execution_count": 80,
   "metadata": {
    "execution": {
     "iopub.execute_input": "2020-09-12T19:35:49.649040Z",
     "iopub.status.busy": "2020-09-12T19:35:49.647914Z",
     "iopub.status.idle": "2020-09-12T19:35:49.652058Z",
     "shell.execute_reply": "2020-09-12T19:35:49.652665Z"
    },
    "papermill": {
     "duration": 0.172203,
     "end_time": "2020-09-12T19:35:49.652816",
     "exception": false,
     "start_time": "2020-09-12T19:35:49.480613",
     "status": "completed"
    },
    "tags": []
   },
   "outputs": [
    {
     "data": {
      "text/html": [
       "<div>\n",
       "<style scoped>\n",
       "    .dataframe tbody tr th:only-of-type {\n",
       "        vertical-align: middle;\n",
       "    }\n",
       "\n",
       "    .dataframe tbody tr th {\n",
       "        vertical-align: top;\n",
       "    }\n",
       "\n",
       "    .dataframe thead th {\n",
       "        text-align: right;\n",
       "    }\n",
       "</style>\n",
       "<table border=\"1\" class=\"dataframe\">\n",
       "  <thead>\n",
       "    <tr style=\"text-align: right;\">\n",
       "      <th></th>\n",
       "      <th>Linear</th>\n",
       "      <th>RandomForest</th>\n",
       "      <th>XGBoost</th>\n",
       "    </tr>\n",
       "  </thead>\n",
       "  <tbody>\n",
       "    <tr>\n",
       "      <th>MSLE</th>\n",
       "      <td>0.002175</td>\n",
       "      <td>0.000607</td>\n",
       "      <td>0.000588</td>\n",
       "    </tr>\n",
       "    <tr>\n",
       "      <th>RMSLE</th>\n",
       "      <td>0.046640</td>\n",
       "      <td>0.024637</td>\n",
       "      <td>0.024242</td>\n",
       "    </tr>\n",
       "    <tr>\n",
       "      <th>R2 score</th>\n",
       "      <td>0.619223</td>\n",
       "      <td>0.899387</td>\n",
       "      <td>0.902127</td>\n",
       "    </tr>\n",
       "    <tr>\n",
       "      <th>Accuracy(%)</th>\n",
       "      <td>61.922300</td>\n",
       "      <td>89.938700</td>\n",
       "      <td>90.212700</td>\n",
       "    </tr>\n",
       "  </tbody>\n",
       "</table>\n",
       "</div>"
      ],
      "text/plain": [
       "                Linear  RandomForest    XGBoost\n",
       "MSLE          0.002175      0.000607   0.000588\n",
       "RMSLE         0.046640      0.024637   0.024242\n",
       "R2 score      0.619223      0.899387   0.902127\n",
       "Accuracy(%)  61.922300     89.938700  90.212700"
      ]
     },
     "execution_count": 80,
     "metadata": {},
     "output_type": "execute_result"
    }
   ],
   "source": [
    "df_metrics = pd.read_csv('error_metrics.csv', index_col=0)\n",
    "df_metrics"
   ]
  },
  {
   "cell_type": "code",
   "execution_count": 81,
   "metadata": {
    "execution": {
     "iopub.execute_input": "2020-09-12T19:35:49.980319Z",
     "iopub.status.busy": "2020-09-12T19:35:49.975013Z",
     "iopub.status.idle": "2020-09-12T19:35:50.208216Z",
     "shell.execute_reply": "2020-09-12T19:35:50.207417Z"
    },
    "papermill": {
     "duration": 0.401149,
     "end_time": "2020-09-12T19:35:50.208340",
     "exception": false,
     "start_time": "2020-09-12T19:35:49.807191",
     "status": "completed"
    },
    "tags": []
   },
   "outputs": [
    {
     "data": {
      "image/png": "[encoded data removed]",
      "text/plain": [
       "<Figure size 1440x432 with 1 Axes>"
      ]
     },
     "metadata": {},
     "output_type": "display_data"
    }
   ],
   "source": [
    "accuracies = df_metrics.loc['Accuracy(%)']\n",
    "\n",
    "x = list(range(len(accuracies)))\n",
    "y = list(range(0, 101, 10))\n",
    "\n",
    "props = dict(boxstyle='round', facecolor='white', alpha=0.8)\n",
    "plt.figure(figsize=(20, 6))\n",
    "\n",
    "plt.plot(accuracies)\n",
    "\n",
    "plt.yticks(y)\n",
    "plt.xticks(fontsize=20)\n",
    "plt.xlabel(\"Model\", fontsize=30)\n",
    "plt.ylabel(\"Accuracy(%)\", fontsize=30)\n",
    "plt.title(\"Accuracies of models\")\n",
    "\n",
    "for a, b in zip(x, y):\n",
    "    b = accuracies[a]\n",
    "    val=\"(\" + str(round(accuracies[a], 2)) + \" %)\"\n",
    "    plt.text(a, b + 4.5, val, horizontalalignment='center',\\\n",
    "             verticalalignment='center', color='green', bbox=props)\n",
    "    plt.text(a, b + 3.5, '.', horizontalalignment='center',\\\n",
    "             verticalalignment='center', color='red', fontsize=50)\n",
    "    \n",
    "plt.tight_layout()\n",
    "plt.show();"
   ]
  },
  {
   "cell_type": "markdown",
   "metadata": {
    "papermill": {
     "duration": 0.164228,
     "end_time": "2020-09-12T19:35:50.531805",
     "exception": false,
     "start_time": "2020-09-12T19:35:50.367577",
     "status": "completed"
    },
    "tags": []
   },
   "source": [
    "## References\n",
    "\n",
    "- Panwar Abhash Anil, \"Used Car Price Prediction using Machine Learning,\" Medium (blog), Towards Data Science, August 3, 2020, https://towardsdatascience.com/used-car-price-prediction-using-machine-learning-e3be02d977b2.\n",
    "\n",
    "- Soner Yıldırım, \"Predicting Used Car Prices with Machine Learning,\" Medium (blog), Towards Data Science, January 28, 2020, https://towardsdatascience.com/predicting-used-car-prices-with-machine-learning-fea53811b1ab."
   ]
  },
  {
   "cell_type": "markdown",
   "metadata": {
    "papermill": {
     "duration": 0.158039,
     "end_time": "2020-09-12T19:35:50.848928",
     "exception": false,
     "start_time": "2020-09-12T19:35:50.690889",
     "status": "completed"
    },
    "tags": []
   },
   "source": [
    "## Footnote\n",
    "\n",
    "<a name=\"r2-wiki\">1</a>: \"Coefficient of determination,\" Wikimedia Foundation, last modified September 4, 2020, 04:49, https://en.wikipedia.org/wiki/Coefficient_of_determination. [↩](#r2)"
   ]
  }
 ],
 "metadata": {
  "kernelspec": {
   "display_name": "Python 3",
   "language": "python",
   "name": "python3"
  },
  "language_info": {
   "codemirror_mode": {
    "name": "ipython",
    "version": 3
   },
   "file_extension": ".py",
   "mimetype": "text/x-python",
   "name": "python",
   "nbconvert_exporter": "python",
   "pygments_lexer": "ipython3",
   "version": "3.7.6"
  },
  "papermill": {
   "duration": 421.393291,
   "end_time": "2020-09-12T19:35:52.709285",
   "environment_variables": {},
   "exception": null,
   "input_path": "__notebook__.ipynb",
   "output_path": "__notebook__.ipynb",
   "parameters": {},
   "start_time": "2020-09-12T19:28:51.315994",
   "version": "2.1.0"
  }
 },
 "nbformat": 4,
 "nbformat_minor": 4
}
