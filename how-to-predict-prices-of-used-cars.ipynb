{
 "cells": [
  {
   "cell_type": "markdown",
   "metadata": {
    "papermill": {
     "duration": 0.108285,
     "end_time": "2020-09-15T16:03:29.804072",
     "exception": false,
     "start_time": "2020-09-15T16:03:29.695787",
     "status": "completed"
    },
    "tags": []
   },
   "source": [
    "<h1>How to Predict the Prices of Used Cars<br>\n",
    "<span style='font-weight: medium; font-size:1.5rem'>Using supervised learning to build a price-prediction model</span>\n",
    "</h1>\n",
    "Created: 2020-09-05<br>\n",
    "Author: <a href=\"https://sthakur.work\">Shambhavi Thakur</a>"
   ]
  },
  {
   "cell_type": "markdown",
   "metadata": {
    "papermill": {
     "duration": 0.104485,
     "end_time": "2020-09-15T16:03:30.011670",
     "exception": false,
     "start_time": "2020-09-15T16:03:29.907185",
     "status": "completed"
    },
    "tags": []
   },
   "source": [
    "## Introduction\n",
    "\n",
    "When we want to sell used cars, one of the biggest problems is deciding reasonable selling prices for the cars. An effective way to solve this problem is to use a machine-learning model that can predict car prices.\n",
    "\n",
    "In this notebook, I use Python code and libraries to build a price-prediction model. The notebook is an implementation of the project [Predicting the Prices of Used Cars](https://sthakur.work/project/predicting-prices-of-used-cars/).\n",
    "\n",
    "Let us understand the objectives and implemention strategy of the project first. Subsequently, we will discuss and run the project&nbsp;code."
   ]
  },
  {
   "cell_type": "markdown",
   "metadata": {
    "papermill": {
     "duration": 0.104791,
     "end_time": "2020-09-15T16:03:30.221305",
     "exception": false,
     "start_time": "2020-09-15T16:03:30.116514",
     "status": "completed"
    },
    "tags": []
   },
   "source": [
    "## Project objectives\n",
    "\n",
    "The main objectives of this project are as follows:\n",
    "\n",
    "- Identify relevant machine-learning algorithms for the project.\n",
    "\n",
    "- Build price-prediction models based on the chosen algorithms.\n",
    "\n",
    "- Validate the models.\n",
    "\n",
    "- Identify the most appropriate model.\n"
   ]
  },
  {
   "cell_type": "markdown",
   "metadata": {
    "papermill": {
     "duration": 0.105169,
     "end_time": "2020-09-15T16:03:30.430398",
     "exception": false,
     "start_time": "2020-09-15T16:03:30.325229",
     "status": "completed"
    },
    "tags": []
   },
   "source": [
    "## Implementation strategy\n",
    "\n",
    "To achieve the project objectives, I intend to work through the following steps:\n",
    "\n",
    "1. [Identify machine-learning algorithms that can help predict car prices.](#step1-desc)<a id=\"step1\" name=\"step1\"></a>\n",
    "\n",
    "2. [Obtain a dataset about used&nbsp;cars.](#step2-desc)<a id=\"step2\" name=\"step2\"></a>\n",
    "\n",
    "3. [Explore and clean the dataset.](#step3-desc)<a id=\"step3\" name=\"step3\"></a>\n",
    "\n",
    "4. [Visualize the dataset and clean it further.](#step4-desc)<a id=\"step4\" name=\"step4\"></a>\n",
    "\n",
    "5. [Split the dataset for training and testing.](#step5-desc)<a id=\"step5\" name=\"step5\"></a>\n",
    "\n",
    "6. [Build and validate price-prediction models.](#step6-desc)<a id=\"step6\" name=\"step6\"></a>\n",
    "\n",
    "7. [Identify the most appropriate model.](#step7-desc)<a id=\"step7\" name=\"step7\"></a>"
   ]
  },
  {
   "cell_type": "markdown",
   "metadata": {
    "papermill": {
     "duration": 0.103542,
     "end_time": "2020-09-15T16:03:30.640432",
     "exception": false,
     "start_time": "2020-09-15T16:03:30.536890",
     "status": "completed"
    },
    "tags": []
   },
   "source": [
    "<h2>Step 1: Identifying machine-learning algorithms<a aria-pressed=\"true\" class=\"btn btn-primary btn-sm\" data-toggle=\"popover\" name='step1-desc' id='step1-desc' href=\"#step1\" role=\"button\" style=\"color: white; margin-left: 20px; target='_self'\">Go to steplist</a></h2>\n",
    "\n",
    "Cars have been bought and sold for a long time, and there are numerous data sets that list features of cars and their prices. As we can easily obtain a data set of this type, I am opting for supervised learning in this project.\n",
    "\n",
    "### Tasks that comprise supervised learning\n",
    "\n",
    "Supervised learning is all about training an algorithm using prepared, labeled&nbsp;data. Supervised learning for car-price prediction involves the following tasks:\n",
    "\n",
    "1. Obtain a dataset that contains the attributes of various cars, including their prices and mileage.\n",
    "\n",
    "2. Split the dataset into training and testing datasets.\n",
    "\n",
    "3. Train a machine-learning model using the training dataset.\n",
    "\n",
    "4. Once the model has been trained, validate it by passing on to it all columns from the testing data except the price column. The accuracy of the algorithm depends on how close the prices it predicts are to the actual prices in the testing dataset.\n",
    "\n",
    "### Types of supervised learning\n",
    "\n",
    "Supervised learning is of two types, regression and classification. When the target variable is numerical, we have a regression problem. When the target variable is categorical, we have a classification problem.\n",
    "\n",
    "The target variable for this project, car price, is definitely numerical. So, regression will be the most appropriate for this project.\n",
    "\n",
    "### Regression algorithms\n",
    "\n",
    "Regression algorithms are of various types. In this project, we will build and compare models based on four regression algorithms, or regressors. Here is a description of these regressors:\n",
    "\n",
    "- **Linear**: A linear regressor uses linear or step-by-step techniques to find out how a target, or dependent, variable is related to one or more independent variables.\n",
    "\n",
    "- **Random forest**: Given a set of independent variables, a random-forest regressor uses multiple decision trees—in other words, a forest of decision trees—to predict the value of the corresponding target variable. It uses the collective knowledge of the forest to determine which independent variables have the maximum impact on the target variable and predicts values accordingly.\n",
    "\n",
    "- **XGBoost**: Short for extreme gradient boosting, XGBoost is a library that lets us build highly efficient decision trees. Using an XGBoost regressor, we can train different models in tandem. Each model learns from and improves upon the model that preceded it. Collectively, all the models based on an XGBoost regressor determine the impact that independent variables have on the corresponding target variable and rank the independent variables accordingly. This ranking eventually enables the XGBoost regressor to predict target values."
   ]
  },
  {
   "cell_type": "markdown",
   "metadata": {
    "papermill": {
     "duration": 0.103802,
     "end_time": "2020-09-15T16:03:30.850309",
     "exception": false,
     "start_time": "2020-09-15T16:03:30.746507",
     "status": "completed"
    },
    "tags": []
   },
   "source": [
    "<h2>Step 2: Obtaining a dataset<a aria-pressed=\"true\" class=\"btn btn-primary btn-sm\" data-toggle=\"popover\" name='step2-desc' id='step2-desc' href=\"#step2\" role=\"button\" style=\"color: white; margin-left: 20px; target='_self'\">Go to steplist</a></h2>\n",
    "\n",
    "We will use a [Kaggle dataset](https://www.kaggle.com/austinreese/craigslist-carstrucks-data) for this project. This dataset contains data that was scraped recently from Craiglist in the United States&nbsp;(US).\n",
    "\n",
    "I have already added the dataset to the project environment. Here is code that lists the path to the dataset:"
   ]
  },
  {
   "cell_type": "code",
   "execution_count": 1,
   "metadata": {
    "_cell_guid": "b1076dfc-b9ad-4769-8c92-a6c4dae69d19",
    "_uuid": "8f2839f25d086af736a60e9eeb907d3b93b6e0e5",
    "execution": {
     "iopub.execute_input": "2020-09-15T16:03:31.065140Z",
     "iopub.status.busy": "2020-09-15T16:03:31.064348Z",
     "iopub.status.idle": "2020-09-15T16:03:31.071047Z",
     "shell.execute_reply": "2020-09-15T16:03:31.071655Z"
    },
    "papermill": {
     "duration": 0.118214,
     "end_time": "2020-09-15T16:03:31.071844",
     "exception": false,
     "start_time": "2020-09-15T16:03:30.953630",
     "status": "completed"
    },
    "tags": []
   },
   "outputs": [
    {
     "name": "stdout",
     "output_type": "stream",
     "text": [
      "../input/craigslist-carstrucks-data/vehicles.csv\n"
     ]
    }
   ],
   "source": [
    "import os\n",
    "for dirname, _, filenames in os.walk('../input'):\n",
    "    for filename in filenames:\n",
    "        print(os.path.join(dirname, filename))\n"
   ]
  },
  {
   "cell_type": "markdown",
   "metadata": {
    "papermill": {
     "duration": 0.109741,
     "end_time": "2020-09-15T16:03:31.290670",
     "exception": false,
     "start_time": "2020-09-15T16:03:31.180929",
     "status": "completed"
    },
    "tags": []
   },
   "source": [
    "<h2>Step 3: Exploring and cleaning the dataset<a aria-pressed=\"true\" class=\"btn btn-primary btn-sm\" data-toggle=\"popover\" name='step3-desc' id='step3-desc' href=\"#step3\" role=\"button\" style=\"color: white; margin-left: 20px; target='_self'\">Go to steplist</a></h2>\n",
    "\n",
    "To explore the dataset, we will first save it as a pandas dataframe. Then, we will view the contents and properties of the dataset and, if required, clean it.\n",
    "\n",
    "### Converting the dataset into a pandas dataframe\n",
    "\n",
    "We will begin by importing pandas, the standard data-science package."
   ]
  },
  {
   "cell_type": "code",
   "execution_count": 2,
   "metadata": {
    "execution": {
     "iopub.execute_input": "2020-09-15T16:03:31.504597Z",
     "iopub.status.busy": "2020-09-15T16:03:31.503555Z",
     "iopub.status.idle": "2020-09-15T16:03:31.507061Z",
     "shell.execute_reply": "2020-09-15T16:03:31.506431Z"
    },
    "papermill": {
     "duration": 0.112181,
     "end_time": "2020-09-15T16:03:31.507192",
     "exception": false,
     "start_time": "2020-09-15T16:03:31.395011",
     "status": "completed"
    },
    "tags": []
   },
   "outputs": [],
   "source": [
    "import pandas as pd"
   ]
  },
  {
   "cell_type": "markdown",
   "metadata": {
    "papermill": {
     "duration": 0.102591,
     "end_time": "2020-09-15T16:03:31.714688",
     "exception": false,
     "start_time": "2020-09-15T16:03:31.612097",
     "status": "completed"
    },
    "tags": []
   },
   "source": [
    "Next, we will import the dataset."
   ]
  },
  {
   "cell_type": "code",
   "execution_count": 3,
   "metadata": {
    "execution": {
     "iopub.execute_input": "2020-09-15T16:03:31.928855Z",
     "iopub.status.busy": "2020-09-15T16:03:31.928127Z",
     "iopub.status.idle": "2020-09-15T16:03:49.166838Z",
     "shell.execute_reply": "2020-09-15T16:03:49.166022Z"
    },
    "papermill": {
     "duration": 17.349077,
     "end_time": "2020-09-15T16:03:49.166966",
     "exception": false,
     "start_time": "2020-09-15T16:03:31.817889",
     "status": "completed"
    },
    "tags": []
   },
   "outputs": [],
   "source": [
    "df_original = pd.read_csv('../input/craigslist-carstrucks-data/vehicles.csv')"
   ]
  },
  {
   "cell_type": "markdown",
   "metadata": {
    "papermill": {
     "duration": 0.103943,
     "end_time": "2020-09-15T16:03:49.375460",
     "exception": false,
     "start_time": "2020-09-15T16:03:49.271517",
     "status": "completed"
    },
    "tags": []
   },
   "source": [
    "### Looking at the contents of the dataset\n",
    "\n",
    "Let us browse through the first few rows of the dataset."
   ]
  },
  {
   "cell_type": "code",
   "execution_count": 4,
   "metadata": {
    "execution": {
     "iopub.execute_input": "2020-09-15T16:03:49.594290Z",
     "iopub.status.busy": "2020-09-15T16:03:49.593433Z",
     "iopub.status.idle": "2020-09-15T16:03:49.778792Z",
     "shell.execute_reply": "2020-09-15T16:03:49.779419Z"
    },
    "papermill": {
     "duration": 0.29852,
     "end_time": "2020-09-15T16:03:49.779583",
     "exception": false,
     "start_time": "2020-09-15T16:03:49.481063",
     "status": "completed"
    },
    "tags": []
   },
   "outputs": [
    {
     "data": {
      "text/html": [
       "<div>\n",
       "<style scoped>\n",
       "    .dataframe tbody tr th:only-of-type {\n",
       "        vertical-align: middle;\n",
       "    }\n",
       "\n",
       "    .dataframe tbody tr th {\n",
       "        vertical-align: top;\n",
       "    }\n",
       "\n",
       "    .dataframe thead th {\n",
       "        text-align: right;\n",
       "    }\n",
       "</style>\n",
       "<table border=\"1\" class=\"dataframe\">\n",
       "  <thead>\n",
       "    <tr style=\"text-align: right;\">\n",
       "      <th></th>\n",
       "      <th>id</th>\n",
       "      <th>url</th>\n",
       "      <th>region</th>\n",
       "      <th>region_url</th>\n",
       "      <th>price</th>\n",
       "      <th>year</th>\n",
       "      <th>manufacturer</th>\n",
       "      <th>model</th>\n",
       "      <th>condition</th>\n",
       "      <th>cylinders</th>\n",
       "      <th>...</th>\n",
       "      <th>drive</th>\n",
       "      <th>size</th>\n",
       "      <th>type</th>\n",
       "      <th>paint_color</th>\n",
       "      <th>image_url</th>\n",
       "      <th>description</th>\n",
       "      <th>county</th>\n",
       "      <th>state</th>\n",
       "      <th>lat</th>\n",
       "      <th>long</th>\n",
       "    </tr>\n",
       "  </thead>\n",
       "  <tbody>\n",
       "    <tr>\n",
       "      <th>0</th>\n",
       "      <td>7119256118</td>\n",
       "      <td>https://mohave.craigslist.org/ctd/d/lake-havas...</td>\n",
       "      <td>mohave county</td>\n",
       "      <td>https://mohave.craigslist.org</td>\n",
       "      <td>3495</td>\n",
       "      <td>2012.0</td>\n",
       "      <td>jeep</td>\n",
       "      <td>patriot</td>\n",
       "      <td>like new</td>\n",
       "      <td>4 cylinders</td>\n",
       "      <td>...</td>\n",
       "      <td>NaN</td>\n",
       "      <td>NaN</td>\n",
       "      <td>NaN</td>\n",
       "      <td>silver</td>\n",
       "      <td>https://images.craigslist.org/00B0B_k2AXIJ21ok...</td>\n",
       "      <td>THIS 2012 JEEP PATRIOT IS A 4CYL. AC, STEREO, ...</td>\n",
       "      <td>NaN</td>\n",
       "      <td>az</td>\n",
       "      <td>34.4554</td>\n",
       "      <td>-114.2690</td>\n",
       "    </tr>\n",
       "    <tr>\n",
       "      <th>1</th>\n",
       "      <td>7120880186</td>\n",
       "      <td>https://oregoncoast.craigslist.org/cto/d/warre...</td>\n",
       "      <td>oregon coast</td>\n",
       "      <td>https://oregoncoast.craigslist.org</td>\n",
       "      <td>13750</td>\n",
       "      <td>2014.0</td>\n",
       "      <td>bmw</td>\n",
       "      <td>328i m-sport</td>\n",
       "      <td>good</td>\n",
       "      <td>NaN</td>\n",
       "      <td>...</td>\n",
       "      <td>rwd</td>\n",
       "      <td>NaN</td>\n",
       "      <td>sedan</td>\n",
       "      <td>grey</td>\n",
       "      <td>https://images.craigslist.org/00U0U_3cLk0WGOJ8...</td>\n",
       "      <td>Selling my 2014 BMW 328i with the following be...</td>\n",
       "      <td>NaN</td>\n",
       "      <td>or</td>\n",
       "      <td>46.1837</td>\n",
       "      <td>-123.8240</td>\n",
       "    </tr>\n",
       "    <tr>\n",
       "      <th>2</th>\n",
       "      <td>7115048251</td>\n",
       "      <td>https://greenville.craigslist.org/cto/d/sparta...</td>\n",
       "      <td>greenville / upstate</td>\n",
       "      <td>https://greenville.craigslist.org</td>\n",
       "      <td>2300</td>\n",
       "      <td>2001.0</td>\n",
       "      <td>dodge</td>\n",
       "      <td>caravan</td>\n",
       "      <td>excellent</td>\n",
       "      <td>6 cylinders</td>\n",
       "      <td>...</td>\n",
       "      <td>NaN</td>\n",
       "      <td>NaN</td>\n",
       "      <td>NaN</td>\n",
       "      <td>NaN</td>\n",
       "      <td>https://images.craigslist.org/00k0k_t4WqYn5nDC...</td>\n",
       "      <td>01 DODGE CARAVAN,3.3 ENGINE,AUT TRANS,199000 M...</td>\n",
       "      <td>NaN</td>\n",
       "      <td>sc</td>\n",
       "      <td>34.9352</td>\n",
       "      <td>-81.9654</td>\n",
       "    </tr>\n",
       "    <tr>\n",
       "      <th>435846</th>\n",
       "      <td>7120896708</td>\n",
       "      <td>https://oregoncoast.craigslist.org/cto/d/corne...</td>\n",
       "      <td>oregon coast</td>\n",
       "      <td>https://oregoncoast.craigslist.org</td>\n",
       "      <td>2450</td>\n",
       "      <td>2001.0</td>\n",
       "      <td>ford</td>\n",
       "      <td>focus</td>\n",
       "      <td>good</td>\n",
       "      <td>4 cylinders</td>\n",
       "      <td>...</td>\n",
       "      <td>rwd</td>\n",
       "      <td>compact</td>\n",
       "      <td>other</td>\n",
       "      <td>black</td>\n",
       "      <td>https://images.craigslist.org/00707_6cmfCa9Pc9...</td>\n",
       "      <td>I am selling my ford focus 2001 SE, 130 thousa...</td>\n",
       "      <td>NaN</td>\n",
       "      <td>or</td>\n",
       "      <td>45.5272</td>\n",
       "      <td>-123.0950</td>\n",
       "    </tr>\n",
       "    <tr>\n",
       "      <th>435847</th>\n",
       "      <td>7120885819</td>\n",
       "      <td>https://oregoncoast.craigslist.org/ctd/d/portl...</td>\n",
       "      <td>oregon coast</td>\n",
       "      <td>https://oregoncoast.craigslist.org</td>\n",
       "      <td>8995</td>\n",
       "      <td>2013.0</td>\n",
       "      <td>mazda</td>\n",
       "      <td>mazda3</td>\n",
       "      <td>NaN</td>\n",
       "      <td>NaN</td>\n",
       "      <td>...</td>\n",
       "      <td>fwd</td>\n",
       "      <td>NaN</td>\n",
       "      <td>sedan</td>\n",
       "      <td>NaN</td>\n",
       "      <td>https://images.craigslist.org/00j0j_jEvFN3iSx1...</td>\n",
       "      <td>Simple Easy Car BuyingNo Games No Gimmicks    ...</td>\n",
       "      <td>NaN</td>\n",
       "      <td>or</td>\n",
       "      <td>45.5231</td>\n",
       "      <td>-122.5790</td>\n",
       "    </tr>\n",
       "    <tr>\n",
       "      <th>435848</th>\n",
       "      <td>7112215161</td>\n",
       "      <td>https://rapidcity.craigslist.org/ctd/d/rapid-c...</td>\n",
       "      <td>rapid city / west SD</td>\n",
       "      <td>https://rapidcity.craigslist.org</td>\n",
       "      <td>6577</td>\n",
       "      <td>2010.0</td>\n",
       "      <td>dodge</td>\n",
       "      <td>grand caravan</td>\n",
       "      <td>NaN</td>\n",
       "      <td>NaN</td>\n",
       "      <td>...</td>\n",
       "      <td>fwd</td>\n",
       "      <td>NaN</td>\n",
       "      <td>mini-van</td>\n",
       "      <td>blue</td>\n",
       "      <td>https://images.craigslist.org/00f0f_5yUMSGZFBn...</td>\n",
       "      <td>2010 Dodge Grand Caravan SXT     Offered by: L...</td>\n",
       "      <td>NaN</td>\n",
       "      <td>sd</td>\n",
       "      <td>44.0804</td>\n",
       "      <td>-103.1910</td>\n",
       "    </tr>\n",
       "  </tbody>\n",
       "</table>\n",
       "<p>6 rows × 25 columns</p>\n",
       "</div>"
      ],
      "text/plain": [
       "                id                                                url  \\\n",
       "0       7119256118  https://mohave.craigslist.org/ctd/d/lake-havas...   \n",
       "1       7120880186  https://oregoncoast.craigslist.org/cto/d/warre...   \n",
       "2       7115048251  https://greenville.craigslist.org/cto/d/sparta...   \n",
       "435846  7120896708  https://oregoncoast.craigslist.org/cto/d/corne...   \n",
       "435847  7120885819  https://oregoncoast.craigslist.org/ctd/d/portl...   \n",
       "435848  7112215161  https://rapidcity.craigslist.org/ctd/d/rapid-c...   \n",
       "\n",
       "                      region                          region_url  price  \\\n",
       "0              mohave county       https://mohave.craigslist.org   3495   \n",
       "1               oregon coast  https://oregoncoast.craigslist.org  13750   \n",
       "2       greenville / upstate   https://greenville.craigslist.org   2300   \n",
       "435846          oregon coast  https://oregoncoast.craigslist.org   2450   \n",
       "435847          oregon coast  https://oregoncoast.craigslist.org   8995   \n",
       "435848  rapid city / west SD    https://rapidcity.craigslist.org   6577   \n",
       "\n",
       "          year manufacturer          model  condition    cylinders  ... drive  \\\n",
       "0       2012.0         jeep        patriot   like new  4 cylinders  ...   NaN   \n",
       "1       2014.0          bmw   328i m-sport       good          NaN  ...   rwd   \n",
       "2       2001.0        dodge        caravan  excellent  6 cylinders  ...   NaN   \n",
       "435846  2001.0         ford          focus       good  4 cylinders  ...   rwd   \n",
       "435847  2013.0        mazda         mazda3        NaN          NaN  ...   fwd   \n",
       "435848  2010.0        dodge  grand caravan        NaN          NaN  ...   fwd   \n",
       "\n",
       "           size      type paint_color  \\\n",
       "0           NaN       NaN      silver   \n",
       "1           NaN     sedan        grey   \n",
       "2           NaN       NaN         NaN   \n",
       "435846  compact     other       black   \n",
       "435847      NaN     sedan         NaN   \n",
       "435848      NaN  mini-van        blue   \n",
       "\n",
       "                                                image_url  \\\n",
       "0       https://images.craigslist.org/00B0B_k2AXIJ21ok...   \n",
       "1       https://images.craigslist.org/00U0U_3cLk0WGOJ8...   \n",
       "2       https://images.craigslist.org/00k0k_t4WqYn5nDC...   \n",
       "435846  https://images.craigslist.org/00707_6cmfCa9Pc9...   \n",
       "435847  https://images.craigslist.org/00j0j_jEvFN3iSx1...   \n",
       "435848  https://images.craigslist.org/00f0f_5yUMSGZFBn...   \n",
       "\n",
       "                                              description county state  \\\n",
       "0       THIS 2012 JEEP PATRIOT IS A 4CYL. AC, STEREO, ...    NaN    az   \n",
       "1       Selling my 2014 BMW 328i with the following be...    NaN    or   \n",
       "2       01 DODGE CARAVAN,3.3 ENGINE,AUT TRANS,199000 M...    NaN    sc   \n",
       "435846  I am selling my ford focus 2001 SE, 130 thousa...    NaN    or   \n",
       "435847  Simple Easy Car BuyingNo Games No Gimmicks    ...    NaN    or   \n",
       "435848  2010 Dodge Grand Caravan SXT     Offered by: L...    NaN    sd   \n",
       "\n",
       "            lat      long  \n",
       "0       34.4554 -114.2690  \n",
       "1       46.1837 -123.8240  \n",
       "2       34.9352  -81.9654  \n",
       "435846  45.5272 -123.0950  \n",
       "435847  45.5231 -122.5790  \n",
       "435848  44.0804 -103.1910  \n",
       "\n",
       "[6 rows x 25 columns]"
      ]
     },
     "execution_count": 4,
     "metadata": {},
     "output_type": "execute_result"
    }
   ],
   "source": [
    "import numpy as np\n",
    "\n",
    "df = df_original.copy()\n",
    "\n",
    "df.iloc[np.r_[0:3, -3:0]]"
   ]
  },
  {
   "cell_type": "markdown",
   "metadata": {
    "papermill": {
     "duration": 0.105772,
     "end_time": "2020-09-15T16:03:49.989717",
     "exception": false,
     "start_time": "2020-09-15T16:03:49.883945",
     "status": "completed"
    },
    "tags": []
   },
   "source": [
    "### Cleaning the dataset\n",
    "\n",
    "Some of the dataset columns, such as url and region_url, seem irrelevant to this project, and some columns have NaN, or null, values. In addition, the price column, which represents our target variable (the values that our algorithm should predict), seems to lose its relevance sandwiched between all the other columns. We need to move it to the end of the dataset.\n",
    "\n",
    "Let us remove the irrelevant columns first."
   ]
  },
  {
   "cell_type": "code",
   "execution_count": 5,
   "metadata": {
    "execution": {
     "iopub.execute_input": "2020-09-15T16:03:50.288633Z",
     "iopub.status.busy": "2020-09-15T16:03:50.255324Z",
     "iopub.status.idle": "2020-09-15T16:03:50.344403Z",
     "shell.execute_reply": "2020-09-15T16:03:50.343602Z"
    },
    "papermill": {
     "duration": 0.245266,
     "end_time": "2020-09-15T16:03:50.344529",
     "exception": false,
     "start_time": "2020-09-15T16:03:50.099263",
     "status": "completed"
    },
    "tags": []
   },
   "outputs": [],
   "source": [
    "irrelevant_cols = ['id', 'url', 'region_url', 'vin', 'image_url', \\\n",
    "                   'description', 'county']\n",
    "\n",
    "df = df.drop(columns=irrelevant_cols)"
   ]
  },
  {
   "cell_type": "markdown",
   "metadata": {
    "papermill": {
     "duration": 0.106061,
     "end_time": "2020-09-15T16:03:50.556762",
     "exception": false,
     "start_time": "2020-09-15T16:03:50.450701",
     "status": "completed"
    },
    "tags": []
   },
   "source": [
    "Next, let us reposition the price column."
   ]
  },
  {
   "cell_type": "code",
   "execution_count": 6,
   "metadata": {
    "execution": {
     "iopub.execute_input": "2020-09-15T16:03:50.887893Z",
     "iopub.status.busy": "2020-09-15T16:03:50.854110Z",
     "iopub.status.idle": "2020-09-15T16:03:50.920654Z",
     "shell.execute_reply": "2020-09-15T16:03:50.921298Z"
    },
    "papermill": {
     "duration": 0.209224,
     "end_time": "2020-09-15T16:03:50.921462",
     "exception": false,
     "start_time": "2020-09-15T16:03:50.712238",
     "status": "completed"
    },
    "tags": []
   },
   "outputs": [],
   "source": [
    "col_list = ['price']\n",
    "rearranged_cols = np.hstack((df.columns.difference(col_list, sort=False), col_list))\n",
    "\n",
    "df = df.reindex(columns=rearranged_cols)"
   ]
  },
  {
   "cell_type": "markdown",
   "metadata": {
    "papermill": {
     "duration": 0.108216,
     "end_time": "2020-09-15T16:03:51.142358",
     "exception": false,
     "start_time": "2020-09-15T16:03:51.034142",
     "status": "completed"
    },
    "tags": []
   },
   "source": [
    "We will also make sure that all string values in the dataset are in lowercase and do not contain any unnecessary spaces.\n",
    "\n",
    "Here is the code that we will use:"
   ]
  },
  {
   "cell_type": "code",
   "execution_count": 7,
   "metadata": {
    "execution": {
     "iopub.execute_input": "2020-09-15T16:03:51.407455Z",
     "iopub.status.busy": "2020-09-15T16:03:51.406598Z",
     "iopub.status.idle": "2020-09-15T16:03:57.052675Z",
     "shell.execute_reply": "2020-09-15T16:03:57.052022Z"
    },
    "papermill": {
     "duration": 5.804649,
     "end_time": "2020-09-15T16:03:57.052855",
     "exception": false,
     "start_time": "2020-09-15T16:03:51.248206",
     "status": "completed"
    },
    "tags": []
   },
   "outputs": [],
   "source": [
    "for column in df.columns[1:]:\n",
    "    if df[column].dtype == 'object':\n",
    "        df[column] = df[column].str.lower().str.strip()"
   ]
  },
  {
   "cell_type": "markdown",
   "metadata": {
    "papermill": {
     "duration": 0.108379,
     "end_time": "2020-09-15T16:03:57.271171",
     "exception": false,
     "start_time": "2020-09-15T16:03:57.162792",
     "status": "completed"
    },
    "tags": []
   },
   "source": [
    "Here is the structure of the edited dataset:"
   ]
  },
  {
   "cell_type": "code",
   "execution_count": 8,
   "metadata": {
    "execution": {
     "iopub.execute_input": "2020-09-15T16:03:58.048668Z",
     "iopub.status.busy": "2020-09-15T16:03:58.047293Z",
     "iopub.status.idle": "2020-09-15T16:03:58.123626Z",
     "shell.execute_reply": "2020-09-15T16:03:58.122923Z"
    },
    "papermill": {
     "duration": 0.743243,
     "end_time": "2020-09-15T16:03:58.123756",
     "exception": false,
     "start_time": "2020-09-15T16:03:57.380513",
     "status": "completed"
    },
    "tags": []
   },
   "outputs": [
    {
     "name": "stdout",
     "output_type": "stream",
     "text": [
      "<class 'pandas.core.frame.DataFrame'>\n",
      "RangeIndex: 435849 entries, 0 to 435848\n",
      "Data columns (total 18 columns):\n",
      " #   Column        Non-Null Count   Dtype  \n",
      "---  ------        --------------   -----  \n",
      " 0   region        435849 non-null  object \n",
      " 1   year          434732 non-null  float64\n",
      " 2   manufacturer  415102 non-null  object \n",
      " 3   model         429650 non-null  object \n",
      " 4   condition     249043 non-null  object \n",
      " 5   cylinders     269465 non-null  object \n",
      " 6   fuel          432858 non-null  object \n",
      " 7   odometer      360701 non-null  float64\n",
      " 8   title_status  434043 non-null  object \n",
      " 9   transmission  433703 non-null  object \n",
      " 10  drive         313838 non-null  object \n",
      " 11  size          139888 non-null  object \n",
      " 12  type          318741 non-null  object \n",
      " 13  paint_color   300602 non-null  object \n",
      " 14  state         435849 non-null  object \n",
      " 15  lat           427614 non-null  float64\n",
      " 16  long          427614 non-null  float64\n",
      " 17  price         435849 non-null  int64  \n",
      "dtypes: float64(4), int64(1), object(13)\n",
      "memory usage: 59.9+ MB\n"
     ]
    }
   ],
   "source": [
    "df.info()"
   ]
  },
  {
   "cell_type": "markdown",
   "metadata": {
    "papermill": {
     "duration": 0.1069,
     "end_time": "2020-09-15T16:03:58.337954",
     "exception": false,
     "start_time": "2020-09-15T16:03:58.231054",
     "status": "completed"
    },
    "tags": []
   },
   "source": [
    "So, some of the columns have been removed and the price column is at the end of the dataset. However, there are still quite a few columns with null values.\n",
    "\n",
    "Let us determine the total number of null values in each column."
   ]
  },
  {
   "cell_type": "code",
   "execution_count": 9,
   "metadata": {
    "execution": {
     "iopub.execute_input": "2020-09-15T16:03:59.107880Z",
     "iopub.status.busy": "2020-09-15T16:03:59.107028Z",
     "iopub.status.idle": "2020-09-15T16:03:59.130267Z",
     "shell.execute_reply": "2020-09-15T16:03:59.129434Z"
    },
    "papermill": {
     "duration": 0.68507,
     "end_time": "2020-09-15T16:03:59.130407",
     "exception": false,
     "start_time": "2020-09-15T16:03:58.445337",
     "status": "completed"
    },
    "tags": []
   },
   "outputs": [
    {
     "data": {
      "text/plain": [
       "region               0\n",
       "year              1117\n",
       "manufacturer     20747\n",
       "model             6199\n",
       "condition       186806\n",
       "cylinders       166384\n",
       "fuel              2991\n",
       "odometer         75148\n",
       "title_status      1806\n",
       "transmission      2146\n",
       "drive           122011\n",
       "size            295961\n",
       "type            117108\n",
       "paint_color     135247\n",
       "state                0\n",
       "lat               8235\n",
       "long              8235\n",
       "price                0\n",
       "dtype: int64"
      ]
     },
     "execution_count": 9,
     "metadata": {},
     "output_type": "execute_result"
    }
   ],
   "source": [
    "df.isnull().sum()"
   ]
  },
  {
   "cell_type": "markdown",
   "metadata": {
    "papermill": {
     "duration": 0.107387,
     "end_time": "2020-09-15T16:03:59.344616",
     "exception": false,
     "start_time": "2020-09-15T16:03:59.237229",
     "status": "completed"
    },
    "tags": []
   },
   "source": [
    "Let us also depict the distribution of the null values via a graph."
   ]
  },
  {
   "cell_type": "code",
   "execution_count": 10,
   "metadata": {
    "execution": {
     "iopub.execute_input": "2020-09-15T16:03:59.570192Z",
     "iopub.status.busy": "2020-09-15T16:03:59.569328Z",
     "iopub.status.idle": "2020-09-15T16:04:08.166008Z",
     "shell.execute_reply": "2020-09-15T16:04:08.165271Z"
    },
    "papermill": {
     "duration": 8.713796,
     "end_time": "2020-09-15T16:04:08.166167",
     "exception": false,
     "start_time": "2020-09-15T16:03:59.452371",
     "status": "completed"
    },
    "tags": []
   },
   "outputs": [
    {
     "data": {
      "image/png": "[encoded data removed]",
      "text/plain": [
       "<Figure size 432x288 with 2 Axes>"
      ]
     },
     "metadata": {},
     "output_type": "display_data"
    }
   ],
   "source": [
    "import seaborn as sns\n",
    "import matplotlib.pyplot as plt\n",
    "\n",
    "heat_map = sns.heatmap(df.isnull(), yticklabels=False, cbar=True, cmap='Blues')\n",
    "_ = heat_map.set_xticklabels(heat_map.get_xticklabels(), color='#6eafd7')"
   ]
  },
  {
   "cell_type": "markdown",
   "metadata": {
    "papermill": {
     "duration": 0.108257,
     "end_time": "2020-09-15T16:04:08.384043",
     "exception": false,
     "start_time": "2020-09-15T16:04:08.275786",
     "status": "completed"
    },
    "tags": []
   },
   "source": [
    "Missing values can lead to errors in machine-learning models. To avoid these errors, we can use the following workarounds:\n",
    "\n",
    "- Remove selected rows that contain missing values.\n",
    "\n",
    "- Replace missing values with estimates by using scikit-learn imputers.\n",
    "\n",
    "As we want our algorithms to be accurate, we must retain as much of the car data as possible. This means that we will have to impute many of the missing values. At the same time, we want to minimize instances of incorrect data. So, we will delete selected rows as&nbsp;well.\n",
    "\n",
    "We will first impute specific values. We will fill out the numerical columns of the dataset by using the Extratreesregressor imputer of scikit-learn. And, to fill out the categorical columns, we will use BayesianRidge.\n",
    "\n",
    "How do Extratreesregressor and BayesianRidge work?\n",
    "\n",
    "Extratreesregressor divides a target dataset into smaller subsets. Then, it uses multiple decision trees, or extra trees, on the subsets to determine how various attributes of the dataset interrelate. It combines the findings of the trees to generate an average value for each null&nbsp;field.\n",
    "\n",
    "An imputer of the Extratreesregressor type prevents overfitting. In other words, it allows us to create models that can transfer what they learn from training datasets to other, real-world datasets and make highly accurate predictions.\n",
    "\n",
    "Unlike Extratreesregressor, BayesianRidge uses linear regression to determine relationships between variables. Based on these relationships, it generates regularized values for non-null fields.\n",
    "\n",
    "To be able to use the Extratreesregressor and BayesianRidge imputers, we will import relevant modules. We will also save the initializers of these imputers in a&nbsp;list:"
   ]
  },
  {
   "cell_type": "code",
   "execution_count": 11,
   "metadata": {
    "execution": {
     "iopub.execute_input": "2020-09-15T16:04:08.608022Z",
     "iopub.status.busy": "2020-09-15T16:04:08.607213Z",
     "iopub.status.idle": "2020-09-15T16:04:09.074100Z",
     "shell.execute_reply": "2020-09-15T16:04:09.073182Z"
    },
    "papermill": {
     "duration": 0.582577,
     "end_time": "2020-09-15T16:04:09.074238",
     "exception": false,
     "start_time": "2020-09-15T16:04:08.491661",
     "status": "completed"
    },
    "tags": []
   },
   "outputs": [],
   "source": [
    "import warnings\n",
    "warnings.filterwarnings('ignore')\n",
    "\n",
    "from sklearn.experimental import enable_iterative_imputer\n",
    "\n",
    "from sklearn import preprocessing\n",
    "from sklearn.impute import IterativeImputer\n",
    "from sklearn.linear_model import BayesianRidge\n",
    "from sklearn.ensemble import ExtraTreesRegressor\n",
    "\n",
    "imputers = [\n",
    "    BayesianRidge(),\n",
    "    ExtraTreesRegressor(n_estimators=10, random_state=0),\n",
    "]"
   ]
  },
  {
   "cell_type": "markdown",
   "metadata": {
    "papermill": {
     "duration": 0.112147,
     "end_time": "2020-09-15T16:04:09.301189",
     "exception": false,
     "start_time": "2020-09-15T16:04:09.189042",
     "status": "completed"
    },
    "tags": []
   },
   "source": [
    "Next, we will organize some of its column names into two groups, numerical and categorical. We will use the corresponding columns as independent variables for our models.\n",
    "\n",
    "Here are the groups:"
   ]
  },
  {
   "cell_type": "code",
   "execution_count": 12,
   "metadata": {
    "execution": {
     "iopub.execute_input": "2020-09-15T16:04:09.533442Z",
     "iopub.status.busy": "2020-09-15T16:04:09.532584Z",
     "iopub.status.idle": "2020-09-15T16:04:09.536488Z",
     "shell.execute_reply": "2020-09-15T16:04:09.535832Z"
    },
    "papermill": {
     "duration": 0.125708,
     "end_time": "2020-09-15T16:04:09.536626",
     "exception": false,
     "start_time": "2020-09-15T16:04:09.410918",
     "status": "completed"
    },
    "tags": []
   },
   "outputs": [],
   "source": [
    "from collections import Counter\n",
    "\n",
    "numerical = ['year', 'odometer', 'lat', 'long']\n",
    "\n",
    "categorical = list((Counter(df.columns) -\\\n",
    "                    Counter(numerical + ['manufacturer', 'model', 'price'])).elements())"
   ]
  },
  {
   "cell_type": "markdown",
   "metadata": {
    "papermill": {
     "duration": 0.11201,
     "end_time": "2020-09-15T16:04:09.761743",
     "exception": false,
     "start_time": "2020-09-15T16:04:09.649733",
     "status": "completed"
    },
    "tags": []
   },
   "source": [
    "We excluded manufacturer and model from the categorical list because we want to avoid any incorrect combinations of manufacturers and models. And we excluded price because it is the dependent variable.\n",
    "\n",
    "Now, let us use the items in the `imputers` list to generate values.\n",
    "\n",
    "First, we will use Extratreesregressor to fill out the null fields of the numerical columns."
   ]
  },
  {
   "cell_type": "code",
   "execution_count": 13,
   "metadata": {
    "execution": {
     "iopub.execute_input": "2020-09-15T16:04:09.994413Z",
     "iopub.status.busy": "2020-09-15T16:04:09.993632Z",
     "iopub.status.idle": "2020-09-15T16:07:43.318288Z",
     "shell.execute_reply": "2020-09-15T16:07:43.317440Z"
    },
    "papermill": {
     "duration": 213.449057,
     "end_time": "2020-09-15T16:07:43.318533",
     "exception": false,
     "start_time": "2020-09-15T16:04:09.869476",
     "status": "completed"
    },
    "tags": []
   },
   "outputs": [],
   "source": [
    "sr_numerical = df[numerical]\n",
    "imp_numerical = IterativeImputer(imputers[1])\n",
    "imputed_vals = imp_numerical.fit_transform(sr_numerical)\n",
    "df[numerical] = imputed_vals"
   ]
  },
  {
   "cell_type": "markdown",
   "metadata": {
    "papermill": {
     "duration": 0.109034,
     "end_time": "2020-09-15T16:07:43.538392",
     "exception": false,
     "start_time": "2020-09-15T16:07:43.429358",
     "status": "completed"
    },
    "tags": []
   },
   "source": [
    "The numerical columns do not have any null values now."
   ]
  },
  {
   "cell_type": "code",
   "execution_count": 14,
   "metadata": {
    "execution": {
     "iopub.execute_input": "2020-09-15T16:07:44.323493Z",
     "iopub.status.busy": "2020-09-15T16:07:44.322701Z",
     "iopub.status.idle": "2020-09-15T16:07:44.347779Z",
     "shell.execute_reply": "2020-09-15T16:07:44.347075Z"
    },
    "papermill": {
     "duration": 0.69731,
     "end_time": "2020-09-15T16:07:44.347913",
     "exception": false,
     "start_time": "2020-09-15T16:07:43.650603",
     "status": "completed"
    },
    "tags": []
   },
   "outputs": [
    {
     "data": {
      "text/plain": [
       "year        0\n",
       "odometer    0\n",
       "lat         0\n",
       "long        0\n",
       "dtype: int64"
      ]
     },
     "execution_count": 14,
     "metadata": {},
     "output_type": "execute_result"
    }
   ],
   "source": [
    "df.isnull().sum()[numerical]"
   ]
  },
  {
   "cell_type": "markdown",
   "metadata": {
    "papermill": {
     "duration": 0.112097,
     "end_time": "2020-09-15T16:07:44.576424",
     "exception": false,
     "start_time": "2020-09-15T16:07:44.464327",
     "status": "completed"
    },
    "tags": []
   },
   "source": [
    "Next, we will use BayesianRidge to generate values for the null fields of the categorical columns.\n",
    "\n",
    "The BayesianRidge algorithm will generate the required values based on the data that already exist in the categorical columns. But the algorithm cannot understand the existing data in their raw form because they are strings. We will have to encode these strings first.\n",
    "\n",
    "Here is a function that can do the encoding&nbsp;for&nbsp;us:"
   ]
  },
  {
   "cell_type": "code",
   "execution_count": 15,
   "metadata": {
    "execution": {
     "iopub.execute_input": "2020-09-15T16:07:44.808432Z",
     "iopub.status.busy": "2020-09-15T16:07:44.807136Z",
     "iopub.status.idle": "2020-09-15T16:07:44.810778Z",
     "shell.execute_reply": "2020-09-15T16:07:44.810051Z"
    },
    "papermill": {
     "duration": 0.122393,
     "end_time": "2020-09-15T16:07:44.810900",
     "exception": false,
     "start_time": "2020-09-15T16:07:44.688507",
     "status": "completed"
    },
    "tags": []
   },
   "outputs": [],
   "source": [
    "def encode(data_col):\n",
    "    '''A function that transforms non-null values'''\n",
    "    vals = np.array(data_col.dropna())\n",
    "    # Reshaping the non-null data of a column\n",
    "    reshaped_data = vals.reshape(-1,1)\n",
    "    # Encoding the reshaped data\n",
    "    encoded_data = encoder.fit_transform(reshaped_data)\n",
    "    # Assigning the encoded values to the corresponding column values\n",
    "    data_col.loc[data_col.notnull()] = np.squeeze(encoded_data)\n",
    "    return data_col"
   ]
  },
  {
   "cell_type": "markdown",
   "metadata": {
    "papermill": {
     "duration": 0.113572,
     "end_time": "2020-09-15T16:07:45.038633",
     "exception": false,
     "start_time": "2020-09-15T16:07:44.925061",
     "status": "completed"
    },
    "tags": []
   },
   "source": [
    "Now, let us use the `encode` function along with other code to update the categorical columns."
   ]
  },
  {
   "cell_type": "code",
   "execution_count": 16,
   "metadata": {
    "execution": {
     "iopub.execute_input": "2020-09-15T16:07:45.379783Z",
     "iopub.status.busy": "2020-09-15T16:07:45.331596Z",
     "iopub.status.idle": "2020-09-15T16:07:49.577306Z",
     "shell.execute_reply": "2020-09-15T16:07:49.576515Z"
    },
    "papermill": {
     "duration": 4.425054,
     "end_time": "2020-09-15T16:07:49.577440",
     "exception": false,
     "start_time": "2020-09-15T16:07:45.152386",
     "status": "completed"
    },
    "tags": []
   },
   "outputs": [],
   "source": [
    "sr_categorical = df[categorical]\n",
    "encoder = preprocessing.LabelEncoder()\n",
    "\n",
    "# Using a for loop to iterate through each categorical column and\n",
    "# filling out its null fields\n",
    "for column in categorical:\n",
    "    encode(sr_categorical[column])\n",
    "    imp_categorical = IterativeImputer(BayesianRidge())\n",
    "    imputed_vals_cat = imp_categorical.fit_transform(sr_categorical[column].values.reshape(-1, 1))\n",
    "    imputed_vals_cat = imputed_vals_cat.astype('int64')\n",
    "    imputed_vals_cat = pd.DataFrame(imputed_vals_cat)\n",
    "    imputed_vals_cat = encoder.inverse_transform(imputed_vals_cat.values.reshape(-1, 1))\n",
    "    sr_categorical[column] = imputed_vals_cat\n",
    "\n",
    "df[categorical]= sr_categorical"
   ]
  },
  {
   "cell_type": "markdown",
   "metadata": {
    "papermill": {
     "duration": 0.110824,
     "end_time": "2020-09-15T16:07:49.799195",
     "exception": false,
     "start_time": "2020-09-15T16:07:49.688371",
     "status": "completed"
    },
    "tags": []
   },
   "source": [
    "The categorical columns also don't have any null values&nbsp;now."
   ]
  },
  {
   "cell_type": "code",
   "execution_count": 17,
   "metadata": {
    "execution": {
     "iopub.execute_input": "2020-09-15T16:07:50.632019Z",
     "iopub.status.busy": "2020-09-15T16:07:50.630626Z",
     "iopub.status.idle": "2020-09-15T16:07:50.654290Z",
     "shell.execute_reply": "2020-09-15T16:07:50.653542Z"
    },
    "papermill": {
     "duration": 0.745703,
     "end_time": "2020-09-15T16:07:50.654412",
     "exception": false,
     "start_time": "2020-09-15T16:07:49.908709",
     "status": "completed"
    },
    "tags": []
   },
   "outputs": [
    {
     "data": {
      "text/plain": [
       "region          0\n",
       "condition       0\n",
       "cylinders       0\n",
       "fuel            0\n",
       "title_status    0\n",
       "transmission    0\n",
       "drive           0\n",
       "size            0\n",
       "type            0\n",
       "paint_color     0\n",
       "state           0\n",
       "dtype: int64"
      ]
     },
     "execution_count": 17,
     "metadata": {},
     "output_type": "execute_result"
    }
   ],
   "source": [
    "df.isnull().sum()[categorical]"
   ]
  },
  {
   "cell_type": "markdown",
   "metadata": {
    "papermill": {
     "duration": 0.109414,
     "end_time": "2020-09-15T16:07:50.875389",
     "exception": false,
     "start_time": "2020-09-15T16:07:50.765975",
     "status": "completed"
    },
    "tags": []
   },
   "source": [
    "Here are the first five rows of the updated dataset:"
   ]
  },
  {
   "cell_type": "code",
   "execution_count": 18,
   "metadata": {
    "execution": {
     "iopub.execute_input": "2020-09-15T16:07:51.133948Z",
     "iopub.status.busy": "2020-09-15T16:07:51.132893Z",
     "iopub.status.idle": "2020-09-15T16:07:51.138232Z",
     "shell.execute_reply": "2020-09-15T16:07:51.137610Z"
    },
    "papermill": {
     "duration": 0.151077,
     "end_time": "2020-09-15T16:07:51.138353",
     "exception": false,
     "start_time": "2020-09-15T16:07:50.987276",
     "status": "completed"
    },
    "tags": []
   },
   "outputs": [
    {
     "data": {
      "text/html": [
       "<div>\n",
       "<style scoped>\n",
       "    .dataframe tbody tr th:only-of-type {\n",
       "        vertical-align: middle;\n",
       "    }\n",
       "\n",
       "    .dataframe tbody tr th {\n",
       "        vertical-align: top;\n",
       "    }\n",
       "\n",
       "    .dataframe thead th {\n",
       "        text-align: right;\n",
       "    }\n",
       "</style>\n",
       "<table border=\"1\" class=\"dataframe\">\n",
       "  <thead>\n",
       "    <tr style=\"text-align: right;\">\n",
       "      <th></th>\n",
       "      <th>region</th>\n",
       "      <th>year</th>\n",
       "      <th>manufacturer</th>\n",
       "      <th>model</th>\n",
       "      <th>condition</th>\n",
       "      <th>cylinders</th>\n",
       "      <th>fuel</th>\n",
       "      <th>odometer</th>\n",
       "      <th>title_status</th>\n",
       "      <th>transmission</th>\n",
       "      <th>drive</th>\n",
       "      <th>size</th>\n",
       "      <th>type</th>\n",
       "      <th>paint_color</th>\n",
       "      <th>state</th>\n",
       "      <th>lat</th>\n",
       "      <th>long</th>\n",
       "      <th>price</th>\n",
       "    </tr>\n",
       "  </thead>\n",
       "  <tbody>\n",
       "    <tr>\n",
       "      <th>0</th>\n",
       "      <td>mohave county</td>\n",
       "      <td>2012.0</td>\n",
       "      <td>jeep</td>\n",
       "      <td>patriot</td>\n",
       "      <td>like new</td>\n",
       "      <td>4 cylinders</td>\n",
       "      <td>gas</td>\n",
       "      <td>247071.0</td>\n",
       "      <td>clean</td>\n",
       "      <td>automatic</td>\n",
       "      <td>4wd</td>\n",
       "      <td>full-size</td>\n",
       "      <td>pickup</td>\n",
       "      <td>silver</td>\n",
       "      <td>az</td>\n",
       "      <td>34.4554</td>\n",
       "      <td>-114.2690</td>\n",
       "      <td>3495</td>\n",
       "    </tr>\n",
       "    <tr>\n",
       "      <th>1</th>\n",
       "      <td>oregon coast</td>\n",
       "      <td>2014.0</td>\n",
       "      <td>bmw</td>\n",
       "      <td>328i m-sport</td>\n",
       "      <td>good</td>\n",
       "      <td>5 cylinders</td>\n",
       "      <td>gas</td>\n",
       "      <td>76237.0</td>\n",
       "      <td>clean</td>\n",
       "      <td>automatic</td>\n",
       "      <td>rwd</td>\n",
       "      <td>full-size</td>\n",
       "      <td>sedan</td>\n",
       "      <td>grey</td>\n",
       "      <td>or</td>\n",
       "      <td>46.1837</td>\n",
       "      <td>-123.8240</td>\n",
       "      <td>13750</td>\n",
       "    </tr>\n",
       "    <tr>\n",
       "      <th>2</th>\n",
       "      <td>greenville / upstate</td>\n",
       "      <td>2001.0</td>\n",
       "      <td>dodge</td>\n",
       "      <td>caravan</td>\n",
       "      <td>excellent</td>\n",
       "      <td>6 cylinders</td>\n",
       "      <td>gas</td>\n",
       "      <td>199000.0</td>\n",
       "      <td>clean</td>\n",
       "      <td>automatic</td>\n",
       "      <td>4wd</td>\n",
       "      <td>full-size</td>\n",
       "      <td>pickup</td>\n",
       "      <td>grey</td>\n",
       "      <td>sc</td>\n",
       "      <td>34.9352</td>\n",
       "      <td>-81.9654</td>\n",
       "      <td>2300</td>\n",
       "    </tr>\n",
       "    <tr>\n",
       "      <th>3</th>\n",
       "      <td>mohave county</td>\n",
       "      <td>2004.0</td>\n",
       "      <td>chevrolet</td>\n",
       "      <td>colorado ls</td>\n",
       "      <td>excellent</td>\n",
       "      <td>5 cylinders</td>\n",
       "      <td>gas</td>\n",
       "      <td>54000.0</td>\n",
       "      <td>clean</td>\n",
       "      <td>automatic</td>\n",
       "      <td>rwd</td>\n",
       "      <td>mid-size</td>\n",
       "      <td>pickup</td>\n",
       "      <td>red</td>\n",
       "      <td>az</td>\n",
       "      <td>34.4783</td>\n",
       "      <td>-114.2710</td>\n",
       "      <td>9000</td>\n",
       "    </tr>\n",
       "    <tr>\n",
       "      <th>4</th>\n",
       "      <td>maine</td>\n",
       "      <td>2021.0</td>\n",
       "      <td>NaN</td>\n",
       "      <td>honda-nissan-kia-ford-hyundai-vw</td>\n",
       "      <td>fair</td>\n",
       "      <td>5 cylinders</td>\n",
       "      <td>other</td>\n",
       "      <td>70113.8</td>\n",
       "      <td>clean</td>\n",
       "      <td>other</td>\n",
       "      <td>4wd</td>\n",
       "      <td>full-size</td>\n",
       "      <td>pickup</td>\n",
       "      <td>grey</td>\n",
       "      <td>me</td>\n",
       "      <td>44.4699</td>\n",
       "      <td>-68.8963</td>\n",
       "      <td>0</td>\n",
       "    </tr>\n",
       "  </tbody>\n",
       "</table>\n",
       "</div>"
      ],
      "text/plain": [
       "                 region    year manufacturer  \\\n",
       "0         mohave county  2012.0         jeep   \n",
       "1          oregon coast  2014.0          bmw   \n",
       "2  greenville / upstate  2001.0        dodge   \n",
       "3         mohave county  2004.0    chevrolet   \n",
       "4                 maine  2021.0          NaN   \n",
       "\n",
       "                              model  condition    cylinders   fuel  odometer  \\\n",
       "0                           patriot   like new  4 cylinders    gas  247071.0   \n",
       "1                      328i m-sport       good  5 cylinders    gas   76237.0   \n",
       "2                           caravan  excellent  6 cylinders    gas  199000.0   \n",
       "3                       colorado ls  excellent  5 cylinders    gas   54000.0   \n",
       "4  honda-nissan-kia-ford-hyundai-vw       fair  5 cylinders  other   70113.8   \n",
       "\n",
       "  title_status transmission drive       size    type paint_color state  \\\n",
       "0        clean    automatic   4wd  full-size  pickup      silver    az   \n",
       "1        clean    automatic   rwd  full-size   sedan        grey    or   \n",
       "2        clean    automatic   4wd  full-size  pickup        grey    sc   \n",
       "3        clean    automatic   rwd   mid-size  pickup         red    az   \n",
       "4        clean        other   4wd  full-size  pickup        grey    me   \n",
       "\n",
       "       lat      long  price  \n",
       "0  34.4554 -114.2690   3495  \n",
       "1  46.1837 -123.8240  13750  \n",
       "2  34.9352  -81.9654   2300  \n",
       "3  34.4783 -114.2710   9000  \n",
       "4  44.4699  -68.8963      0  "
      ]
     },
     "execution_count": 18,
     "metadata": {},
     "output_type": "execute_result"
    }
   ],
   "source": [
    "df.head()"
   ]
  },
  {
   "cell_type": "markdown",
   "metadata": {
    "papermill": {
     "duration": 0.110779,
     "end_time": "2020-09-15T16:07:51.362101",
     "exception": false,
     "start_time": "2020-09-15T16:07:51.251322",
     "status": "completed"
    },
    "tags": []
   },
   "source": [
    "In the 5th row, the model name seems unrealistic. There are other such model names in the dataset. Consider the output of the following code:"
   ]
  },
  {
   "cell_type": "code",
   "execution_count": 19,
   "metadata": {
    "execution": {
     "iopub.execute_input": "2020-09-15T16:07:51.598454Z",
     "iopub.status.busy": "2020-09-15T16:07:51.597597Z",
     "iopub.status.idle": "2020-09-15T16:07:51.959281Z",
     "shell.execute_reply": "2020-09-15T16:07:51.958529Z"
    },
    "papermill": {
     "duration": 0.481352,
     "end_time": "2020-09-15T16:07:51.959406",
     "exception": false,
     "start_time": "2020-09-15T16:07:51.478054",
     "status": "completed"
    },
    "tags": []
   },
   "outputs": [
    {
     "data": {
      "text/html": [
       "<div>\n",
       "<style scoped>\n",
       "    .dataframe tbody tr th:only-of-type {\n",
       "        vertical-align: middle;\n",
       "    }\n",
       "\n",
       "    .dataframe tbody tr th {\n",
       "        vertical-align: top;\n",
       "    }\n",
       "\n",
       "    .dataframe thead th {\n",
       "        text-align: right;\n",
       "    }\n",
       "</style>\n",
       "<table border=\"1\" class=\"dataframe\">\n",
       "  <thead>\n",
       "    <tr style=\"text-align: right;\">\n",
       "      <th></th>\n",
       "      <th>region</th>\n",
       "      <th>manufacturer</th>\n",
       "      <th>model</th>\n",
       "    </tr>\n",
       "  </thead>\n",
       "  <tbody>\n",
       "    <tr>\n",
       "      <th>5</th>\n",
       "      <td>maine</td>\n",
       "      <td>NaN</td>\n",
       "      <td>$500 down programs!!!</td>\n",
       "    </tr>\n",
       "    <tr>\n",
       "      <th>26442</th>\n",
       "      <td>boston</td>\n",
       "      <td>NaN</td>\n",
       "      <td>$500 down programs!</td>\n",
       "    </tr>\n",
       "    <tr>\n",
       "      <th>180783</th>\n",
       "      <td>las vegas</td>\n",
       "      <td>NaN</td>\n",
       "      <td>$500 down</td>\n",
       "    </tr>\n",
       "    <tr>\n",
       "      <th>235958</th>\n",
       "      <td>maine</td>\n",
       "      <td>NaN</td>\n",
       "      <td>$500 down programs!!!</td>\n",
       "    </tr>\n",
       "    <tr>\n",
       "      <th>244169</th>\n",
       "      <td>new hampshire</td>\n",
       "      <td>NaN</td>\n",
       "      <td>$500 down programs!!!</td>\n",
       "    </tr>\n",
       "    <tr>\n",
       "      <th>293551</th>\n",
       "      <td>new hampshire</td>\n",
       "      <td>NaN</td>\n",
       "      <td>$500 down programs!!!</td>\n",
       "    </tr>\n",
       "  </tbody>\n",
       "</table>\n",
       "</div>"
      ],
      "text/plain": [
       "               region manufacturer                  model\n",
       "5               maine          NaN  $500 down programs!!!\n",
       "26442          boston          NaN    $500 down programs!\n",
       "180783      las vegas          NaN              $500 down\n",
       "235958          maine          NaN  $500 down programs!!!\n",
       "244169  new hampshire          NaN  $500 down programs!!!\n",
       "293551  new hampshire          NaN  $500 down programs!!!"
      ]
     },
     "execution_count": 19,
     "metadata": {},
     "output_type": "execute_result"
    }
   ],
   "source": [
    "df.loc[:, ['region', 'manufacturer', 'model']]\\\n",
    "[df.model.str.startswith(r'$500', na=False)]"
   ]
  },
  {
   "cell_type": "markdown",
   "metadata": {
    "papermill": {
     "duration": 0.113343,
     "end_time": "2020-09-15T16:07:52.185840",
     "exception": false,
     "start_time": "2020-09-15T16:07:52.072497",
     "status": "completed"
    },
    "tags": []
   },
   "source": [
    "We will delete such unrealistic model names later.\n",
    "\n",
    "How many unique values does each dataset column have now?"
   ]
  },
  {
   "cell_type": "code",
   "execution_count": 20,
   "metadata": {
    "execution": {
     "iopub.execute_input": "2020-09-15T16:07:52.416649Z",
     "iopub.status.busy": "2020-09-15T16:07:52.415603Z",
     "iopub.status.idle": "2020-09-15T16:07:53.064819Z",
     "shell.execute_reply": "2020-09-15T16:07:53.064210Z"
    },
    "papermill": {
     "duration": 0.766398,
     "end_time": "2020-09-15T16:07:53.064949",
     "exception": false,
     "start_time": "2020-09-15T16:07:52.298551",
     "status": "completed"
    },
    "tags": []
   },
   "outputs": [
    {
     "data": {
      "text/plain": [
       "region             403\n",
       "year               272\n",
       "manufacturer        42\n",
       "model            32301\n",
       "condition            6\n",
       "cylinders            8\n",
       "fuel                 5\n",
       "odometer        140668\n",
       "title_status         6\n",
       "transmission         3\n",
       "drive                3\n",
       "size                 4\n",
       "type                13\n",
       "paint_color         12\n",
       "state               51\n",
       "lat              51345\n",
       "long             50578\n",
       "price            16742\n",
       "dtype: int64"
      ]
     },
     "execution_count": 20,
     "metadata": {},
     "output_type": "execute_result"
    }
   ],
   "source": [
    "df.apply(pd.Series.nunique)"
   ]
  },
  {
   "cell_type": "markdown",
   "metadata": {
    "papermill": {
     "duration": 0.112095,
     "end_time": "2020-09-15T16:07:53.289938",
     "exception": false,
     "start_time": "2020-09-15T16:07:53.177843",
     "status": "completed"
    },
    "tags": []
   },
   "source": [
    "The dataset has a large number of car models at present. We will remove many of these models later. This step will reduce the number of unrealistic model names in our dataset. It will also ensure that the dataset has an adequate number of cars of each model—a crucial factor when training machine-learning models.\n",
    "\n",
    "Aside from the number of models, another conspicuous fact is that there is one additional value in the state column. It is 'dc' and represents District of Columbia, which is a federal district rather than a state. We will let this inconsistency be. Car prices are probably different in District of Columbia compared to the rest of Washington state. Our algorithms should be able to figure this&nbsp;out.\n",
    "\n",
    "So, the dataset is fairly clean now. Let us save it as a CSV file."
   ]
  },
  {
   "cell_type": "code",
   "execution_count": 21,
   "metadata": {
    "execution": {
     "iopub.execute_input": "2020-09-15T16:07:53.522737Z",
     "iopub.status.busy": "2020-09-15T16:07:53.521754Z",
     "iopub.status.idle": "2020-09-15T16:08:00.634175Z",
     "shell.execute_reply": "2020-09-15T16:08:00.633484Z"
    },
    "papermill": {
     "duration": 7.232203,
     "end_time": "2020-09-15T16:08:00.634318",
     "exception": false,
     "start_time": "2020-09-15T16:07:53.402115",
     "status": "completed"
    },
    "tags": []
   },
   "outputs": [],
   "source": [
    "df.to_csv('vehicles_eda.csv', index=False)"
   ]
  },
  {
   "cell_type": "markdown",
   "metadata": {
    "papermill": {
     "duration": 0.112527,
     "end_time": "2020-09-15T16:08:00.858606",
     "exception": false,
     "start_time": "2020-09-15T16:08:00.746079",
     "status": "completed"
    },
    "tags": []
   },
   "source": [
    "Now we will proceed to visualizing the contents of the updated dataset and cleaning it further."
   ]
  },
  {
   "cell_type": "markdown",
   "metadata": {
    "papermill": {
     "duration": 0.11381,
     "end_time": "2020-09-15T16:08:01.085262",
     "exception": false,
     "start_time": "2020-09-15T16:08:00.971452",
     "status": "completed"
    },
    "tags": []
   },
   "source": [
    "<h2>Step 4: Visualization and further cleaning<a aria-pressed=\"true\" class=\"btn btn-primary btn-sm\" data-toggle=\"popover\" name='step4-desc' id='step4-desc' href=\"#step4\" role=\"button\" style=\"color: white; margin-left: 20px; target='_self'\">Go to steplist</a></h2>\n",
    "\n",
    "We will begin this step by looking at the distribution of the target variable, price. We will use a seaborn distplot for this purpose.\n",
    "\n",
    "As we want to create multiple seaborn distplots, let us write a reusable plot-drawing function first."
   ]
  },
  {
   "cell_type": "code",
   "execution_count": 22,
   "metadata": {
    "execution": {
     "iopub.execute_input": "2020-09-15T16:08:01.322195Z",
     "iopub.status.busy": "2020-09-15T16:08:01.318717Z",
     "iopub.status.idle": "2020-09-15T16:08:01.325308Z",
     "shell.execute_reply": "2020-09-15T16:08:01.324585Z"
    },
    "papermill": {
     "duration": 0.126792,
     "end_time": "2020-09-15T16:08:01.325428",
     "exception": false,
     "start_time": "2020-09-15T16:08:01.198636",
     "status": "completed"
    },
    "tags": []
   },
   "outputs": [],
   "source": [
    "sns.set(color_codes=True)\n",
    "sns.set(rc={'figure.figsize':(6,3)})\n",
    "\n",
    "def plot_histogram(col, color_val='#005c9d',\\\n",
    "                   x_label='Price [x10\\u2076 USD]', y_label='Frequency',\\\n",
    "                   title_text='Distribution of car prices'):\n",
    "    sns.distplot(col, kde=False, color=color_val)\n",
    "    \n",
    "    ax = plt.gca()\n",
    "    ax.set_xlabel(x_label)\n",
    "    ax.set_ylabel(y_label)\n",
    "    ax.set_title(title_text)\n",
    "    ax.get_xaxis().get_major_formatter().set_scientific(False)\n",
    "    ax.get_yaxis().get_major_formatter().set_scientific(False)\n",
    "\n",
    "    plt.show()"
   ]
  },
  {
   "cell_type": "markdown",
   "metadata": {
    "papermill": {
     "duration": 0.112781,
     "end_time": "2020-09-15T16:08:01.551237",
     "exception": false,
     "start_time": "2020-09-15T16:08:01.438456",
     "status": "completed"
    },
    "tags": []
   },
   "source": [
    "We will also import the CSV file that we had saved in the previous step."
   ]
  },
  {
   "cell_type": "code",
   "execution_count": 23,
   "metadata": {
    "execution": {
     "iopub.execute_input": "2020-09-15T16:08:01.782011Z",
     "iopub.status.busy": "2020-09-15T16:08:01.781207Z",
     "iopub.status.idle": "2020-09-15T16:08:03.222852Z",
     "shell.execute_reply": "2020-09-15T16:08:03.222196Z"
    },
    "papermill": {
     "duration": 1.558912,
     "end_time": "2020-09-15T16:08:03.223027",
     "exception": false,
     "start_time": "2020-09-15T16:08:01.664115",
     "status": "completed"
    },
    "tags": []
   },
   "outputs": [],
   "source": [
    "df = pd.read_csv('vehicles_eda.csv')"
   ]
  },
  {
   "cell_type": "markdown",
   "metadata": {
    "papermill": {
     "duration": 0.112467,
     "end_time": "2020-09-15T16:08:03.449294",
     "exception": false,
     "start_time": "2020-09-15T16:08:03.336827",
     "status": "completed"
    },
    "tags": []
   },
   "source": [
    "Using the `plot_histogram` function on the price column of the dataset, we get the following plot."
   ]
  },
  {
   "cell_type": "code",
   "execution_count": 24,
   "metadata": {
    "execution": {
     "iopub.execute_input": "2020-09-15T16:08:03.685367Z",
     "iopub.status.busy": "2020-09-15T16:08:03.684533Z",
     "iopub.status.idle": "2020-09-15T16:08:04.265268Z",
     "shell.execute_reply": "2020-09-15T16:08:04.264480Z"
    },
    "papermill": {
     "duration": 0.699947,
     "end_time": "2020-09-15T16:08:04.265399",
     "exception": false,
     "start_time": "2020-09-15T16:08:03.565452",
     "status": "completed"
    },
    "tags": []
   },
   "outputs": [
    {
     "data": {
      "image/png": "[encoded data removed]",
      "text/plain": [
       "<Figure size 432x216 with 1 Axes>"
      ]
     },
     "metadata": {},
     "output_type": "display_data"
    }
   ],
   "source": [
    "price_mill = df.price/10**6\n",
    "plot_histogram(price_mill)"
   ]
  },
  {
   "cell_type": "markdown",
   "metadata": {
    "papermill": {
     "duration": 0.115693,
     "end_time": "2020-09-15T16:08:04.497894",
     "exception": false,
     "start_time": "2020-09-15T16:08:04.382201",
     "status": "completed"
    },
    "tags": []
   },
   "source": [
    "The plot indicates that the prices are skewed toward the left, with the maximum number of cars hovering around&nbsp;zero.\n",
    "\n",
    "For a better perspective, let us view the distribution in the USD&nbsp;0–60,000 range."
   ]
  },
  {
   "cell_type": "code",
   "execution_count": 25,
   "metadata": {
    "execution": {
     "iopub.execute_input": "2020-09-15T16:08:04.733812Z",
     "iopub.status.busy": "2020-09-15T16:08:04.733020Z",
     "iopub.status.idle": "2020-09-15T16:08:05.253306Z",
     "shell.execute_reply": "2020-09-15T16:08:05.252614Z"
    },
    "papermill": {
     "duration": 0.641574,
     "end_time": "2020-09-15T16:08:05.253445",
     "exception": false,
     "start_time": "2020-09-15T16:08:04.611871",
     "status": "completed"
    },
    "tags": []
   },
   "outputs": [
    {
     "data": {
      "image/png": "[encoded data removed]",
      "text/plain": [
       "<Figure size 432x216 with 1 Axes>"
      ]
     },
     "metadata": {},
     "output_type": "display_data"
    }
   ],
   "source": [
    "plot_histogram(df.price[df.price<60000])"
   ]
  },
  {
   "cell_type": "markdown",
   "metadata": {
    "papermill": {
     "duration": 0.115799,
     "end_time": "2020-09-15T16:08:05.485559",
     "exception": false,
     "start_time": "2020-09-15T16:08:05.369760",
     "status": "completed"
    },
    "tags": []
   },
   "source": [
    "Apparently, a large number of cars in the database are priced at 0. Here is code that proves this:"
   ]
  },
  {
   "cell_type": "code",
   "execution_count": 26,
   "metadata": {
    "execution": {
     "iopub.execute_input": "2020-09-15T16:08:05.724738Z",
     "iopub.status.busy": "2020-09-15T16:08:05.723891Z",
     "iopub.status.idle": "2020-09-15T16:08:05.739265Z",
     "shell.execute_reply": "2020-09-15T16:08:05.738496Z"
    },
    "papermill": {
     "duration": 0.138017,
     "end_time": "2020-09-15T16:08:05.739441",
     "exception": false,
     "start_time": "2020-09-15T16:08:05.601424",
     "status": "completed"
    },
    "tags": []
   },
   "outputs": [
    {
     "name": "stdout",
     "output_type": "stream",
     "text": [
      "Price:  0 \n",
      "Counts:  30701\n",
      "\n",
      "Ten most frequently occurring prices:\n",
      "\n",
      "0       30701\n",
      "6995     3964\n",
      "7995     3877\n",
      "4500     3822\n",
      "5995     3748\n",
      "3500     3727\n",
      "8995     3667\n",
      "5500     3494\n",
      "6500     3408\n",
      "9995     3369\n",
      "Name: price, dtype: int64\n"
     ]
    }
   ],
   "source": [
    "price_counts = df.price.value_counts()\n",
    "print('Price: ', price_counts.index[0], '\\nCounts: ', price_counts.values[0])\n",
    "print('\\nTen most frequently occurring prices:\\n')\n",
    "print(price_counts[:10])"
   ]
  },
  {
   "cell_type": "markdown",
   "metadata": {
    "papermill": {
     "duration": 0.11404,
     "end_time": "2020-09-15T16:08:05.968699",
     "exception": false,
     "start_time": "2020-09-15T16:08:05.854659",
     "status": "completed"
    },
    "tags": []
   },
   "source": [
    "How do the mean and the median of the prices compare? "
   ]
  },
  {
   "cell_type": "code",
   "execution_count": 27,
   "metadata": {
    "execution": {
     "iopub.execute_input": "2020-09-15T16:08:06.212528Z",
     "iopub.status.busy": "2020-09-15T16:08:06.211332Z",
     "iopub.status.idle": "2020-09-15T16:08:06.225159Z",
     "shell.execute_reply": "2020-09-15T16:08:06.224146Z"
    },
    "papermill": {
     "duration": 0.137918,
     "end_time": "2020-09-15T16:08:06.225329",
     "exception": false,
     "start_time": "2020-09-15T16:08:06.087411",
     "status": "completed"
    },
    "tags": []
   },
   "outputs": [
    {
     "name": "stdout",
     "output_type": "stream",
     "text": [
      "Mean: 134912.71421524428\n",
      "\n",
      "Median:  9995.0\n"
     ]
    }
   ],
   "source": [
    "print('Mean:', df.price.mean())\n",
    "print()\n",
    "print('Median: ', df.price.median())"
   ]
  },
  {
   "cell_type": "markdown",
   "metadata": {
    "papermill": {
     "duration": 0.119286,
     "end_time": "2020-09-15T16:08:06.463154",
     "exception": false,
     "start_time": "2020-09-15T16:08:06.343868",
     "status": "completed"
    },
    "tags": []
   },
   "source": [
    "The minimum price is 0. What is the maximum price?"
   ]
  },
  {
   "cell_type": "code",
   "execution_count": 28,
   "metadata": {
    "execution": {
     "iopub.execute_input": "2020-09-15T16:08:06.707451Z",
     "iopub.status.busy": "2020-09-15T16:08:06.706651Z",
     "iopub.status.idle": "2020-09-15T16:08:06.713058Z",
     "shell.execute_reply": "2020-09-15T16:08:06.712405Z"
    },
    "papermill": {
     "duration": 0.130719,
     "end_time": "2020-09-15T16:08:06.713181",
     "exception": false,
     "start_time": "2020-09-15T16:08:06.582462",
     "status": "completed"
    },
    "tags": []
   },
   "outputs": [
    {
     "name": "stdout",
     "output_type": "stream",
     "text": [
      "Max. price:  3647256576\n"
     ]
    }
   ],
   "source": [
    "print('Max. price: ', df.price.max())"
   ]
  },
  {
   "cell_type": "markdown",
   "metadata": {
    "papermill": {
     "duration": 0.118565,
     "end_time": "2020-09-15T16:08:06.947821",
     "exception": false,
     "start_time": "2020-09-15T16:08:06.829256",
     "status": "completed"
    },
    "tags": []
   },
   "source": [
    "The huge difference between the mean and the median corroborates that there are outliers in the price data. In addition, the maximum price is unrealistic.\n",
    "\n",
    "The minimum price is also unrealistic for us. It does not conform to our requirements. We definitely don't want our algorithms to learn about cars whose prices are pegged at 0. The model will be a price-predictor, after&nbsp;all. So, let us remove rows where the price is 0 and reset the database index."
   ]
  },
  {
   "cell_type": "markdown",
   "metadata": {
    "papermill": {
     "duration": 0.118306,
     "end_time": "2020-09-15T16:08:07.182466",
     "exception": false,
     "start_time": "2020-09-15T16:08:07.064160",
     "status": "completed"
    },
    "tags": []
   },
   "source": [
    "Let us look at some of the attributes of cars with the highest prices."
   ]
  },
  {
   "cell_type": "code",
   "execution_count": 29,
   "metadata": {
    "execution": {
     "iopub.execute_input": "2020-09-15T16:08:07.424353Z",
     "iopub.status.busy": "2020-09-15T16:08:07.423101Z",
     "iopub.status.idle": "2020-09-15T16:08:07.470574Z",
     "shell.execute_reply": "2020-09-15T16:08:07.469042Z"
    },
    "papermill": {
     "duration": 0.172824,
     "end_time": "2020-09-15T16:08:07.470792",
     "exception": false,
     "start_time": "2020-09-15T16:08:07.297968",
     "status": "completed"
    },
    "tags": []
   },
   "outputs": [
    {
     "data": {
      "text/html": [
       "<div>\n",
       "<style scoped>\n",
       "    .dataframe tbody tr th:only-of-type {\n",
       "        vertical-align: middle;\n",
       "    }\n",
       "\n",
       "    .dataframe tbody tr th {\n",
       "        vertical-align: top;\n",
       "    }\n",
       "\n",
       "    .dataframe thead th {\n",
       "        text-align: right;\n",
       "    }\n",
       "</style>\n",
       "<table border=\"1\" class=\"dataframe\">\n",
       "  <thead>\n",
       "    <tr style=\"text-align: right;\">\n",
       "      <th></th>\n",
       "      <th>region</th>\n",
       "      <th>year</th>\n",
       "      <th>manufacturer</th>\n",
       "      <th>model</th>\n",
       "      <th>price</th>\n",
       "    </tr>\n",
       "  </thead>\n",
       "  <tbody>\n",
       "    <tr>\n",
       "      <th>66766</th>\n",
       "      <td>pullman / moscow</td>\n",
       "      <td>1968.0</td>\n",
       "      <td>NaN</td>\n",
       "      <td>1968 chevelle</td>\n",
       "      <td>3647256576</td>\n",
       "    </tr>\n",
       "    <tr>\n",
       "      <th>41214</th>\n",
       "      <td>tucson</td>\n",
       "      <td>1973.0</td>\n",
       "      <td>mazda</td>\n",
       "      <td>rx3</td>\n",
       "      <td>3333333333</td>\n",
       "    </tr>\n",
       "    <tr>\n",
       "      <th>146720</th>\n",
       "      <td>bozeman</td>\n",
       "      <td>1973.0</td>\n",
       "      <td>NaN</td>\n",
       "      <td>1973 rx2</td>\n",
       "      <td>3268562261</td>\n",
       "    </tr>\n",
       "    <tr>\n",
       "      <th>312502</th>\n",
       "      <td>bend</td>\n",
       "      <td>1973.0</td>\n",
       "      <td>mazda</td>\n",
       "      <td>rx2</td>\n",
       "      <td>2989542968</td>\n",
       "    </tr>\n",
       "    <tr>\n",
       "      <th>343656</th>\n",
       "      <td>el paso</td>\n",
       "      <td>1973.0</td>\n",
       "      <td>mazda</td>\n",
       "      <td>rx3</td>\n",
       "      <td>2989542968</td>\n",
       "    </tr>\n",
       "    <tr>\n",
       "      <th>366552</th>\n",
       "      <td>odessa / midland</td>\n",
       "      <td>1973.0</td>\n",
       "      <td>mazda</td>\n",
       "      <td>rx3</td>\n",
       "      <td>2989542968</td>\n",
       "    </tr>\n",
       "    <tr>\n",
       "      <th>78638</th>\n",
       "      <td>eastern NC</td>\n",
       "      <td>1997.0</td>\n",
       "      <td>dodge</td>\n",
       "      <td>3500</td>\n",
       "      <td>2525141468</td>\n",
       "    </tr>\n",
       "    <tr>\n",
       "      <th>364499</th>\n",
       "      <td>kennewick-pasco-richland</td>\n",
       "      <td>1964.0</td>\n",
       "      <td>volvo</td>\n",
       "      <td>544</td>\n",
       "      <td>2521176519</td>\n",
       "    </tr>\n",
       "    <tr>\n",
       "      <th>66099</th>\n",
       "      <td>atlanta</td>\n",
       "      <td>2015.0</td>\n",
       "      <td>NaN</td>\n",
       "      <td>scion frs</td>\n",
       "      <td>2490531375</td>\n",
       "    </tr>\n",
       "    <tr>\n",
       "      <th>66127</th>\n",
       "      <td>atlanta</td>\n",
       "      <td>2011.0</td>\n",
       "      <td>ford</td>\n",
       "      <td>fiesta</td>\n",
       "      <td>2490531375</td>\n",
       "    </tr>\n",
       "  </tbody>\n",
       "</table>\n",
       "</div>"
      ],
      "text/plain": [
       "                          region    year manufacturer          model  \\\n",
       "66766           pullman / moscow  1968.0          NaN  1968 chevelle   \n",
       "41214                     tucson  1973.0        mazda            rx3   \n",
       "146720                   bozeman  1973.0          NaN       1973 rx2   \n",
       "312502                      bend  1973.0        mazda            rx2   \n",
       "343656                   el paso  1973.0        mazda            rx3   \n",
       "366552          odessa / midland  1973.0        mazda            rx3   \n",
       "78638                 eastern NC  1997.0        dodge           3500   \n",
       "364499  kennewick-pasco-richland  1964.0        volvo            544   \n",
       "66099                    atlanta  2015.0          NaN      scion frs   \n",
       "66127                    atlanta  2011.0         ford         fiesta   \n",
       "\n",
       "             price  \n",
       "66766   3647256576  \n",
       "41214   3333333333  \n",
       "146720  3268562261  \n",
       "312502  2989542968  \n",
       "343656  2989542968  \n",
       "366552  2989542968  \n",
       "78638   2525141468  \n",
       "364499  2521176519  \n",
       "66099   2490531375  \n",
       "66127   2490531375  "
      ]
     },
     "execution_count": 29,
     "metadata": {},
     "output_type": "execute_result"
    }
   ],
   "source": [
    "cols = ['region', 'year', 'manufacturer', 'model', 'price']\n",
    "\n",
    "df.loc[:, cols][df.price>100000].sort_values(by='price', ascending=False).head(10)"
   ]
  },
  {
   "cell_type": "markdown",
   "metadata": {
    "papermill": {
     "duration": 0.117815,
     "end_time": "2020-09-15T16:08:07.731070",
     "exception": false,
     "start_time": "2020-09-15T16:08:07.613255",
     "status": "completed"
    },
    "tags": []
   },
   "source": [
    "Well, a 1997 Dodge RAM 3500 shouldn't cost USD 2+ billions. As per the [Cargurus](https://www.cargurus.com/Cars/l-Used-1997-Dodge-RAM-3500-c5452) website, Dodge RAM 3500s from 1998 and earlier cost less than USD 20,000. That's much lower than USD 2 billions. The extremely high price listed in our dataset is erroneous, and there are quite a few outliers like this.\n",
    "\n",
    "We will have to remove outliers from the price column as well as other numerical columns of the dataset. We can use the interquartile range (IQR) of each column to do so. IQR is the difference between the third quartile and the first quartile of a data range—for example, a database column.\n",
    "\n",
    "#### What are first and third quartiles?\n",
    "\n",
    "Suppose we have sorted a data range and found its median value. The lower half of this range includes all the values that are less than the median, and the upper half includes values that are greater than the median.\n",
    "\n",
    "The first quartile is the median of the values in the lower half. Almost 25% of all the values in the data range will be less than the first quartile.\n",
    "\n",
    "The third quartile is the median of the upper half. Almost 75% of all the values in the data range will be less than the third quartile.\n",
    "\n",
    "#### How to remove outliers using IQR?\n",
    "\n",
    "To remove outliers from a data range using IQR, we will have to remove values that are\n",
    "\n",
    "- less than the difference between the first quartile and 1.5 times the IQR\n",
    "\n",
    "- more than the difference between the third quartile and 1.5 times the IQR\n",
    "\n",
    "If Q1 is the first quartile, Q3 is the third quartile, and IQR is their difference, outliers in the lower half of the data range will be less than the following value:\n",
    "\n",
    "`Q1 - 1.5 * IQR`\n",
    "\n",
    "And outliers in the upper half of the data range will be greater than the following value:\n",
    "\n",
    "\n",
    "`Q3 + 1.5 * IQR`\n",
    "\n",
    "But using IQR on the price column as is won't give us satisfactory results. This is because the car prices in our dataset are not uniform. Most of the prices are clustered near the lowest end of the price scale and the price range is huge. This type of non-uniformity can prevent machine-learning algorithms from interpreting data effectively.\n",
    "\n",
    "So, we will have to bring in uniformity into the dataset via an additional column. This column will contain uniformized versions of the values in the price column. To uniformize the values, we will apply a logarithmic function, log1p, to them. The logarithmic function will create a new scale for the price values. The price values will be distributed more evenly across this scale.\n",
    "\n",
    "To create the proposed column, let us run the following code:"
   ]
  },
  {
   "cell_type": "code",
   "execution_count": 30,
   "metadata": {
    "execution": {
     "iopub.execute_input": "2020-09-15T16:08:07.972483Z",
     "iopub.status.busy": "2020-09-15T16:08:07.971471Z",
     "iopub.status.idle": "2020-09-15T16:08:07.988899Z",
     "shell.execute_reply": "2020-09-15T16:08:07.987823Z"
    },
    "papermill": {
     "duration": 0.141624,
     "end_time": "2020-09-15T16:08:07.989488",
     "exception": false,
     "start_time": "2020-09-15T16:08:07.847864",
     "status": "completed"
    },
    "tags": []
   },
   "outputs": [],
   "source": [
    "df.insert(17, 'logprice', np.log1p(df['price']))"
   ]
  },
  {
   "cell_type": "markdown",
   "metadata": {
    "papermill": {
     "duration": 0.127747,
     "end_time": "2020-09-15T16:08:08.271887",
     "exception": false,
     "start_time": "2020-09-15T16:08:08.144140",
     "status": "completed"
    },
    "tags": []
   },
   "source": [
    "To check whether the values in the logprice column are uniform, we will view their distribution graphically."
   ]
  },
  {
   "cell_type": "code",
   "execution_count": 31,
   "metadata": {
    "execution": {
     "iopub.execute_input": "2020-09-15T16:08:08.525036Z",
     "iopub.status.busy": "2020-09-15T16:08:08.524177Z",
     "iopub.status.idle": "2020-09-15T16:08:09.039515Z",
     "shell.execute_reply": "2020-09-15T16:08:09.040267Z"
    },
    "papermill": {
     "duration": 0.648533,
     "end_time": "2020-09-15T16:08:09.040628",
     "exception": false,
     "start_time": "2020-09-15T16:08:08.392095",
     "status": "completed"
    },
    "tags": []
   },
   "outputs": [
    {
     "data": {
      "image/png": "[encoded data removed]",
      "text/plain": [
       "<Figure size 432x216 with 1 Axes>"
      ]
     },
     "metadata": {},
     "output_type": "display_data"
    }
   ],
   "source": [
    "plot_histogram(df.logprice) "
   ]
  },
  {
   "cell_type": "markdown",
   "metadata": {
    "papermill": {
     "duration": 0.127862,
     "end_time": "2020-09-15T16:08:09.296933",
     "exception": false,
     "start_time": "2020-09-15T16:08:09.169071",
     "status": "completed"
    },
    "tags": []
   },
   "source": [
    "Yes, this histogram is evenly distributed. Now, it will be easier for us to remove outliers from our dataset by using the IQR method.\n",
    "\n",
    "But before we apply this method, we will change the datatype of the price column to `string`. This will ensure that the IQR method is not applied to the price column. Later, once we have removed outliers from the dataset, we will change the data type of its price column back to `int64`."
   ]
  },
  {
   "cell_type": "code",
   "execution_count": 32,
   "metadata": {
    "execution": {
     "iopub.execute_input": "2020-09-15T16:08:09.561880Z",
     "iopub.status.busy": "2020-09-15T16:08:09.560970Z",
     "iopub.status.idle": "2020-09-15T16:08:09.786292Z",
     "shell.execute_reply": "2020-09-15T16:08:09.785498Z"
    },
    "papermill": {
     "duration": 0.360759,
     "end_time": "2020-09-15T16:08:09.786423",
     "exception": false,
     "start_time": "2020-09-15T16:08:09.425664",
     "status": "completed"
    },
    "tags": []
   },
   "outputs": [],
   "source": [
    "df['price'] = df.price.astype(str)"
   ]
  },
  {
   "cell_type": "markdown",
   "metadata": {
    "papermill": {
     "duration": 0.126466,
     "end_time": "2020-09-15T16:08:10.041522",
     "exception": false,
     "start_time": "2020-09-15T16:08:09.915056",
     "status": "completed"
    },
    "tags": []
   },
   "source": [
    "Now, it's time to apply the IQR method.\n",
    "\n",
    "To begin with, we will calculate the Q1 and Q3 values and the IQRs of the numerical columns in the dataset."
   ]
  },
  {
   "cell_type": "code",
   "execution_count": 33,
   "metadata": {
    "execution": {
     "iopub.execute_input": "2020-09-15T16:08:10.298011Z",
     "iopub.status.busy": "2020-09-15T16:08:10.297109Z",
     "iopub.status.idle": "2020-09-15T16:08:10.602342Z",
     "shell.execute_reply": "2020-09-15T16:08:10.601522Z"
    },
    "papermill": {
     "duration": 0.435772,
     "end_time": "2020-09-15T16:08:10.602472",
     "exception": false,
     "start_time": "2020-09-15T16:08:10.166700",
     "status": "completed"
    },
    "tags": []
   },
   "outputs": [],
   "source": [
    "Q1 = df.quantile(0.25)\n",
    "Q3 = df.quantile(0.75)\n",
    "IQR = Q3 - Q1"
   ]
  },
  {
   "cell_type": "code",
   "execution_count": 34,
   "metadata": {
    "execution": {
     "iopub.execute_input": "2020-09-15T16:08:10.849398Z",
     "iopub.status.busy": "2020-09-15T16:08:10.848260Z",
     "iopub.status.idle": "2020-09-15T16:08:10.853474Z",
     "shell.execute_reply": "2020-09-15T16:08:10.852690Z"
    },
    "papermill": {
     "duration": 0.132389,
     "end_time": "2020-09-15T16:08:10.853643",
     "exception": false,
     "start_time": "2020-09-15T16:08:10.721254",
     "status": "completed"
    },
    "tags": []
   },
   "outputs": [
    {
     "data": {
      "text/plain": [
       "year         2007.000000\n",
       "odometer    51340.000000\n",
       "lat            34.235300\n",
       "long         -111.065000\n",
       "logprice        8.497195\n",
       "Name: 0.25, dtype: float64"
      ]
     },
     "execution_count": 34,
     "metadata": {},
     "output_type": "execute_result"
    }
   ],
   "source": [
    "Q1"
   ]
  },
  {
   "cell_type": "code",
   "execution_count": 35,
   "metadata": {
    "execution": {
     "iopub.execute_input": "2020-09-15T16:08:11.106961Z",
     "iopub.status.busy": "2020-09-15T16:08:11.105859Z",
     "iopub.status.idle": "2020-09-15T16:08:11.110775Z",
     "shell.execute_reply": "2020-09-15T16:08:11.110064Z"
    },
    "papermill": {
     "duration": 0.134727,
     "end_time": "2020-09-15T16:08:11.110909",
     "exception": false,
     "start_time": "2020-09-15T16:08:10.976182",
     "status": "completed"
    },
    "tags": []
   },
   "outputs": [
    {
     "data": {
      "text/plain": [
       "year          2015.000000\n",
       "odometer    137521.000000\n",
       "lat             42.464900\n",
       "long           -81.408200\n",
       "logprice         9.797571\n",
       "Name: 0.75, dtype: float64"
      ]
     },
     "execution_count": 35,
     "metadata": {},
     "output_type": "execute_result"
    }
   ],
   "source": [
    "Q3"
   ]
  },
  {
   "cell_type": "code",
   "execution_count": 36,
   "metadata": {
    "execution": {
     "iopub.execute_input": "2020-09-15T16:08:11.381314Z",
     "iopub.status.busy": "2020-09-15T16:08:11.379608Z",
     "iopub.status.idle": "2020-09-15T16:08:11.392431Z",
     "shell.execute_reply": "2020-09-15T16:08:11.395062Z"
    },
    "papermill": {
     "duration": 0.161509,
     "end_time": "2020-09-15T16:08:11.395334",
     "exception": false,
     "start_time": "2020-09-15T16:08:11.233825",
     "status": "completed"
    },
    "tags": []
   },
   "outputs": [
    {
     "data": {
      "text/plain": [
       "year            8.000000\n",
       "odometer    86181.000000\n",
       "lat             8.229600\n",
       "long           29.656800\n",
       "logprice        1.300377\n",
       "dtype: float64"
      ]
     },
     "execution_count": 36,
     "metadata": {},
     "output_type": "execute_result"
    }
   ],
   "source": [
    "IQR"
   ]
  },
  {
   "cell_type": "markdown",
   "metadata": {
    "papermill": {
     "duration": 0.14327,
     "end_time": "2020-09-15T16:08:11.684498",
     "exception": false,
     "start_time": "2020-09-15T16:08:11.541228",
     "status": "completed"
    },
    "tags": []
   },
   "source": [
    "Next, we will update the dataset, applying the IQR formula to remove outliers."
   ]
  },
  {
   "cell_type": "code",
   "execution_count": 37,
   "metadata": {
    "execution": {
     "iopub.execute_input": "2020-09-15T16:08:11.995612Z",
     "iopub.status.busy": "2020-09-15T16:08:11.947930Z",
     "iopub.status.idle": "2020-09-15T16:08:14.843236Z",
     "shell.execute_reply": "2020-09-15T16:08:14.842428Z"
    },
    "papermill": {
     "duration": 3.029647,
     "end_time": "2020-09-15T16:08:14.843366",
     "exception": false,
     "start_time": "2020-09-15T16:08:11.813719",
     "status": "completed"
    },
    "tags": []
   },
   "outputs": [],
   "source": [
    "df = df[~((df < (Q1 - 1.5 * IQR)) | (df > (Q3 + 1.5 * IQR))).any(axis=1)]"
   ]
  },
  {
   "cell_type": "markdown",
   "metadata": {
    "papermill": {
     "duration": 0.124956,
     "end_time": "2020-09-15T16:08:15.091252",
     "exception": false,
     "start_time": "2020-09-15T16:08:14.966296",
     "status": "completed"
    },
    "tags": []
   },
   "source": [
    "Finally, we will revert the data type of the price column to its original value."
   ]
  },
  {
   "cell_type": "code",
   "execution_count": 38,
   "metadata": {
    "execution": {
     "iopub.execute_input": "2020-09-15T16:08:15.398972Z",
     "iopub.status.busy": "2020-09-15T16:08:15.397676Z",
     "iopub.status.idle": "2020-09-15T16:08:15.490957Z",
     "shell.execute_reply": "2020-09-15T16:08:15.491550Z"
    },
    "papermill": {
     "duration": 0.279983,
     "end_time": "2020-09-15T16:08:15.491726",
     "exception": false,
     "start_time": "2020-09-15T16:08:15.211743",
     "status": "completed"
    },
    "tags": []
   },
   "outputs": [],
   "source": [
    "df['price'] = df.price.astype(np.int64)"
   ]
  },
  {
   "cell_type": "markdown",
   "metadata": {
    "papermill": {
     "duration": 0.122071,
     "end_time": "2020-09-15T16:08:15.737334",
     "exception": false,
     "start_time": "2020-09-15T16:08:15.615263",
     "status": "completed"
    },
    "tags": []
   },
   "source": [
    "As the dataset is quite clean now, we can reduce the number of car models in it. We will delete data about models that appear less than 1000 times in the dataset. This step will dramatically reduce the chance of unrealistic model names and manufacturer-model combinations appearing in our dataset. It will also ensure that the proposed machine-learning models have enough relevant data to understand the interrelations between car attributes or characteristics and their prices.\n",
    "\n",
    "Here is the code that will update the dataset according to the above requirements:"
   ]
  },
  {
   "cell_type": "code",
   "execution_count": 39,
   "metadata": {
    "execution": {
     "iopub.execute_input": "2020-09-15T16:08:16.121112Z",
     "iopub.status.busy": "2020-09-15T16:08:16.073874Z",
     "iopub.status.idle": "2020-09-15T16:08:18.003187Z",
     "shell.execute_reply": "2020-09-15T16:08:18.002312Z"
    },
    "papermill": {
     "duration": 2.13908,
     "end_time": "2020-09-15T16:08:18.003322",
     "exception": false,
     "start_time": "2020-09-15T16:08:15.864242",
     "status": "completed"
    },
    "tags": []
   },
   "outputs": [],
   "source": [
    "df = df.groupby(\"model\").filter(lambda x: len(x) >= 1000)\n",
    "df.reset_index(drop=True, inplace=True)"
   ]
  },
  {
   "cell_type": "markdown",
   "metadata": {
    "papermill": {
     "duration": 0.124006,
     "end_time": "2020-09-15T16:08:18.255299",
     "exception": false,
     "start_time": "2020-09-15T16:08:18.131293",
     "status": "completed"
    },
    "tags": []
   },
   "source": [
    "Next, for each model, we will fill any missing values in the manufacturer column with the name of the most common manufacturer for that&nbsp;model."
   ]
  },
  {
   "cell_type": "code",
   "execution_count": 40,
   "metadata": {
    "execution": {
     "iopub.execute_input": "2020-09-15T16:08:18.536477Z",
     "iopub.status.busy": "2020-09-15T16:08:18.535334Z",
     "iopub.status.idle": "2020-09-15T16:08:18.671458Z",
     "shell.execute_reply": "2020-09-15T16:08:18.670753Z"
    },
    "papermill": {
     "duration": 0.293289,
     "end_time": "2020-09-15T16:08:18.671580",
     "exception": false,
     "start_time": "2020-09-15T16:08:18.378291",
     "status": "completed"
    },
    "tags": []
   },
   "outputs": [],
   "source": [
    "df['manufacturer'] = df.groupby('model').manufacturer.transform(\n",
    "    lambda x: x.fillna(x.mode()[0])\n",
    ")"
   ]
  },
  {
   "cell_type": "markdown",
   "metadata": {
    "papermill": {
     "duration": 0.120219,
     "end_time": "2020-09-15T16:08:18.913360",
     "exception": false,
     "start_time": "2020-09-15T16:08:18.793141",
     "status": "completed"
    },
    "tags": []
   },
   "source": [
    "Next, let us sort the dataset and browse through some of its rows."
   ]
  },
  {
   "cell_type": "code",
   "execution_count": 41,
   "metadata": {
    "execution": {
     "iopub.execute_input": "2020-09-15T16:08:19.179003Z",
     "iopub.status.busy": "2020-09-15T16:08:19.178226Z",
     "iopub.status.idle": "2020-09-15T16:08:19.262355Z",
     "shell.execute_reply": "2020-09-15T16:08:19.261612Z"
    },
    "papermill": {
     "duration": 0.224156,
     "end_time": "2020-09-15T16:08:19.262492",
     "exception": false,
     "start_time": "2020-09-15T16:08:19.038336",
     "status": "completed"
    },
    "tags": []
   },
   "outputs": [],
   "source": [
    "df.sort_values(by=['year','manufacturer', 'price'], inplace=True)\n",
    "df.reset_index(drop=True, inplace=True)"
   ]
  },
  {
   "cell_type": "code",
   "execution_count": 42,
   "metadata": {
    "execution": {
     "iopub.execute_input": "2020-09-15T16:08:19.542891Z",
     "iopub.status.busy": "2020-09-15T16:08:19.542114Z",
     "iopub.status.idle": "2020-09-15T16:08:19.548253Z",
     "shell.execute_reply": "2020-09-15T16:08:19.548870Z"
    },
    "papermill": {
     "duration": 0.165497,
     "end_time": "2020-09-15T16:08:19.549055",
     "exception": false,
     "start_time": "2020-09-15T16:08:19.383558",
     "status": "completed"
    },
    "tags": []
   },
   "outputs": [
    {
     "data": {
      "text/html": [
       "<div>\n",
       "<style scoped>\n",
       "    .dataframe tbody tr th:only-of-type {\n",
       "        vertical-align: middle;\n",
       "    }\n",
       "\n",
       "    .dataframe tbody tr th {\n",
       "        vertical-align: top;\n",
       "    }\n",
       "\n",
       "    .dataframe thead th {\n",
       "        text-align: right;\n",
       "    }\n",
       "</style>\n",
       "<table border=\"1\" class=\"dataframe\">\n",
       "  <thead>\n",
       "    <tr style=\"text-align: right;\">\n",
       "      <th></th>\n",
       "      <th>region</th>\n",
       "      <th>year</th>\n",
       "      <th>manufacturer</th>\n",
       "      <th>model</th>\n",
       "      <th>condition</th>\n",
       "      <th>cylinders</th>\n",
       "      <th>fuel</th>\n",
       "      <th>odometer</th>\n",
       "      <th>title_status</th>\n",
       "      <th>transmission</th>\n",
       "      <th>drive</th>\n",
       "      <th>size</th>\n",
       "      <th>type</th>\n",
       "      <th>paint_color</th>\n",
       "      <th>state</th>\n",
       "      <th>lat</th>\n",
       "      <th>long</th>\n",
       "      <th>logprice</th>\n",
       "      <th>price</th>\n",
       "    </tr>\n",
       "  </thead>\n",
       "  <tbody>\n",
       "    <tr>\n",
       "      <th>0</th>\n",
       "      <td>bloomington</td>\n",
       "      <td>1995.0</td>\n",
       "      <td>chevrolet</td>\n",
       "      <td>silverado 1500</td>\n",
       "      <td>fair</td>\n",
       "      <td>8 cylinders</td>\n",
       "      <td>gas</td>\n",
       "      <td>154737.0</td>\n",
       "      <td>clean</td>\n",
       "      <td>automatic</td>\n",
       "      <td>4wd</td>\n",
       "      <td>full-size</td>\n",
       "      <td>pickup</td>\n",
       "      <td>blue</td>\n",
       "      <td>in</td>\n",
       "      <td>38.9957</td>\n",
       "      <td>-86.7568</td>\n",
       "      <td>6.621406</td>\n",
       "      <td>750</td>\n",
       "    </tr>\n",
       "    <tr>\n",
       "      <th>1</th>\n",
       "      <td>san antonio</td>\n",
       "      <td>1995.0</td>\n",
       "      <td>chevrolet</td>\n",
       "      <td>3500</td>\n",
       "      <td>fair</td>\n",
       "      <td>8 cylinders</td>\n",
       "      <td>gas</td>\n",
       "      <td>210707.0</td>\n",
       "      <td>clean</td>\n",
       "      <td>automatic</td>\n",
       "      <td>rwd</td>\n",
       "      <td>full-size</td>\n",
       "      <td>truck</td>\n",
       "      <td>grey</td>\n",
       "      <td>tx</td>\n",
       "      <td>29.4969</td>\n",
       "      <td>-98.4032</td>\n",
       "      <td>6.803505</td>\n",
       "      <td>900</td>\n",
       "    </tr>\n",
       "    <tr>\n",
       "      <th>2</th>\n",
       "      <td>lima / findlay</td>\n",
       "      <td>1995.0</td>\n",
       "      <td>chevrolet</td>\n",
       "      <td>silverado 1500</td>\n",
       "      <td>fair</td>\n",
       "      <td>8 cylinders</td>\n",
       "      <td>gas</td>\n",
       "      <td>160537.1</td>\n",
       "      <td>clean</td>\n",
       "      <td>manual</td>\n",
       "      <td>rwd</td>\n",
       "      <td>full-size</td>\n",
       "      <td>pickup</td>\n",
       "      <td>red</td>\n",
       "      <td>oh</td>\n",
       "      <td>41.0449</td>\n",
       "      <td>-83.6457</td>\n",
       "      <td>6.908755</td>\n",
       "      <td>1000</td>\n",
       "    </tr>\n",
       "    <tr>\n",
       "      <th>102288</th>\n",
       "      <td>ocala</td>\n",
       "      <td>2021.0</td>\n",
       "      <td>dodge</td>\n",
       "      <td>grand caravan</td>\n",
       "      <td>new</td>\n",
       "      <td>6 cylinders</td>\n",
       "      <td>gas</td>\n",
       "      <td>18894.0</td>\n",
       "      <td>clean</td>\n",
       "      <td>automatic</td>\n",
       "      <td>fwd</td>\n",
       "      <td>full-size</td>\n",
       "      <td>mini-van</td>\n",
       "      <td>grey</td>\n",
       "      <td>fl</td>\n",
       "      <td>29.1605</td>\n",
       "      <td>-82.1288</td>\n",
       "      <td>8.987322</td>\n",
       "      <td>8000</td>\n",
       "    </tr>\n",
       "    <tr>\n",
       "      <th>102289</th>\n",
       "      <td>space coast</td>\n",
       "      <td>2021.0</td>\n",
       "      <td>dodge</td>\n",
       "      <td>grand caravan</td>\n",
       "      <td>new</td>\n",
       "      <td>6 cylinders</td>\n",
       "      <td>gas</td>\n",
       "      <td>29704.6</td>\n",
       "      <td>clean</td>\n",
       "      <td>automatic</td>\n",
       "      <td>fwd</td>\n",
       "      <td>full-size</td>\n",
       "      <td>pickup</td>\n",
       "      <td>grey</td>\n",
       "      <td>fl</td>\n",
       "      <td>28.0991</td>\n",
       "      <td>-80.6796</td>\n",
       "      <td>8.987322</td>\n",
       "      <td>8000</td>\n",
       "    </tr>\n",
       "    <tr>\n",
       "      <th>102290</th>\n",
       "      <td>tulsa</td>\n",
       "      <td>2021.0</td>\n",
       "      <td>toyota</td>\n",
       "      <td>prius</td>\n",
       "      <td>like new</td>\n",
       "      <td>4 cylinders</td>\n",
       "      <td>hybrid</td>\n",
       "      <td>47000.0</td>\n",
       "      <td>clean</td>\n",
       "      <td>automatic</td>\n",
       "      <td>fwd</td>\n",
       "      <td>full-size</td>\n",
       "      <td>hatchback</td>\n",
       "      <td>red</td>\n",
       "      <td>ok</td>\n",
       "      <td>36.0544</td>\n",
       "      <td>-95.7223</td>\n",
       "      <td>9.159152</td>\n",
       "      <td>9500</td>\n",
       "    </tr>\n",
       "  </tbody>\n",
       "</table>\n",
       "</div>"
      ],
      "text/plain": [
       "                region    year manufacturer           model condition  \\\n",
       "0          bloomington  1995.0    chevrolet  silverado 1500      fair   \n",
       "1          san antonio  1995.0    chevrolet            3500      fair   \n",
       "2       lima / findlay  1995.0    chevrolet  silverado 1500      fair   \n",
       "102288           ocala  2021.0        dodge   grand caravan       new   \n",
       "102289     space coast  2021.0        dodge   grand caravan       new   \n",
       "102290           tulsa  2021.0       toyota           prius  like new   \n",
       "\n",
       "          cylinders    fuel  odometer title_status transmission drive  \\\n",
       "0       8 cylinders     gas  154737.0        clean    automatic   4wd   \n",
       "1       8 cylinders     gas  210707.0        clean    automatic   rwd   \n",
       "2       8 cylinders     gas  160537.1        clean       manual   rwd   \n",
       "102288  6 cylinders     gas   18894.0        clean    automatic   fwd   \n",
       "102289  6 cylinders     gas   29704.6        clean    automatic   fwd   \n",
       "102290  4 cylinders  hybrid   47000.0        clean    automatic   fwd   \n",
       "\n",
       "             size       type paint_color state      lat     long  logprice  \\\n",
       "0       full-size     pickup        blue    in  38.9957 -86.7568  6.621406   \n",
       "1       full-size      truck        grey    tx  29.4969 -98.4032  6.803505   \n",
       "2       full-size     pickup         red    oh  41.0449 -83.6457  6.908755   \n",
       "102288  full-size   mini-van        grey    fl  29.1605 -82.1288  8.987322   \n",
       "102289  full-size     pickup        grey    fl  28.0991 -80.6796  8.987322   \n",
       "102290  full-size  hatchback         red    ok  36.0544 -95.7223  9.159152   \n",
       "\n",
       "        price  \n",
       "0         750  \n",
       "1         900  \n",
       "2        1000  \n",
       "102288   8000  \n",
       "102289   8000  \n",
       "102290   9500  "
      ]
     },
     "execution_count": 42,
     "metadata": {},
     "output_type": "execute_result"
    }
   ],
   "source": [
    "df.iloc[np.r_[0:3, -3:0]]"
   ]
  },
  {
   "cell_type": "markdown",
   "metadata": {
    "papermill": {
     "duration": 0.12715,
     "end_time": "2020-09-15T16:08:19.801245",
     "exception": false,
     "start_time": "2020-09-15T16:08:19.674095",
     "status": "completed"
    },
    "tags": []
   },
   "source": [
    "The structure and standard summary statistics of the updated dataset are as follows:"
   ]
  },
  {
   "cell_type": "code",
   "execution_count": 43,
   "metadata": {
    "execution": {
     "iopub.execute_input": "2020-09-15T16:08:20.058614Z",
     "iopub.status.busy": "2020-09-15T16:08:20.057775Z",
     "iopub.status.idle": "2020-09-15T16:08:20.217942Z",
     "shell.execute_reply": "2020-09-15T16:08:20.216940Z"
    },
    "papermill": {
     "duration": 0.294142,
     "end_time": "2020-09-15T16:08:20.218153",
     "exception": false,
     "start_time": "2020-09-15T16:08:19.924011",
     "status": "completed"
    },
    "tags": []
   },
   "outputs": [
    {
     "name": "stdout",
     "output_type": "stream",
     "text": [
      "<class 'pandas.core.frame.DataFrame'>\n",
      "RangeIndex: 102291 entries, 0 to 102290\n",
      "Data columns (total 19 columns):\n",
      " #   Column        Non-Null Count   Dtype  \n",
      "---  ------        --------------   -----  \n",
      " 0   region        102291 non-null  object \n",
      " 1   year          102291 non-null  float64\n",
      " 2   manufacturer  102291 non-null  object \n",
      " 3   model         102291 non-null  object \n",
      " 4   condition     102291 non-null  object \n",
      " 5   cylinders     102291 non-null  object \n",
      " 6   fuel          102291 non-null  object \n",
      " 7   odometer      102291 non-null  float64\n",
      " 8   title_status  102291 non-null  object \n",
      " 9   transmission  102291 non-null  object \n",
      " 10  drive         102291 non-null  object \n",
      " 11  size          102291 non-null  object \n",
      " 12  type          102291 non-null  object \n",
      " 13  paint_color   102291 non-null  object \n",
      " 14  state         102291 non-null  object \n",
      " 15  lat           102291 non-null  float64\n",
      " 16  long          102291 non-null  float64\n",
      " 17  logprice      102291 non-null  float64\n",
      " 18  price         102291 non-null  int64  \n",
      "dtypes: float64(5), int64(1), object(13)\n",
      "memory usage: 14.8+ MB\n"
     ]
    }
   ],
   "source": [
    "df.info()"
   ]
  },
  {
   "cell_type": "code",
   "execution_count": 44,
   "metadata": {
    "execution": {
     "iopub.execute_input": "2020-09-15T16:08:20.494472Z",
     "iopub.status.busy": "2020-09-15T16:08:20.493192Z",
     "iopub.status.idle": "2020-09-15T16:08:20.542818Z",
     "shell.execute_reply": "2020-09-15T16:08:20.542203Z"
    },
    "papermill": {
     "duration": 0.196327,
     "end_time": "2020-09-15T16:08:20.542945",
     "exception": false,
     "start_time": "2020-09-15T16:08:20.346618",
     "status": "completed"
    },
    "tags": []
   },
   "outputs": [
    {
     "data": {
      "text/html": [
       "<div>\n",
       "<style scoped>\n",
       "    .dataframe tbody tr th:only-of-type {\n",
       "        vertical-align: middle;\n",
       "    }\n",
       "\n",
       "    .dataframe tbody tr th {\n",
       "        vertical-align: top;\n",
       "    }\n",
       "\n",
       "    .dataframe thead th {\n",
       "        text-align: right;\n",
       "    }\n",
       "</style>\n",
       "<table border=\"1\" class=\"dataframe\">\n",
       "  <thead>\n",
       "    <tr style=\"text-align: right;\">\n",
       "      <th></th>\n",
       "      <th>year</th>\n",
       "      <th>odometer</th>\n",
       "      <th>lat</th>\n",
       "      <th>long</th>\n",
       "      <th>logprice</th>\n",
       "      <th>price</th>\n",
       "    </tr>\n",
       "  </thead>\n",
       "  <tbody>\n",
       "    <tr>\n",
       "      <th>count</th>\n",
       "      <td>102291.000000</td>\n",
       "      <td>102291.000000</td>\n",
       "      <td>102291.000000</td>\n",
       "      <td>102291.000000</td>\n",
       "      <td>102291.000000</td>\n",
       "      <td>102291.000000</td>\n",
       "    </tr>\n",
       "    <tr>\n",
       "      <th>mean</th>\n",
       "      <td>2011.246165</td>\n",
       "      <td>104612.323618</td>\n",
       "      <td>38.412825</td>\n",
       "      <td>-93.858508</td>\n",
       "      <td>9.264806</td>\n",
       "      <td>13892.436500</td>\n",
       "    </tr>\n",
       "    <tr>\n",
       "      <th>std</th>\n",
       "      <td>5.193662</td>\n",
       "      <td>56617.615215</td>\n",
       "      <td>5.303049</td>\n",
       "      <td>15.891853</td>\n",
       "      <td>0.782802</td>\n",
       "      <td>10323.016667</td>\n",
       "    </tr>\n",
       "    <tr>\n",
       "      <th>min</th>\n",
       "      <td>1995.000000</td>\n",
       "      <td>0.000000</td>\n",
       "      <td>22.910200</td>\n",
       "      <td>-124.441000</td>\n",
       "      <td>6.551080</td>\n",
       "      <td>699.000000</td>\n",
       "    </tr>\n",
       "    <tr>\n",
       "      <th>25%</th>\n",
       "      <td>2008.000000</td>\n",
       "      <td>61141.500000</td>\n",
       "      <td>35.024200</td>\n",
       "      <td>-105.066000</td>\n",
       "      <td>8.740497</td>\n",
       "      <td>6250.000000</td>\n",
       "    </tr>\n",
       "    <tr>\n",
       "      <th>50%</th>\n",
       "      <td>2012.000000</td>\n",
       "      <td>103687.000000</td>\n",
       "      <td>39.055100</td>\n",
       "      <td>-90.169500</td>\n",
       "      <td>9.305741</td>\n",
       "      <td>11000.000000</td>\n",
       "    </tr>\n",
       "    <tr>\n",
       "      <th>75%</th>\n",
       "      <td>2015.000000</td>\n",
       "      <td>143686.500000</td>\n",
       "      <td>42.484500</td>\n",
       "      <td>-81.481100</td>\n",
       "      <td>9.825580</td>\n",
       "      <td>18500.000000</td>\n",
       "    </tr>\n",
       "    <tr>\n",
       "      <th>max</th>\n",
       "      <td>2021.000000</td>\n",
       "      <td>266755.200000</td>\n",
       "      <td>51.879800</td>\n",
       "      <td>-54.184600</td>\n",
       "      <td>11.736077</td>\n",
       "      <td>125000.000000</td>\n",
       "    </tr>\n",
       "  </tbody>\n",
       "</table>\n",
       "</div>"
      ],
      "text/plain": [
       "                year       odometer            lat           long  \\\n",
       "count  102291.000000  102291.000000  102291.000000  102291.000000   \n",
       "mean     2011.246165  104612.323618      38.412825     -93.858508   \n",
       "std         5.193662   56617.615215       5.303049      15.891853   \n",
       "min      1995.000000       0.000000      22.910200    -124.441000   \n",
       "25%      2008.000000   61141.500000      35.024200    -105.066000   \n",
       "50%      2012.000000  103687.000000      39.055100     -90.169500   \n",
       "75%      2015.000000  143686.500000      42.484500     -81.481100   \n",
       "max      2021.000000  266755.200000      51.879800     -54.184600   \n",
       "\n",
       "            logprice          price  \n",
       "count  102291.000000  102291.000000  \n",
       "mean        9.264806   13892.436500  \n",
       "std         0.782802   10323.016667  \n",
       "min         6.551080     699.000000  \n",
       "25%         8.740497    6250.000000  \n",
       "50%         9.305741   11000.000000  \n",
       "75%         9.825580   18500.000000  \n",
       "max        11.736077  125000.000000  "
      ]
     },
     "execution_count": 44,
     "metadata": {},
     "output_type": "execute_result"
    }
   ],
   "source": [
    "df.describe()"
   ]
  },
  {
   "cell_type": "markdown",
   "metadata": {
    "papermill": {
     "duration": 0.124597,
     "end_time": "2020-09-15T16:08:20.792389",
     "exception": false,
     "start_time": "2020-09-15T16:08:20.667792",
     "status": "completed"
    },
    "tags": []
   },
   "source": [
    "What are the rounded mean, median, and mode of the target variable, price?"
   ]
  },
  {
   "cell_type": "code",
   "execution_count": 45,
   "metadata": {
    "execution": {
     "iopub.execute_input": "2020-09-15T16:08:21.055698Z",
     "iopub.status.busy": "2020-09-15T16:08:21.054603Z",
     "iopub.status.idle": "2020-09-15T16:08:21.062174Z",
     "shell.execute_reply": "2020-09-15T16:08:21.062770Z"
    },
    "papermill": {
     "duration": 0.14189,
     "end_time": "2020-09-15T16:08:21.062928",
     "exception": false,
     "start_time": "2020-09-15T16:08:20.921038",
     "status": "completed"
    },
    "tags": []
   },
   "outputs": [
    {
     "name": "stdout",
     "output_type": "stream",
     "text": [
      "Mean:  13892\n",
      "\n",
      "Median:  11000\n",
      "\n",
      "Mode:  6995\n"
     ]
    }
   ],
   "source": [
    "print('Mean: ', round(df.price.mean()))\n",
    "print()\n",
    "print('Median: ', round(df.price.median()))\n",
    "print()\n",
    "print('Mode: ', df.price.mode()[0])"
   ]
  },
  {
   "cell_type": "markdown",
   "metadata": {
    "papermill": {
     "duration": 0.126339,
     "end_time": "2020-09-15T16:08:21.318290",
     "exception": false,
     "start_time": "2020-09-15T16:08:21.191951",
     "status": "completed"
    },
    "tags": []
   },
   "source": [
    "The mean is greater than the median, and the median is greater than the mode. This indicates that most prices in the price column are on the lower side and a few are much higher. The following histogram proves this:"
   ]
  },
  {
   "cell_type": "code",
   "execution_count": 46,
   "metadata": {
    "execution": {
     "iopub.execute_input": "2020-09-15T16:08:21.612195Z",
     "iopub.status.busy": "2020-09-15T16:08:21.610939Z",
     "iopub.status.idle": "2020-09-15T16:08:22.069413Z",
     "shell.execute_reply": "2020-09-15T16:08:22.070044Z"
    },
    "papermill": {
     "duration": 0.618271,
     "end_time": "2020-09-15T16:08:22.070228",
     "exception": false,
     "start_time": "2020-09-15T16:08:21.451957",
     "status": "completed"
    },
    "tags": []
   },
   "outputs": [
    {
     "data": {
      "image/png": "[encoded data removed]",
      "text/plain": [
       "<Figure size 432x216 with 1 Axes>"
      ]
     },
     "metadata": {},
     "output_type": "display_data"
    }
   ],
   "source": [
    "plot_histogram(df.price)"
   ]
  },
  {
   "cell_type": "markdown",
   "metadata": {
    "papermill": {
     "duration": 0.125921,
     "end_time": "2020-09-15T16:08:22.328628",
     "exception": false,
     "start_time": "2020-09-15T16:08:22.202707",
     "status": "completed"
    },
    "tags": []
   },
   "source": [
    "Later in the project, we will make sure that we pass on logarithmic versions of these prices to our machine-learning models. For now, though, let us look further into the cleaned data that we&nbsp;have.\n",
    "\n",
    "First, we will look at the number of cars per manufacturer."
   ]
  },
  {
   "cell_type": "code",
   "execution_count": 47,
   "metadata": {
    "execution": {
     "iopub.execute_input": "2020-09-15T16:08:22.706746Z",
     "iopub.status.busy": "2020-09-15T16:08:22.596771Z",
     "iopub.status.idle": "2020-09-15T16:08:23.092256Z",
     "shell.execute_reply": "2020-09-15T16:08:23.092903Z"
    },
    "papermill": {
     "duration": 0.635706,
     "end_time": "2020-09-15T16:08:23.093092",
     "exception": false,
     "start_time": "2020-09-15T16:08:22.457386",
     "status": "completed"
    },
    "tags": []
   },
   "outputs": [
    {
     "data": {
      "image/png": "[encoded data removed]",
      "text/plain": [
       "<Figure size 720x288 with 1 Axes>"
      ]
     },
     "metadata": {},
     "output_type": "display_data"
    }
   ],
   "source": [
    "plt.figure(figsize=(10, 4))\n",
    "plt.xticks(rotation=90)\n",
    "sns.countplot(df.manufacturer);"
   ]
  },
  {
   "cell_type": "markdown",
   "metadata": {
    "papermill": {
     "duration": 0.126002,
     "end_time": "2020-09-15T16:08:23.348865",
     "exception": false,
     "start_time": "2020-09-15T16:08:23.222863",
     "status": "completed"
    },
    "tags": []
   },
   "source": [
    "Next, let us look at the counts of some of the other categorical variables."
   ]
  },
  {
   "cell_type": "code",
   "execution_count": 48,
   "metadata": {
    "execution": {
     "iopub.execute_input": "2020-09-15T16:08:23.627015Z",
     "iopub.status.busy": "2020-09-15T16:08:23.622953Z",
     "iopub.status.idle": "2020-09-15T16:08:26.455190Z",
     "shell.execute_reply": "2020-09-15T16:08:26.454427Z"
    },
    "papermill": {
     "duration": 2.977005,
     "end_time": "2020-09-15T16:08:26.455335",
     "exception": false,
     "start_time": "2020-09-15T16:08:23.478330",
     "status": "completed"
    },
    "tags": []
   },
   "outputs": [
    {
     "data": {
      "image/png": "[encoded data removed]",
      "text/plain": [
       "<Figure size 1440x1080 with 9 Axes>"
      ]
     },
     "metadata": {},
     "output_type": "display_data"
    }
   ],
   "source": [
    "categ_x = categorical.copy()\n",
    "categ_x.remove('region')\n",
    "categ_x.remove('state')\n",
    "\n",
    "fig, ax = plt.subplots(3, 3, figsize=(20, 15))\n",
    "for variable, subplot in zip(categ_x, ax.flatten()):\n",
    "    sns.countplot(df[variable], ax=subplot)\n",
    "    for label in subplot.get_xticklabels():\n",
    "        label.set_rotation(90)\n",
    "plt.tight_layout()"
   ]
  },
  {
   "cell_type": "markdown",
   "metadata": {
    "papermill": {
     "duration": 0.13354,
     "end_time": "2020-09-15T16:08:26.725363",
     "exception": false,
     "start_time": "2020-09-15T16:08:26.591823",
     "status": "completed"
    },
    "tags": []
   },
   "source": [
    "Next, let us look at how prices are interrelated with various categorical variables."
   ]
  },
  {
   "cell_type": "code",
   "execution_count": 49,
   "metadata": {
    "execution": {
     "iopub.execute_input": "2020-09-15T16:08:27.010426Z",
     "iopub.status.busy": "2020-09-15T16:08:27.002420Z",
     "iopub.status.idle": "2020-09-15T16:08:28.545961Z",
     "shell.execute_reply": "2020-09-15T16:08:28.545374Z"
    },
    "papermill": {
     "duration": 1.68493,
     "end_time": "2020-09-15T16:08:28.546117",
     "exception": false,
     "start_time": "2020-09-15T16:08:26.861187",
     "status": "completed"
    },
    "tags": []
   },
   "outputs": [
    {
     "data": {
      "image/png": "[encoded data removed]",
      "text/plain": [
       "<Figure size 720x288 with 1 Axes>"
      ]
     },
     "metadata": {},
     "output_type": "display_data"
    }
   ],
   "source": [
    "plt.figure(figsize=(10, 4))\n",
    "plt.xticks(rotation=90)\n",
    "sns.barplot(x='manufacturer', y='price', data=df);"
   ]
  },
  {
   "cell_type": "markdown",
   "metadata": {
    "papermill": {
     "duration": 0.131106,
     "end_time": "2020-09-15T16:08:28.809370",
     "exception": false,
     "start_time": "2020-09-15T16:08:28.678264",
     "status": "completed"
    },
    "tags": []
   },
   "source": [
    "As the graph above indicates, Ram Trucks lead on the price front.\n",
    "\n",
    "And the following graphs show that new cars, diesel cars, cars that have liens on them, and cars with four-wheel drives have higher average prices than other types of cars in their respective categories."
   ]
  },
  {
   "cell_type": "code",
   "execution_count": 50,
   "metadata": {
    "execution": {
     "iopub.execute_input": "2020-09-15T16:08:29.091415Z",
     "iopub.status.busy": "2020-09-15T16:08:29.083268Z",
     "iopub.status.idle": "2020-09-15T16:08:41.124712Z",
     "shell.execute_reply": "2020-09-15T16:08:41.125342Z"
    },
    "papermill": {
     "duration": 12.185906,
     "end_time": "2020-09-15T16:08:41.125524",
     "exception": false,
     "start_time": "2020-09-15T16:08:28.939618",
     "status": "completed"
    },
    "tags": []
   },
   "outputs": [
    {
     "data": {
      "image/png": "[encoded data removed]",
      "text/plain": [
       "<Figure size 1440x1080 with 9 Axes>"
      ]
     },
     "metadata": {},
     "output_type": "display_data"
    }
   ],
   "source": [
    "fig, ax = plt.subplots(3, 3, figsize=(20, 15))\n",
    "for var, subplot in zip(categ_x, ax.flatten()):\n",
    "    sns.barplot(x=var, y='price', data=df, ax=subplot)\n",
    "    for label in subplot.get_xticklabels():\n",
    "        label.set_rotation(90)\n",
    "plt.tight_layout()"
   ]
  },
  {
   "cell_type": "markdown",
   "metadata": {
    "papermill": {
     "duration": 0.136415,
     "end_time": "2020-09-15T16:08:41.396317",
     "exception": false,
     "start_time": "2020-09-15T16:08:41.259902",
     "status": "completed"
    },
    "tags": []
   },
   "source": [
    "Let us also look at how prices vary with year of manufacture."
   ]
  },
  {
   "cell_type": "code",
   "execution_count": 51,
   "metadata": {
    "execution": {
     "iopub.execute_input": "2020-09-15T16:08:41.678224Z",
     "iopub.status.busy": "2020-09-15T16:08:41.677426Z",
     "iopub.status.idle": "2020-09-15T16:08:44.115163Z",
     "shell.execute_reply": "2020-09-15T16:08:44.114509Z"
    },
    "papermill": {
     "duration": 2.582724,
     "end_time": "2020-09-15T16:08:44.115295",
     "exception": false,
     "start_time": "2020-09-15T16:08:41.532571",
     "status": "completed"
    },
    "tags": []
   },
   "outputs": [
    {
     "data": {
      "image/png": "[encoded data removed]",
      "text/plain": [
       "<Figure size 720x288 with 1 Axes>"
      ]
     },
     "metadata": {},
     "output_type": "display_data"
    }
   ],
   "source": [
    "year = df.year.astype(np.int64)\n",
    "price = df.price\n",
    "plt.figure(figsize=(10, 4))\n",
    "plt.xticks(rotation=90)\n",
    "sns.barplot(year, price);"
   ]
  },
  {
   "cell_type": "markdown",
   "metadata": {
    "papermill": {
     "duration": 0.150603,
     "end_time": "2020-09-15T16:08:44.403924",
     "exception": false,
     "start_time": "2020-09-15T16:08:44.253321",
     "status": "completed"
    },
    "tags": []
   },
   "source": [
    "The above graph shows that prices increase fairly consistently with year.\n",
    "\n",
    "What about comparing three sets of variables? How are the fuel and price variables related to condition? The following graphs provide an answer to this question, as well as questions about other triadic combinations."
   ]
  },
  {
   "cell_type": "code",
   "execution_count": 52,
   "metadata": {
    "execution": {
     "iopub.execute_input": "2020-09-15T16:08:44.688615Z",
     "iopub.status.busy": "2020-09-15T16:08:44.687143Z",
     "iopub.status.idle": "2020-09-15T16:08:57.030999Z",
     "shell.execute_reply": "2020-09-15T16:08:57.031601Z"
    },
    "papermill": {
     "duration": 12.4907,
     "end_time": "2020-09-15T16:08:57.031762",
     "exception": false,
     "start_time": "2020-09-15T16:08:44.541062",
     "status": "completed"
    },
    "tags": []
   },
   "outputs": [
    {
     "data": {
      "image/png": "[encoded data removed]",
      "text/plain": [
       "<Figure size 1440x1080 with 6 Axes>"
      ]
     },
     "metadata": {},
     "output_type": "display_data"
    }
   ],
   "source": [
    "factor_combos = [('fuel', 'condition'), ('condition', 'size'),\\\n",
    "                 ('fuel', 'cylinders'), ('transmission', 'size'),\\\n",
    "                 ('size', 'drive'), ('drive', 'size')]\n",
    "fig, ax = plt.subplots(3, 2, figsize=(20, 15))\n",
    "for var, subplot in zip(factor_combos, ax.flatten()):\n",
    "    sns.barplot(x=var[0], y='price', hue=var[1], data=df, ax=subplot)\n",
    "    for label in subplot.get_xticklabels():\n",
    "        label.set_rotation(90)\n",
    "plt.tight_layout()"
   ]
  },
  {
   "cell_type": "markdown",
   "metadata": {
    "papermill": {
     "duration": 0.145378,
     "end_time": "2020-09-15T16:08:57.320272",
     "exception": false,
     "start_time": "2020-09-15T16:08:57.174894",
     "status": "completed"
    },
    "tags": []
   },
   "source": [
    "So, all the car characteristics in our dataset have some impact on the target variable, price. To determine the interdependence among these variables mathematically, let us calculate the correlation between them."
   ]
  },
  {
   "cell_type": "code",
   "execution_count": 53,
   "metadata": {
    "execution": {
     "iopub.execute_input": "2020-09-15T16:08:57.621108Z",
     "iopub.status.busy": "2020-09-15T16:08:57.620330Z",
     "iopub.status.idle": "2020-09-15T16:08:57.654381Z",
     "shell.execute_reply": "2020-09-15T16:08:57.653598Z"
    },
    "papermill": {
     "duration": 0.186664,
     "end_time": "2020-09-15T16:08:57.654509",
     "exception": false,
     "start_time": "2020-09-15T16:08:57.467845",
     "status": "completed"
    },
    "tags": []
   },
   "outputs": [
    {
     "data": {
      "text/html": [
       "<div>\n",
       "<style scoped>\n",
       "    .dataframe tbody tr th:only-of-type {\n",
       "        vertical-align: middle;\n",
       "    }\n",
       "\n",
       "    .dataframe tbody tr th {\n",
       "        vertical-align: top;\n",
       "    }\n",
       "\n",
       "    .dataframe thead th {\n",
       "        text-align: right;\n",
       "    }\n",
       "</style>\n",
       "<table border=\"1\" class=\"dataframe\">\n",
       "  <thead>\n",
       "    <tr style=\"text-align: right;\">\n",
       "      <th></th>\n",
       "      <th>year</th>\n",
       "      <th>odometer</th>\n",
       "      <th>lat</th>\n",
       "      <th>long</th>\n",
       "      <th>logprice</th>\n",
       "      <th>price</th>\n",
       "    </tr>\n",
       "  </thead>\n",
       "  <tbody>\n",
       "    <tr>\n",
       "      <th>year</th>\n",
       "      <td>1.000000</td>\n",
       "      <td>-0.634848</td>\n",
       "      <td>-0.000617</td>\n",
       "      <td>-0.057648</td>\n",
       "      <td>0.645844</td>\n",
       "      <td>0.572217</td>\n",
       "    </tr>\n",
       "    <tr>\n",
       "      <th>odometer</th>\n",
       "      <td>-0.634848</td>\n",
       "      <td>1.000000</td>\n",
       "      <td>-0.000998</td>\n",
       "      <td>0.080876</td>\n",
       "      <td>-0.524640</td>\n",
       "      <td>-0.509567</td>\n",
       "    </tr>\n",
       "    <tr>\n",
       "      <th>lat</th>\n",
       "      <td>-0.000617</td>\n",
       "      <td>-0.000998</td>\n",
       "      <td>1.000000</td>\n",
       "      <td>-0.111172</td>\n",
       "      <td>0.053909</td>\n",
       "      <td>0.040353</td>\n",
       "    </tr>\n",
       "    <tr>\n",
       "      <th>long</th>\n",
       "      <td>-0.057648</td>\n",
       "      <td>0.080876</td>\n",
       "      <td>-0.111172</td>\n",
       "      <td>1.000000</td>\n",
       "      <td>-0.140862</td>\n",
       "      <td>-0.135742</td>\n",
       "    </tr>\n",
       "    <tr>\n",
       "      <th>logprice</th>\n",
       "      <td>0.645844</td>\n",
       "      <td>-0.524640</td>\n",
       "      <td>0.053909</td>\n",
       "      <td>-0.140862</td>\n",
       "      <td>1.000000</td>\n",
       "      <td>0.892004</td>\n",
       "    </tr>\n",
       "    <tr>\n",
       "      <th>price</th>\n",
       "      <td>0.572217</td>\n",
       "      <td>-0.509567</td>\n",
       "      <td>0.040353</td>\n",
       "      <td>-0.135742</td>\n",
       "      <td>0.892004</td>\n",
       "      <td>1.000000</td>\n",
       "    </tr>\n",
       "  </tbody>\n",
       "</table>\n",
       "</div>"
      ],
      "text/plain": [
       "              year  odometer       lat      long  logprice     price\n",
       "year      1.000000 -0.634848 -0.000617 -0.057648  0.645844  0.572217\n",
       "odometer -0.634848  1.000000 -0.000998  0.080876 -0.524640 -0.509567\n",
       "lat      -0.000617 -0.000998  1.000000 -0.111172  0.053909  0.040353\n",
       "long     -0.057648  0.080876 -0.111172  1.000000 -0.140862 -0.135742\n",
       "logprice  0.645844 -0.524640  0.053909 -0.140862  1.000000  0.892004\n",
       "price     0.572217 -0.509567  0.040353 -0.135742  0.892004  1.000000"
      ]
     },
     "execution_count": 53,
     "metadata": {},
     "output_type": "execute_result"
    }
   ],
   "source": [
    "df.corr()"
   ]
  },
  {
   "cell_type": "markdown",
   "metadata": {
    "papermill": {
     "duration": 0.151408,
     "end_time": "2020-09-15T16:08:57.957511",
     "exception": false,
     "start_time": "2020-09-15T16:08:57.806103",
     "status": "completed"
    },
    "tags": []
   },
   "source": [
    "Correlation varies between -1 and 1. A positive correlation value indicates direct proportion, and a negative correlation value indicates inverse proportion.\n",
    "\n",
    "If a pair of values are positively correlated, they increase or decrease in unison. Consider the year of manufacture and the price of a car. These values are positively correlated. The more recent or higher the year of manufacture of a vehicle is, the higher is its price.\n",
    "\n",
    "If a pair of values are negatively correlated, they travel on the Cartesian plane in opposite directions. If one value increases, the other decreases. Odometer readings and car prices are inversely correlated. The higher the odometer reading of a car is, the lower is its price.\n",
    "\n",
    "The strength of a correlation depends on how close the absolute value of the correlation is to 1. For example, a correlation of 0.8 denotes a strong positive correlation. The -0.8 is indicative of a strong negative correlation.\n",
    "\n",
    "The correlation table above indicates average positive correlation between price and year and average negative correlation between price and odometer reading.\n",
    "\n",
    "The proposed machine-learning models should be able to learn effectively from the car dataset if we allocate adequate data to train and test them. In the next step, we will work in this direction.\n",
    "\n",
    "Before we proceed to the next step, let us save the updated dataset as a CSV&nbsp;file."
   ]
  },
  {
   "cell_type": "code",
   "execution_count": 54,
   "metadata": {
    "execution": {
     "iopub.execute_input": "2020-09-15T16:08:58.270559Z",
     "iopub.status.busy": "2020-09-15T16:08:58.269786Z",
     "iopub.status.idle": "2020-09-15T16:09:00.110855Z",
     "shell.execute_reply": "2020-09-15T16:09:00.109951Z"
    },
    "papermill": {
     "duration": 1.993535,
     "end_time": "2020-09-15T16:09:00.111017",
     "exception": false,
     "start_time": "2020-09-15T16:08:58.117482",
     "status": "completed"
    },
    "tags": []
   },
   "outputs": [],
   "source": [
    "df.to_csv('vehicles_viz.csv', index=False)"
   ]
  },
  {
   "cell_type": "markdown",
   "metadata": {
    "papermill": {
     "duration": 0.141796,
     "end_time": "2020-09-15T16:09:00.396269",
     "exception": false,
     "start_time": "2020-09-15T16:09:00.254473",
     "status": "completed"
    },
    "tags": []
   },
   "source": [
    "<h2>Step 5: Splitting the dataset<a aria-pressed=\"true\" class=\"btn btn-primary btn-sm\" data-toggle=\"popover\" name='step5-desc' id='step5-desc' href=\"#step5\" role=\"button\" style=\"color: white; margin-left: 20px; target='_self'\">Go to steplist</a></h2>"
   ]
  },
  {
   "cell_type": "markdown",
   "metadata": {
    "papermill": {
     "duration": 0.14094,
     "end_time": "2020-09-15T16:09:00.677151",
     "exception": false,
     "start_time": "2020-09-15T16:09:00.536211",
     "status": "completed"
    },
    "tags": []
   },
   "source": [
    "We will begin this step by importing the CSV file that we had saved in the previous&nbsp;step."
   ]
  },
  {
   "cell_type": "code",
   "execution_count": 55,
   "metadata": {
    "execution": {
     "iopub.execute_input": "2020-09-15T16:09:00.965215Z",
     "iopub.status.busy": "2020-09-15T16:09:00.964114Z",
     "iopub.status.idle": "2020-09-15T16:09:01.329280Z",
     "shell.execute_reply": "2020-09-15T16:09:01.328471Z"
    },
    "papermill": {
     "duration": 0.51214,
     "end_time": "2020-09-15T16:09:01.329418",
     "exception": false,
     "start_time": "2020-09-15T16:09:00.817278",
     "status": "completed"
    },
    "tags": []
   },
   "outputs": [],
   "source": [
    "df = pd.read_csv('vehicles_viz.csv')"
   ]
  },
  {
   "cell_type": "markdown",
   "metadata": {
    "papermill": {
     "duration": 0.141187,
     "end_time": "2020-09-15T16:09:01.610743",
     "exception": false,
     "start_time": "2020-09-15T16:09:01.469556",
     "status": "completed"
    },
    "tags": []
   },
   "source": [
    "Next, we will drop the price column because the logprice column, whose values are uniformly distributed, is more conducive to machine learning."
   ]
  },
  {
   "cell_type": "code",
   "execution_count": 56,
   "metadata": {
    "execution": {
     "iopub.execute_input": "2020-09-15T16:09:01.900792Z",
     "iopub.status.busy": "2020-09-15T16:09:01.900034Z",
     "iopub.status.idle": "2020-09-15T16:09:01.919891Z",
     "shell.execute_reply": "2020-09-15T16:09:01.919270Z"
    },
    "papermill": {
     "duration": 0.168024,
     "end_time": "2020-09-15T16:09:01.920044",
     "exception": false,
     "start_time": "2020-09-15T16:09:01.752020",
     "status": "completed"
    },
    "tags": []
   },
   "outputs": [],
   "source": [
    "df.drop('price', axis=1, inplace=True)"
   ]
  },
  {
   "cell_type": "markdown",
   "metadata": {
    "papermill": {
     "duration": 0.14421,
     "end_time": "2020-09-15T16:09:02.207443",
     "exception": false,
     "start_time": "2020-09-15T16:09:02.063233",
     "status": "completed"
    },
    "tags": []
   },
   "source": [
    "We will also update the list of categorical columns."
   ]
  },
  {
   "cell_type": "code",
   "execution_count": 57,
   "metadata": {
    "execution": {
     "iopub.execute_input": "2020-09-15T16:09:02.503287Z",
     "iopub.status.busy": "2020-09-15T16:09:02.502360Z",
     "iopub.status.idle": "2020-09-15T16:09:02.507543Z",
     "shell.execute_reply": "2020-09-15T16:09:02.506778Z"
    },
    "papermill": {
     "duration": 0.156661,
     "end_time": "2020-09-15T16:09:02.507668",
     "exception": false,
     "start_time": "2020-09-15T16:09:02.351007",
     "status": "completed"
    },
    "tags": []
   },
   "outputs": [
    {
     "data": {
      "text/plain": [
       "['region',\n",
       " 'manufacturer',\n",
       " 'model',\n",
       " 'condition',\n",
       " 'cylinders',\n",
       " 'fuel',\n",
       " 'title_status',\n",
       " 'transmission',\n",
       " 'drive',\n",
       " 'size',\n",
       " 'type',\n",
       " 'paint_color',\n",
       " 'state']"
      ]
     },
     "execution_count": 57,
     "metadata": {},
     "output_type": "execute_result"
    }
   ],
   "source": [
    "categorical = list((Counter(df.columns) -\\\n",
    "                    Counter(numerical + ['logprice', 'price'])).elements())\n",
    "categorical"
   ]
  },
  {
   "cell_type": "markdown",
   "metadata": {
    "papermill": {
     "duration": 0.144562,
     "end_time": "2020-09-15T16:09:02.839381",
     "exception": false,
     "start_time": "2020-09-15T16:09:02.694819",
     "status": "completed"
    },
    "tags": []
   },
   "source": [
    "The list of numerical columns is already up to date."
   ]
  },
  {
   "cell_type": "code",
   "execution_count": 58,
   "metadata": {
    "execution": {
     "iopub.execute_input": "2020-09-15T16:09:03.142286Z",
     "iopub.status.busy": "2020-09-15T16:09:03.141116Z",
     "iopub.status.idle": "2020-09-15T16:09:03.145607Z",
     "shell.execute_reply": "2020-09-15T16:09:03.146251Z"
    },
    "papermill": {
     "duration": 0.161079,
     "end_time": "2020-09-15T16:09:03.146431",
     "exception": false,
     "start_time": "2020-09-15T16:09:02.985352",
     "status": "completed"
    },
    "tags": []
   },
   "outputs": [
    {
     "data": {
      "text/plain": [
       "['year', 'odometer', 'lat', 'long']"
      ]
     },
     "execution_count": 58,
     "metadata": {},
     "output_type": "execute_result"
    }
   ],
   "source": [
    "numerical"
   ]
  },
  {
   "cell_type": "markdown",
   "metadata": {
    "papermill": {
     "duration": 0.144596,
     "end_time": "2020-09-15T16:09:03.442923",
     "exception": false,
     "start_time": "2020-09-15T16:09:03.298327",
     "status": "completed"
    },
    "tags": []
   },
   "source": [
    "Machine-learning algorithms can interpret numerical values with a high degree of precision. But these algorithms can misinterpret categorical data. Therefore, we must convert the categorical data in our dataset into numerical values.\n",
    "\n",
    "The following code can perform the conversion:"
   ]
  },
  {
   "cell_type": "code",
   "execution_count": 59,
   "metadata": {
    "execution": {
     "iopub.execute_input": "2020-09-15T16:09:03.740115Z",
     "iopub.status.busy": "2020-09-15T16:09:03.739262Z",
     "iopub.status.idle": "2020-09-15T16:09:04.357330Z",
     "shell.execute_reply": "2020-09-15T16:09:04.356689Z"
    },
    "papermill": {
     "duration": 0.769987,
     "end_time": "2020-09-15T16:09:04.357475",
     "exception": false,
     "start_time": "2020-09-15T16:09:03.587488",
     "status": "completed"
    },
    "tags": []
   },
   "outputs": [],
   "source": [
    "# Using the encoder instance of preprocessing.LabelEncoder(),\n",
    "# which we had declared earlier in this noebook\n",
    "\n",
    "df[categorical] = df[categorical].apply(encoder.fit_transform)"
   ]
  },
  {
   "cell_type": "markdown",
   "metadata": {
    "papermill": {
     "duration": 0.146887,
     "end_time": "2020-09-15T16:09:04.655195",
     "exception": false,
     "start_time": "2020-09-15T16:09:04.508308",
     "status": "completed"
    },
    "tags": []
   },
   "source": [
    "Here are the first few rows of the updated dataset:"
   ]
  },
  {
   "cell_type": "code",
   "execution_count": 60,
   "metadata": {
    "execution": {
     "iopub.execute_input": "2020-09-15T16:09:04.973024Z",
     "iopub.status.busy": "2020-09-15T16:09:04.965102Z",
     "iopub.status.idle": "2020-09-15T16:09:04.982682Z",
     "shell.execute_reply": "2020-09-15T16:09:04.981893Z"
    },
    "papermill": {
     "duration": 0.175225,
     "end_time": "2020-09-15T16:09:04.982806",
     "exception": false,
     "start_time": "2020-09-15T16:09:04.807581",
     "status": "completed"
    },
    "tags": []
   },
   "outputs": [
    {
     "data": {
      "text/html": [
       "<div>\n",
       "<style scoped>\n",
       "    .dataframe tbody tr th:only-of-type {\n",
       "        vertical-align: middle;\n",
       "    }\n",
       "\n",
       "    .dataframe tbody tr th {\n",
       "        vertical-align: top;\n",
       "    }\n",
       "\n",
       "    .dataframe thead th {\n",
       "        text-align: right;\n",
       "    }\n",
       "</style>\n",
       "<table border=\"1\" class=\"dataframe\">\n",
       "  <thead>\n",
       "    <tr style=\"text-align: right;\">\n",
       "      <th></th>\n",
       "      <th>region</th>\n",
       "      <th>year</th>\n",
       "      <th>manufacturer</th>\n",
       "      <th>model</th>\n",
       "      <th>condition</th>\n",
       "      <th>cylinders</th>\n",
       "      <th>fuel</th>\n",
       "      <th>odometer</th>\n",
       "      <th>title_status</th>\n",
       "      <th>transmission</th>\n",
       "      <th>drive</th>\n",
       "      <th>size</th>\n",
       "      <th>type</th>\n",
       "      <th>paint_color</th>\n",
       "      <th>state</th>\n",
       "      <th>lat</th>\n",
       "      <th>long</th>\n",
       "      <th>logprice</th>\n",
       "    </tr>\n",
       "  </thead>\n",
       "  <tbody>\n",
       "    <tr>\n",
       "      <th>0</th>\n",
       "      <td>31</td>\n",
       "      <td>1995.0</td>\n",
       "      <td>1</td>\n",
       "      <td>44</td>\n",
       "      <td>1</td>\n",
       "      <td>6</td>\n",
       "      <td>2</td>\n",
       "      <td>154737.0</td>\n",
       "      <td>0</td>\n",
       "      <td>0</td>\n",
       "      <td>0</td>\n",
       "      <td>1</td>\n",
       "      <td>7</td>\n",
       "      <td>1</td>\n",
       "      <td>15</td>\n",
       "      <td>38.9957</td>\n",
       "      <td>-86.7568</td>\n",
       "      <td>6.621406</td>\n",
       "    </tr>\n",
       "    <tr>\n",
       "      <th>1</th>\n",
       "      <td>299</td>\n",
       "      <td>1995.0</td>\n",
       "      <td>1</td>\n",
       "      <td>2</td>\n",
       "      <td>1</td>\n",
       "      <td>6</td>\n",
       "      <td>2</td>\n",
       "      <td>210707.0</td>\n",
       "      <td>0</td>\n",
       "      <td>0</td>\n",
       "      <td>2</td>\n",
       "      <td>1</td>\n",
       "      <td>10</td>\n",
       "      <td>5</td>\n",
       "      <td>43</td>\n",
       "      <td>29.4969</td>\n",
       "      <td>-98.4032</td>\n",
       "      <td>6.803505</td>\n",
       "    </tr>\n",
       "    <tr>\n",
       "      <th>2</th>\n",
       "      <td>191</td>\n",
       "      <td>1995.0</td>\n",
       "      <td>1</td>\n",
       "      <td>44</td>\n",
       "      <td>1</td>\n",
       "      <td>6</td>\n",
       "      <td>2</td>\n",
       "      <td>160537.1</td>\n",
       "      <td>0</td>\n",
       "      <td>1</td>\n",
       "      <td>2</td>\n",
       "      <td>1</td>\n",
       "      <td>7</td>\n",
       "      <td>8</td>\n",
       "      <td>35</td>\n",
       "      <td>41.0449</td>\n",
       "      <td>-83.6457</td>\n",
       "      <td>6.908755</td>\n",
       "    </tr>\n",
       "    <tr>\n",
       "      <th>3</th>\n",
       "      <td>278</td>\n",
       "      <td>1995.0</td>\n",
       "      <td>1</td>\n",
       "      <td>49</td>\n",
       "      <td>1</td>\n",
       "      <td>4</td>\n",
       "      <td>2</td>\n",
       "      <td>182000.0</td>\n",
       "      <td>0</td>\n",
       "      <td>0</td>\n",
       "      <td>0</td>\n",
       "      <td>1</td>\n",
       "      <td>7</td>\n",
       "      <td>5</td>\n",
       "      <td>5</td>\n",
       "      <td>38.0412</td>\n",
       "      <td>-104.7160</td>\n",
       "      <td>7.090910</td>\n",
       "    </tr>\n",
       "    <tr>\n",
       "      <th>4</th>\n",
       "      <td>293</td>\n",
       "      <td>1995.0</td>\n",
       "      <td>1</td>\n",
       "      <td>47</td>\n",
       "      <td>1</td>\n",
       "      <td>4</td>\n",
       "      <td>2</td>\n",
       "      <td>137187.0</td>\n",
       "      <td>0</td>\n",
       "      <td>0</td>\n",
       "      <td>0</td>\n",
       "      <td>1</td>\n",
       "      <td>7</td>\n",
       "      <td>5</td>\n",
       "      <td>4</td>\n",
       "      <td>38.4689</td>\n",
       "      <td>-121.3440</td>\n",
       "      <td>7.313887</td>\n",
       "    </tr>\n",
       "  </tbody>\n",
       "</table>\n",
       "</div>"
      ],
      "text/plain": [
       "   region    year  manufacturer  model  condition  cylinders  fuel  odometer  \\\n",
       "0      31  1995.0             1     44          1          6     2  154737.0   \n",
       "1     299  1995.0             1      2          1          6     2  210707.0   \n",
       "2     191  1995.0             1     44          1          6     2  160537.1   \n",
       "3     278  1995.0             1     49          1          4     2  182000.0   \n",
       "4     293  1995.0             1     47          1          4     2  137187.0   \n",
       "\n",
       "   title_status  transmission  drive  size  type  paint_color  state      lat  \\\n",
       "0             0             0      0     1     7            1     15  38.9957   \n",
       "1             0             0      2     1    10            5     43  29.4969   \n",
       "2             0             1      2     1     7            8     35  41.0449   \n",
       "3             0             0      0     1     7            5      5  38.0412   \n",
       "4             0             0      0     1     7            5      4  38.4689   \n",
       "\n",
       "       long  logprice  \n",
       "0  -86.7568  6.621406  \n",
       "1  -98.4032  6.803505  \n",
       "2  -83.6457  6.908755  \n",
       "3 -104.7160  7.090910  \n",
       "4 -121.3440  7.313887  "
      ]
     },
     "execution_count": 60,
     "metadata": {},
     "output_type": "execute_result"
    }
   ],
   "source": [
    "df.head()"
   ]
  },
  {
   "cell_type": "markdown",
   "metadata": {
    "papermill": {
     "duration": 0.147927,
     "end_time": "2020-09-15T16:09:05.289597",
     "exception": false,
     "start_time": "2020-09-15T16:09:05.141670",
     "status": "completed"
    },
    "tags": []
   },
   "source": [
    "Next, we need to rescale and uniformize the values in selected columns. If these values are uniformly distributed, machine-learning algorithms will process them efficiently.\n",
    "\n",
    "The logprice column is already uniformly distributed. To uniformize the other numerical columns, we will use the StandardScaler module of scikit-learn. StandardScaler can rescale a set of numerical values, giving the set a mean of 0 and a standard deviation of&nbsp;1.\n",
    "\n",
    "Here is code that implements our requirements:"
   ]
  },
  {
   "cell_type": "code",
   "execution_count": 61,
   "metadata": {
    "execution": {
     "iopub.execute_input": "2020-09-15T16:09:05.589880Z",
     "iopub.status.busy": "2020-09-15T16:09:05.588804Z",
     "iopub.status.idle": "2020-09-15T16:09:05.592589Z",
     "shell.execute_reply": "2020-09-15T16:09:05.591953Z"
    },
    "papermill": {
     "duration": 0.154775,
     "end_time": "2020-09-15T16:09:05.592711",
     "exception": false,
     "start_time": "2020-09-15T16:09:05.437936",
     "status": "completed"
    },
    "tags": []
   },
   "outputs": [],
   "source": [
    "columns_to_scale = numerical + ['model', 'region']"
   ]
  },
  {
   "cell_type": "code",
   "execution_count": 62,
   "metadata": {
    "execution": {
     "iopub.execute_input": "2020-09-15T16:09:05.901508Z",
     "iopub.status.busy": "2020-09-15T16:09:05.900455Z",
     "iopub.status.idle": "2020-09-15T16:09:05.919883Z",
     "shell.execute_reply": "2020-09-15T16:09:05.919006Z"
    },
    "papermill": {
     "duration": 0.177525,
     "end_time": "2020-09-15T16:09:05.920042",
     "exception": false,
     "start_time": "2020-09-15T16:09:05.742517",
     "status": "completed"
    },
    "tags": []
   },
   "outputs": [],
   "source": [
    "from sklearn.preprocessing import StandardScaler\n",
    "\n",
    "scaler = StandardScaler()\n",
    "\n",
    "for col in columns_to_scale:\n",
    "    df[col] = scaler.fit_transform(np.array(df[col]).reshape(-1,1))"
   ]
  },
  {
   "cell_type": "markdown",
   "metadata": {
    "papermill": {
     "duration": 0.150002,
     "end_time": "2020-09-15T16:09:06.221295",
     "exception": false,
     "start_time": "2020-09-15T16:09:06.071293",
     "status": "completed"
    },
    "tags": []
   },
   "source": [
    "Having normalized relevant values, we will now apply the IQR method to remove any additional outliers from the dataset."
   ]
  },
  {
   "cell_type": "code",
   "execution_count": 63,
   "metadata": {
    "execution": {
     "iopub.execute_input": "2020-09-15T16:09:06.526967Z",
     "iopub.status.busy": "2020-09-15T16:09:06.526178Z",
     "iopub.status.idle": "2020-09-15T16:09:06.549423Z",
     "shell.execute_reply": "2020-09-15T16:09:06.548770Z"
    },
    "papermill": {
     "duration": 0.181062,
     "end_time": "2020-09-15T16:09:06.549564",
     "exception": false,
     "start_time": "2020-09-15T16:09:06.368502",
     "status": "completed"
    },
    "tags": []
   },
   "outputs": [],
   "source": [
    "Q1 = df.logprice.quantile(0.25)\n",
    "Q3 = df.logprice.quantile(0.75)\n",
    "IQR = Q3 - Q1\n",
    "\n",
    "df = df[(df.logprice >= (Q1 - 1.5 * IQR)) & (df.logprice <= (Q3 + 1.5 * IQR))]"
   ]
  },
  {
   "cell_type": "markdown",
   "metadata": {
    "papermill": {
     "duration": 0.146708,
     "end_time": "2020-09-15T16:09:06.844187",
     "exception": false,
     "start_time": "2020-09-15T16:09:06.697479",
     "status": "completed"
    },
    "tags": []
   },
   "source": [
    "Let us look at the first few rows of the updated dataset:"
   ]
  },
  {
   "cell_type": "code",
   "execution_count": 64,
   "metadata": {
    "execution": {
     "iopub.execute_input": "2020-09-15T16:09:07.163584Z",
     "iopub.status.busy": "2020-09-15T16:09:07.153081Z",
     "iopub.status.idle": "2020-09-15T16:09:07.169384Z",
     "shell.execute_reply": "2020-09-15T16:09:07.168521Z"
    },
    "papermill": {
     "duration": 0.177974,
     "end_time": "2020-09-15T16:09:07.169517",
     "exception": false,
     "start_time": "2020-09-15T16:09:06.991543",
     "status": "completed"
    },
    "tags": []
   },
   "outputs": [
    {
     "data": {
      "text/html": [
       "<div>\n",
       "<style scoped>\n",
       "    .dataframe tbody tr th:only-of-type {\n",
       "        vertical-align: middle;\n",
       "    }\n",
       "\n",
       "    .dataframe tbody tr th {\n",
       "        vertical-align: top;\n",
       "    }\n",
       "\n",
       "    .dataframe thead th {\n",
       "        text-align: right;\n",
       "    }\n",
       "</style>\n",
       "<table border=\"1\" class=\"dataframe\">\n",
       "  <thead>\n",
       "    <tr style=\"text-align: right;\">\n",
       "      <th></th>\n",
       "      <th>region</th>\n",
       "      <th>year</th>\n",
       "      <th>manufacturer</th>\n",
       "      <th>model</th>\n",
       "      <th>condition</th>\n",
       "      <th>cylinders</th>\n",
       "      <th>fuel</th>\n",
       "      <th>odometer</th>\n",
       "      <th>title_status</th>\n",
       "      <th>transmission</th>\n",
       "      <th>drive</th>\n",
       "      <th>size</th>\n",
       "      <th>type</th>\n",
       "      <th>paint_color</th>\n",
       "      <th>state</th>\n",
       "      <th>lat</th>\n",
       "      <th>long</th>\n",
       "      <th>logprice</th>\n",
       "    </tr>\n",
       "  </thead>\n",
       "  <tbody>\n",
       "    <tr>\n",
       "      <th>4</th>\n",
       "      <td>0.867190</td>\n",
       "      <td>-3.128091</td>\n",
       "      <td>1</td>\n",
       "      <td>1.366220</td>\n",
       "      <td>1</td>\n",
       "      <td>4</td>\n",
       "      <td>2</td>\n",
       "      <td>0.575348</td>\n",
       "      <td>0</td>\n",
       "      <td>0</td>\n",
       "      <td>0</td>\n",
       "      <td>1</td>\n",
       "      <td>7</td>\n",
       "      <td>5</td>\n",
       "      <td>4</td>\n",
       "      <td>0.010574</td>\n",
       "      <td>-1.729542</td>\n",
       "      <td>7.313887</td>\n",
       "    </tr>\n",
       "    <tr>\n",
       "      <th>5</th>\n",
       "      <td>0.599929</td>\n",
       "      <td>-3.128091</td>\n",
       "      <td>1</td>\n",
       "      <td>1.491544</td>\n",
       "      <td>2</td>\n",
       "      <td>5</td>\n",
       "      <td>2</td>\n",
       "      <td>-0.201843</td>\n",
       "      <td>0</td>\n",
       "      <td>0</td>\n",
       "      <td>0</td>\n",
       "      <td>1</td>\n",
       "      <td>9</td>\n",
       "      <td>4</td>\n",
       "      <td>4</td>\n",
       "      <td>-0.881483</td>\n",
       "      <td>-1.408810</td>\n",
       "      <td>7.467942</td>\n",
       "    </tr>\n",
       "    <tr>\n",
       "      <th>6</th>\n",
       "      <td>1.608621</td>\n",
       "      <td>-3.128091</td>\n",
       "      <td>1</td>\n",
       "      <td>1.115574</td>\n",
       "      <td>1</td>\n",
       "      <td>4</td>\n",
       "      <td>2</td>\n",
       "      <td>-0.434714</td>\n",
       "      <td>0</td>\n",
       "      <td>1</td>\n",
       "      <td>0</td>\n",
       "      <td>1</td>\n",
       "      <td>7</td>\n",
       "      <td>5</td>\n",
       "      <td>48</td>\n",
       "      <td>1.151867</td>\n",
       "      <td>0.270562</td>\n",
       "      <td>7.601402</td>\n",
       "    </tr>\n",
       "    <tr>\n",
       "      <th>7</th>\n",
       "      <td>-0.831206</td>\n",
       "      <td>-3.128091</td>\n",
       "      <td>1</td>\n",
       "      <td>1.115574</td>\n",
       "      <td>1</td>\n",
       "      <td>4</td>\n",
       "      <td>2</td>\n",
       "      <td>0.829078</td>\n",
       "      <td>5</td>\n",
       "      <td>0</td>\n",
       "      <td>0</td>\n",
       "      <td>1</td>\n",
       "      <td>7</td>\n",
       "      <td>5</td>\n",
       "      <td>43</td>\n",
       "      <td>-1.247746</td>\n",
       "      <td>-0.799564</td>\n",
       "      <td>7.601402</td>\n",
       "    </tr>\n",
       "    <tr>\n",
       "      <th>8</th>\n",
       "      <td>1.263769</td>\n",
       "      <td>-3.128091</td>\n",
       "      <td>1</td>\n",
       "      <td>1.115574</td>\n",
       "      <td>2</td>\n",
       "      <td>6</td>\n",
       "      <td>2</td>\n",
       "      <td>0.872307</td>\n",
       "      <td>0</td>\n",
       "      <td>0</td>\n",
       "      <td>0</td>\n",
       "      <td>1</td>\n",
       "      <td>10</td>\n",
       "      <td>8</td>\n",
       "      <td>14</td>\n",
       "      <td>0.149476</td>\n",
       "      <td>0.266679</td>\n",
       "      <td>7.601402</td>\n",
       "    </tr>\n",
       "  </tbody>\n",
       "</table>\n",
       "</div>"
      ],
      "text/plain": [
       "     region      year  manufacturer     model  condition  cylinders  fuel  \\\n",
       "4  0.867190 -3.128091             1  1.366220          1          4     2   \n",
       "5  0.599929 -3.128091             1  1.491544          2          5     2   \n",
       "6  1.608621 -3.128091             1  1.115574          1          4     2   \n",
       "7 -0.831206 -3.128091             1  1.115574          1          4     2   \n",
       "8  1.263769 -3.128091             1  1.115574          2          6     2   \n",
       "\n",
       "   odometer  title_status  transmission  drive  size  type  paint_color  \\\n",
       "4  0.575348             0             0      0     1     7            5   \n",
       "5 -0.201843             0             0      0     1     9            4   \n",
       "6 -0.434714             0             1      0     1     7            5   \n",
       "7  0.829078             5             0      0     1     7            5   \n",
       "8  0.872307             0             0      0     1    10            8   \n",
       "\n",
       "   state       lat      long  logprice  \n",
       "4      4  0.010574 -1.729542  7.313887  \n",
       "5      4 -0.881483 -1.408810  7.467942  \n",
       "6     48  1.151867  0.270562  7.601402  \n",
       "7     43 -1.247746 -0.799564  7.601402  \n",
       "8     14  0.149476  0.266679  7.601402  "
      ]
     },
     "execution_count": 64,
     "metadata": {},
     "output_type": "execute_result"
    }
   ],
   "source": [
    "df.head()"
   ]
  },
  {
   "cell_type": "markdown",
   "metadata": {
    "papermill": {
     "duration": 0.146024,
     "end_time": "2020-09-15T16:09:07.461498",
     "exception": false,
     "start_time": "2020-09-15T16:09:07.315474",
     "status": "completed"
    },
    "tags": []
   },
   "source": [
    "Finally, we will split the dataset."
   ]
  },
  {
   "cell_type": "code",
   "execution_count": 65,
   "metadata": {
    "execution": {
     "iopub.execute_input": "2020-09-15T16:09:07.768973Z",
     "iopub.status.busy": "2020-09-15T16:09:07.767919Z",
     "iopub.status.idle": "2020-09-15T16:09:07.788172Z",
     "shell.execute_reply": "2020-09-15T16:09:07.788740Z"
    },
    "papermill": {
     "duration": 0.182609,
     "end_time": "2020-09-15T16:09:07.788917",
     "exception": false,
     "start_time": "2020-09-15T16:09:07.606308",
     "status": "completed"
    },
    "tags": []
   },
   "outputs": [],
   "source": [
    "from sklearn.model_selection import train_test_split\n",
    "\n",
    "X = df.iloc[:, :-1]\n",
    "y = df.iloc[:,-1:].values.T[0]\n",
    "\n",
    "X_train, X_test, y_train, y_test =\\\n",
    "train_test_split(X, y, train_size=0.9, test_size=0.1, random_state=0)"
   ]
  },
  {
   "cell_type": "markdown",
   "metadata": {
    "papermill": {
     "duration": 0.151827,
     "end_time": "2020-09-15T16:09:08.085401",
     "exception": false,
     "start_time": "2020-09-15T16:09:07.933574",
     "status": "completed"
    },
    "tags": []
   },
   "source": [
    "Before we proceed to the next step, let us write a couple of helper functions."
   ]
  },
  {
   "cell_type": "code",
   "execution_count": 66,
   "metadata": {
    "execution": {
     "iopub.execute_input": "2020-09-15T16:09:08.384294Z",
     "iopub.status.busy": "2020-09-15T16:09:08.383154Z",
     "iopub.status.idle": "2020-09-15T16:09:08.386780Z",
     "shell.execute_reply": "2020-09-15T16:09:08.386029Z"
    },
    "papermill": {
     "duration": 0.157396,
     "end_time": "2020-09-15T16:09:08.386906",
     "exception": false,
     "start_time": "2020-09-15T16:09:08.229510",
     "status": "completed"
    },
    "tags": []
   },
   "outputs": [],
   "source": [
    "def remove_negatives(y_test, y_pred):\n",
    "    '''This function will remove any negative values from predictions'''\n",
    "    ind = [index for index in range(len(y_pred)) if(y_pred[index]>0)]\n",
    "    y_pred = y_pred[ind]\n",
    "    y_test = y_test[ind]\n",
    "    return (y_test, y_pred)    "
   ]
  },
  {
   "cell_type": "code",
   "execution_count": 67,
   "metadata": {
    "execution": {
     "iopub.execute_input": "2020-09-15T16:09:08.685248Z",
     "iopub.status.busy": "2020-09-15T16:09:08.684303Z",
     "iopub.status.idle": "2020-09-15T16:09:08.687042Z",
     "shell.execute_reply": "2020-09-15T16:09:08.687619Z"
    },
    "papermill": {
     "duration": 0.155113,
     "end_time": "2020-09-15T16:09:08.687777",
     "exception": false,
     "start_time": "2020-09-15T16:09:08.532664",
     "status": "completed"
    },
    "tags": []
   },
   "outputs": [],
   "source": [
    "from sklearn.metrics import mean_squared_log_error,\\\n",
    "r2_score\n",
    "\n",
    "def evaluate_perf(y_test, y_pred):\n",
    "    '''This function will generate metrics about the\n",
    "    performance of a model.'''\n",
    "    res = []\n",
    "    res.append(mean_squared_log_error(y_test, y_pred))\n",
    "    res.append(np.sqrt(res[0]))\n",
    "    res.append(r2_score(y_test, y_pred))\n",
    "    res.append(round(r2_score(y_test, y_pred)*100, 4))\n",
    "    return (res)"
   ]
  },
  {
   "cell_type": "markdown",
   "metadata": {
    "papermill": {
     "duration": 0.145427,
     "end_time": "2020-09-15T16:09:08.980250",
     "exception": false,
     "start_time": "2020-09-15T16:09:08.834823",
     "status": "completed"
    },
    "tags": []
   },
   "source": [
    "We will also create a dataframe to store any performance metrics that the `evaluate_perf` function returns. This dataframe will contain four&nbsp;rows.\n",
    "\n",
    "Among the row indexes of the dataframe, MSLE stands for mean squared logarithmic error and RMSLE is root MSLE. We can use MSLE and RMSLE to determine the variation between actual target values and target values that are predicted by a machine-learning model.\n",
    "\n",
    "The third index, R2 score, refers to the r-squared (R2) statistical measure. Like MSLE, R2 also signifies the variance between predicted and actual values. R2 \"is the proportion of the variance in the dependent variable that is predictable from the independent variable(s)<sup id=\"r2\" style=\"font-size: x-small\">[[1]](#r2-wiki)</sup>\"\n",
    "\n",
    "R2 scores are restricted to the range 0–1. A positive R2 score means that the machine-learning algorithm that we are evaluating is effective. An R2 score of 0 means that the machine-learning model is just returning the average of the actual variables."
   ]
  },
  {
   "cell_type": "code",
   "execution_count": 68,
   "metadata": {
    "execution": {
     "iopub.execute_input": "2020-09-15T16:09:09.288651Z",
     "iopub.status.busy": "2020-09-15T16:09:09.287517Z",
     "iopub.status.idle": "2020-09-15T16:09:09.290731Z",
     "shell.execute_reply": "2020-09-15T16:09:09.291380Z"
    },
    "papermill": {
     "duration": 0.16335,
     "end_time": "2020-09-15T16:09:09.291535",
     "exception": false,
     "start_time": "2020-09-15T16:09:09.128185",
     "status": "completed"
    },
    "tags": []
   },
   "outputs": [],
   "source": [
    "df_metrics = pd.DataFrame(index=['MSLE', 'RMSLE',\\\n",
    "                                 'R2 score','Accuracy(%)'])"
   ]
  },
  {
   "cell_type": "markdown",
   "metadata": {
    "papermill": {
     "duration": 0.154903,
     "end_time": "2020-09-15T16:09:09.597046",
     "exception": false,
     "start_time": "2020-09-15T16:09:09.442143",
     "status": "completed"
    },
    "tags": []
   },
   "source": [
    "<h2>Step 6: Building and validating models<a aria-pressed=\"true\" class=\"btn btn-primary btn-sm\" data-toggle=\"popover\" name='step6-desc' id='step6-desc' href=\"#step6\" role=\"button\" style=\"color: white; margin-left: 20px; target='_self'\">Go to steplist</a></h2>"
   ]
  },
  {
   "cell_type": "markdown",
   "metadata": {
    "papermill": {
     "duration": 0.14744,
     "end_time": "2020-09-15T16:09:09.893855",
     "exception": false,
     "start_time": "2020-09-15T16:09:09.746415",
     "status": "completed"
    },
    "tags": []
   },
   "source": [
    "Our first model will be a linear regressor.\n",
    "\n",
    "### Building the linear regressor\n",
    "\n",
    "We will use the following code to build the model:"
   ]
  },
  {
   "cell_type": "code",
   "execution_count": 69,
   "metadata": {
    "execution": {
     "iopub.execute_input": "2020-09-15T16:09:10.203899Z",
     "iopub.status.busy": "2020-09-15T16:09:10.203087Z",
     "iopub.status.idle": "2020-09-15T16:09:10.315487Z",
     "shell.execute_reply": "2020-09-15T16:09:10.314719Z"
    },
    "papermill": {
     "duration": 0.270245,
     "end_time": "2020-09-15T16:09:10.315653",
     "exception": false,
     "start_time": "2020-09-15T16:09:10.045408",
     "status": "completed"
    },
    "tags": []
   },
   "outputs": [],
   "source": [
    "from sklearn.linear_model import LinearRegression\n",
    "\n",
    "# Instantiating a linear regressor\n",
    "lin_reg = LinearRegression()\n",
    "\n",
    "# Fitting a linear-regression model\n",
    "lin_reg.fit(X_train, y_train)\n",
    "y_pred = lin_reg.predict(X_test)"
   ]
  },
  {
   "cell_type": "markdown",
   "metadata": {
    "papermill": {
     "duration": 0.152053,
     "end_time": "2020-09-15T16:09:10.629366",
     "exception": false,
     "start_time": "2020-09-15T16:09:10.477313",
     "status": "completed"
    },
    "tags": []
   },
   "source": [
    "### Validating the linear regressor\n",
    "\n",
    "Here is code that will validate the model:"
   ]
  },
  {
   "cell_type": "code",
   "execution_count": 70,
   "metadata": {
    "execution": {
     "iopub.execute_input": "2020-09-15T16:09:10.982060Z",
     "iopub.status.busy": "2020-09-15T16:09:10.980868Z",
     "iopub.status.idle": "2020-09-15T16:09:10.992999Z",
     "shell.execute_reply": "2020-09-15T16:09:10.991931Z"
    },
    "papermill": {
     "duration": 0.213744,
     "end_time": "2020-09-15T16:09:10.993225",
     "exception": false,
     "start_time": "2020-09-15T16:09:10.779481",
     "status": "completed"
    },
    "tags": []
   },
   "outputs": [
    {
     "name": "stdout",
     "output_type": "stream",
     "text": [
      "Coefficients: \n",
      " [-0.00091994  0.41778334  0.00101536  0.06445254 -0.02974076  0.19957428\n",
      " -0.18874434 -0.17473731 -0.07903322  0.11048529 -0.1500112  -0.01010448\n",
      " -0.0078407   0.0029464   0.00053887 -0.00368544 -0.06095619]\n",
      "MSLE : 0.0020746849345758354\n",
      "Root MSLE : 0.045548709472122646\n",
      "R2 Score : 0.6330975177650675 or 63.3098%\n"
     ]
    }
   ],
   "source": [
    "# Validating the model by identifying errors\n",
    "y_test_1, y_pred_1 = remove_negatives(y_test, y_pred)\n",
    "res_lin_reg = evaluate_perf(y_test_1, y_pred_1)\n",
    "\n",
    "print(\"Coefficients: \\n\", lin_reg.coef_)\n",
    "print(f\"MSLE : {res_lin_reg[0]}\")\n",
    "print(f\"Root MSLE : {res_lin_reg[1]}\")\n",
    "print(f\"R2 Score : {res_lin_reg[2]} or {res_lin_reg[3]}%\")\n",
    "\n",
    "df_metrics[\"Linear\"] = res_lin_reg"
   ]
  },
  {
   "cell_type": "markdown",
   "metadata": {
    "papermill": {
     "duration": 0.146639,
     "end_time": "2020-09-15T16:09:11.294294",
     "exception": false,
     "start_time": "2020-09-15T16:09:11.147655",
     "status": "completed"
    },
    "tags": []
   },
   "source": [
    "How did the actual and predicted values vary? Let us draw a bar graph to compare some of these values."
   ]
  },
  {
   "cell_type": "code",
   "execution_count": 71,
   "metadata": {
    "execution": {
     "iopub.execute_input": "2020-09-15T16:09:11.639476Z",
     "iopub.status.busy": "2020-09-15T16:09:11.638681Z",
     "iopub.status.idle": "2020-09-15T16:09:12.290438Z",
     "shell.execute_reply": "2020-09-15T16:09:12.289694Z"
    },
    "papermill": {
     "duration": 0.820144,
     "end_time": "2020-09-15T16:09:12.290587",
     "exception": false,
     "start_time": "2020-09-15T16:09:11.470443",
     "status": "completed"
    },
    "tags": []
   },
   "outputs": [
    {
     "data": {
      "image/png": "[encoded data removed]",
      "text/plain": [
       "<Figure size 720x360 with 1 Axes>"
      ]
     },
     "metadata": {},
     "output_type": "display_data"
    }
   ],
   "source": [
    "df_lin_comp = pd.DataFrame({'Actual': y_test_1, 'Predicted': y_pred_1})\n",
    "df_lin_comp = df_lin_comp.head(25)\n",
    "\n",
    "df_lin_comp.plot(kind='bar', figsize=(10,5))\n",
    "\n",
    "plt.grid(which='major', linestyle='-', linewidth='0.1', color='green')\n",
    "plt.title('Linear regressor: Actual vs. predicted')\n",
    "plt.ylabel('MSLE')\n",
    "plt.show()"
   ]
  },
  {
   "cell_type": "markdown",
   "metadata": {
    "papermill": {
     "duration": 0.157624,
     "end_time": "2020-09-15T16:09:12.597416",
     "exception": false,
     "start_time": "2020-09-15T16:09:12.439792",
     "status": "completed"
    },
    "tags": []
   },
   "source": [
    "Next, let us see how the linear regressor ranked independent variables."
   ]
  },
  {
   "cell_type": "code",
   "execution_count": 72,
   "metadata": {
    "execution": {
     "iopub.execute_input": "2020-09-15T16:09:12.912901Z",
     "iopub.status.busy": "2020-09-15T16:09:12.907287Z",
     "iopub.status.idle": "2020-09-15T16:09:13.332179Z",
     "shell.execute_reply": "2020-09-15T16:09:13.332725Z"
    },
    "papermill": {
     "duration": 0.584488,
     "end_time": "2020-09-15T16:09:13.332887",
     "exception": false,
     "start_time": "2020-09-15T16:09:12.748399",
     "status": "completed"
    },
    "tags": []
   },
   "outputs": [
    {
     "data": {
      "image/png": "[encoded data removed]",
      "text/plain": [
       "<Figure size 432x216 with 1 Axes>"
      ]
     },
     "metadata": {},
     "output_type": "display_data"
    }
   ],
   "source": [
    "coefs = pd.Series(lin_reg.coef_, index = X_train.columns)\n",
    "sorted_coefs = coefs.sort_values()\n",
    "\n",
    "sorted_coefs.plot(kind = \"barh\")\n",
    "\n",
    "plt.rcParams['figure.figsize'] = (6.0, 6.0)\n",
    "plt.xlabel('Score'); \n",
    "plt.ylabel('Feature'); \n",
    "plt.title('Linear regressor: Feature importance')\n",
    "\n",
    "plt.show()"
   ]
  },
  {
   "cell_type": "markdown",
   "metadata": {
    "papermill": {
     "duration": 0.188008,
     "end_time": "2020-09-15T16:09:13.669178",
     "exception": false,
     "start_time": "2020-09-15T16:09:13.481170",
     "status": "completed"
    },
    "tags": []
   },
   "source": [
    "Next, we will work on a random-forest regressor.\n",
    "\n",
    "## Building the random-forest regressor"
   ]
  },
  {
   "cell_type": "code",
   "execution_count": 73,
   "metadata": {
    "execution": {
     "iopub.execute_input": "2020-09-15T16:09:13.988139Z",
     "iopub.status.busy": "2020-09-15T16:09:13.987292Z",
     "iopub.status.idle": "2020-09-15T16:09:45.404780Z",
     "shell.execute_reply": "2020-09-15T16:09:45.405446Z"
    },
    "papermill": {
     "duration": 31.581022,
     "end_time": "2020-09-15T16:09:45.405645",
     "exception": false,
     "start_time": "2020-09-15T16:09:13.824623",
     "status": "completed"
    },
    "tags": []
   },
   "outputs": [],
   "source": [
    "from sklearn.ensemble import RandomForestRegressor\n",
    "\n",
    "rf_reg = RandomForestRegressor(n_estimators=180,\n",
    "                               random_state=0,\n",
    "                               min_samples_leaf=1,\n",
    "                               max_features=0.5,\n",
    "                               n_jobs=-1,\n",
    "                               oob_score=True)\n",
    "\n",
    "rf_reg.fit(X_train,y_train)\n",
    "y_pred = rf_reg.predict(X_test)"
   ]
  },
  {
   "cell_type": "markdown",
   "metadata": {
    "papermill": {
     "duration": 0.149921,
     "end_time": "2020-09-15T16:09:45.706673",
     "exception": false,
     "start_time": "2020-09-15T16:09:45.556752",
     "status": "completed"
    },
    "tags": []
   },
   "source": [
    "## Validating the random-forest regressor"
   ]
  },
  {
   "cell_type": "code",
   "execution_count": 74,
   "metadata": {
    "execution": {
     "iopub.execute_input": "2020-09-15T16:09:46.034415Z",
     "iopub.status.busy": "2020-09-15T16:09:46.033637Z",
     "iopub.status.idle": "2020-09-15T16:09:46.043349Z",
     "shell.execute_reply": "2020-09-15T16:09:46.042517Z"
    },
    "papermill": {
     "duration": 0.187153,
     "end_time": "2020-09-15T16:09:46.043616",
     "exception": false,
     "start_time": "2020-09-15T16:09:45.856463",
     "status": "completed"
    },
    "tags": []
   },
   "outputs": [
    {
     "name": "stdout",
     "output_type": "stream",
     "text": [
      "MSLE : 0.0005834005910137109\n",
      "Root MSLE : 0.024153686903115038\n",
      "R2 Score : 0.9017634686406255 or 90.1763%\n"
     ]
    }
   ],
   "source": [
    "y_test_1, y_pred_1 = remove_negatives(y_test, y_pred)\n",
    "res_rf_reg = evaluate_perf(y_test_1, y_pred_1)\n",
    "\n",
    "print(f\"MSLE : {res_rf_reg[0]}\")\n",
    "print(f\"Root MSLE : {res_rf_reg[1]}\")\n",
    "print(f\"R2 Score : {res_rf_reg[2]} or {res_rf_reg[3]}%\")\n",
    "\n",
    "df_metrics['RandomForest'] = res_rf_reg"
   ]
  },
  {
   "cell_type": "markdown",
   "metadata": {
    "papermill": {
     "duration": 0.152348,
     "end_time": "2020-09-15T16:09:46.352174",
     "exception": false,
     "start_time": "2020-09-15T16:09:46.199826",
     "status": "completed"
    },
    "tags": []
   },
   "source": [
    "How did the actual and predicted values vary? Let us draw a bar graph to compare some of these values."
   ]
  },
  {
   "cell_type": "code",
   "execution_count": 75,
   "metadata": {
    "execution": {
     "iopub.execute_input": "2020-09-15T16:09:46.694058Z",
     "iopub.status.busy": "2020-09-15T16:09:46.692895Z",
     "iopub.status.idle": "2020-09-15T16:09:47.342325Z",
     "shell.execute_reply": "2020-09-15T16:09:47.341555Z"
    },
    "papermill": {
     "duration": 0.837527,
     "end_time": "2020-09-15T16:09:47.342450",
     "exception": false,
     "start_time": "2020-09-15T16:09:46.504923",
     "status": "completed"
    },
    "tags": []
   },
   "outputs": [
    {
     "data": {
      "image/png": "[encoded data removed]",
      "text/plain": [
       "<Figure size 720x360 with 1 Axes>"
      ]
     },
     "metadata": {},
     "output_type": "display_data"
    }
   ],
   "source": [
    "df_rf_comp = pd.DataFrame({'Actual': y_test_1, 'Predicted': y_pred_1})\n",
    "df_rf_comp = df_rf_comp.head(25)\n",
    "\n",
    "df_rf_comp.plot(kind='bar', figsize=(10,5))\n",
    "\n",
    "plt.grid(which='major', linestyle='-', linewidth='0.1', color='green')\n",
    "plt.title('Random forest: Actual vs. predicted')\n",
    "plt.ylabel('MSLE')\n",
    "\n",
    "plt.show()"
   ]
  },
  {
   "cell_type": "markdown",
   "metadata": {
    "papermill": {
     "duration": 0.193596,
     "end_time": "2020-09-15T16:09:47.689399",
     "exception": false,
     "start_time": "2020-09-15T16:09:47.495803",
     "status": "completed"
    },
    "tags": []
   },
   "source": [
    "Let us also depict the random-forest ranking of independent variables."
   ]
  },
  {
   "cell_type": "code",
   "execution_count": 76,
   "metadata": {
    "execution": {
     "iopub.execute_input": "2020-09-15T16:09:48.009500Z",
     "iopub.status.busy": "2020-09-15T16:09:48.006840Z",
     "iopub.status.idle": "2020-09-15T16:09:48.654389Z",
     "shell.execute_reply": "2020-09-15T16:09:48.653746Z"
    },
    "papermill": {
     "duration": 0.80905,
     "end_time": "2020-09-15T16:09:48.654528",
     "exception": false,
     "start_time": "2020-09-15T16:09:47.845478",
     "status": "completed"
    },
    "tags": []
   },
   "outputs": [
    {
     "data": {
      "image/png": "[encoded data removed]",
      "text/plain": [
       "<Figure size 432x432 with 1 Axes>"
      ]
     },
     "metadata": {},
     "output_type": "display_data"
    }
   ],
   "source": [
    "importances = rf_reg.feature_importances_\n",
    "features = X_train.columns\n",
    "x_vals = list(range(len(importances)))\n",
    "\n",
    "plt.figure(figsize=(6,6))\n",
    "plt.bar(x_vals, importances, orientation = ('vertical'))\n",
    "\n",
    "plt.xticks(x_vals, features, rotation=90)\n",
    "plt.ylabel('Score'); \n",
    "plt.xlabel('Feature'); \n",
    "plt.title('Random forest: Feature importance')\n",
    "\n",
    "plt.tight_layout()\n",
    "plt.show();"
   ]
  },
  {
   "cell_type": "markdown",
   "metadata": {
    "papermill": {
     "duration": 0.158631,
     "end_time": "2020-09-15T16:09:48.969278",
     "exception": false,
     "start_time": "2020-09-15T16:09:48.810647",
     "status": "completed"
    },
    "tags": []
   },
   "source": [
    "Finally, we will work on an XGBoost regressor.\n",
    "\n",
    "## Building the XGBoost regressor"
   ]
  },
  {
   "cell_type": "code",
   "execution_count": 77,
   "metadata": {
    "execution": {
     "iopub.execute_input": "2020-09-15T16:09:49.289663Z",
     "iopub.status.busy": "2020-09-15T16:09:49.288794Z",
     "iopub.status.idle": "2020-09-15T16:10:45.657387Z",
     "shell.execute_reply": "2020-09-15T16:10:45.658178Z"
    },
    "papermill": {
     "duration": 56.52903,
     "end_time": "2020-09-15T16:10:45.658433",
     "exception": false,
     "start_time": "2020-09-15T16:09:49.129403",
     "status": "completed"
    },
    "tags": []
   },
   "outputs": [],
   "source": [
    "import xgboost as xgb\n",
    "\n",
    "xg_reg = xgb.XGBRegressor(objective ='reg:squarederror',\n",
    "                          learning_rate = 0.4,\n",
    "                          max_depth = 24,\n",
    "                          alpha = 5,\n",
    "                          n_estimators = 200)\n",
    "\n",
    "xg_reg.fit(X_train,y_train)\n",
    "y_pred = xg_reg.predict(X_test)"
   ]
  },
  {
   "cell_type": "markdown",
   "metadata": {
    "papermill": {
     "duration": 0.160654,
     "end_time": "2020-09-15T16:10:46.141114",
     "exception": false,
     "start_time": "2020-09-15T16:10:45.980460",
     "status": "completed"
    },
    "tags": []
   },
   "source": [
    "## Validating the XGBoost regressor"
   ]
  },
  {
   "cell_type": "code",
   "execution_count": 78,
   "metadata": {
    "execution": {
     "iopub.execute_input": "2020-09-15T16:10:46.487595Z",
     "iopub.status.busy": "2020-09-15T16:10:46.482315Z",
     "iopub.status.idle": "2020-09-15T16:10:46.525177Z",
     "shell.execute_reply": "2020-09-15T16:10:46.523330Z"
    },
    "papermill": {
     "duration": 0.228252,
     "end_time": "2020-09-15T16:10:46.525336",
     "exception": false,
     "start_time": "2020-09-15T16:10:46.297084",
     "status": "completed"
    },
    "tags": []
   },
   "outputs": [
    {
     "name": "stdout",
     "output_type": "stream",
     "text": [
      "MSLE : 0.0005976358103515154\n",
      "Root MSLE : 0.024446590976075076\n",
      "R2 Score : 0.8986681926502984 or 89.8668%\n"
     ]
    }
   ],
   "source": [
    "y_test_1, y_pred_1 = remove_negatives(y_test, y_pred)\n",
    "res_xg_reg = evaluate_perf(y_test_1,y_pred_1)\n",
    "\n",
    "print(f\"MSLE : {res_xg_reg[0]}\")\n",
    "print(f\"Root MSLE : {res_xg_reg[1]}\")\n",
    "print(f\"R2 Score : {res_xg_reg[2]} or {res_xg_reg[3]}%\")\n",
    "\n",
    "df_metrics['XGBoost'] = res_xg_reg\n",
    "\n",
    "# Saving the metrics dataframe as a CSV file because\n",
    "# it contains data about each of the three models now\n",
    "df_metrics.to_csv('error_metrics.csv')"
   ]
  },
  {
   "cell_type": "markdown",
   "metadata": {
    "papermill": {
     "duration": 0.160584,
     "end_time": "2020-09-15T16:10:46.845664",
     "exception": false,
     "start_time": "2020-09-15T16:10:46.685080",
     "status": "completed"
    },
    "tags": []
   },
   "source": [
    "To round off this step, let us depict the XGBoost ranking of independent variables."
   ]
  },
  {
   "cell_type": "code",
   "execution_count": 79,
   "metadata": {
    "execution": {
     "iopub.execute_input": "2020-09-15T16:10:47.181799Z",
     "iopub.status.busy": "2020-09-15T16:10:47.180790Z",
     "iopub.status.idle": "2020-09-15T16:10:49.833956Z",
     "shell.execute_reply": "2020-09-15T16:10:49.833247Z"
    },
    "papermill": {
     "duration": 2.827365,
     "end_time": "2020-09-15T16:10:49.834091",
     "exception": false,
     "start_time": "2020-09-15T16:10:47.006726",
     "status": "completed"
    },
    "tags": []
   },
   "outputs": [
    {
     "data": {
      "image/png": "[encoded data removed]",
      "text/plain": [
       "<Figure size 432x432 with 1 Axes>"
      ]
     },
     "metadata": {},
     "output_type": "display_data"
    }
   ],
   "source": [
    "xgb.plot_importance(xg_reg)\n",
    "\n",
    "plt.rcParams['figure.figsize'] = [5, 5]\n",
    "plt.title('XGBoost: Feature importance')\n",
    "\n",
    "plt.tight_layout()\n",
    "plt.show();"
   ]
  },
  {
   "cell_type": "markdown",
   "metadata": {
    "papermill": {
     "duration": 0.158042,
     "end_time": "2020-09-15T16:10:50.149131",
     "exception": false,
     "start_time": "2020-09-15T16:10:49.991089",
     "status": "completed"
    },
    "tags": []
   },
   "source": [
    "<h2>Step 7: Identifying the most appropriate model<a aria-pressed=\"true\" class=\"btn btn-primary btn-sm\" data-toggle=\"popover\" name='step7-desc' id='step7-desc' href=\"#step7\" role=\"button\" style=\"color: white; margin-left: 20px; target='_self'\">Go to steplist</a></h2>"
   ]
  },
  {
   "cell_type": "markdown",
   "metadata": {
    "papermill": {
     "duration": 0.154704,
     "end_time": "2020-09-15T16:10:50.459121",
     "exception": false,
     "start_time": "2020-09-15T16:10:50.304417",
     "status": "completed"
    },
    "tags": []
   },
   "source": [
    "As the following table and graph indicate, the linear regressor is the least accurate model. Random forest and XGBoost have performed much better than the linear regressor in multiple iterations of the code. And the accuracies of these high performers have been on a par mostly. \n",
    "\n",
    "But if I had to choose one regressor for this type of project, it would be XGBoost. If an XGBoost model is tuned properly, it can reduce bias and variance and give accurate results. What adds to its appeal is that it is optimized for speed and real-world performance."
   ]
  },
  {
   "cell_type": "code",
   "execution_count": 80,
   "metadata": {
    "execution": {
     "iopub.execute_input": "2020-09-15T16:10:50.785260Z",
     "iopub.status.busy": "2020-09-15T16:10:50.775758Z",
     "iopub.status.idle": "2020-09-15T16:10:50.791007Z",
     "shell.execute_reply": "2020-09-15T16:10:50.790331Z"
    },
    "papermill": {
     "duration": 0.176667,
     "end_time": "2020-09-15T16:10:50.791143",
     "exception": false,
     "start_time": "2020-09-15T16:10:50.614476",
     "status": "completed"
    },
    "tags": []
   },
   "outputs": [
    {
     "data": {
      "text/html": [
       "<div>\n",
       "<style scoped>\n",
       "    .dataframe tbody tr th:only-of-type {\n",
       "        vertical-align: middle;\n",
       "    }\n",
       "\n",
       "    .dataframe tbody tr th {\n",
       "        vertical-align: top;\n",
       "    }\n",
       "\n",
       "    .dataframe thead th {\n",
       "        text-align: right;\n",
       "    }\n",
       "</style>\n",
       "<table border=\"1\" class=\"dataframe\">\n",
       "  <thead>\n",
       "    <tr style=\"text-align: right;\">\n",
       "      <th></th>\n",
       "      <th>Linear</th>\n",
       "      <th>RandomForest</th>\n",
       "      <th>XGBoost</th>\n",
       "    </tr>\n",
       "  </thead>\n",
       "  <tbody>\n",
       "    <tr>\n",
       "      <th>MSLE</th>\n",
       "      <td>0.002075</td>\n",
       "      <td>0.000583</td>\n",
       "      <td>0.000598</td>\n",
       "    </tr>\n",
       "    <tr>\n",
       "      <th>RMSLE</th>\n",
       "      <td>0.045549</td>\n",
       "      <td>0.024154</td>\n",
       "      <td>0.024447</td>\n",
       "    </tr>\n",
       "    <tr>\n",
       "      <th>R2 score</th>\n",
       "      <td>0.633098</td>\n",
       "      <td>0.901763</td>\n",
       "      <td>0.898668</td>\n",
       "    </tr>\n",
       "    <tr>\n",
       "      <th>Accuracy(%)</th>\n",
       "      <td>63.309800</td>\n",
       "      <td>90.176300</td>\n",
       "      <td>89.866800</td>\n",
       "    </tr>\n",
       "  </tbody>\n",
       "</table>\n",
       "</div>"
      ],
      "text/plain": [
       "                Linear  RandomForest    XGBoost\n",
       "MSLE          0.002075      0.000583   0.000598\n",
       "RMSLE         0.045549      0.024154   0.024447\n",
       "R2 score      0.633098      0.901763   0.898668\n",
       "Accuracy(%)  63.309800     90.176300  89.866800"
      ]
     },
     "execution_count": 80,
     "metadata": {},
     "output_type": "execute_result"
    }
   ],
   "source": [
    "df_metrics = pd.read_csv('error_metrics.csv', index_col=0)\n",
    "df_metrics"
   ]
  },
  {
   "cell_type": "code",
   "execution_count": 81,
   "metadata": {
    "execution": {
     "iopub.execute_input": "2020-09-15T16:10:51.144536Z",
     "iopub.status.busy": "2020-09-15T16:10:51.139633Z",
     "iopub.status.idle": "2020-09-15T16:10:51.389994Z",
     "shell.execute_reply": "2020-09-15T16:10:51.389380Z"
    },
    "papermill": {
     "duration": 0.438891,
     "end_time": "2020-09-15T16:10:51.390114",
     "exception": false,
     "start_time": "2020-09-15T16:10:50.951223",
     "status": "completed"
    },
    "tags": []
   },
   "outputs": [
    {
     "data": {
      "image/png": "[encoded data removed]",
      "text/plain": [
       "<Figure size 1440x432 with 1 Axes>"
      ]
     },
     "metadata": {},
     "output_type": "display_data"
    }
   ],
   "source": [
    "accuracies = df_metrics.loc['Accuracy(%)']\n",
    "\n",
    "x = list(range(len(accuracies)))\n",
    "y = list(range(0, 101, 10))\n",
    "\n",
    "props = dict(boxstyle='round', facecolor='white', alpha=0.8)\n",
    "plt.figure(figsize=(20, 6))\n",
    "\n",
    "plt.plot(accuracies)\n",
    "\n",
    "plt.yticks(y)\n",
    "plt.xticks(fontsize=20)\n",
    "plt.xlabel(\"Model\", fontsize=30)\n",
    "plt.ylabel(\"Accuracy(%)\", fontsize=30)\n",
    "plt.title(\"Accuracies of models\")\n",
    "\n",
    "for a, b in zip(x, y):\n",
    "    b = accuracies[a]\n",
    "    val=\"(\" + str(round(accuracies[a], 2)) + \" %)\"\n",
    "    plt.text(a, b + 4.5, val, horizontalalignment='center',\\\n",
    "             verticalalignment='center', color='green', bbox=props)\n",
    "    plt.text(a, b + 3.5, '.', horizontalalignment='center',\\\n",
    "             verticalalignment='center', color='red', fontsize=50)\n",
    "    \n",
    "plt.tight_layout()\n",
    "plt.show();"
   ]
  },
  {
   "cell_type": "markdown",
   "metadata": {
    "papermill": {
     "duration": 0.15908,
     "end_time": "2020-09-15T16:10:51.708586",
     "exception": false,
     "start_time": "2020-09-15T16:10:51.549506",
     "status": "completed"
    },
    "tags": []
   },
   "source": [
    "## References\n",
    "\n",
    "- Panwar Abhash Anil, \"Used Car Price Prediction using Machine Learning,\" Medium (blog), Towards Data Science, August 3, 2020, https://towardsdatascience.com/used-car-price-prediction-using-machine-learning-e3be02d977b2.\n",
    "\n",
    "- Soner Yıldırım, \"Predicting Used Car Prices with Machine Learning,\" Medium (blog), Towards Data Science, January 28, 2020, https://towardsdatascience.com/predicting-used-car-prices-with-machine-learning-fea53811b1ab."
   ]
  },
  {
   "cell_type": "markdown",
   "metadata": {
    "papermill": {
     "duration": 0.157512,
     "end_time": "2020-09-15T16:10:52.024100",
     "exception": false,
     "start_time": "2020-09-15T16:10:51.866588",
     "status": "completed"
    },
    "tags": []
   },
   "source": [
    "## Footnote\n",
    "\n",
    "<a name=\"r2-wiki\">1</a>: \"Coefficient of determination,\" Wikimedia Foundation, last modified September 4, 2020, 04:49, https://en.wikipedia.org/wiki/Coefficient_of_determination. [↩](#r2)"
   ]
  }
 ],
 "metadata": {
  "kernelspec": {
   "display_name": "Python 3",
   "language": "python",
   "name": "python3"
  },
  "language_info": {
   "codemirror_mode": {
    "name": "ipython",
    "version": 3
   },
   "file_extension": ".py",
   "mimetype": "text/x-python",
   "name": "python",
   "nbconvert_exporter": "python",
   "pygments_lexer": "ipython3",
   "version": "3.7.6"
  },
  "papermill": {
   "duration": 448.882864,
   "end_time": "2020-09-15T16:10:52.793821",
   "environment_variables": {},
   "exception": null,
   "input_path": "__notebook__.ipynb",
   "output_path": "__notebook__.ipynb",
   "parameters": {},
   "start_time": "2020-09-15T16:03:23.910957",
   "version": "2.1.0"
  }
 },
 "nbformat": 4,
 "nbformat_minor": 4
}
