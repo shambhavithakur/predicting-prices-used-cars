{
 "cells": [
  {
   "cell_type": "markdown",
   "execution_count": null,
   "metadata": {
    "papermill": {
     "duration": 0.034871,
     "end_time": "2020-09-09T22:45:28.245570",
     "exception": false,
     "start_time": "2020-09-09T22:45:28.210699",
     "status": "completed"
    },
    "tags": []
   },
   "source": [
    "<h1>How to Predict the Prices of Used Cars</h1>\n",
    "<p>Subtitle: Using supervised learning to build a price-prediction algorithm</p>\n",
    "<p style=\"margin-bottom:0 !important;\">Created: 2020-05-2020</p>\n",
    "<p>Author: <a href=\"https://sthakur.work\">Shambhavi Thakur</a></p>"
   ]
  },
  {
   "cell_type": "markdown",
   "execution_count": null,
   "metadata": {
    "papermill": {
     "duration": 0.032665,
     "end_time": "2020-09-09T22:45:28.310649",
     "exception": false,
     "start_time": "2020-09-09T22:45:28.277984",
     "status": "completed"
    },
    "tags": []
   },
   "source": [
    "## Introduction\n",
    "\n",
    "When we want to sell used cars, one of the biggest problems is deciding reasonable selling prices for the cars. An effective way to solve this problem is to use a machine-learning model that can predict car prices.\n",
    "\n",
    "In this notebook, I use Python code and libraries to build a price-prediction model. The notebook is an implementation of the project [Predicting the Prices of Used Cars](https://sthakur.work/project/predicting-prices-of-used-cars/).\n",
    "\n",
    "Let us understand the objectives and implemention strategy of the project first. Subsequently, we will discuss and run the project&nbsp;code."
   ]
  },
  {
   "cell_type": "markdown",
   "execution_count": null,
   "metadata": {
    "papermill": {
     "duration": 0.033789,
     "end_time": "2020-09-09T22:45:28.377259",
     "exception": false,
     "start_time": "2020-09-09T22:45:28.343470",
     "status": "completed"
    },
    "tags": []
   },
   "source": [
    "## Project objectives\n",
    "\n",
    "The main objectives of this project are as follows:\n",
    "\n",
    "- Identify relevant machine-learning algorithms for the project.\n",
    "\n",
    "- Build price-prediction models based on the chosen algorithms.\n",
    "\n",
    "- Validate the models.\n",
    "\n",
    "- Identify the most appropriate model.\n"
   ]
  },
  {
   "cell_type": "markdown",
   "execution_count": null,
   "metadata": {
    "papermill": {
     "duration": 0.032325,
     "end_time": "2020-09-09T22:45:28.442327",
     "exception": false,
     "start_time": "2020-09-09T22:45:28.410002",
     "status": "completed"
    },
    "tags": []
   },
   "source": [
    "## Implementation strategy\n",
    "\n",
    "To achieve the project objectives, I intend to work through the following steps:\n",
    "\n",
    "1. [Identify machine-learning algorithms that can help predict car prices.](#step1-desc)<a id=\"step1\" name=\"step1\"></a>\n",
    "\n",
    "2. [Obtain a dataset about used&nbsp;cars.](#step2-desc)<a id=\"step2\" name=\"step2\"></a>\n",
    "\n",
    "3. [Explore and clean the dataset.](#step3-desc)<a id=\"step3\" name=\"step3\"></a>\n",
    "\n",
    "4. [Visualize the dataset and clean it further.](#step4-desc)<a id=\"step4\" name=\"step4\"></a>\n",
    "\n",
    "5. [Split the dataset for training and testing.](#step5-desc)<a id=\"step5\" name=\"step5\"></a>\n",
    "\n",
    "6. [Build and validate price-prediction models.](#step6-desc)<a id=\"step6\" name=\"step6\"></a>\n",
    "\n",
    "7. [Identify the most appropriate model.](#step7-desc)<a id=\"step7\" name=\"step7\"></a>"
   ]
  },
  {
   "cell_type": "markdown",
   "execution_count": null,
   "metadata": {
    "papermill": {
     "duration": 0.032137,
     "end_time": "2020-09-09T22:45:28.507045",
     "exception": false,
     "start_time": "2020-09-09T22:45:28.474908",
     "status": "completed"
    },
    "tags": []
   },
   "source": [
    "<h2>Step 1: Identifying machine-learning algorithms<a aria-pressed=\"true\" class=\"btn btn-primary btn-sm\" data-toggle=\"popover\" name='step1-desc' id='step1-desc' href=\"#step1\" role=\"button\" style=\"color: white; margin-left: 20px; target='_self'\">Go to steplist</a></h2>\n",
    "\n",
    "Cars have been bought and sold for a long time, and there are numerous data sets that list features of cars and their prices. As we can easily obtain a data set of this type, I am opting for supervised learning in this project.\n",
    "\n",
    "### Tasks that comprise supervised learning\n",
    "\n",
    "Supervised learning is all about training an algorithm using prepared, labeled&nbsp;data. Supervised learning for car-price prediction involves the following tasks:\n",
    "\n",
    "1. Obtain a dataset that contains the attributes of various cars, including their prices and mileage.\n",
    "\n",
    "2. Split the dataset into training and testing datasets.\n",
    "\n",
    "3. Train a machine-learning model using the training dataset.\n",
    "\n",
    "4. Once the model has been trained, validate it by passing on to it all columns from the testing data except the price column. The accuracy of the algorithm depends on how close the prices it predicts are to the actual prices in the testing dataset.\n",
    "\n",
    "### Types of supervised learning\n",
    "\n",
    "Supervised learning is of two types, regression and classification. When the target variable is numerical, we have a regression problem. When the target variable is categorical, we have a classification problem.\n",
    "\n",
    "The target variable for this project, car price, is definitely numerical. So, regression will be the most appropriate for this project.\n",
    "\n",
    "### Regression algorithms\n",
    "\n",
    "Regression algorithms are of various types. In this project, we will build and compare models based on four regression algorithms, or regressors. Here is a description of these regressors:\n",
    "\n",
    "- **Linear**: A linear regressor uses linear or step-by-step techniques to find out how a target, or dependent, variable is related to one or more independent variables.\n",
    "\n",
    "- **Random forest**: Given a set of independent variables, a random-forest regressor uses multiple decision trees—in other words, a forest of decision trees—to predict the value of the corresponding target variable. It uses the collective knowledge of the forest to determine which independent variables have the maximum impact on the target variable and predicts values accordingly.\n",
    "\n",
    "- **XGBoost**: Short for extreme gradient boosting, XGBoost is a library that lets us build highly efficient decision trees. Using an XGBoost regressor, we can train different models in tandem. Each model learns from and improves upon the model that preceded it. Collectively, all the models based on an XGBoost regressor determine the impact that independent variables have on the corresponding target variable and rank the independent variables accordingly. This ranking eventually enables the XGBoost regressor to predict target values."
   ]
  },
  {
   "cell_type": "markdown",
   "execution_count": null,
   "metadata": {
    "papermill": {
     "duration": 0.032245,
     "end_time": "2020-09-09T22:45:28.571657",
     "exception": false,
     "start_time": "2020-09-09T22:45:28.539412",
     "status": "completed"
    },
    "tags": []
   },
   "source": [
    "<h2>Step 2: Obtaining a dataset<a aria-pressed=\"true\" class=\"btn btn-primary btn-sm\" data-toggle=\"popover\" name='step2-desc' id='step2-desc' href=\"#step2\" role=\"button\" style=\"color: white; margin-left: 20px; target='_self'\">Go to steplist</a></h2>\n",
    "\n",
    "We will use a [Kaggle dataset](https://www.kaggle.com/austinreese/craigslist-carstrucks-data) for this project. This dataset contains data that was scraped recently from Craiglist in the United States&nbsp;(US).\n",
    "\n",
    "I have already added the dataset to the project environment. Here is code that lists the path to the dataset:"
   ]
  },
  {
   "cell_type": "code",
   "execution_count": 1,
   "metadata": {
    "_cell_guid": "b1076dfc-b9ad-4769-8c92-a6c4dae69d19",
    "_uuid": "8f2839f25d086af736a60e9eeb907d3b93b6e0e5",
    "execution": {
     "iopub.execute_input": "2020-09-09T22:45:28.644140Z",
     "iopub.status.busy": "2020-09-09T22:45:28.643271Z",
     "iopub.status.idle": "2020-09-09T22:45:28.652461Z",
     "shell.execute_reply": "2020-09-09T22:45:28.651749Z"
    },
    "papermill": {
     "duration": 0.048077,
     "end_time": "2020-09-09T22:45:28.652587",
     "exception": false,
     "start_time": "2020-09-09T22:45:28.604510",
     "status": "completed"
    },
    "tags": []
   },
   "outputs": [
    {
     "name": "stdout",
     "output_type": "stream",
     "text": [
      "../input/craigslist-carstrucks-data/vehicles.csv\n"
     ]
    }
   ],
   "source": [
    "import os\n",
    "for dirname, _, filenames in os.walk('../input'):\n",
    "    for filename in filenames:\n",
    "        print(os.path.join(dirname, filename))\n"
   ]
  },
  {
   "cell_type": "markdown",
   "execution_count": null,
   "metadata": {
    "papermill": {
     "duration": 0.032606,
     "end_time": "2020-09-09T22:45:28.718202",
     "exception": false,
     "start_time": "2020-09-09T22:45:28.685596",
     "status": "completed"
    },
    "tags": []
   },
   "source": [
    "<h2>Step 3: Exploring and cleaning the dataset<a aria-pressed=\"true\" class=\"btn btn-primary btn-sm\" data-toggle=\"popover\" name='step3-desc' id='step3-desc' href=\"#step3\" role=\"button\" style=\"color: white; margin-left: 20px; target='_self'\">Go to steplist</a></h2>\n",
    "\n",
    "To explore the dataset, we will first save it as a pandas dataframe. Then, we will view the contents and properties of the dataset and, if required, clean it.\n",
    "\n",
    "### Converting the dataset into a pandas dataframe\n",
    "\n",
    "We will begin by importing pandas, the standard data-science package."
   ]
  },
  {
   "cell_type": "code",
   "execution_count": 2,
   "metadata": {
    "execution": {
     "iopub.execute_input": "2020-09-09T22:45:28.788795Z",
     "iopub.status.busy": "2020-09-09T22:45:28.787744Z",
     "iopub.status.idle": "2020-09-09T22:45:28.791058Z",
     "shell.execute_reply": "2020-09-09T22:45:28.790334Z"
    },
    "papermill": {
     "duration": 0.040493,
     "end_time": "2020-09-09T22:45:28.791193",
     "exception": false,
     "start_time": "2020-09-09T22:45:28.750700",
     "status": "completed"
    },
    "tags": []
   },
   "outputs": [],
   "source": [
    "import pandas as pd"
   ]
  },
  {
   "cell_type": "markdown",
   "execution_count": null,
   "metadata": {
    "papermill": {
     "duration": 0.032201,
     "end_time": "2020-09-09T22:45:28.856310",
     "exception": false,
     "start_time": "2020-09-09T22:45:28.824109",
     "status": "completed"
    },
    "tags": []
   },
   "source": [
    "Next, we will import the dataset."
   ]
  },
  {
   "cell_type": "code",
   "execution_count": 3,
   "metadata": {
    "execution": {
     "iopub.execute_input": "2020-09-09T22:45:28.929999Z",
     "iopub.status.busy": "2020-09-09T22:45:28.929112Z",
     "iopub.status.idle": "2020-09-09T22:45:45.305466Z",
     "shell.execute_reply": "2020-09-09T22:45:45.304848Z"
    },
    "papermill": {
     "duration": 16.416795,
     "end_time": "2020-09-09T22:45:45.305598",
     "exception": false,
     "start_time": "2020-09-09T22:45:28.888803",
     "status": "completed"
    },
    "tags": []
   },
   "outputs": [],
   "source": [
    "df_original = pd.read_csv('../input/craigslist-carstrucks-data/vehicles.csv')"
   ]
  },
  {
   "cell_type": "markdown",
   "execution_count": null,
   "metadata": {
    "papermill": {
     "duration": 0.032797,
     "end_time": "2020-09-09T22:45:45.371539",
     "exception": false,
     "start_time": "2020-09-09T22:45:45.338742",
     "status": "completed"
    },
    "tags": []
   },
   "source": [
    "### Looking at the contents of the dataset\n",
    "\n",
    "Let us browse through the first few rows of the dataset."
   ]
  },
  {
   "cell_type": "code",
   "execution_count": 4,
   "metadata": {
    "execution": {
     "iopub.execute_input": "2020-09-09T22:45:45.442968Z",
     "iopub.status.busy": "2020-09-09T22:45:45.442205Z",
     "iopub.status.idle": "2020-09-09T22:45:45.617375Z",
     "shell.execute_reply": "2020-09-09T22:45:45.617962Z"
    },
    "papermill": {
     "duration": 0.213957,
     "end_time": "2020-09-09T22:45:45.618116",
     "exception": false,
     "start_time": "2020-09-09T22:45:45.404159",
     "status": "completed"
    },
    "tags": []
   },
   "outputs": [
    {
     "data": {
      "text/html": [
       "<div>\n",
       "<style scoped>\n",
       "    .dataframe tbody tr th:only-of-type {\n",
       "        vertical-align: middle;\n",
       "    }\n",
       "\n",
       "    .dataframe tbody tr th {\n",
       "        vertical-align: top;\n",
       "    }\n",
       "\n",
       "    .dataframe thead th {\n",
       "        text-align: right;\n",
       "    }\n",
       "</style>\n",
       "<table border=\"1\" class=\"dataframe\">\n",
       "  <thead>\n",
       "    <tr style=\"text-align: right;\">\n",
       "      <th></th>\n",
       "      <th>id</th>\n",
       "      <th>url</th>\n",
       "      <th>region</th>\n",
       "      <th>region_url</th>\n",
       "      <th>price</th>\n",
       "      <th>year</th>\n",
       "      <th>manufacturer</th>\n",
       "      <th>model</th>\n",
       "      <th>condition</th>\n",
       "      <th>cylinders</th>\n",
       "      <th>...</th>\n",
       "      <th>drive</th>\n",
       "      <th>size</th>\n",
       "      <th>type</th>\n",
       "      <th>paint_color</th>\n",
       "      <th>image_url</th>\n",
       "      <th>description</th>\n",
       "      <th>county</th>\n",
       "      <th>state</th>\n",
       "      <th>lat</th>\n",
       "      <th>long</th>\n",
       "    </tr>\n",
       "  </thead>\n",
       "  <tbody>\n",
       "    <tr>\n",
       "      <th>0</th>\n",
       "      <td>7119256118</td>\n",
       "      <td>https://mohave.craigslist.org/ctd/d/lake-havas...</td>\n",
       "      <td>mohave county</td>\n",
       "      <td>https://mohave.craigslist.org</td>\n",
       "      <td>3495</td>\n",
       "      <td>2012.0</td>\n",
       "      <td>jeep</td>\n",
       "      <td>patriot</td>\n",
       "      <td>like new</td>\n",
       "      <td>4 cylinders</td>\n",
       "      <td>...</td>\n",
       "      <td>NaN</td>\n",
       "      <td>NaN</td>\n",
       "      <td>NaN</td>\n",
       "      <td>silver</td>\n",
       "      <td>https://images.craigslist.org/00B0B_k2AXIJ21ok...</td>\n",
       "      <td>THIS 2012 JEEP PATRIOT IS A 4CYL. AC, STEREO, ...</td>\n",
       "      <td>NaN</td>\n",
       "      <td>az</td>\n",
       "      <td>34.4554</td>\n",
       "      <td>-114.2690</td>\n",
       "    </tr>\n",
       "    <tr>\n",
       "      <th>1</th>\n",
       "      <td>7120880186</td>\n",
       "      <td>https://oregoncoast.craigslist.org/cto/d/warre...</td>\n",
       "      <td>oregon coast</td>\n",
       "      <td>https://oregoncoast.craigslist.org</td>\n",
       "      <td>13750</td>\n",
       "      <td>2014.0</td>\n",
       "      <td>bmw</td>\n",
       "      <td>328i m-sport</td>\n",
       "      <td>good</td>\n",
       "      <td>NaN</td>\n",
       "      <td>...</td>\n",
       "      <td>rwd</td>\n",
       "      <td>NaN</td>\n",
       "      <td>sedan</td>\n",
       "      <td>grey</td>\n",
       "      <td>https://images.craigslist.org/00U0U_3cLk0WGOJ8...</td>\n",
       "      <td>Selling my 2014 BMW 328i with the following be...</td>\n",
       "      <td>NaN</td>\n",
       "      <td>or</td>\n",
       "      <td>46.1837</td>\n",
       "      <td>-123.8240</td>\n",
       "    </tr>\n",
       "    <tr>\n",
       "      <th>2</th>\n",
       "      <td>7115048251</td>\n",
       "      <td>https://greenville.craigslist.org/cto/d/sparta...</td>\n",
       "      <td>greenville / upstate</td>\n",
       "      <td>https://greenville.craigslist.org</td>\n",
       "      <td>2300</td>\n",
       "      <td>2001.0</td>\n",
       "      <td>dodge</td>\n",
       "      <td>caravan</td>\n",
       "      <td>excellent</td>\n",
       "      <td>6 cylinders</td>\n",
       "      <td>...</td>\n",
       "      <td>NaN</td>\n",
       "      <td>NaN</td>\n",
       "      <td>NaN</td>\n",
       "      <td>NaN</td>\n",
       "      <td>https://images.craigslist.org/00k0k_t4WqYn5nDC...</td>\n",
       "      <td>01 DODGE CARAVAN,3.3 ENGINE,AUT TRANS,199000 M...</td>\n",
       "      <td>NaN</td>\n",
       "      <td>sc</td>\n",
       "      <td>34.9352</td>\n",
       "      <td>-81.9654</td>\n",
       "    </tr>\n",
       "    <tr>\n",
       "      <th>435846</th>\n",
       "      <td>7120896708</td>\n",
       "      <td>https://oregoncoast.craigslist.org/cto/d/corne...</td>\n",
       "      <td>oregon coast</td>\n",
       "      <td>https://oregoncoast.craigslist.org</td>\n",
       "      <td>2450</td>\n",
       "      <td>2001.0</td>\n",
       "      <td>ford</td>\n",
       "      <td>focus</td>\n",
       "      <td>good</td>\n",
       "      <td>4 cylinders</td>\n",
       "      <td>...</td>\n",
       "      <td>rwd</td>\n",
       "      <td>compact</td>\n",
       "      <td>other</td>\n",
       "      <td>black</td>\n",
       "      <td>https://images.craigslist.org/00707_6cmfCa9Pc9...</td>\n",
       "      <td>I am selling my ford focus 2001 SE, 130 thousa...</td>\n",
       "      <td>NaN</td>\n",
       "      <td>or</td>\n",
       "      <td>45.5272</td>\n",
       "      <td>-123.0950</td>\n",
       "    </tr>\n",
       "    <tr>\n",
       "      <th>435847</th>\n",
       "      <td>7120885819</td>\n",
       "      <td>https://oregoncoast.craigslist.org/ctd/d/portl...</td>\n",
       "      <td>oregon coast</td>\n",
       "      <td>https://oregoncoast.craigslist.org</td>\n",
       "      <td>8995</td>\n",
       "      <td>2013.0</td>\n",
       "      <td>mazda</td>\n",
       "      <td>mazda3</td>\n",
       "      <td>NaN</td>\n",
       "      <td>NaN</td>\n",
       "      <td>...</td>\n",
       "      <td>fwd</td>\n",
       "      <td>NaN</td>\n",
       "      <td>sedan</td>\n",
       "      <td>NaN</td>\n",
       "      <td>https://images.craigslist.org/00j0j_jEvFN3iSx1...</td>\n",
       "      <td>Simple Easy Car BuyingNo Games No Gimmicks    ...</td>\n",
       "      <td>NaN</td>\n",
       "      <td>or</td>\n",
       "      <td>45.5231</td>\n",
       "      <td>-122.5790</td>\n",
       "    </tr>\n",
       "    <tr>\n",
       "      <th>435848</th>\n",
       "      <td>7112215161</td>\n",
       "      <td>https://rapidcity.craigslist.org/ctd/d/rapid-c...</td>\n",
       "      <td>rapid city / west SD</td>\n",
       "      <td>https://rapidcity.craigslist.org</td>\n",
       "      <td>6577</td>\n",
       "      <td>2010.0</td>\n",
       "      <td>dodge</td>\n",
       "      <td>grand caravan</td>\n",
       "      <td>NaN</td>\n",
       "      <td>NaN</td>\n",
       "      <td>...</td>\n",
       "      <td>fwd</td>\n",
       "      <td>NaN</td>\n",
       "      <td>mini-van</td>\n",
       "      <td>blue</td>\n",
       "      <td>https://images.craigslist.org/00f0f_5yUMSGZFBn...</td>\n",
       "      <td>2010 Dodge Grand Caravan SXT     Offered by: L...</td>\n",
       "      <td>NaN</td>\n",
       "      <td>sd</td>\n",
       "      <td>44.0804</td>\n",
       "      <td>-103.1910</td>\n",
       "    </tr>\n",
       "  </tbody>\n",
       "</table>\n",
       "<p>6 rows × 25 columns</p>\n",
       "</div>"
      ],
      "text/plain": [
       "                id                                                url  \\\n",
       "0       7119256118  https://mohave.craigslist.org/ctd/d/lake-havas...   \n",
       "1       7120880186  https://oregoncoast.craigslist.org/cto/d/warre...   \n",
       "2       7115048251  https://greenville.craigslist.org/cto/d/sparta...   \n",
       "435846  7120896708  https://oregoncoast.craigslist.org/cto/d/corne...   \n",
       "435847  7120885819  https://oregoncoast.craigslist.org/ctd/d/portl...   \n",
       "435848  7112215161  https://rapidcity.craigslist.org/ctd/d/rapid-c...   \n",
       "\n",
       "                      region                          region_url  price  \\\n",
       "0              mohave county       https://mohave.craigslist.org   3495   \n",
       "1               oregon coast  https://oregoncoast.craigslist.org  13750   \n",
       "2       greenville / upstate   https://greenville.craigslist.org   2300   \n",
       "435846          oregon coast  https://oregoncoast.craigslist.org   2450   \n",
       "435847          oregon coast  https://oregoncoast.craigslist.org   8995   \n",
       "435848  rapid city / west SD    https://rapidcity.craigslist.org   6577   \n",
       "\n",
       "          year manufacturer          model  condition    cylinders  ... drive  \\\n",
       "0       2012.0         jeep        patriot   like new  4 cylinders  ...   NaN   \n",
       "1       2014.0          bmw   328i m-sport       good          NaN  ...   rwd   \n",
       "2       2001.0        dodge        caravan  excellent  6 cylinders  ...   NaN   \n",
       "435846  2001.0         ford          focus       good  4 cylinders  ...   rwd   \n",
       "435847  2013.0        mazda         mazda3        NaN          NaN  ...   fwd   \n",
       "435848  2010.0        dodge  grand caravan        NaN          NaN  ...   fwd   \n",
       "\n",
       "           size      type paint_color  \\\n",
       "0           NaN       NaN      silver   \n",
       "1           NaN     sedan        grey   \n",
       "2           NaN       NaN         NaN   \n",
       "435846  compact     other       black   \n",
       "435847      NaN     sedan         NaN   \n",
       "435848      NaN  mini-van        blue   \n",
       "\n",
       "                                                image_url  \\\n",
       "0       https://images.craigslist.org/00B0B_k2AXIJ21ok...   \n",
       "1       https://images.craigslist.org/00U0U_3cLk0WGOJ8...   \n",
       "2       https://images.craigslist.org/00k0k_t4WqYn5nDC...   \n",
       "435846  https://images.craigslist.org/00707_6cmfCa9Pc9...   \n",
       "435847  https://images.craigslist.org/00j0j_jEvFN3iSx1...   \n",
       "435848  https://images.craigslist.org/00f0f_5yUMSGZFBn...   \n",
       "\n",
       "                                              description county state  \\\n",
       "0       THIS 2012 JEEP PATRIOT IS A 4CYL. AC, STEREO, ...    NaN    az   \n",
       "1       Selling my 2014 BMW 328i with the following be...    NaN    or   \n",
       "2       01 DODGE CARAVAN,3.3 ENGINE,AUT TRANS,199000 M...    NaN    sc   \n",
       "435846  I am selling my ford focus 2001 SE, 130 thousa...    NaN    or   \n",
       "435847  Simple Easy Car BuyingNo Games No Gimmicks    ...    NaN    or   \n",
       "435848  2010 Dodge Grand Caravan SXT     Offered by: L...    NaN    sd   \n",
       "\n",
       "            lat      long  \n",
       "0       34.4554 -114.2690  \n",
       "1       46.1837 -123.8240  \n",
       "2       34.9352  -81.9654  \n",
       "435846  45.5272 -123.0950  \n",
       "435847  45.5231 -122.5790  \n",
       "435848  44.0804 -103.1910  \n",
       "\n",
       "[6 rows x 25 columns]"
      ]
     },
     "execution_count": 4,
     "metadata": {},
     "output_type": "execute_result"
    }
   ],
   "source": [
    "import numpy as np\n",
    "\n",
    "df = df_original.copy()\n",
    "\n",
    "df.iloc[np.r_[0:3, -3:0]]"
   ]
  },
  {
   "cell_type": "markdown",
   "execution_count": null,
   "metadata": {
    "papermill": {
     "duration": 0.032865,
     "end_time": "2020-09-09T22:45:45.684045",
     "exception": false,
     "start_time": "2020-09-09T22:45:45.651180",
     "status": "completed"
    },
    "tags": []
   },
   "source": [
    "### Cleaning the dataset\n",
    "\n",
    "Some of the dataset columns, such as url and region_url, seem irrelevant to this project, and some columns have NaN, or null, values. In addition, the price column, which represents our target variable (the values that our algorithm should predict), seems to lose its relevance sandwiched between all the other columns. We need to move it to the end of the dataset.\n",
    "\n",
    "Let us remove the irrelevant columns first."
   ]
  },
  {
   "cell_type": "code",
   "execution_count": 5,
   "metadata": {
    "execution": {
     "iopub.execute_input": "2020-09-09T22:45:45.829225Z",
     "iopub.status.busy": "2020-09-09T22:45:45.759673Z",
     "iopub.status.idle": "2020-09-09T22:45:45.884795Z",
     "shell.execute_reply": "2020-09-09T22:45:45.884018Z"
    },
    "papermill": {
     "duration": 0.167646,
     "end_time": "2020-09-09T22:45:45.884922",
     "exception": false,
     "start_time": "2020-09-09T22:45:45.717276",
     "status": "completed"
    },
    "tags": []
   },
   "outputs": [],
   "source": [
    "irrelevant_cols = ['id', 'url', 'region_url', 'vin', 'image_url', \\\n",
    "                   'description', 'county']\n",
    "\n",
    "df = df.drop(columns=irrelevant_cols)"
   ]
  },
  {
   "cell_type": "markdown",
   "execution_count": null,
   "metadata": {
    "papermill": {
     "duration": 0.032759,
     "end_time": "2020-09-09T22:45:45.951120",
     "exception": false,
     "start_time": "2020-09-09T22:45:45.918361",
     "status": "completed"
    },
    "tags": []
   },
   "source": [
    "Next, let us reposition the price column."
   ]
  },
  {
   "cell_type": "code",
   "execution_count": 6,
   "metadata": {
    "execution": {
     "iopub.execute_input": "2020-09-09T22:45:46.161502Z",
     "iopub.status.busy": "2020-09-09T22:45:46.100294Z",
     "iopub.status.idle": "2020-09-09T22:45:46.164875Z",
     "shell.execute_reply": "2020-09-09T22:45:46.164089Z"
    },
    "papermill": {
     "duration": 0.131262,
     "end_time": "2020-09-09T22:45:46.165003",
     "exception": false,
     "start_time": "2020-09-09T22:45:46.033741",
     "status": "completed"
    },
    "tags": []
   },
   "outputs": [],
   "source": [
    "col_list = ['price']\n",
    "rearranged_cols = np.hstack((df.columns.difference(col_list, sort=False), col_list))\n",
    "\n",
    "df = df.reindex(columns=rearranged_cols)"
   ]
  },
  {
   "cell_type": "markdown",
   "execution_count": null,
   "metadata": {
    "papermill": {
     "duration": 0.03327,
     "end_time": "2020-09-09T22:45:46.231984",
     "exception": false,
     "start_time": "2020-09-09T22:45:46.198714",
     "status": "completed"
    },
    "tags": []
   },
   "source": [
    "Here is the structure of the edited dataset:"
   ]
  },
  {
   "cell_type": "code",
   "execution_count": 7,
   "metadata": {
    "execution": {
     "iopub.execute_input": "2020-09-09T22:45:46.849885Z",
     "iopub.status.busy": "2020-09-09T22:45:46.849105Z",
     "iopub.status.idle": "2020-09-09T22:45:46.885390Z",
     "shell.execute_reply": "2020-09-09T22:45:46.884611Z"
    },
    "papermill": {
     "duration": 0.620102,
     "end_time": "2020-09-09T22:45:46.885517",
     "exception": false,
     "start_time": "2020-09-09T22:45:46.265415",
     "status": "completed"
    },
    "tags": []
   },
   "outputs": [
    {
     "name": "stdout",
     "output_type": "stream",
     "text": [
      "<class 'pandas.core.frame.DataFrame'>\n",
      "RangeIndex: 435849 entries, 0 to 435848\n",
      "Data columns (total 18 columns):\n",
      " #   Column        Non-Null Count   Dtype  \n",
      "---  ------        --------------   -----  \n",
      " 0   region        435849 non-null  object \n",
      " 1   year          434732 non-null  float64\n",
      " 2   manufacturer  415102 non-null  object \n",
      " 3   model         429650 non-null  object \n",
      " 4   condition     249043 non-null  object \n",
      " 5   cylinders     269465 non-null  object \n",
      " 6   fuel          432858 non-null  object \n",
      " 7   odometer      360701 non-null  float64\n",
      " 8   title_status  434043 non-null  object \n",
      " 9   transmission  433703 non-null  object \n",
      " 10  drive         313838 non-null  object \n",
      " 11  size          139888 non-null  object \n",
      " 12  type          318741 non-null  object \n",
      " 13  paint_color   300602 non-null  object \n",
      " 14  state         435849 non-null  object \n",
      " 15  lat           427614 non-null  float64\n",
      " 16  long          427614 non-null  float64\n",
      " 17  price         435849 non-null  int64  \n",
      "dtypes: float64(4), int64(1), object(13)\n",
      "memory usage: 59.9+ MB\n"
     ]
    }
   ],
   "source": [
    "df.info()"
   ]
  },
  {
   "cell_type": "markdown",
   "execution_count": null,
   "metadata": {
    "papermill": {
     "duration": 0.033264,
     "end_time": "2020-09-09T22:45:46.952462",
     "exception": false,
     "start_time": "2020-09-09T22:45:46.919198",
     "status": "completed"
    },
    "tags": []
   },
   "source": [
    "So, some of the columns have been removed and the price column is at the end of the dataset. However, there are still quite a few columns with null values.\n",
    "\n",
    "Let us determine the total number of null values in each column."
   ]
  },
  {
   "cell_type": "code",
   "execution_count": 8,
   "metadata": {
    "execution": {
     "iopub.execute_input": "2020-09-09T22:45:47.570340Z",
     "iopub.status.busy": "2020-09-09T22:45:47.569497Z",
     "iopub.status.idle": "2020-09-09T22:45:47.592424Z",
     "shell.execute_reply": "2020-09-09T22:45:47.591810Z"
    },
    "papermill": {
     "duration": 0.606379,
     "end_time": "2020-09-09T22:45:47.592566",
     "exception": false,
     "start_time": "2020-09-09T22:45:46.986187",
     "status": "completed"
    },
    "tags": []
   },
   "outputs": [
    {
     "data": {
      "text/plain": [
       "region               0\n",
       "year              1117\n",
       "manufacturer     20747\n",
       "model             6199\n",
       "condition       186806\n",
       "cylinders       166384\n",
       "fuel              2991\n",
       "odometer         75148\n",
       "title_status      1806\n",
       "transmission      2146\n",
       "drive           122011\n",
       "size            295961\n",
       "type            117108\n",
       "paint_color     135247\n",
       "state                0\n",
       "lat               8235\n",
       "long              8235\n",
       "price                0\n",
       "dtype: int64"
      ]
     },
     "execution_count": 8,
     "metadata": {},
     "output_type": "execute_result"
    }
   ],
   "source": [
    "df.isnull().sum()"
   ]
  },
  {
   "cell_type": "markdown",
   "execution_count": null,
   "metadata": {
    "papermill": {
     "duration": 0.034091,
     "end_time": "2020-09-09T22:45:47.661484",
     "exception": false,
     "start_time": "2020-09-09T22:45:47.627393",
     "status": "completed"
    },
    "tags": []
   },
   "source": [
    "Let us also depict the distribution of the null values via a graph."
   ]
  },
  {
   "cell_type": "code",
   "execution_count": 9,
   "metadata": {
    "execution": {
     "iopub.execute_input": "2020-09-09T22:45:47.737761Z",
     "iopub.status.busy": "2020-09-09T22:45:47.737001Z",
     "iopub.status.idle": "2020-09-09T22:45:55.858651Z",
     "shell.execute_reply": "2020-09-09T22:45:55.858002Z"
    },
    "papermill": {
     "duration": 8.163102,
     "end_time": "2020-09-09T22:45:55.858793",
     "exception": false,
     "start_time": "2020-09-09T22:45:47.695691",
     "status": "completed"
    },
    "tags": []
   },
   "outputs": [
    {
     "data": {
      "image/png": "[encoded data removed]",
      "text/plain": [
       "<Figure size 432x288 with 2 Axes>"
      ]
     },
     "metadata": {},
     "output_type": "display_data"
    }
   ],
   "source": [
    "import seaborn as sns\n",
    "import matplotlib.pyplot as plt\n",
    "\n",
    "heat_map = sns.heatmap(df.isnull(), yticklabels=False, cbar=True, cmap='Blues')\n",
    "_ = heat_map.set_xticklabels(heat_map.get_xticklabels(), color='#6eafd7')"
   ]
  },
  {
   "cell_type": "markdown",
   "execution_count": null,
   "metadata": {
    "papermill": {
     "duration": 0.033623,
     "end_time": "2020-09-09T22:45:55.926735",
     "exception": false,
     "start_time": "2020-09-09T22:45:55.893112",
     "status": "completed"
    },
    "tags": []
   },
   "source": [
    "Missing values can lead to errors in machine-learning models. To avoid these errors, we can use one of the following workarounds:\n",
    "\n",
    "- Remove each row that contains any missing values.\n",
    "\n",
    "- Replace missing values with estimates by using scikit-learn imputers.\n",
    "\n",
    "As we want our algorithms to be accurate, we must retain as much of the car data as possible. Therefore, we will opt for the second workaround.\n",
    "\n",
    "Before we use imputers on the dataset, however, let us organize some of its column names into two groups, numerical and categorical. We will use the corresponding columns as independent variables for our models.\n",
    "\n",
    "Here are the groups:"
   ]
  },
  {
   "cell_type": "code",
   "execution_count": 10,
   "metadata": {
    "execution": {
     "iopub.execute_input": "2020-09-09T22:45:56.001731Z",
     "iopub.status.busy": "2020-09-09T22:45:56.000667Z",
     "iopub.status.idle": "2020-09-09T22:45:56.004252Z",
     "shell.execute_reply": "2020-09-09T22:45:56.003485Z"
    },
    "papermill": {
     "duration": 0.043736,
     "end_time": "2020-09-09T22:45:56.004384",
     "exception": false,
     "start_time": "2020-09-09T22:45:55.960648",
     "status": "completed"
    },
    "tags": []
   },
   "outputs": [],
   "source": [
    "numerical = ['year', 'odometer', 'lat', 'long']\n",
    "\n",
    "categorical = ['region', 'condition','cylinders',\\\n",
    "               'fuel', 'title_status', 'transmission',\\\n",
    "               'drive', 'size', 'type', 'paint_color', 'state']"
   ]
  },
  {
   "cell_type": "markdown",
   "execution_count": null,
   "metadata": {
    "papermill": {
     "duration": 0.033706,
     "end_time": "2020-09-09T22:45:56.072568",
     "exception": false,
     "start_time": "2020-09-09T22:45:56.038862",
     "status": "completed"
    },
    "tags": []
   },
   "source": [
    "We excluded manufacturer and model from the categorical list because we want to avoid any incorrect combinations of manufacturers and models.\n",
    "\n",
    "Next, we will make sure that all string values in the dataset are in lowercase and do not contain any unnecessary spaces.\n",
    "\n",
    "Here is the code that we will use:"
   ]
  },
  {
   "cell_type": "code",
   "execution_count": 11,
   "metadata": {
    "execution": {
     "iopub.execute_input": "2020-09-09T22:45:56.193493Z",
     "iopub.status.busy": "2020-09-09T22:45:56.192325Z",
     "iopub.status.idle": "2020-09-09T22:46:01.752400Z",
     "shell.execute_reply": "2020-09-09T22:46:01.751785Z"
    },
    "papermill": {
     "duration": 5.64584,
     "end_time": "2020-09-09T22:46:01.752533",
     "exception": false,
     "start_time": "2020-09-09T22:45:56.106693",
     "status": "completed"
    },
    "tags": []
   },
   "outputs": [],
   "source": [
    "for column in df.columns[1:]:\n",
    "    if df[column].dtype == 'object':\n",
    "        df[column] = df[column].str.lower().str.strip()"
   ]
  },
  {
   "cell_type": "markdown",
   "execution_count": null,
   "metadata": {
    "papermill": {
     "duration": 0.034051,
     "end_time": "2020-09-09T22:46:01.820973",
     "exception": false,
     "start_time": "2020-09-09T22:46:01.786922",
     "status": "completed"
    },
    "tags": []
   },
   "source": [
    "We are now ready to replace all the null values in the dataset with estimated values. We will fill out the numerical columns of the dataset by using Extratreesregressor. And, to fill out the categorical columns, we will use BayesianRidge.\n",
    "\n",
    "How do Extratreesregressor and BayesianRidge work?\n",
    "\n",
    "Extratreesregressor divides a target dataset into smaller subsets. Then, it uses multiple decision trees, or extra trees, on the subsets to determine how various attributes of the dataset interrelate. It combines the findings of the trees to generate an average value for each null&nbsp;field.\n",
    "\n",
    "An imputer of the Extratreesregressor type prevents overfitting. In other words, it allows us to create models that can transfer what they learn from training datasets to other, real-world datasets and make highly accurate predictions.\n",
    "\n",
    "Unlike Extratreesregressor, BayesianRidge uses linear regression to determine relationships between variables. Based on these relationships, it generates regularized values for non-null fields.\n",
    "\n",
    "To be able to use the Extratreesregressor and BayesianRidge imputers, we will first import relevant modules. We will also save the initializers of these imputers in a&nbsp;list:"
   ]
  },
  {
   "cell_type": "code",
   "execution_count": 12,
   "metadata": {
    "execution": {
     "iopub.execute_input": "2020-09-09T22:46:01.897953Z",
     "iopub.status.busy": "2020-09-09T22:46:01.897032Z",
     "iopub.status.idle": "2020-09-09T22:46:02.264080Z",
     "shell.execute_reply": "2020-09-09T22:46:02.263317Z"
    },
    "papermill": {
     "duration": 0.408723,
     "end_time": "2020-09-09T22:46:02.264214",
     "exception": false,
     "start_time": "2020-09-09T22:46:01.855491",
     "status": "completed"
    },
    "tags": []
   },
   "outputs": [],
   "source": [
    "import warnings\n",
    "warnings.filterwarnings('ignore')\n",
    "\n",
    "from sklearn.experimental import enable_iterative_imputer\n",
    "\n",
    "from sklearn import preprocessing\n",
    "from sklearn.impute import IterativeImputer\n",
    "from sklearn.linear_model import BayesianRidge\n",
    "from sklearn.ensemble import ExtraTreesRegressor\n",
    "\n",
    "imputers = [\n",
    "    BayesianRidge(),\n",
    "    ExtraTreesRegressor(n_estimators=10, random_state=0),\n",
    "]"
   ]
  },
  {
   "cell_type": "markdown",
   "execution_count": null,
   "metadata": {
    "papermill": {
     "duration": 0.034339,
     "end_time": "2020-09-09T22:46:02.334232",
     "exception": false,
     "start_time": "2020-09-09T22:46:02.299893",
     "status": "completed"
    },
    "tags": []
   },
   "source": [
    "Now, let us use the items in the `imputers` list to generate values.\n",
    "\n",
    "First, we will use Extratreesregressor to fill out the null fields of the numerical columns."
   ]
  },
  {
   "cell_type": "code",
   "execution_count": 13,
   "metadata": {
    "execution": {
     "iopub.execute_input": "2020-09-09T22:46:02.417861Z",
     "iopub.status.busy": "2020-09-09T22:46:02.417012Z",
     "iopub.status.idle": "2020-09-09T22:49:26.103900Z",
     "shell.execute_reply": "2020-09-09T22:49:26.103009Z"
    },
    "papermill": {
     "duration": 203.735326,
     "end_time": "2020-09-09T22:49:26.104047",
     "exception": false,
     "start_time": "2020-09-09T22:46:02.368721",
     "status": "completed"
    },
    "tags": []
   },
   "outputs": [],
   "source": [
    "sr_numerical = df[numerical]\n",
    "imp_numerical = IterativeImputer(imputers[1])\n",
    "imputed_vals = imp_numerical.fit_transform(sr_numerical)\n",
    "df[numerical] = imputed_vals"
   ]
  },
  {
   "cell_type": "markdown",
   "execution_count": null,
   "metadata": {
    "papermill": {
     "duration": 0.034362,
     "end_time": "2020-09-09T22:49:26.173979",
     "exception": false,
     "start_time": "2020-09-09T22:49:26.139617",
     "status": "completed"
    },
    "tags": []
   },
   "source": [
    "The numerical columns do not have any null values now."
   ]
  },
  {
   "cell_type": "code",
   "execution_count": 14,
   "metadata": {
    "execution": {
     "iopub.execute_input": "2020-09-09T22:49:26.794378Z",
     "iopub.status.busy": "2020-09-09T22:49:26.793542Z",
     "iopub.status.idle": "2020-09-09T22:49:26.817013Z",
     "shell.execute_reply": "2020-09-09T22:49:26.817555Z"
    },
    "papermill": {
     "duration": 0.609412,
     "end_time": "2020-09-09T22:49:26.817721",
     "exception": false,
     "start_time": "2020-09-09T22:49:26.208309",
     "status": "completed"
    },
    "tags": []
   },
   "outputs": [
    {
     "data": {
      "text/plain": [
       "year        0\n",
       "odometer    0\n",
       "lat         0\n",
       "long        0\n",
       "dtype: int64"
      ]
     },
     "execution_count": 14,
     "metadata": {},
     "output_type": "execute_result"
    }
   ],
   "source": [
    "df.isnull().sum()[numerical]"
   ]
  },
  {
   "cell_type": "markdown",
   "execution_count": null,
   "metadata": {
    "papermill": {
     "duration": 0.03399,
     "end_time": "2020-09-09T22:49:26.886568",
     "exception": false,
     "start_time": "2020-09-09T22:49:26.852578",
     "status": "completed"
    },
    "tags": []
   },
   "source": [
    "Next, we will use BayesianRidge to generate values for the null fields of the categorical columns.\n",
    "\n",
    "The BayesianRidge algorithm will generate the required values based on the data that already exist in the categorical columns. But the algorithm cannot understand the existing data in their raw form because they are strings. We will have to encode these strings first.\n",
    "\n",
    "Here is a function that can do the encoding&nbsp;for&nbsp;us:"
   ]
  },
  {
   "cell_type": "code",
   "execution_count": 15,
   "metadata": {
    "execution": {
     "iopub.execute_input": "2020-09-09T22:49:26.963557Z",
     "iopub.status.busy": "2020-09-09T22:49:26.962686Z",
     "iopub.status.idle": "2020-09-09T22:49:26.966181Z",
     "shell.execute_reply": "2020-09-09T22:49:26.965590Z"
    },
    "papermill": {
     "duration": 0.045485,
     "end_time": "2020-09-09T22:49:26.966321",
     "exception": false,
     "start_time": "2020-09-09T22:49:26.920836",
     "status": "completed"
    },
    "tags": []
   },
   "outputs": [],
   "source": [
    "def encode(data_col):\n",
    "    '''A function that transforms non-null values'''\n",
    "    vals = np.array(data_col.dropna())\n",
    "    # Reshaping the non-null data of a column\n",
    "    reshaped_data = vals.reshape(-1,1)\n",
    "    # Encoding the reshaped data\n",
    "    encoded_data = encoder.fit_transform(reshaped_data)\n",
    "    # Assigning the encoded values to the corresponding column values\n",
    "    data_col.loc[data_col.notnull()] = np.squeeze(encoded_data)\n",
    "    return data_col"
   ]
  },
  {
   "cell_type": "markdown",
   "execution_count": null,
   "metadata": {
    "papermill": {
     "duration": 0.035025,
     "end_time": "2020-09-09T22:49:27.036585",
     "exception": false,
     "start_time": "2020-09-09T22:49:27.001560",
     "status": "completed"
    },
    "tags": []
   },
   "source": [
    "Now, let us use the `encode` function along with other code to update the categorical columns."
   ]
  },
  {
   "cell_type": "code",
   "execution_count": 16,
   "metadata": {
    "execution": {
     "iopub.execute_input": "2020-09-09T22:49:27.221618Z",
     "iopub.status.busy": "2020-09-09T22:49:27.174179Z",
     "iopub.status.idle": "2020-09-09T22:49:31.322509Z",
     "shell.execute_reply": "2020-09-09T22:49:31.321892Z"
    },
    "papermill": {
     "duration": 4.250765,
     "end_time": "2020-09-09T22:49:31.322643",
     "exception": false,
     "start_time": "2020-09-09T22:49:27.071878",
     "status": "completed"
    },
    "tags": []
   },
   "outputs": [],
   "source": [
    "sr_categorical = df[categorical]\n",
    "encoder = preprocessing.LabelEncoder()\n",
    "\n",
    "# Using a for loop to iterate through each categorical column and\n",
    "# filling out its null fields\n",
    "for column in categorical:\n",
    "    encode(sr_categorical[column])\n",
    "    imp_categorical = IterativeImputer(BayesianRidge())\n",
    "    imputed_vals_cat = imp_categorical.fit_transform(sr_categorical[column].values.reshape(-1, 1))\n",
    "    imputed_vals_cat = imputed_vals_cat.astype('int64')\n",
    "    imputed_vals_cat = pd.DataFrame(imputed_vals_cat)\n",
    "    imputed_vals_cat = encoder.inverse_transform(imputed_vals_cat.values.reshape(-1, 1))\n",
    "    sr_categorical[column] = imputed_vals_cat\n",
    "\n",
    "df[categorical]= sr_categorical"
   ]
  },
  {
   "cell_type": "markdown",
   "execution_count": null,
   "metadata": {
    "papermill": {
     "duration": 0.034759,
     "end_time": "2020-09-09T22:49:31.392879",
     "exception": false,
     "start_time": "2020-09-09T22:49:31.358120",
     "status": "completed"
    },
    "tags": []
   },
   "source": [
    "The categorical columns also don't have any null values&nbsp;now."
   ]
  },
  {
   "cell_type": "code",
   "execution_count": 17,
   "metadata": {
    "execution": {
     "iopub.execute_input": "2020-09-09T22:49:32.066123Z",
     "iopub.status.busy": "2020-09-09T22:49:32.065352Z",
     "iopub.status.idle": "2020-09-09T22:49:32.088155Z",
     "shell.execute_reply": "2020-09-09T22:49:32.088749Z"
    },
    "papermill": {
     "duration": 0.660943,
     "end_time": "2020-09-09T22:49:32.088932",
     "exception": false,
     "start_time": "2020-09-09T22:49:31.427989",
     "status": "completed"
    },
    "tags": []
   },
   "outputs": [
    {
     "data": {
      "text/plain": [
       "region          0\n",
       "condition       0\n",
       "cylinders       0\n",
       "fuel            0\n",
       "title_status    0\n",
       "transmission    0\n",
       "drive           0\n",
       "size            0\n",
       "type            0\n",
       "paint_color     0\n",
       "state           0\n",
       "dtype: int64"
      ]
     },
     "execution_count": 17,
     "metadata": {},
     "output_type": "execute_result"
    }
   ],
   "source": [
    "df.isnull().sum()[categorical]"
   ]
  },
  {
   "cell_type": "markdown",
   "execution_count": null,
   "metadata": {
    "papermill": {
     "duration": 0.034231,
     "end_time": "2020-09-09T22:49:32.157906",
     "exception": false,
     "start_time": "2020-09-09T22:49:32.123675",
     "status": "completed"
    },
    "tags": []
   },
   "source": [
    "Here are the first five rows of the updated dataset:"
   ]
  },
  {
   "cell_type": "code",
   "execution_count": 18,
   "metadata": {
    "execution": {
     "iopub.execute_input": "2020-09-09T22:49:32.253050Z",
     "iopub.status.busy": "2020-09-09T22:49:32.251933Z",
     "iopub.status.idle": "2020-09-09T22:49:32.256251Z",
     "shell.execute_reply": "2020-09-09T22:49:32.256794Z"
    },
    "papermill": {
     "duration": 0.064535,
     "end_time": "2020-09-09T22:49:32.256954",
     "exception": false,
     "start_time": "2020-09-09T22:49:32.192419",
     "status": "completed"
    },
    "tags": []
   },
   "outputs": [
    {
     "data": {
      "text/html": [
       "<div>\n",
       "<style scoped>\n",
       "    .dataframe tbody tr th:only-of-type {\n",
       "        vertical-align: middle;\n",
       "    }\n",
       "\n",
       "    .dataframe tbody tr th {\n",
       "        vertical-align: top;\n",
       "    }\n",
       "\n",
       "    .dataframe thead th {\n",
       "        text-align: right;\n",
       "    }\n",
       "</style>\n",
       "<table border=\"1\" class=\"dataframe\">\n",
       "  <thead>\n",
       "    <tr style=\"text-align: right;\">\n",
       "      <th></th>\n",
       "      <th>region</th>\n",
       "      <th>year</th>\n",
       "      <th>manufacturer</th>\n",
       "      <th>model</th>\n",
       "      <th>condition</th>\n",
       "      <th>cylinders</th>\n",
       "      <th>fuel</th>\n",
       "      <th>odometer</th>\n",
       "      <th>title_status</th>\n",
       "      <th>transmission</th>\n",
       "      <th>drive</th>\n",
       "      <th>size</th>\n",
       "      <th>type</th>\n",
       "      <th>paint_color</th>\n",
       "      <th>state</th>\n",
       "      <th>lat</th>\n",
       "      <th>long</th>\n",
       "      <th>price</th>\n",
       "    </tr>\n",
       "  </thead>\n",
       "  <tbody>\n",
       "    <tr>\n",
       "      <th>0</th>\n",
       "      <td>mohave county</td>\n",
       "      <td>2012.0</td>\n",
       "      <td>jeep</td>\n",
       "      <td>patriot</td>\n",
       "      <td>like new</td>\n",
       "      <td>4 cylinders</td>\n",
       "      <td>gas</td>\n",
       "      <td>200280.7</td>\n",
       "      <td>clean</td>\n",
       "      <td>automatic</td>\n",
       "      <td>4wd</td>\n",
       "      <td>full-size</td>\n",
       "      <td>pickup</td>\n",
       "      <td>silver</td>\n",
       "      <td>az</td>\n",
       "      <td>34.4554</td>\n",
       "      <td>-114.2690</td>\n",
       "      <td>3495</td>\n",
       "    </tr>\n",
       "    <tr>\n",
       "      <th>1</th>\n",
       "      <td>oregon coast</td>\n",
       "      <td>2014.0</td>\n",
       "      <td>bmw</td>\n",
       "      <td>328i m-sport</td>\n",
       "      <td>good</td>\n",
       "      <td>5 cylinders</td>\n",
       "      <td>gas</td>\n",
       "      <td>76237.0</td>\n",
       "      <td>clean</td>\n",
       "      <td>automatic</td>\n",
       "      <td>rwd</td>\n",
       "      <td>full-size</td>\n",
       "      <td>sedan</td>\n",
       "      <td>grey</td>\n",
       "      <td>or</td>\n",
       "      <td>46.1837</td>\n",
       "      <td>-123.8240</td>\n",
       "      <td>13750</td>\n",
       "    </tr>\n",
       "    <tr>\n",
       "      <th>2</th>\n",
       "      <td>greenville / upstate</td>\n",
       "      <td>2001.0</td>\n",
       "      <td>dodge</td>\n",
       "      <td>caravan</td>\n",
       "      <td>excellent</td>\n",
       "      <td>6 cylinders</td>\n",
       "      <td>gas</td>\n",
       "      <td>199000.0</td>\n",
       "      <td>clean</td>\n",
       "      <td>automatic</td>\n",
       "      <td>4wd</td>\n",
       "      <td>full-size</td>\n",
       "      <td>pickup</td>\n",
       "      <td>grey</td>\n",
       "      <td>sc</td>\n",
       "      <td>34.9352</td>\n",
       "      <td>-81.9654</td>\n",
       "      <td>2300</td>\n",
       "    </tr>\n",
       "    <tr>\n",
       "      <th>3</th>\n",
       "      <td>mohave county</td>\n",
       "      <td>2004.0</td>\n",
       "      <td>chevrolet</td>\n",
       "      <td>colorado ls</td>\n",
       "      <td>excellent</td>\n",
       "      <td>5 cylinders</td>\n",
       "      <td>gas</td>\n",
       "      <td>54000.0</td>\n",
       "      <td>clean</td>\n",
       "      <td>automatic</td>\n",
       "      <td>rwd</td>\n",
       "      <td>mid-size</td>\n",
       "      <td>pickup</td>\n",
       "      <td>red</td>\n",
       "      <td>az</td>\n",
       "      <td>34.4783</td>\n",
       "      <td>-114.2710</td>\n",
       "      <td>9000</td>\n",
       "    </tr>\n",
       "    <tr>\n",
       "      <th>4</th>\n",
       "      <td>maine</td>\n",
       "      <td>2021.0</td>\n",
       "      <td>NaN</td>\n",
       "      <td>honda-nissan-kia-ford-hyundai-vw</td>\n",
       "      <td>fair</td>\n",
       "      <td>5 cylinders</td>\n",
       "      <td>other</td>\n",
       "      <td>56702.3</td>\n",
       "      <td>clean</td>\n",
       "      <td>other</td>\n",
       "      <td>4wd</td>\n",
       "      <td>full-size</td>\n",
       "      <td>pickup</td>\n",
       "      <td>grey</td>\n",
       "      <td>me</td>\n",
       "      <td>44.4699</td>\n",
       "      <td>-68.8963</td>\n",
       "      <td>0</td>\n",
       "    </tr>\n",
       "  </tbody>\n",
       "</table>\n",
       "</div>"
      ],
      "text/plain": [
       "                 region    year manufacturer  \\\n",
       "0         mohave county  2012.0         jeep   \n",
       "1          oregon coast  2014.0          bmw   \n",
       "2  greenville / upstate  2001.0        dodge   \n",
       "3         mohave county  2004.0    chevrolet   \n",
       "4                 maine  2021.0          NaN   \n",
       "\n",
       "                              model  condition    cylinders   fuel  odometer  \\\n",
       "0                           patriot   like new  4 cylinders    gas  200280.7   \n",
       "1                      328i m-sport       good  5 cylinders    gas   76237.0   \n",
       "2                           caravan  excellent  6 cylinders    gas  199000.0   \n",
       "3                       colorado ls  excellent  5 cylinders    gas   54000.0   \n",
       "4  honda-nissan-kia-ford-hyundai-vw       fair  5 cylinders  other   56702.3   \n",
       "\n",
       "  title_status transmission drive       size    type paint_color state  \\\n",
       "0        clean    automatic   4wd  full-size  pickup      silver    az   \n",
       "1        clean    automatic   rwd  full-size   sedan        grey    or   \n",
       "2        clean    automatic   4wd  full-size  pickup        grey    sc   \n",
       "3        clean    automatic   rwd   mid-size  pickup         red    az   \n",
       "4        clean        other   4wd  full-size  pickup        grey    me   \n",
       "\n",
       "       lat      long  price  \n",
       "0  34.4554 -114.2690   3495  \n",
       "1  46.1837 -123.8240  13750  \n",
       "2  34.9352  -81.9654   2300  \n",
       "3  34.4783 -114.2710   9000  \n",
       "4  44.4699  -68.8963      0  "
      ]
     },
     "execution_count": 18,
     "metadata": {},
     "output_type": "execute_result"
    }
   ],
   "source": [
    "df.head()"
   ]
  },
  {
   "cell_type": "markdown",
   "execution_count": null,
   "metadata": {
    "papermill": {
     "duration": 0.034446,
     "end_time": "2020-09-09T22:49:32.326830",
     "exception": false,
     "start_time": "2020-09-09T22:49:32.292384",
     "status": "completed"
    },
    "tags": []
   },
   "source": [
    "In the 5<sup>th</sup> row, the model name seems unrealistic. There are other such model names in the dataset. For example, one model name contains a monetary value,&nbsp;$500."
   ]
  },
  {
   "cell_type": "code",
   "execution_count": 19,
   "metadata": {
    "execution": {
     "iopub.execute_input": "2020-09-09T22:49:32.404117Z",
     "iopub.status.busy": "2020-09-09T22:49:32.403330Z",
     "iopub.status.idle": "2020-09-09T22:49:32.752492Z",
     "shell.execute_reply": "2020-09-09T22:49:32.751756Z"
    },
    "papermill": {
     "duration": 0.390446,
     "end_time": "2020-09-09T22:49:32.752664",
     "exception": false,
     "start_time": "2020-09-09T22:49:32.362218",
     "status": "completed"
    },
    "tags": []
   },
   "outputs": [
    {
     "data": {
      "text/html": [
       "<div>\n",
       "<style scoped>\n",
       "    .dataframe tbody tr th:only-of-type {\n",
       "        vertical-align: middle;\n",
       "    }\n",
       "\n",
       "    .dataframe tbody tr th {\n",
       "        vertical-align: top;\n",
       "    }\n",
       "\n",
       "    .dataframe thead th {\n",
       "        text-align: right;\n",
       "    }\n",
       "</style>\n",
       "<table border=\"1\" class=\"dataframe\">\n",
       "  <thead>\n",
       "    <tr style=\"text-align: right;\">\n",
       "      <th></th>\n",
       "      <th>region</th>\n",
       "      <th>manufacturer</th>\n",
       "      <th>model</th>\n",
       "    </tr>\n",
       "  </thead>\n",
       "  <tbody>\n",
       "    <tr>\n",
       "      <th>5</th>\n",
       "      <td>maine</td>\n",
       "      <td>NaN</td>\n",
       "      <td>$500 down programs!!!</td>\n",
       "    </tr>\n",
       "    <tr>\n",
       "      <th>26442</th>\n",
       "      <td>boston</td>\n",
       "      <td>NaN</td>\n",
       "      <td>$500 down programs!</td>\n",
       "    </tr>\n",
       "    <tr>\n",
       "      <th>180783</th>\n",
       "      <td>las vegas</td>\n",
       "      <td>NaN</td>\n",
       "      <td>$500 down</td>\n",
       "    </tr>\n",
       "    <tr>\n",
       "      <th>235958</th>\n",
       "      <td>maine</td>\n",
       "      <td>NaN</td>\n",
       "      <td>$500 down programs!!!</td>\n",
       "    </tr>\n",
       "    <tr>\n",
       "      <th>244169</th>\n",
       "      <td>new hampshire</td>\n",
       "      <td>NaN</td>\n",
       "      <td>$500 down programs!!!</td>\n",
       "    </tr>\n",
       "    <tr>\n",
       "      <th>293551</th>\n",
       "      <td>new hampshire</td>\n",
       "      <td>NaN</td>\n",
       "      <td>$500 down programs!!!</td>\n",
       "    </tr>\n",
       "  </tbody>\n",
       "</table>\n",
       "</div>"
      ],
      "text/plain": [
       "               region manufacturer                  model\n",
       "5               maine          NaN  $500 down programs!!!\n",
       "26442          boston          NaN    $500 down programs!\n",
       "180783      las vegas          NaN              $500 down\n",
       "235958          maine          NaN  $500 down programs!!!\n",
       "244169  new hampshire          NaN  $500 down programs!!!\n",
       "293551  new hampshire          NaN  $500 down programs!!!"
      ]
     },
     "execution_count": 19,
     "metadata": {},
     "output_type": "execute_result"
    }
   ],
   "source": [
    "df.loc[:, ['region', 'manufacturer', 'model']]\\\n",
    "[df.model.str.startswith(r'$500', na=False)]"
   ]
  },
  {
   "cell_type": "markdown",
   "execution_count": null,
   "metadata": {
    "papermill": {
     "duration": 0.034983,
     "end_time": "2020-09-09T22:49:32.822840",
     "exception": false,
     "start_time": "2020-09-09T22:49:32.787857",
     "status": "completed"
    },
    "tags": []
   },
   "source": [
    "We will delete such unrealistic model names later. Right now, let us delete all rows of the dataset that still have null values."
   ]
  },
  {
   "cell_type": "code",
   "execution_count": 20,
   "metadata": {
    "execution": {
     "iopub.execute_input": "2020-09-09T22:49:33.517093Z",
     "iopub.status.busy": "2020-09-09T22:49:33.516317Z",
     "iopub.status.idle": "2020-09-09T22:49:33.640340Z",
     "shell.execute_reply": "2020-09-09T22:49:33.639650Z"
    },
    "papermill": {
     "duration": 0.782411,
     "end_time": "2020-09-09T22:49:33.640475",
     "exception": false,
     "start_time": "2020-09-09T22:49:32.858064",
     "status": "completed"
    },
    "tags": []
   },
   "outputs": [],
   "source": [
    "df = df.dropna()"
   ]
  },
  {
   "cell_type": "code",
   "execution_count": 21,
   "metadata": {
    "execution": {
     "iopub.execute_input": "2020-09-09T22:49:34.277480Z",
     "iopub.status.busy": "2020-09-09T22:49:34.276710Z",
     "iopub.status.idle": "2020-09-09T22:49:34.298898Z",
     "shell.execute_reply": "2020-09-09T22:49:34.298175Z"
    },
    "papermill": {
     "duration": 0.623285,
     "end_time": "2020-09-09T22:49:34.299019",
     "exception": false,
     "start_time": "2020-09-09T22:49:33.675734",
     "status": "completed"
    },
    "tags": []
   },
   "outputs": [
    {
     "data": {
      "text/plain": [
       "region          0\n",
       "year            0\n",
       "manufacturer    0\n",
       "model           0\n",
       "condition       0\n",
       "cylinders       0\n",
       "fuel            0\n",
       "odometer        0\n",
       "title_status    0\n",
       "transmission    0\n",
       "drive           0\n",
       "size            0\n",
       "type            0\n",
       "paint_color     0\n",
       "state           0\n",
       "lat             0\n",
       "long            0\n",
       "price           0\n",
       "dtype: int64"
      ]
     },
     "execution_count": 21,
     "metadata": {},
     "output_type": "execute_result"
    }
   ],
   "source": [
    "df.isnull().sum()"
   ]
  },
  {
   "cell_type": "markdown",
   "execution_count": null,
   "metadata": {
    "papermill": {
     "duration": 0.034902,
     "end_time": "2020-09-09T22:49:34.369441",
     "exception": false,
     "start_time": "2020-09-09T22:49:34.334539",
     "status": "completed"
    },
    "tags": []
   },
   "source": [
    "How many unique values does each dataset column have now?"
   ]
  },
  {
   "cell_type": "code",
   "execution_count": 22,
   "metadata": {
    "execution": {
     "iopub.execute_input": "2020-09-09T22:49:34.531580Z",
     "iopub.status.busy": "2020-09-09T22:49:34.530846Z",
     "iopub.status.idle": "2020-09-09T22:49:35.080188Z",
     "shell.execute_reply": "2020-09-09T22:49:35.079531Z"
    },
    "papermill": {
     "duration": 0.67574,
     "end_time": "2020-09-09T22:49:35.080330",
     "exception": false,
     "start_time": "2020-09-09T22:49:34.404590",
     "status": "completed"
    },
    "tags": []
   },
   "outputs": [
    {
     "data": {
      "text/plain": [
       "region             402\n",
       "year               108\n",
       "manufacturer        42\n",
       "model            26049\n",
       "condition            6\n",
       "cylinders            8\n",
       "fuel                 5\n",
       "odometer        133756\n",
       "title_status         6\n",
       "transmission         3\n",
       "drive                3\n",
       "size                 4\n",
       "type                13\n",
       "paint_color         12\n",
       "state               51\n",
       "lat              48474\n",
       "long             47725\n",
       "price            16350\n",
       "dtype: int64"
      ]
     },
     "execution_count": 22,
     "metadata": {},
     "output_type": "execute_result"
    }
   ],
   "source": [
    "df.apply(pd.Series.nunique)"
   ]
  },
  {
   "cell_type": "markdown",
   "execution_count": null,
   "metadata": {
    "papermill": {
     "duration": 0.035736,
     "end_time": "2020-09-09T22:49:35.152024",
     "exception": false,
     "start_time": "2020-09-09T22:49:35.116288",
     "status": "completed"
    },
    "tags": []
   },
   "source": [
    "The dataset has a large number of car models at present. We will remove many of these models later. This step will reduce the number of unrealistic model names in our dataset. It will also ensure that the dataset has an adequate number of cars of each model—a crucial factor when training machine-learning models.\n",
    "\n",
    "Aside from the number of models, another conspicuous fact is that there is one additional value in the state column. It is 'dc' and represents District of Columbia, which is a federal district rather than a state. We will let this inconsistency be. Car prices are probably different in District of Columbia compared to the rest of Washington state. Our algorithms should be able to figure this&nbsp;out.\n",
    "\n",
    "So, the dataset is fairly clean now. Let us save it as a CSV file."
   ]
  },
  {
   "cell_type": "code",
   "execution_count": 23,
   "metadata": {
    "execution": {
     "iopub.execute_input": "2020-09-09T22:49:35.229846Z",
     "iopub.status.busy": "2020-09-09T22:49:35.228748Z",
     "iopub.status.idle": "2020-09-09T22:49:41.605638Z",
     "shell.execute_reply": "2020-09-09T22:49:41.604886Z"
    },
    "papermill": {
     "duration": 6.417447,
     "end_time": "2020-09-09T22:49:41.605786",
     "exception": false,
     "start_time": "2020-09-09T22:49:35.188339",
     "status": "completed"
    },
    "tags": []
   },
   "outputs": [],
   "source": [
    "df.to_csv('vehicles_eda.csv', index=False)"
   ]
  },
  {
   "cell_type": "markdown",
   "execution_count": null,
   "metadata": {
    "papermill": {
     "duration": 0.035849,
     "end_time": "2020-09-09T22:49:41.677539",
     "exception": false,
     "start_time": "2020-09-09T22:49:41.641690",
     "status": "completed"
    },
    "tags": []
   },
   "source": [
    "Now we will proceed to visualizing the contents of the updated dataset and cleaning it further."
   ]
  },
  {
   "cell_type": "markdown",
   "execution_count": null,
   "metadata": {
    "papermill": {
     "duration": 0.035527,
     "end_time": "2020-09-09T22:49:41.749532",
     "exception": false,
     "start_time": "2020-09-09T22:49:41.714005",
     "status": "completed"
    },
    "tags": []
   },
   "source": [
    "<h2>Step 4: Visualization and further cleaning<a aria-pressed=\"true\" class=\"btn btn-primary btn-sm\" data-toggle=\"popover\" name='step4-desc' id='step4-desc' href=\"#step4\" role=\"button\" style=\"color: white; margin-left: 20px; target='_self'\">Go to steplist</a></h2>\n",
    "\n",
    "We will begin this step by looking at the distribution of the target variable, price. We will use a seaborn distplot for this purpose.\n",
    "\n",
    "As we want to create multiple seaborn distplots, let us write a reusable plot-drawing function first."
   ]
  },
  {
   "cell_type": "code",
   "execution_count": 24,
   "metadata": {
    "execution": {
     "iopub.execute_input": "2020-09-09T22:49:41.835713Z",
     "iopub.status.busy": "2020-09-09T22:49:41.834951Z",
     "iopub.status.idle": "2020-09-09T22:49:41.838693Z",
     "shell.execute_reply": "2020-09-09T22:49:41.838100Z"
    },
    "papermill": {
     "duration": 0.053373,
     "end_time": "2020-09-09T22:49:41.838854",
     "exception": false,
     "start_time": "2020-09-09T22:49:41.785481",
     "status": "completed"
    },
    "tags": []
   },
   "outputs": [],
   "source": [
    "sns.set(color_codes=True)\n",
    "sns.set(rc={'figure.figsize':(6,3)})\n",
    "\n",
    "def plot_histogram(col, color_val='#005c9d',\\\n",
    "                   x_label='Price [x10\\u2076 USD]', y_label='Frequency',\\\n",
    "                   title_text='Distribution of car prices'):\n",
    "    sns.distplot(col, kde=False, color=color_val)\n",
    "    \n",
    "    ax = plt.gca()\n",
    "    ax.set_xlabel(x_label)\n",
    "    ax.set_ylabel(y_label)\n",
    "    ax.set_title(title_text)\n",
    "    ax.get_xaxis().get_major_formatter().set_scientific(False)\n",
    "    ax.get_yaxis().get_major_formatter().set_scientific(False)\n",
    "\n",
    "    plt.show()"
   ]
  },
  {
   "cell_type": "markdown",
   "execution_count": null,
   "metadata": {
    "papermill": {
     "duration": 0.035585,
     "end_time": "2020-09-09T22:49:41.910398",
     "exception": false,
     "start_time": "2020-09-09T22:49:41.874813",
     "status": "completed"
    },
    "tags": []
   },
   "source": [
    "We will also import the CSV file that we had saved in the previous step."
   ]
  },
  {
   "cell_type": "code",
   "execution_count": 25,
   "metadata": {
    "execution": {
     "iopub.execute_input": "2020-09-09T22:49:41.989159Z",
     "iopub.status.busy": "2020-09-09T22:49:41.988364Z",
     "iopub.status.idle": "2020-09-09T22:49:43.371564Z",
     "shell.execute_reply": "2020-09-09T22:49:43.370746Z"
    },
    "papermill": {
     "duration": 1.424584,
     "end_time": "2020-09-09T22:49:43.371693",
     "exception": false,
     "start_time": "2020-09-09T22:49:41.947109",
     "status": "completed"
    },
    "tags": []
   },
   "outputs": [],
   "source": [
    "df = pd.read_csv('vehicles_eda.csv')"
   ]
  },
  {
   "cell_type": "markdown",
   "execution_count": null,
   "metadata": {
    "papermill": {
     "duration": 0.035503,
     "end_time": "2020-09-09T22:49:43.443752",
     "exception": false,
     "start_time": "2020-09-09T22:49:43.408249",
     "status": "completed"
    },
    "tags": []
   },
   "source": [
    "Using the `plot_histogram` function on the price column of the dataset, we get the following plot."
   ]
  },
  {
   "cell_type": "code",
   "execution_count": 26,
   "metadata": {
    "execution": {
     "iopub.execute_input": "2020-09-09T22:49:43.529542Z",
     "iopub.status.busy": "2020-09-09T22:49:43.523554Z",
     "iopub.status.idle": "2020-09-09T22:49:43.991569Z",
     "shell.execute_reply": "2020-09-09T22:49:43.992190Z"
    },
    "papermill": {
     "duration": 0.512113,
     "end_time": "2020-09-09T22:49:43.992344",
     "exception": false,
     "start_time": "2020-09-09T22:49:43.480231",
     "status": "completed"
    },
    "tags": []
   },
   "outputs": [
    {
     "data": {
      "image/png": "[encoded data removed]",
      "text/plain": [
       "<Figure size 432x216 with 1 Axes>"
      ]
     },
     "metadata": {},
     "output_type": "display_data"
    }
   ],
   "source": [
    "price_mill = df.price/10**6\n",
    "plot_histogram(price_mill)"
   ]
  },
  {
   "cell_type": "markdown",
   "execution_count": null,
   "metadata": {
    "papermill": {
     "duration": 0.039621,
     "end_time": "2020-09-09T22:49:44.068542",
     "exception": false,
     "start_time": "2020-09-09T22:49:44.028921",
     "status": "completed"
    },
    "tags": []
   },
   "source": [
    "The plot indicates that the prices are skewed toward the left, with the maximum number of cars hovering around&nbsp;zero.\n",
    "\n",
    "For a better perspective, let us view the distribution in the USD&nbsp;0–60,000 range."
   ]
  },
  {
   "cell_type": "code",
   "execution_count": 27,
   "metadata": {
    "execution": {
     "iopub.execute_input": "2020-09-09T22:49:44.177212Z",
     "iopub.status.busy": "2020-09-09T22:49:44.176413Z",
     "iopub.status.idle": "2020-09-09T22:49:44.647661Z",
     "shell.execute_reply": "2020-09-09T22:49:44.647069Z"
    },
    "papermill": {
     "duration": 0.527134,
     "end_time": "2020-09-09T22:49:44.647812",
     "exception": false,
     "start_time": "2020-09-09T22:49:44.120678",
     "status": "completed"
    },
    "tags": []
   },
   "outputs": [
    {
     "data": {
      "image/png": "[encoded data removed]",
      "text/plain": [
       "<Figure size 432x216 with 1 Axes>"
      ]
     },
     "metadata": {},
     "output_type": "display_data"
    }
   ],
   "source": [
    "plot_histogram(df.price[df.price<60000])"
   ]
  },
  {
   "cell_type": "markdown",
   "execution_count": null,
   "metadata": {
    "papermill": {
     "duration": 0.036361,
     "end_time": "2020-09-09T22:49:44.721059",
     "exception": false,
     "start_time": "2020-09-09T22:49:44.684698",
     "status": "completed"
    },
    "tags": []
   },
   "source": [
    "Apparently, a large number of cars in the database are priced at 0. Here is code that proves this:"
   ]
  },
  {
   "cell_type": "code",
   "execution_count": 28,
   "metadata": {
    "execution": {
     "iopub.execute_input": "2020-09-09T22:49:44.800999Z",
     "iopub.status.busy": "2020-09-09T22:49:44.800155Z",
     "iopub.status.idle": "2020-09-09T22:49:44.814594Z",
     "shell.execute_reply": "2020-09-09T22:49:44.813560Z"
    },
    "papermill": {
     "duration": 0.057264,
     "end_time": "2020-09-09T22:49:44.814741",
     "exception": false,
     "start_time": "2020-09-09T22:49:44.757477",
     "status": "completed"
    },
    "tags": []
   },
   "outputs": [
    {
     "name": "stdout",
     "output_type": "stream",
     "text": [
      "Price:  0 \n",
      "Counts:  28597\n",
      "\n",
      "Ten most frequently occurring prices:\n",
      "\n",
      "0       28597\n",
      "6995     3826\n",
      "7995     3771\n",
      "5995     3636\n",
      "8995     3564\n",
      "4500     3537\n",
      "3500     3390\n",
      "9995     3270\n",
      "5500     3249\n",
      "4995     3216\n",
      "Name: price, dtype: int64\n"
     ]
    }
   ],
   "source": [
    "price_counts = df.price.value_counts()\n",
    "print('Price: ', price_counts.index[0], '\\nCounts: ', price_counts.values[0])\n",
    "print('\\nTen most frequently occurring prices:\\n')\n",
    "print(price_counts[:10])"
   ]
  },
  {
   "cell_type": "markdown",
   "execution_count": null,
   "metadata": {
    "papermill": {
     "duration": 0.036367,
     "end_time": "2020-09-09T22:49:44.888162",
     "exception": false,
     "start_time": "2020-09-09T22:49:44.851795",
     "status": "completed"
    },
    "tags": []
   },
   "source": [
    "How do the mean and the median of the prices compare? "
   ]
  },
  {
   "cell_type": "code",
   "execution_count": 29,
   "metadata": {
    "execution": {
     "iopub.execute_input": "2020-09-09T22:49:44.969215Z",
     "iopub.status.busy": "2020-09-09T22:49:44.968160Z",
     "iopub.status.idle": "2020-09-09T22:49:44.978956Z",
     "shell.execute_reply": "2020-09-09T22:49:44.978274Z"
    },
    "papermill": {
     "duration": 0.054291,
     "end_time": "2020-09-09T22:49:44.979081",
     "exception": false,
     "start_time": "2020-09-09T22:49:44.924790",
     "status": "completed"
    },
    "tags": []
   },
   "outputs": [
    {
     "name": "stdout",
     "output_type": "stream",
     "text": [
      "Mean: 101053.03661718355\n",
      "\n",
      "Median:  9995.0\n"
     ]
    }
   ],
   "source": [
    "print('Mean:', df.price.mean())\n",
    "print()\n",
    "print('Median: ', df.price.median())"
   ]
  },
  {
   "cell_type": "markdown",
   "execution_count": null,
   "metadata": {
    "papermill": {
     "duration": 0.036946,
     "end_time": "2020-09-09T22:49:45.053569",
     "exception": false,
     "start_time": "2020-09-09T22:49:45.016623",
     "status": "completed"
    },
    "tags": []
   },
   "source": [
    "The minimum price is 0. What is the maximum price?"
   ]
  },
  {
   "cell_type": "code",
   "execution_count": 30,
   "metadata": {
    "execution": {
     "iopub.execute_input": "2020-09-09T22:49:45.134172Z",
     "iopub.status.busy": "2020-09-09T22:49:45.133329Z",
     "iopub.status.idle": "2020-09-09T22:49:45.138637Z",
     "shell.execute_reply": "2020-09-09T22:49:45.139303Z"
    },
    "papermill": {
     "duration": 0.048626,
     "end_time": "2020-09-09T22:49:45.139492",
     "exception": false,
     "start_time": "2020-09-09T22:49:45.090866",
     "status": "completed"
    },
    "tags": []
   },
   "outputs": [
    {
     "name": "stdout",
     "output_type": "stream",
     "text": [
      "Max. price:  3333333333\n"
     ]
    }
   ],
   "source": [
    "print('Max. price: ', df.price.max())"
   ]
  },
  {
   "cell_type": "markdown",
   "execution_count": null,
   "metadata": {
    "papermill": {
     "duration": 0.037132,
     "end_time": "2020-09-09T22:49:45.214227",
     "exception": false,
     "start_time": "2020-09-09T22:49:45.177095",
     "status": "completed"
    },
    "tags": []
   },
   "source": [
    "The huge difference between the mean and the median corroborates that there are outliers in the price data. In addition, the maximum price is unrealistic.\n",
    "\n",
    "The minimum price is also unrealistic for us. It does not conform to our requirements. We definitely don't want our algorithms to learn about cars whose prices are pegged at 0. The model will be a price-predictor, after&nbsp;all. So, let us remove rows where the price is 0 and reset the database index."
   ]
  },
  {
   "cell_type": "markdown",
   "execution_count": null,
   "metadata": {
    "papermill": {
     "duration": 0.03669,
     "end_time": "2020-09-09T22:49:45.288301",
     "exception": false,
     "start_time": "2020-09-09T22:49:45.251611",
     "status": "completed"
    },
    "tags": []
   },
   "source": [
    "Let us look at some of the attributes of cars with the highest prices."
   ]
  },
  {
   "cell_type": "code",
   "execution_count": 31,
   "metadata": {
    "execution": {
     "iopub.execute_input": "2020-09-09T22:49:45.372164Z",
     "iopub.status.busy": "2020-09-09T22:49:45.371298Z",
     "iopub.status.idle": "2020-09-09T22:49:45.404983Z",
     "shell.execute_reply": "2020-09-09T22:49:45.404317Z"
    },
    "papermill": {
     "duration": 0.078553,
     "end_time": "2020-09-09T22:49:45.405112",
     "exception": false,
     "start_time": "2020-09-09T22:49:45.326559",
     "status": "completed"
    },
    "tags": []
   },
   "outputs": [
    {
     "data": {
      "text/html": [
       "<div>\n",
       "<style scoped>\n",
       "    .dataframe tbody tr th:only-of-type {\n",
       "        vertical-align: middle;\n",
       "    }\n",
       "\n",
       "    .dataframe tbody tr th {\n",
       "        vertical-align: top;\n",
       "    }\n",
       "\n",
       "    .dataframe thead th {\n",
       "        text-align: right;\n",
       "    }\n",
       "</style>\n",
       "<table border=\"1\" class=\"dataframe\">\n",
       "  <thead>\n",
       "    <tr style=\"text-align: right;\">\n",
       "      <th></th>\n",
       "      <th>region</th>\n",
       "      <th>year</th>\n",
       "      <th>manufacturer</th>\n",
       "      <th>model</th>\n",
       "      <th>price</th>\n",
       "    </tr>\n",
       "  </thead>\n",
       "  <tbody>\n",
       "    <tr>\n",
       "      <th>38681</th>\n",
       "      <td>tucson</td>\n",
       "      <td>1973.0</td>\n",
       "      <td>mazda</td>\n",
       "      <td>rx3</td>\n",
       "      <td>3333333333</td>\n",
       "    </tr>\n",
       "    <tr>\n",
       "      <th>322630</th>\n",
       "      <td>el paso</td>\n",
       "      <td>1973.0</td>\n",
       "      <td>mazda</td>\n",
       "      <td>rx3</td>\n",
       "      <td>2989542968</td>\n",
       "    </tr>\n",
       "    <tr>\n",
       "      <th>293329</th>\n",
       "      <td>bend</td>\n",
       "      <td>1973.0</td>\n",
       "      <td>mazda</td>\n",
       "      <td>rx2</td>\n",
       "      <td>2989542968</td>\n",
       "    </tr>\n",
       "    <tr>\n",
       "      <th>344198</th>\n",
       "      <td>odessa / midland</td>\n",
       "      <td>1973.0</td>\n",
       "      <td>mazda</td>\n",
       "      <td>rx3</td>\n",
       "      <td>2989542968</td>\n",
       "    </tr>\n",
       "    <tr>\n",
       "      <th>73892</th>\n",
       "      <td>eastern NC</td>\n",
       "      <td>1997.0</td>\n",
       "      <td>dodge</td>\n",
       "      <td>3500</td>\n",
       "      <td>2525141468</td>\n",
       "    </tr>\n",
       "    <tr>\n",
       "      <th>342247</th>\n",
       "      <td>kennewick-pasco-richland</td>\n",
       "      <td>1964.0</td>\n",
       "      <td>volvo</td>\n",
       "      <td>544</td>\n",
       "      <td>2521176519</td>\n",
       "    </tr>\n",
       "    <tr>\n",
       "      <th>62113</th>\n",
       "      <td>atlanta</td>\n",
       "      <td>2011.0</td>\n",
       "      <td>ford</td>\n",
       "      <td>fiesta</td>\n",
       "      <td>2490531375</td>\n",
       "    </tr>\n",
       "    <tr>\n",
       "      <th>165667</th>\n",
       "      <td>susanville</td>\n",
       "      <td>1973.0</td>\n",
       "      <td>mazda</td>\n",
       "      <td>rx2</td>\n",
       "      <td>2457308728</td>\n",
       "    </tr>\n",
       "    <tr>\n",
       "      <th>284912</th>\n",
       "      <td>oklahoma city</td>\n",
       "      <td>1973.0</td>\n",
       "      <td>mazda</td>\n",
       "      <td>rx3</td>\n",
       "      <td>2371699370</td>\n",
       "    </tr>\n",
       "    <tr>\n",
       "      <th>31750</th>\n",
       "      <td>wyoming</td>\n",
       "      <td>1973.0</td>\n",
       "      <td>mazda</td>\n",
       "      <td>rx3</td>\n",
       "      <td>2242157226</td>\n",
       "    </tr>\n",
       "  </tbody>\n",
       "</table>\n",
       "</div>"
      ],
      "text/plain": [
       "                          region    year manufacturer   model       price\n",
       "38681                     tucson  1973.0        mazda     rx3  3333333333\n",
       "322630                   el paso  1973.0        mazda     rx3  2989542968\n",
       "293329                      bend  1973.0        mazda     rx2  2989542968\n",
       "344198          odessa / midland  1973.0        mazda     rx3  2989542968\n",
       "73892                 eastern NC  1997.0        dodge    3500  2525141468\n",
       "342247  kennewick-pasco-richland  1964.0        volvo     544  2521176519\n",
       "62113                    atlanta  2011.0         ford  fiesta  2490531375\n",
       "165667                susanville  1973.0        mazda     rx2  2457308728\n",
       "284912             oklahoma city  1973.0        mazda     rx3  2371699370\n",
       "31750                    wyoming  1973.0        mazda     rx3  2242157226"
      ]
     },
     "execution_count": 31,
     "metadata": {},
     "output_type": "execute_result"
    }
   ],
   "source": [
    "cols = ['region', 'year', 'manufacturer', 'model', 'price']\n",
    "\n",
    "df.loc[:, cols][df.price>100000].sort_values(by='price', ascending=False).head(10)"
   ]
  },
  {
   "cell_type": "markdown",
   "execution_count": null,
   "metadata": {
    "papermill": {
     "duration": 0.037886,
     "end_time": "2020-09-09T22:49:45.480520",
     "exception": false,
     "start_time": "2020-09-09T22:49:45.442634",
     "status": "completed"
    },
    "tags": []
   },
   "source": [
    "Well, a 1997 Dodge RAM 3500 shouldn't cost USD 2+ billions. As per the [Cargurus](https://www.cargurus.com/Cars/l-Used-1997-Dodge-RAM-3500-c5452) website, Dodge RAM 3500s from 1998 and earlier cost less than USD 20,000. That's much lower than USD 2 billions. The extremely high price listed in our dataset is erroneous, and there are quite a few outliers like this.\n",
    "\n",
    "We will have to remove outliers from the price column as well as other numerical columns of the dataset. We can use the interquartile range (IQR) of each column to do so. IQR is the difference between the third quartile and the first quartile of a data range—for example, a database column.\n",
    "\n",
    "#### What are first and third quartiles?\n",
    "\n",
    "Suppose we have sorted a data range and found its median value. The lower half of this range includes all the values that are less than the median, and the upper half includes values that are greater than the median.\n",
    "\n",
    "The first quartile is the median of the values in the lower half. Almost 25% of all the values in the data range will be less than the first quartile.\n",
    "\n",
    "The third quartile is the median of the upper half. Almost 75% of all the values in the data range will be less than the third quartile.\n",
    "\n",
    "#### How to remove outliers using IQR?\n",
    "\n",
    "To remove outliers from a data range using IQR, we will have to remove values that are\n",
    "\n",
    "- less than the difference between the first quartile and 1.5 times the IQR\n",
    "\n",
    "- more than the difference between the third quartile and 1.5 times the IQR\n",
    "\n",
    "If Q1 is the first quartile, Q3 is the third quartile, and IQR is their difference, outliers in the lower half of the data range will be less than the following value:\n",
    "\n",
    "`Q1 - 1.5 * IQR`\n",
    "\n",
    "And outliers in the upper half of the data range will be greater than the following value:\n",
    "\n",
    "\n",
    "`Q3 + 1.5 * IQR`\n",
    "\n",
    "But using IQR on the price column as is won't give us satisfactory results. This is because the car prices in our dataset are not uniform. Most of the prices are clustered near the lowest end of the price scale and the price range is huge. This type of non-uniformity can prevent machine-learning algorithms from interpreting data effectively.\n",
    "\n",
    "So, we will have to bring in uniformity into the dataset via an additional column. This column will contain uniformized versions of the values in the price column. To uniformize the values, we will apply a logarithmic function, log1p, to them. The logarithmic function will create a new scale for the price values. The price values will be distributed more evenly across this scale.\n",
    "\n",
    "To create the proposed column, let us run the following code:"
   ]
  },
  {
   "cell_type": "code",
   "execution_count": 32,
   "metadata": {
    "execution": {
     "iopub.execute_input": "2020-09-09T22:49:45.562490Z",
     "iopub.status.busy": "2020-09-09T22:49:45.561672Z",
     "iopub.status.idle": "2020-09-09T22:49:45.575374Z",
     "shell.execute_reply": "2020-09-09T22:49:45.574571Z"
    },
    "papermill": {
     "duration": 0.056524,
     "end_time": "2020-09-09T22:49:45.575500",
     "exception": false,
     "start_time": "2020-09-09T22:49:45.518976",
     "status": "completed"
    },
    "tags": []
   },
   "outputs": [],
   "source": [
    "df.insert(17, 'logprice', np.log1p(df['price']))"
   ]
  },
  {
   "cell_type": "markdown",
   "execution_count": null,
   "metadata": {
    "papermill": {
     "duration": 0.037773,
     "end_time": "2020-09-09T22:49:45.651138",
     "exception": false,
     "start_time": "2020-09-09T22:49:45.613365",
     "status": "completed"
    },
    "tags": []
   },
   "source": [
    "To check whether the values in the logprice column are uniform, we will view their distribution graphically."
   ]
  },
  {
   "cell_type": "code",
   "execution_count": 33,
   "metadata": {
    "execution": {
     "iopub.execute_input": "2020-09-09T22:49:45.737936Z",
     "iopub.status.busy": "2020-09-09T22:49:45.732628Z",
     "iopub.status.idle": "2020-09-09T22:49:46.175871Z",
     "shell.execute_reply": "2020-09-09T22:49:46.175133Z"
    },
    "papermill": {
     "duration": 0.486934,
     "end_time": "2020-09-09T22:49:46.175995",
     "exception": false,
     "start_time": "2020-09-09T22:49:45.689061",
     "status": "completed"
    },
    "tags": []
   },
   "outputs": [
    {
     "data": {
      "image/png": "[encoded data removed]",
      "text/plain": [
       "<Figure size 432x216 with 1 Axes>"
      ]
     },
     "metadata": {},
     "output_type": "display_data"
    }
   ],
   "source": [
    "plot_histogram(df.logprice) "
   ]
  },
  {
   "cell_type": "markdown",
   "execution_count": null,
   "metadata": {
    "papermill": {
     "duration": 0.037476,
     "end_time": "2020-09-09T22:49:46.251083",
     "exception": false,
     "start_time": "2020-09-09T22:49:46.213607",
     "status": "completed"
    },
    "tags": []
   },
   "source": [
    "Yes, this histogram is evenly distributed. Now, it will be easier for us to remove outliers from our dataset by using the IQR method.\n",
    "\n",
    "But before we apply this method, we will change the datatype of the price column to `string`. This will ensure that the IQR method is not applied to the price column. Later, once we have removed outliers from the dataset, we will change the data type of its price column back to `int64`."
   ]
  },
  {
   "cell_type": "code",
   "execution_count": 34,
   "metadata": {
    "execution": {
     "iopub.execute_input": "2020-09-09T22:49:46.332825Z",
     "iopub.status.busy": "2020-09-09T22:49:46.332080Z",
     "iopub.status.idle": "2020-09-09T22:49:46.527875Z",
     "shell.execute_reply": "2020-09-09T22:49:46.527088Z"
    },
    "papermill": {
     "duration": 0.238861,
     "end_time": "2020-09-09T22:49:46.528001",
     "exception": false,
     "start_time": "2020-09-09T22:49:46.289140",
     "status": "completed"
    },
    "tags": []
   },
   "outputs": [],
   "source": [
    "df['price'] = df.price.astype(str)"
   ]
  },
  {
   "cell_type": "markdown",
   "execution_count": null,
   "metadata": {
    "papermill": {
     "duration": 0.037775,
     "end_time": "2020-09-09T22:49:46.604191",
     "exception": false,
     "start_time": "2020-09-09T22:49:46.566416",
     "status": "completed"
    },
    "tags": []
   },
   "source": [
    "Now, it's time to apply the IQR method.\n",
    "\n",
    "To begin with, we will calculate the Q1 and Q3 values and the IQRs of the numerical columns in the dataset."
   ]
  },
  {
   "cell_type": "code",
   "execution_count": 35,
   "metadata": {
    "execution": {
     "iopub.execute_input": "2020-09-09T22:49:46.685947Z",
     "iopub.status.busy": "2020-09-09T22:49:46.685199Z",
     "iopub.status.idle": "2020-09-09T22:49:46.961656Z",
     "shell.execute_reply": "2020-09-09T22:49:46.960999Z"
    },
    "papermill": {
     "duration": 0.319517,
     "end_time": "2020-09-09T22:49:46.961803",
     "exception": false,
     "start_time": "2020-09-09T22:49:46.642286",
     "status": "completed"
    },
    "tags": []
   },
   "outputs": [],
   "source": [
    "Q1 = df.quantile(0.25)\n",
    "Q3 = df.quantile(0.75)\n",
    "IQR = Q3 - Q1"
   ]
  },
  {
   "cell_type": "code",
   "execution_count": 36,
   "metadata": {
    "execution": {
     "iopub.execute_input": "2020-09-09T22:49:47.046043Z",
     "iopub.status.busy": "2020-09-09T22:49:47.045178Z",
     "iopub.status.idle": "2020-09-09T22:49:47.049656Z",
     "shell.execute_reply": "2020-09-09T22:49:47.048997Z"
    },
    "papermill": {
     "duration": 0.049647,
     "end_time": "2020-09-09T22:49:47.049809",
     "exception": false,
     "start_time": "2020-09-09T22:49:47.000162",
     "status": "completed"
    },
    "tags": []
   },
   "outputs": [
    {
     "data": {
      "text/plain": [
       "year         2007.000000\n",
       "odometer    51486.000000\n",
       "lat            34.299800\n",
       "long         -111.126000\n",
       "logprice        8.507345\n",
       "Name: 0.25, dtype: float64"
      ]
     },
     "execution_count": 36,
     "metadata": {},
     "output_type": "execute_result"
    }
   ],
   "source": [
    "Q1"
   ]
  },
  {
   "cell_type": "code",
   "execution_count": 37,
   "metadata": {
    "execution": {
     "iopub.execute_input": "2020-09-09T22:49:47.134074Z",
     "iopub.status.busy": "2020-09-09T22:49:47.132981Z",
     "iopub.status.idle": "2020-09-09T22:49:47.138174Z",
     "shell.execute_reply": "2020-09-09T22:49:47.137432Z"
    },
    "papermill": {
     "duration": 0.050019,
     "end_time": "2020-09-09T22:49:47.138302",
     "exception": false,
     "start_time": "2020-09-09T22:49:47.088283",
     "status": "completed"
    },
    "tags": []
   },
   "outputs": [
    {
     "data": {
      "text/plain": [
       "year          2015.000000\n",
       "odometer    137000.000000\n",
       "lat             42.488600\n",
       "long           -81.455300\n",
       "logprice         9.792612\n",
       "Name: 0.75, dtype: float64"
      ]
     },
     "execution_count": 37,
     "metadata": {},
     "output_type": "execute_result"
    }
   ],
   "source": [
    "Q3"
   ]
  },
  {
   "cell_type": "code",
   "execution_count": 38,
   "metadata": {
    "execution": {
     "iopub.execute_input": "2020-09-09T22:49:47.224316Z",
     "iopub.status.busy": "2020-09-09T22:49:47.223299Z",
     "iopub.status.idle": "2020-09-09T22:49:47.228123Z",
     "shell.execute_reply": "2020-09-09T22:49:47.227470Z"
    },
    "papermill": {
     "duration": 0.05073,
     "end_time": "2020-09-09T22:49:47.228251",
     "exception": false,
     "start_time": "2020-09-09T22:49:47.177521",
     "status": "completed"
    },
    "tags": []
   },
   "outputs": [
    {
     "data": {
      "text/plain": [
       "year            8.000000\n",
       "odometer    85514.000000\n",
       "lat             8.188800\n",
       "long           29.670700\n",
       "logprice        1.285267\n",
       "dtype: float64"
      ]
     },
     "execution_count": 38,
     "metadata": {},
     "output_type": "execute_result"
    }
   ],
   "source": [
    "IQR"
   ]
  },
  {
   "cell_type": "markdown",
   "execution_count": null,
   "metadata": {
    "papermill": {
     "duration": 0.038488,
     "end_time": "2020-09-09T22:49:47.306343",
     "exception": false,
     "start_time": "2020-09-09T22:49:47.267855",
     "status": "completed"
    },
    "tags": []
   },
   "source": [
    "Next, we will update the dataset, applying the IQR formula to remove outliers."
   ]
  },
  {
   "cell_type": "code",
   "execution_count": 39,
   "metadata": {
    "execution": {
     "iopub.execute_input": "2020-09-09T22:49:47.460662Z",
     "iopub.status.busy": "2020-09-09T22:49:47.396504Z",
     "iopub.status.idle": "2020-09-09T22:49:50.044573Z",
     "shell.execute_reply": "2020-09-09T22:49:50.043954Z"
    },
    "papermill": {
     "duration": 2.698776,
     "end_time": "2020-09-09T22:49:50.044692",
     "exception": false,
     "start_time": "2020-09-09T22:49:47.345916",
     "status": "completed"
    },
    "tags": []
   },
   "outputs": [],
   "source": [
    "df = df[~((df < (Q1 - 1.5 * IQR)) | (df > (Q3 + 1.5 * IQR))).any(axis=1)]"
   ]
  },
  {
   "cell_type": "markdown",
   "execution_count": null,
   "metadata": {
    "papermill": {
     "duration": 0.038414,
     "end_time": "2020-09-09T22:49:50.122270",
     "exception": false,
     "start_time": "2020-09-09T22:49:50.083856",
     "status": "completed"
    },
    "tags": []
   },
   "source": [
    "Finally, we will revert the data type of the price column to its original value."
   ]
  },
  {
   "cell_type": "code",
   "execution_count": 40,
   "metadata": {
    "execution": {
     "iopub.execute_input": "2020-09-09T22:49:50.261846Z",
     "iopub.status.busy": "2020-09-09T22:49:50.261065Z",
     "iopub.status.idle": "2020-09-09T22:49:50.313575Z",
     "shell.execute_reply": "2020-09-09T22:49:50.312746Z"
    },
    "papermill": {
     "duration": 0.152221,
     "end_time": "2020-09-09T22:49:50.313705",
     "exception": false,
     "start_time": "2020-09-09T22:49:50.161484",
     "status": "completed"
    },
    "tags": []
   },
   "outputs": [],
   "source": [
    "df['price'] = df.price.astype(np.int64)"
   ]
  },
  {
   "cell_type": "markdown",
   "execution_count": null,
   "metadata": {
    "papermill": {
     "duration": 0.03849,
     "end_time": "2020-09-09T22:49:50.391468",
     "exception": false,
     "start_time": "2020-09-09T22:49:50.352978",
     "status": "completed"
    },
    "tags": []
   },
   "source": [
    "Next, let us sort the dataset and browse through some of its rows."
   ]
  },
  {
   "cell_type": "code",
   "execution_count": 41,
   "metadata": {
    "execution": {
     "iopub.execute_input": "2020-09-09T22:49:50.476207Z",
     "iopub.status.busy": "2020-09-09T22:49:50.475412Z",
     "iopub.status.idle": "2020-09-09T22:49:50.814576Z",
     "shell.execute_reply": "2020-09-09T22:49:50.813920Z"
    },
    "papermill": {
     "duration": 0.384207,
     "end_time": "2020-09-09T22:49:50.814698",
     "exception": false,
     "start_time": "2020-09-09T22:49:50.430491",
     "status": "completed"
    },
    "tags": []
   },
   "outputs": [],
   "source": [
    "df.sort_values(by=['year','manufacturer', 'price'], inplace=True)\n",
    "df.reset_index(drop=True, inplace=True)"
   ]
  },
  {
   "cell_type": "code",
   "execution_count": 42,
   "metadata": {
    "execution": {
     "iopub.execute_input": "2020-09-09T22:49:50.898585Z",
     "iopub.status.busy": "2020-09-09T22:49:50.897862Z",
     "iopub.status.idle": "2020-09-09T22:49:50.925488Z",
     "shell.execute_reply": "2020-09-09T22:49:50.924843Z"
    },
    "papermill": {
     "duration": 0.072071,
     "end_time": "2020-09-09T22:49:50.925614",
     "exception": false,
     "start_time": "2020-09-09T22:49:50.853543",
     "status": "completed"
    },
    "tags": []
   },
   "outputs": [
    {
     "data": {
      "text/html": [
       "<div>\n",
       "<style scoped>\n",
       "    .dataframe tbody tr th:only-of-type {\n",
       "        vertical-align: middle;\n",
       "    }\n",
       "\n",
       "    .dataframe tbody tr th {\n",
       "        vertical-align: top;\n",
       "    }\n",
       "\n",
       "    .dataframe thead th {\n",
       "        text-align: right;\n",
       "    }\n",
       "</style>\n",
       "<table border=\"1\" class=\"dataframe\">\n",
       "  <thead>\n",
       "    <tr style=\"text-align: right;\">\n",
       "      <th></th>\n",
       "      <th>region</th>\n",
       "      <th>year</th>\n",
       "      <th>manufacturer</th>\n",
       "      <th>model</th>\n",
       "      <th>condition</th>\n",
       "      <th>cylinders</th>\n",
       "      <th>fuel</th>\n",
       "      <th>odometer</th>\n",
       "      <th>title_status</th>\n",
       "      <th>transmission</th>\n",
       "      <th>drive</th>\n",
       "      <th>size</th>\n",
       "      <th>type</th>\n",
       "      <th>paint_color</th>\n",
       "      <th>state</th>\n",
       "      <th>lat</th>\n",
       "      <th>long</th>\n",
       "      <th>logprice</th>\n",
       "      <th>price</th>\n",
       "    </tr>\n",
       "  </thead>\n",
       "  <tbody>\n",
       "    <tr>\n",
       "      <th>0</th>\n",
       "      <td>greensboro</td>\n",
       "      <td>1995.0</td>\n",
       "      <td>acura</td>\n",
       "      <td>integra</td>\n",
       "      <td>fair</td>\n",
       "      <td>5 cylinders</td>\n",
       "      <td>gas</td>\n",
       "      <td>171689.0</td>\n",
       "      <td>clean</td>\n",
       "      <td>automatic</td>\n",
       "      <td>4wd</td>\n",
       "      <td>full-size</td>\n",
       "      <td>pickup</td>\n",
       "      <td>grey</td>\n",
       "      <td>nc</td>\n",
       "      <td>36.0726</td>\n",
       "      <td>-79.7920</td>\n",
       "      <td>7.003974</td>\n",
       "      <td>1100</td>\n",
       "    </tr>\n",
       "    <tr>\n",
       "      <th>1</th>\n",
       "      <td>baltimore</td>\n",
       "      <td>1995.0</td>\n",
       "      <td>acura</td>\n",
       "      <td>integra</td>\n",
       "      <td>excellent</td>\n",
       "      <td>4 cylinders</td>\n",
       "      <td>gas</td>\n",
       "      <td>160370.0</td>\n",
       "      <td>clean</td>\n",
       "      <td>automatic</td>\n",
       "      <td>4wd</td>\n",
       "      <td>full-size</td>\n",
       "      <td>pickup</td>\n",
       "      <td>grey</td>\n",
       "      <td>md</td>\n",
       "      <td>39.3414</td>\n",
       "      <td>-76.5469</td>\n",
       "      <td>7.438972</td>\n",
       "      <td>1700</td>\n",
       "    </tr>\n",
       "    <tr>\n",
       "      <th>2</th>\n",
       "      <td>baltimore</td>\n",
       "      <td>1995.0</td>\n",
       "      <td>acura</td>\n",
       "      <td>integra</td>\n",
       "      <td>excellent</td>\n",
       "      <td>4 cylinders</td>\n",
       "      <td>gas</td>\n",
       "      <td>160370.0</td>\n",
       "      <td>clean</td>\n",
       "      <td>automatic</td>\n",
       "      <td>4wd</td>\n",
       "      <td>full-size</td>\n",
       "      <td>pickup</td>\n",
       "      <td>grey</td>\n",
       "      <td>md</td>\n",
       "      <td>39.3414</td>\n",
       "      <td>-76.5469</td>\n",
       "      <td>7.438972</td>\n",
       "      <td>1700</td>\n",
       "    </tr>\n",
       "    <tr>\n",
       "      <th>349363</th>\n",
       "      <td>flint</td>\n",
       "      <td>2021.0</td>\n",
       "      <td>nissan</td>\n",
       "      <td>xterra</td>\n",
       "      <td>good</td>\n",
       "      <td>6 cylinders</td>\n",
       "      <td>gas</td>\n",
       "      <td>86000.0</td>\n",
       "      <td>clean</td>\n",
       "      <td>automatic</td>\n",
       "      <td>4wd</td>\n",
       "      <td>full-size</td>\n",
       "      <td>pickup</td>\n",
       "      <td>red</td>\n",
       "      <td>mi</td>\n",
       "      <td>42.8511</td>\n",
       "      <td>-83.4512</td>\n",
       "      <td>8.974745</td>\n",
       "      <td>7900</td>\n",
       "    </tr>\n",
       "    <tr>\n",
       "      <th>349364</th>\n",
       "      <td>tulsa</td>\n",
       "      <td>2021.0</td>\n",
       "      <td>toyota</td>\n",
       "      <td>prius</td>\n",
       "      <td>like new</td>\n",
       "      <td>4 cylinders</td>\n",
       "      <td>hybrid</td>\n",
       "      <td>47000.0</td>\n",
       "      <td>clean</td>\n",
       "      <td>automatic</td>\n",
       "      <td>fwd</td>\n",
       "      <td>full-size</td>\n",
       "      <td>hatchback</td>\n",
       "      <td>red</td>\n",
       "      <td>ok</td>\n",
       "      <td>36.0544</td>\n",
       "      <td>-95.7223</td>\n",
       "      <td>9.159152</td>\n",
       "      <td>9500</td>\n",
       "    </tr>\n",
       "    <tr>\n",
       "      <th>349365</th>\n",
       "      <td>columbia</td>\n",
       "      <td>2021.0</td>\n",
       "      <td>volvo</td>\n",
       "      <td>s60</td>\n",
       "      <td>excellent</td>\n",
       "      <td>5 cylinders</td>\n",
       "      <td>gas</td>\n",
       "      <td>127000.0</td>\n",
       "      <td>clean</td>\n",
       "      <td>automatic</td>\n",
       "      <td>4wd</td>\n",
       "      <td>full-size</td>\n",
       "      <td>sedan</td>\n",
       "      <td>grey</td>\n",
       "      <td>sc</td>\n",
       "      <td>33.9902</td>\n",
       "      <td>-81.1587</td>\n",
       "      <td>8.497195</td>\n",
       "      <td>4900</td>\n",
       "    </tr>\n",
       "  </tbody>\n",
       "</table>\n",
       "</div>"
      ],
      "text/plain": [
       "            region    year manufacturer    model  condition    cylinders  \\\n",
       "0       greensboro  1995.0        acura  integra       fair  5 cylinders   \n",
       "1        baltimore  1995.0        acura  integra  excellent  4 cylinders   \n",
       "2        baltimore  1995.0        acura  integra  excellent  4 cylinders   \n",
       "349363       flint  2021.0       nissan   xterra       good  6 cylinders   \n",
       "349364       tulsa  2021.0       toyota    prius   like new  4 cylinders   \n",
       "349365    columbia  2021.0        volvo      s60  excellent  5 cylinders   \n",
       "\n",
       "          fuel  odometer title_status transmission drive       size  \\\n",
       "0          gas  171689.0        clean    automatic   4wd  full-size   \n",
       "1          gas  160370.0        clean    automatic   4wd  full-size   \n",
       "2          gas  160370.0        clean    automatic   4wd  full-size   \n",
       "349363     gas   86000.0        clean    automatic   4wd  full-size   \n",
       "349364  hybrid   47000.0        clean    automatic   fwd  full-size   \n",
       "349365     gas  127000.0        clean    automatic   4wd  full-size   \n",
       "\n",
       "             type paint_color state      lat     long  logprice  price  \n",
       "0          pickup        grey    nc  36.0726 -79.7920  7.003974   1100  \n",
       "1          pickup        grey    md  39.3414 -76.5469  7.438972   1700  \n",
       "2          pickup        grey    md  39.3414 -76.5469  7.438972   1700  \n",
       "349363     pickup         red    mi  42.8511 -83.4512  8.974745   7900  \n",
       "349364  hatchback         red    ok  36.0544 -95.7223  9.159152   9500  \n",
       "349365      sedan        grey    sc  33.9902 -81.1587  8.497195   4900  "
      ]
     },
     "execution_count": 42,
     "metadata": {},
     "output_type": "execute_result"
    }
   ],
   "source": [
    "df.iloc[np.r_[0:3, -3:0]]"
   ]
  },
  {
   "cell_type": "markdown",
   "execution_count": null,
   "metadata": {
    "papermill": {
     "duration": 0.039191,
     "end_time": "2020-09-09T22:49:51.004335",
     "exception": false,
     "start_time": "2020-09-09T22:49:50.965144",
     "status": "completed"
    },
    "tags": []
   },
   "source": [
    "As the dataset is quite clean now, we can reduce the number of car models in it. We will delete data about models that appear less than 1000 times in the dataset. To exclude most incorrect combinations of manufacturers and models, we will also remove manufacturers that are listed less than 1000 times.\n",
    "\n",
    "These steps will dramatically reduce the chance of unrealistic model names and manufacturer-model combinations appearing in our dataset. They will also ensure that the proposed machine-learning models have enough relevant data to understand the interrelations between car attributes or characteristics and their prices.\n",
    "\n",
    "Here is the code that will update the dataset according to the above requirements:"
   ]
  },
  {
   "cell_type": "code",
   "execution_count": 43,
   "metadata": {
    "execution": {
     "iopub.execute_input": "2020-09-09T22:49:51.107408Z",
     "iopub.status.busy": "2020-09-09T22:49:51.106489Z",
     "iopub.status.idle": "2020-09-09T22:49:52.689859Z",
     "shell.execute_reply": "2020-09-09T22:49:52.689225Z"
    },
    "papermill": {
     "duration": 1.645556,
     "end_time": "2020-09-09T22:49:52.689994",
     "exception": false,
     "start_time": "2020-09-09T22:49:51.044438",
     "status": "completed"
    },
    "tags": []
   },
   "outputs": [],
   "source": [
    "df = df.groupby(\"model\").filter(lambda x: len(x) >= 1000)\n",
    "df = df.groupby(\"manufacturer\").filter(lambda x: len(x) >= 1000)\n",
    "df.reset_index(drop=True, inplace=True)"
   ]
  },
  {
   "cell_type": "markdown",
   "execution_count": null,
   "metadata": {
    "papermill": {
     "duration": 0.038882,
     "end_time": "2020-09-09T22:49:52.768177",
     "exception": false,
     "start_time": "2020-09-09T22:49:52.729295",
     "status": "completed"
    },
    "tags": []
   },
   "source": [
    "The standard summary statistics of the updated dataset are as follows:"
   ]
  },
  {
   "cell_type": "code",
   "execution_count": 44,
   "metadata": {
    "execution": {
     "iopub.execute_input": "2020-09-09T22:49:52.856380Z",
     "iopub.status.busy": "2020-09-09T22:49:52.855609Z",
     "iopub.status.idle": "2020-09-09T22:49:52.899886Z",
     "shell.execute_reply": "2020-09-09T22:49:52.899113Z"
    },
    "papermill": {
     "duration": 0.092434,
     "end_time": "2020-09-09T22:49:52.900011",
     "exception": false,
     "start_time": "2020-09-09T22:49:52.807577",
     "status": "completed"
    },
    "tags": []
   },
   "outputs": [
    {
     "data": {
      "text/html": [
       "<div>\n",
       "<style scoped>\n",
       "    .dataframe tbody tr th:only-of-type {\n",
       "        vertical-align: middle;\n",
       "    }\n",
       "\n",
       "    .dataframe tbody tr th {\n",
       "        vertical-align: top;\n",
       "    }\n",
       "\n",
       "    .dataframe thead th {\n",
       "        text-align: right;\n",
       "    }\n",
       "</style>\n",
       "<table border=\"1\" class=\"dataframe\">\n",
       "  <thead>\n",
       "    <tr style=\"text-align: right;\">\n",
       "      <th></th>\n",
       "      <th>year</th>\n",
       "      <th>odometer</th>\n",
       "      <th>lat</th>\n",
       "      <th>long</th>\n",
       "      <th>logprice</th>\n",
       "      <th>price</th>\n",
       "    </tr>\n",
       "  </thead>\n",
       "  <tbody>\n",
       "    <tr>\n",
       "      <th>count</th>\n",
       "      <td>101760.000000</td>\n",
       "      <td>101760.000000</td>\n",
       "      <td>101760.000000</td>\n",
       "      <td>101760.000000</td>\n",
       "      <td>101760.000000</td>\n",
       "      <td>101760.000000</td>\n",
       "    </tr>\n",
       "    <tr>\n",
       "      <th>mean</th>\n",
       "      <td>2011.245892</td>\n",
       "      <td>104697.083167</td>\n",
       "      <td>38.424092</td>\n",
       "      <td>-93.835064</td>\n",
       "      <td>9.264930</td>\n",
       "      <td>13855.594212</td>\n",
       "    </tr>\n",
       "    <tr>\n",
       "      <th>std</th>\n",
       "      <td>5.189450</td>\n",
       "      <td>56378.153680</td>\n",
       "      <td>5.302276</td>\n",
       "      <td>15.895654</td>\n",
       "      <td>0.777764</td>\n",
       "      <td>10239.928735</td>\n",
       "    </tr>\n",
       "    <tr>\n",
       "      <th>min</th>\n",
       "      <td>1995.000000</td>\n",
       "      <td>0.000000</td>\n",
       "      <td>22.910200</td>\n",
       "      <td>-124.441000</td>\n",
       "      <td>6.621406</td>\n",
       "      <td>750.000000</td>\n",
       "    </tr>\n",
       "    <tr>\n",
       "      <th>25%</th>\n",
       "      <td>2008.000000</td>\n",
       "      <td>61508.000000</td>\n",
       "      <td>35.033600</td>\n",
       "      <td>-105.066000</td>\n",
       "      <td>8.748106</td>\n",
       "      <td>6297.750000</td>\n",
       "    </tr>\n",
       "    <tr>\n",
       "      <th>50%</th>\n",
       "      <td>2012.000000</td>\n",
       "      <td>103641.500000</td>\n",
       "      <td>39.067250</td>\n",
       "      <td>-90.137900</td>\n",
       "      <td>9.305741</td>\n",
       "      <td>11000.000000</td>\n",
       "    </tr>\n",
       "    <tr>\n",
       "      <th>75%</th>\n",
       "      <td>2015.000000</td>\n",
       "      <td>144000.000000</td>\n",
       "      <td>42.484500</td>\n",
       "      <td>-81.481100</td>\n",
       "      <td>9.825310</td>\n",
       "      <td>18495.000000</td>\n",
       "    </tr>\n",
       "    <tr>\n",
       "      <th>max</th>\n",
       "      <td>2021.000000</td>\n",
       "      <td>265135.000000</td>\n",
       "      <td>51.879800</td>\n",
       "      <td>-54.184600</td>\n",
       "      <td>11.618294</td>\n",
       "      <td>111111.000000</td>\n",
       "    </tr>\n",
       "  </tbody>\n",
       "</table>\n",
       "</div>"
      ],
      "text/plain": [
       "                year       odometer            lat           long  \\\n",
       "count  101760.000000  101760.000000  101760.000000  101760.000000   \n",
       "mean     2011.245892  104697.083167      38.424092     -93.835064   \n",
       "std         5.189450   56378.153680       5.302276      15.895654   \n",
       "min      1995.000000       0.000000      22.910200    -124.441000   \n",
       "25%      2008.000000   61508.000000      35.033600    -105.066000   \n",
       "50%      2012.000000  103641.500000      39.067250     -90.137900   \n",
       "75%      2015.000000  144000.000000      42.484500     -81.481100   \n",
       "max      2021.000000  265135.000000      51.879800     -54.184600   \n",
       "\n",
       "            logprice          price  \n",
       "count  101760.000000  101760.000000  \n",
       "mean        9.264930   13855.594212  \n",
       "std         0.777764   10239.928735  \n",
       "min         6.621406     750.000000  \n",
       "25%         8.748106    6297.750000  \n",
       "50%         9.305741   11000.000000  \n",
       "75%         9.825310   18495.000000  \n",
       "max        11.618294  111111.000000  "
      ]
     },
     "execution_count": 44,
     "metadata": {},
     "output_type": "execute_result"
    }
   ],
   "source": [
    "df.describe()"
   ]
  },
  {
   "cell_type": "markdown",
   "execution_count": null,
   "metadata": {
    "papermill": {
     "duration": 0.039203,
     "end_time": "2020-09-09T22:49:52.978940",
     "exception": false,
     "start_time": "2020-09-09T22:49:52.939737",
     "status": "completed"
    },
    "tags": []
   },
   "source": [
    "What are the rounded mean, median, and mode of the target variable, price?"
   ]
  },
  {
   "cell_type": "code",
   "execution_count": 45,
   "metadata": {
    "execution": {
     "iopub.execute_input": "2020-09-09T22:49:53.067153Z",
     "iopub.status.busy": "2020-09-09T22:49:53.066090Z",
     "iopub.status.idle": "2020-09-09T22:49:53.074521Z",
     "shell.execute_reply": "2020-09-09T22:49:53.073505Z"
    },
    "papermill": {
     "duration": 0.055731,
     "end_time": "2020-09-09T22:49:53.074697",
     "exception": false,
     "start_time": "2020-09-09T22:49:53.018966",
     "status": "completed"
    },
    "tags": []
   },
   "outputs": [
    {
     "name": "stdout",
     "output_type": "stream",
     "text": [
      "Mean:  13856\n",
      "\n",
      "Median:  11000\n",
      "\n",
      "Mode:  6995\n"
     ]
    }
   ],
   "source": [
    "print('Mean: ', round(df.price.mean()))\n",
    "print()\n",
    "print('Median: ', round(df.price.median()))\n",
    "print()\n",
    "print('Mode: ', df.price.mode()[0])"
   ]
  },
  {
   "cell_type": "markdown",
   "execution_count": null,
   "metadata": {
    "papermill": {
     "duration": 0.045252,
     "end_time": "2020-09-09T22:49:53.160994",
     "exception": false,
     "start_time": "2020-09-09T22:49:53.115742",
     "status": "completed"
    },
    "tags": []
   },
   "source": [
    "The mean is greater than the median, and the median is greater than the mode. This indicates that most prices in the price column are on the lower side and a few are much higher. The following histogram proves this:"
   ]
  },
  {
   "cell_type": "code",
   "execution_count": 46,
   "metadata": {
    "execution": {
     "iopub.execute_input": "2020-09-09T22:49:53.247280Z",
     "iopub.status.busy": "2020-09-09T22:49:53.246037Z",
     "iopub.status.idle": "2020-09-09T22:49:53.650063Z",
     "shell.execute_reply": "2020-09-09T22:49:53.649391Z"
    },
    "papermill": {
     "duration": 0.449148,
     "end_time": "2020-09-09T22:49:53.650183",
     "exception": false,
     "start_time": "2020-09-09T22:49:53.201035",
     "status": "completed"
    },
    "tags": []
   },
   "outputs": [
    {
     "data": {
      "image/png": "[encoded data removed]",
      "text/plain": [
       "<Figure size 432x216 with 1 Axes>"
      ]
     },
     "metadata": {},
     "output_type": "display_data"
    }
   ],
   "source": [
    "plot_histogram(df.price)"
   ]
  },
  {
   "cell_type": "markdown",
   "execution_count": null,
   "metadata": {
    "papermill": {
     "duration": 0.039832,
     "end_time": "2020-09-09T22:49:53.730324",
     "exception": false,
     "start_time": "2020-09-09T22:49:53.690492",
     "status": "completed"
    },
    "tags": []
   },
   "source": [
    "Later in the project, we will make sure that we pass on logarithmic versions of these prices to our machine-learning models. For now, though, let us look further into the cleaned data that we&nbsp;have.\n",
    "\n",
    "First, we will look at the number of cars per manufacturer."
   ]
  },
  {
   "cell_type": "code",
   "execution_count": 47,
   "metadata": {
    "execution": {
     "iopub.execute_input": "2020-09-09T22:49:53.822321Z",
     "iopub.status.busy": "2020-09-09T22:49:53.816544Z",
     "iopub.status.idle": "2020-09-09T22:49:54.260805Z",
     "shell.execute_reply": "2020-09-09T22:49:54.260052Z"
    },
    "papermill": {
     "duration": 0.490467,
     "end_time": "2020-09-09T22:49:54.260933",
     "exception": false,
     "start_time": "2020-09-09T22:49:53.770466",
     "status": "completed"
    },
    "tags": []
   },
   "outputs": [
    {
     "data": {
      "image/png": "[encoded data removed]",
      "text/plain": [
       "<Figure size 720x288 with 1 Axes>"
      ]
     },
     "metadata": {},
     "output_type": "display_data"
    }
   ],
   "source": [
    "plt.figure(figsize=(10, 4))\n",
    "plt.xticks(rotation=90)\n",
    "sns.countplot(df.manufacturer);"
   ]
  },
  {
   "cell_type": "markdown",
   "execution_count": null,
   "metadata": {
    "papermill": {
     "duration": 0.041719,
     "end_time": "2020-09-09T22:49:54.343342",
     "exception": false,
     "start_time": "2020-09-09T22:49:54.301623",
     "status": "completed"
    },
    "tags": []
   },
   "source": [
    "Next, let us look at the counts of some of the other categorical variables."
   ]
  },
  {
   "cell_type": "code",
   "execution_count": 48,
   "metadata": {
    "execution": {
     "iopub.execute_input": "2020-09-09T22:49:54.434203Z",
     "iopub.status.busy": "2020-09-09T22:49:54.433042Z",
     "iopub.status.idle": "2020-09-09T22:49:56.915092Z",
     "shell.execute_reply": "2020-09-09T22:49:56.914483Z"
    },
    "papermill": {
     "duration": 2.531295,
     "end_time": "2020-09-09T22:49:56.915232",
     "exception": false,
     "start_time": "2020-09-09T22:49:54.383937",
     "status": "completed"
    },
    "tags": []
   },
   "outputs": [
    {
     "data": {
      "image/png": "[encoded data removed]",
      "text/plain": [
       "<Figure size 1440x1080 with 9 Axes>"
      ]
     },
     "metadata": {},
     "output_type": "display_data"
    }
   ],
   "source": [
    "categ_x = categorical.copy()\n",
    "categ_x.remove('region')\n",
    "categ_x.remove('state')\n",
    "\n",
    "fig, ax = plt.subplots(3, 3, figsize=(20, 15))\n",
    "for variable, subplot in zip(categ_x, ax.flatten()):\n",
    "    sns.countplot(df[variable], ax=subplot)\n",
    "    for label in subplot.get_xticklabels():\n",
    "        label.set_rotation(90)\n",
    "plt.tight_layout()"
   ]
  },
  {
   "cell_type": "markdown",
   "execution_count": null,
   "metadata": {
    "papermill": {
     "duration": 0.041191,
     "end_time": "2020-09-09T22:49:56.998202",
     "exception": false,
     "start_time": "2020-09-09T22:49:56.957011",
     "status": "completed"
    },
    "tags": []
   },
   "source": [
    "The graphs above tells us that a majority of cars are in fair condition, are gas powered, have five cylinders, and have automatic transmission.\n",
    "\n",
    "Next, let us look at how prices are interrelated with various categorical variables."
   ]
  },
  {
   "cell_type": "code",
   "execution_count": 49,
   "metadata": {
    "execution": {
     "iopub.execute_input": "2020-09-09T22:49:57.096224Z",
     "iopub.status.busy": "2020-09-09T22:49:57.095295Z",
     "iopub.status.idle": "2020-09-09T22:49:58.493734Z",
     "shell.execute_reply": "2020-09-09T22:49:58.492991Z"
    },
    "papermill": {
     "duration": 1.453857,
     "end_time": "2020-09-09T22:49:58.493897",
     "exception": false,
     "start_time": "2020-09-09T22:49:57.040040",
     "status": "completed"
    },
    "tags": []
   },
   "outputs": [
    {
     "data": {
      "image/png": "[encoded data removed]",
      "text/plain": [
       "<Figure size 720x288 with 1 Axes>"
      ]
     },
     "metadata": {},
     "output_type": "display_data"
    }
   ],
   "source": [
    "plt.figure(figsize=(10, 4))\n",
    "plt.xticks(rotation=90)\n",
    "sns.barplot(x='manufacturer', y='price', data=df);"
   ]
  },
  {
   "cell_type": "markdown",
   "execution_count": null,
   "metadata": {
    "papermill": {
     "duration": 0.043289,
     "end_time": "2020-09-09T22:49:58.580125",
     "exception": false,
     "start_time": "2020-09-09T22:49:58.536836",
     "status": "completed"
    },
    "tags": []
   },
   "source": [
    "As the graph above indicates, Ram Trucks lead on the price front.\n",
    "\n",
    "And the following graphs show that new cars, diesel cars, cars that have liens on them, and cars with four-wheel drives have higher average prices than other types of cars in their respective categories."
   ]
  },
  {
   "cell_type": "code",
   "execution_count": 50,
   "metadata": {
    "execution": {
     "iopub.execute_input": "2020-09-09T22:49:58.679633Z",
     "iopub.status.busy": "2020-09-09T22:49:58.672353Z",
     "iopub.status.idle": "2020-09-09T22:50:10.233612Z",
     "shell.execute_reply": "2020-09-09T22:50:10.234229Z"
    },
    "papermill": {
     "duration": 11.611975,
     "end_time": "2020-09-09T22:50:10.234389",
     "exception": false,
     "start_time": "2020-09-09T22:49:58.622414",
     "status": "completed"
    },
    "tags": []
   },
   "outputs": [
    {
     "data": {
      "image/png": "[encoded data removed]",
      "text/plain": [
       "<Figure size 1440x1080 with 9 Axes>"
      ]
     },
     "metadata": {},
     "output_type": "display_data"
    }
   ],
   "source": [
    "fig, ax = plt.subplots(3, 3, figsize=(20, 15))\n",
    "for var, subplot in zip(categ_x, ax.flatten()):\n",
    "    sns.barplot(x=var, y='price', data=df, ax=subplot)\n",
    "    for label in subplot.get_xticklabels():\n",
    "        label.set_rotation(90)\n",
    "plt.tight_layout()"
   ]
  },
  {
   "cell_type": "markdown",
   "execution_count": null,
   "metadata": {
    "papermill": {
     "duration": 0.043916,
     "end_time": "2020-09-09T22:50:10.322989",
     "exception": false,
     "start_time": "2020-09-09T22:50:10.279073",
     "status": "completed"
    },
    "tags": []
   },
   "source": [
    "Let us also look at how prices vary with year of manufacture."
   ]
  },
  {
   "cell_type": "code",
   "execution_count": 51,
   "metadata": {
    "execution": {
     "iopub.execute_input": "2020-09-09T22:50:10.421092Z",
     "iopub.status.busy": "2020-09-09T22:50:10.420217Z",
     "iopub.status.idle": "2020-09-09T22:50:12.742377Z",
     "shell.execute_reply": "2020-09-09T22:50:12.741573Z"
    },
    "papermill": {
     "duration": 2.373271,
     "end_time": "2020-09-09T22:50:12.742504",
     "exception": false,
     "start_time": "2020-09-09T22:50:10.369233",
     "status": "completed"
    },
    "tags": []
   },
   "outputs": [
    {
     "data": {
      "image/png": "[encoded data removed]",
      "text/plain": [
       "<Figure size 720x288 with 1 Axes>"
      ]
     },
     "metadata": {},
     "output_type": "display_data"
    }
   ],
   "source": [
    "year = df.year.astype(np.int64)\n",
    "price = df.price\n",
    "plt.figure(figsize=(10, 4))\n",
    "plt.xticks(rotation=90)\n",
    "sns.barplot(year, price);"
   ]
  },
  {
   "cell_type": "markdown",
   "execution_count": null,
   "metadata": {
    "papermill": {
     "duration": 0.046453,
     "end_time": "2020-09-09T22:50:12.833703",
     "exception": false,
     "start_time": "2020-09-09T22:50:12.787250",
     "status": "completed"
    },
    "tags": []
   },
   "source": [
    "The above graph shows that prices increase fairly consistently with year.\n",
    "\n",
    "What about comparing three sets of variables? How are the fuel and price variables related to condition? The following graphs provide an answer to this question, as well as questions about other triadic combinations."
   ]
  },
  {
   "cell_type": "code",
   "execution_count": 52,
   "metadata": {
    "execution": {
     "iopub.execute_input": "2020-09-09T22:50:12.944221Z",
     "iopub.status.busy": "2020-09-09T22:50:12.941169Z",
     "iopub.status.idle": "2020-09-09T22:50:24.330718Z",
     "shell.execute_reply": "2020-09-09T22:50:24.330055Z"
    },
    "papermill": {
     "duration": 11.448661,
     "end_time": "2020-09-09T22:50:24.330863",
     "exception": false,
     "start_time": "2020-09-09T22:50:12.882202",
     "status": "completed"
    },
    "tags": []
   },
   "outputs": [
    {
     "data": {
      "image/png": "[encoded data removed]",
      "text/plain": [
       "<Figure size 1440x1080 with 6 Axes>"
      ]
     },
     "metadata": {},
     "output_type": "display_data"
    }
   ],
   "source": [
    "factor_combos = [('fuel', 'condition'), ('condition', 'size'),\\\n",
    "                 ('fuel', 'cylinders'), ('transmission', 'size'),\\\n",
    "                 ('size', 'drive'), ('drive', 'size')]\n",
    "fig, ax = plt.subplots(3, 2, figsize=(20, 15))\n",
    "for var, subplot in zip(factor_combos, ax.flatten()):\n",
    "    sns.barplot(x=var[0], y='price', hue=var[1], data=df, ax=subplot)\n",
    "    for label in subplot.get_xticklabels():\n",
    "        label.set_rotation(90)\n",
    "plt.tight_layout()"
   ]
  },
  {
   "cell_type": "markdown",
   "execution_count": null,
   "metadata": {
    "papermill": {
     "duration": 0.045045,
     "end_time": "2020-09-09T22:50:24.421674",
     "exception": false,
     "start_time": "2020-09-09T22:50:24.376629",
     "status": "completed"
    },
    "tags": []
   },
   "source": [
    "So, all the car characteristics in our dataset have some impact on the target variable, price. To determine the interdependence among these variables mathematically, let us calculate the correlation between them."
   ]
  },
  {
   "cell_type": "code",
   "execution_count": 53,
   "metadata": {
    "execution": {
     "iopub.execute_input": "2020-09-09T22:50:24.520047Z",
     "iopub.status.busy": "2020-09-09T22:50:24.518975Z",
     "iopub.status.idle": "2020-09-09T22:50:24.547427Z",
     "shell.execute_reply": "2020-09-09T22:50:24.546853Z"
    },
    "papermill": {
     "duration": 0.080435,
     "end_time": "2020-09-09T22:50:24.547551",
     "exception": false,
     "start_time": "2020-09-09T22:50:24.467116",
     "status": "completed"
    },
    "tags": []
   },
   "outputs": [
    {
     "data": {
      "text/html": [
       "<div>\n",
       "<style scoped>\n",
       "    .dataframe tbody tr th:only-of-type {\n",
       "        vertical-align: middle;\n",
       "    }\n",
       "\n",
       "    .dataframe tbody tr th {\n",
       "        vertical-align: top;\n",
       "    }\n",
       "\n",
       "    .dataframe thead th {\n",
       "        text-align: right;\n",
       "    }\n",
       "</style>\n",
       "<table border=\"1\" class=\"dataframe\">\n",
       "  <thead>\n",
       "    <tr style=\"text-align: right;\">\n",
       "      <th></th>\n",
       "      <th>year</th>\n",
       "      <th>odometer</th>\n",
       "      <th>lat</th>\n",
       "      <th>long</th>\n",
       "      <th>logprice</th>\n",
       "      <th>price</th>\n",
       "    </tr>\n",
       "  </thead>\n",
       "  <tbody>\n",
       "    <tr>\n",
       "      <th>year</th>\n",
       "      <td>1.000000</td>\n",
       "      <td>-0.636595</td>\n",
       "      <td>0.000854</td>\n",
       "      <td>-0.056821</td>\n",
       "      <td>0.646857</td>\n",
       "      <td>0.574085</td>\n",
       "    </tr>\n",
       "    <tr>\n",
       "      <th>odometer</th>\n",
       "      <td>-0.636595</td>\n",
       "      <td>1.000000</td>\n",
       "      <td>-0.001929</td>\n",
       "      <td>0.079161</td>\n",
       "      <td>-0.526627</td>\n",
       "      <td>-0.511108</td>\n",
       "    </tr>\n",
       "    <tr>\n",
       "      <th>lat</th>\n",
       "      <td>0.000854</td>\n",
       "      <td>-0.001929</td>\n",
       "      <td>1.000000</td>\n",
       "      <td>-0.113312</td>\n",
       "      <td>0.056097</td>\n",
       "      <td>0.043458</td>\n",
       "    </tr>\n",
       "    <tr>\n",
       "      <th>long</th>\n",
       "      <td>-0.056821</td>\n",
       "      <td>0.079161</td>\n",
       "      <td>-0.113312</td>\n",
       "      <td>1.000000</td>\n",
       "      <td>-0.140466</td>\n",
       "      <td>-0.134924</td>\n",
       "    </tr>\n",
       "    <tr>\n",
       "      <th>logprice</th>\n",
       "      <td>0.646857</td>\n",
       "      <td>-0.526627</td>\n",
       "      <td>0.056097</td>\n",
       "      <td>-0.140466</td>\n",
       "      <td>1.000000</td>\n",
       "      <td>0.894220</td>\n",
       "    </tr>\n",
       "    <tr>\n",
       "      <th>price</th>\n",
       "      <td>0.574085</td>\n",
       "      <td>-0.511108</td>\n",
       "      <td>0.043458</td>\n",
       "      <td>-0.134924</td>\n",
       "      <td>0.894220</td>\n",
       "      <td>1.000000</td>\n",
       "    </tr>\n",
       "  </tbody>\n",
       "</table>\n",
       "</div>"
      ],
      "text/plain": [
       "              year  odometer       lat      long  logprice     price\n",
       "year      1.000000 -0.636595  0.000854 -0.056821  0.646857  0.574085\n",
       "odometer -0.636595  1.000000 -0.001929  0.079161 -0.526627 -0.511108\n",
       "lat       0.000854 -0.001929  1.000000 -0.113312  0.056097  0.043458\n",
       "long     -0.056821  0.079161 -0.113312  1.000000 -0.140466 -0.134924\n",
       "logprice  0.646857 -0.526627  0.056097 -0.140466  1.000000  0.894220\n",
       "price     0.574085 -0.511108  0.043458 -0.134924  0.894220  1.000000"
      ]
     },
     "execution_count": 53,
     "metadata": {},
     "output_type": "execute_result"
    }
   ],
   "source": [
    "df.corr()"
   ]
  },
  {
   "cell_type": "markdown",
   "execution_count": null,
   "metadata": {
    "papermill": {
     "duration": 0.054253,
     "end_time": "2020-09-09T22:50:24.655319",
     "exception": false,
     "start_time": "2020-09-09T22:50:24.601066",
     "status": "completed"
    },
    "tags": []
   },
   "source": [
    "Correlation varies between -1 and 1. A positive correlation value indicates direct proportion, and a negative correlation value indicates inverse proportion.\n",
    "\n",
    "If a pair of values are positively correlated, they increase or decrease in unison. Consider the year of manufacture and the price of a car. These values are positively correlated. The more recent or higher the year of manufacture of a vehicle is, the higher is its price.\n",
    "\n",
    "If a pair of values are negatively correlated, they travel on the Cartesian plane in opposite directions. If one value increases, the other decreases. Odometer readings and car prices are inversely correlated. The higher the odometer reading of a car is, the lower is its price.\n",
    "\n",
    "The strength of a correlation depends on how close the absolute value of the correlation is to 1. For example, a correlation of 0.8 denotes a strong positive correlation. The -0.8 is indicative of a strong negative correlation.\n",
    "\n",
    "The correlation table above indicates average positive correlation between price and year and average negative correlation between price and odometer reading.\n",
    "\n",
    "The proposed machine-learning models should be able to learn effectively from the car dataset if we allocate adequate data to train and test them. In the next step, we will work in this direction.\n",
    "\n",
    "Before we proceed to the next step, let us save the updated dataset as a CSV&nbsp;file."
   ]
  },
  {
   "cell_type": "code",
   "execution_count": 54,
   "metadata": {
    "execution": {
     "iopub.execute_input": "2020-09-09T22:50:24.760675Z",
     "iopub.status.busy": "2020-09-09T22:50:24.759589Z",
     "iopub.status.idle": "2020-09-09T22:50:26.510425Z",
     "shell.execute_reply": "2020-09-09T22:50:26.509561Z"
    },
    "papermill": {
     "duration": 1.804276,
     "end_time": "2020-09-09T22:50:26.510555",
     "exception": false,
     "start_time": "2020-09-09T22:50:24.706279",
     "status": "completed"
    },
    "tags": []
   },
   "outputs": [],
   "source": [
    "df.to_csv('vehicles_viz.csv', index=False)"
   ]
  },
  {
   "cell_type": "markdown",
   "execution_count": null,
   "metadata": {
    "papermill": {
     "duration": 0.044933,
     "end_time": "2020-09-09T22:50:26.600973",
     "exception": false,
     "start_time": "2020-09-09T22:50:26.556040",
     "status": "completed"
    },
    "tags": []
   },
   "source": [
    "<h2>Step 5: Splitting the dataset<a aria-pressed=\"true\" class=\"btn btn-primary btn-sm\" data-toggle=\"popover\" name='step5-desc' id='step5-desc' href=\"#step5\" role=\"button\" style=\"color: white; margin-left: 20px; target='_self'\">Go to steplist</a></h2>"
   ]
  },
  {
   "cell_type": "markdown",
   "execution_count": null,
   "metadata": {
    "papermill": {
     "duration": 0.044769,
     "end_time": "2020-09-09T22:50:26.690935",
     "exception": false,
     "start_time": "2020-09-09T22:50:26.646166",
     "status": "completed"
    },
    "tags": []
   },
   "source": [
    "We will begin this step by importing the CSV file that we had saved in the previous&nbsp;step."
   ]
  },
  {
   "cell_type": "code",
   "execution_count": 55,
   "metadata": {
    "execution": {
     "iopub.execute_input": "2020-09-09T22:50:26.787938Z",
     "iopub.status.busy": "2020-09-09T22:50:26.787191Z",
     "iopub.status.idle": "2020-09-09T22:50:27.135418Z",
     "shell.execute_reply": "2020-09-09T22:50:27.134675Z"
    },
    "papermill": {
     "duration": 0.398844,
     "end_time": "2020-09-09T22:50:27.135547",
     "exception": false,
     "start_time": "2020-09-09T22:50:26.736703",
     "status": "completed"
    },
    "tags": []
   },
   "outputs": [],
   "source": [
    "df = pd.read_csv('vehicles_viz.csv')"
   ]
  },
  {
   "cell_type": "markdown",
   "execution_count": null,
   "metadata": {
    "papermill": {
     "duration": 0.045084,
     "end_time": "2020-09-09T22:50:27.226972",
     "exception": false,
     "start_time": "2020-09-09T22:50:27.181888",
     "status": "completed"
    },
    "tags": []
   },
   "source": [
    "Next, we will drop the price column because the logprice column, whose values are uniformly distributed, is more conducive to machine learning."
   ]
  },
  {
   "cell_type": "code",
   "execution_count": 56,
   "metadata": {
    "execution": {
     "iopub.execute_input": "2020-09-09T22:50:27.324870Z",
     "iopub.status.busy": "2020-09-09T22:50:27.324058Z",
     "iopub.status.idle": "2020-09-09T22:50:27.343913Z",
     "shell.execute_reply": "2020-09-09T22:50:27.343135Z"
    },
    "papermill": {
     "duration": 0.071549,
     "end_time": "2020-09-09T22:50:27.344039",
     "exception": false,
     "start_time": "2020-09-09T22:50:27.272490",
     "status": "completed"
    },
    "tags": []
   },
   "outputs": [],
   "source": [
    "df.drop('price', axis=1, inplace=True)"
   ]
  },
  {
   "cell_type": "markdown",
   "execution_count": null,
   "metadata": {
    "papermill": {
     "duration": 0.04541,
     "end_time": "2020-09-09T22:50:27.434892",
     "exception": false,
     "start_time": "2020-09-09T22:50:27.389482",
     "status": "completed"
    },
    "tags": []
   },
   "source": [
    "We will also update the list of categorical columns."
   ]
  },
  {
   "cell_type": "code",
   "execution_count": 57,
   "metadata": {
    "execution": {
     "iopub.execute_input": "2020-09-09T22:50:27.534682Z",
     "iopub.status.busy": "2020-09-09T22:50:27.533589Z",
     "iopub.status.idle": "2020-09-09T22:50:27.537928Z",
     "shell.execute_reply": "2020-09-09T22:50:27.537191Z"
    },
    "papermill": {
     "duration": 0.057706,
     "end_time": "2020-09-09T22:50:27.538052",
     "exception": false,
     "start_time": "2020-09-09T22:50:27.480346",
     "status": "completed"
    },
    "tags": []
   },
   "outputs": [
    {
     "data": {
      "text/plain": [
       "['region',\n",
       " 'manufacturer',\n",
       " 'model',\n",
       " 'condition',\n",
       " 'cylinders',\n",
       " 'fuel',\n",
       " 'title_status',\n",
       " 'transmission',\n",
       " 'drive',\n",
       " 'size',\n",
       " 'type',\n",
       " 'paint_color',\n",
       " 'state']"
      ]
     },
     "execution_count": 57,
     "metadata": {},
     "output_type": "execute_result"
    }
   ],
   "source": [
    "from collections import Counter\n",
    "categorical = list((Counter(df.columns) -\\\n",
    "                    Counter(numerical + ['logprice', 'price'])).elements())\n",
    "categorical"
   ]
  },
  {
   "cell_type": "markdown",
   "execution_count": null,
   "metadata": {
    "papermill": {
     "duration": 0.045457,
     "end_time": "2020-09-09T22:50:27.629535",
     "exception": false,
     "start_time": "2020-09-09T22:50:27.584078",
     "status": "completed"
    },
    "tags": []
   },
   "source": [
    "The list of numerical columns is already up to date."
   ]
  },
  {
   "cell_type": "code",
   "execution_count": 58,
   "metadata": {
    "execution": {
     "iopub.execute_input": "2020-09-09T22:50:27.727036Z",
     "iopub.status.busy": "2020-09-09T22:50:27.726204Z",
     "iopub.status.idle": "2020-09-09T22:50:27.729574Z",
     "shell.execute_reply": "2020-09-09T22:50:27.730111Z"
    },
    "papermill": {
     "duration": 0.054952,
     "end_time": "2020-09-09T22:50:27.730270",
     "exception": false,
     "start_time": "2020-09-09T22:50:27.675318",
     "status": "completed"
    },
    "tags": []
   },
   "outputs": [
    {
     "data": {
      "text/plain": [
       "['year', 'odometer', 'lat', 'long']"
      ]
     },
     "execution_count": 58,
     "metadata": {},
     "output_type": "execute_result"
    }
   ],
   "source": [
    "numerical"
   ]
  },
  {
   "cell_type": "markdown",
   "execution_count": null,
   "metadata": {
    "papermill": {
     "duration": 0.045545,
     "end_time": "2020-09-09T22:50:27.821601",
     "exception": false,
     "start_time": "2020-09-09T22:50:27.776056",
     "status": "completed"
    },
    "tags": []
   },
   "source": [
    "Machine-learning algorithms can interpret numerical values with a high degree of precision. But these algorithms can misinterpret categorical data. Therefore, we must convert the categorical data in our dataset into numerical values.\n",
    "\n",
    "The following code can perform the conversion:"
   ]
  },
  {
   "cell_type": "code",
   "execution_count": 59,
   "metadata": {
    "execution": {
     "iopub.execute_input": "2020-09-09T22:50:27.920122Z",
     "iopub.status.busy": "2020-09-09T22:50:27.919355Z",
     "iopub.status.idle": "2020-09-09T22:50:28.538937Z",
     "shell.execute_reply": "2020-09-09T22:50:28.538291Z"
    },
    "papermill": {
     "duration": 0.671504,
     "end_time": "2020-09-09T22:50:28.539068",
     "exception": false,
     "start_time": "2020-09-09T22:50:27.867564",
     "status": "completed"
    },
    "tags": []
   },
   "outputs": [],
   "source": [
    "# Using the encoder instance of preprocessing.LabelEncoder(),\n",
    "# which we had declared earlier in this noebook\n",
    "\n",
    "df[categorical] = df[categorical].apply(encoder.fit_transform)"
   ]
  },
  {
   "cell_type": "markdown",
   "execution_count": null,
   "metadata": {
    "papermill": {
     "duration": 0.045416,
     "end_time": "2020-09-09T22:50:28.630508",
     "exception": false,
     "start_time": "2020-09-09T22:50:28.585092",
     "status": "completed"
    },
    "tags": []
   },
   "source": [
    "Here are the first few rows of the updated dataset:"
   ]
  },
  {
   "cell_type": "code",
   "execution_count": 60,
   "metadata": {
    "execution": {
     "iopub.execute_input": "2020-09-09T22:50:28.733190Z",
     "iopub.status.busy": "2020-09-09T22:50:28.727599Z",
     "iopub.status.idle": "2020-09-09T22:50:28.747379Z",
     "shell.execute_reply": "2020-09-09T22:50:28.746716Z"
    },
    "papermill": {
     "duration": 0.071609,
     "end_time": "2020-09-09T22:50:28.747505",
     "exception": false,
     "start_time": "2020-09-09T22:50:28.675896",
     "status": "completed"
    },
    "tags": []
   },
   "outputs": [
    {
     "data": {
      "text/html": [
       "<div>\n",
       "<style scoped>\n",
       "    .dataframe tbody tr th:only-of-type {\n",
       "        vertical-align: middle;\n",
       "    }\n",
       "\n",
       "    .dataframe tbody tr th {\n",
       "        vertical-align: top;\n",
       "    }\n",
       "\n",
       "    .dataframe thead th {\n",
       "        text-align: right;\n",
       "    }\n",
       "</style>\n",
       "<table border=\"1\" class=\"dataframe\">\n",
       "  <thead>\n",
       "    <tr style=\"text-align: right;\">\n",
       "      <th></th>\n",
       "      <th>region</th>\n",
       "      <th>year</th>\n",
       "      <th>manufacturer</th>\n",
       "      <th>model</th>\n",
       "      <th>condition</th>\n",
       "      <th>cylinders</th>\n",
       "      <th>fuel</th>\n",
       "      <th>odometer</th>\n",
       "      <th>title_status</th>\n",
       "      <th>transmission</th>\n",
       "      <th>drive</th>\n",
       "      <th>size</th>\n",
       "      <th>type</th>\n",
       "      <th>paint_color</th>\n",
       "      <th>state</th>\n",
       "      <th>lat</th>\n",
       "      <th>long</th>\n",
       "      <th>logprice</th>\n",
       "    </tr>\n",
       "  </thead>\n",
       "  <tbody>\n",
       "    <tr>\n",
       "      <th>0</th>\n",
       "      <td>31</td>\n",
       "      <td>1995.0</td>\n",
       "      <td>0</td>\n",
       "      <td>44</td>\n",
       "      <td>1</td>\n",
       "      <td>6</td>\n",
       "      <td>2</td>\n",
       "      <td>154737.0</td>\n",
       "      <td>0</td>\n",
       "      <td>0</td>\n",
       "      <td>0</td>\n",
       "      <td>1</td>\n",
       "      <td>7</td>\n",
       "      <td>1</td>\n",
       "      <td>15</td>\n",
       "      <td>38.9957</td>\n",
       "      <td>-86.7568</td>\n",
       "      <td>6.621406</td>\n",
       "    </tr>\n",
       "    <tr>\n",
       "      <th>1</th>\n",
       "      <td>299</td>\n",
       "      <td>1995.0</td>\n",
       "      <td>0</td>\n",
       "      <td>2</td>\n",
       "      <td>1</td>\n",
       "      <td>6</td>\n",
       "      <td>2</td>\n",
       "      <td>189636.3</td>\n",
       "      <td>0</td>\n",
       "      <td>0</td>\n",
       "      <td>2</td>\n",
       "      <td>1</td>\n",
       "      <td>10</td>\n",
       "      <td>5</td>\n",
       "      <td>43</td>\n",
       "      <td>29.4969</td>\n",
       "      <td>-98.4032</td>\n",
       "      <td>6.803505</td>\n",
       "    </tr>\n",
       "    <tr>\n",
       "      <th>2</th>\n",
       "      <td>191</td>\n",
       "      <td>1995.0</td>\n",
       "      <td>0</td>\n",
       "      <td>44</td>\n",
       "      <td>1</td>\n",
       "      <td>6</td>\n",
       "      <td>2</td>\n",
       "      <td>136219.8</td>\n",
       "      <td>0</td>\n",
       "      <td>1</td>\n",
       "      <td>2</td>\n",
       "      <td>1</td>\n",
       "      <td>7</td>\n",
       "      <td>8</td>\n",
       "      <td>35</td>\n",
       "      <td>41.0449</td>\n",
       "      <td>-83.6457</td>\n",
       "      <td>6.908755</td>\n",
       "    </tr>\n",
       "    <tr>\n",
       "      <th>3</th>\n",
       "      <td>278</td>\n",
       "      <td>1995.0</td>\n",
       "      <td>0</td>\n",
       "      <td>49</td>\n",
       "      <td>1</td>\n",
       "      <td>4</td>\n",
       "      <td>2</td>\n",
       "      <td>182000.0</td>\n",
       "      <td>0</td>\n",
       "      <td>0</td>\n",
       "      <td>0</td>\n",
       "      <td>1</td>\n",
       "      <td>7</td>\n",
       "      <td>5</td>\n",
       "      <td>5</td>\n",
       "      <td>38.0412</td>\n",
       "      <td>-104.7160</td>\n",
       "      <td>7.090910</td>\n",
       "    </tr>\n",
       "    <tr>\n",
       "      <th>4</th>\n",
       "      <td>293</td>\n",
       "      <td>1995.0</td>\n",
       "      <td>0</td>\n",
       "      <td>47</td>\n",
       "      <td>1</td>\n",
       "      <td>4</td>\n",
       "      <td>2</td>\n",
       "      <td>168838.7</td>\n",
       "      <td>0</td>\n",
       "      <td>0</td>\n",
       "      <td>0</td>\n",
       "      <td>1</td>\n",
       "      <td>7</td>\n",
       "      <td>5</td>\n",
       "      <td>4</td>\n",
       "      <td>38.4689</td>\n",
       "      <td>-121.3440</td>\n",
       "      <td>7.313887</td>\n",
       "    </tr>\n",
       "  </tbody>\n",
       "</table>\n",
       "</div>"
      ],
      "text/plain": [
       "   region    year  manufacturer  model  condition  cylinders  fuel  odometer  \\\n",
       "0      31  1995.0             0     44          1          6     2  154737.0   \n",
       "1     299  1995.0             0      2          1          6     2  189636.3   \n",
       "2     191  1995.0             0     44          1          6     2  136219.8   \n",
       "3     278  1995.0             0     49          1          4     2  182000.0   \n",
       "4     293  1995.0             0     47          1          4     2  168838.7   \n",
       "\n",
       "   title_status  transmission  drive  size  type  paint_color  state      lat  \\\n",
       "0             0             0      0     1     7            1     15  38.9957   \n",
       "1             0             0      2     1    10            5     43  29.4969   \n",
       "2             0             1      2     1     7            8     35  41.0449   \n",
       "3             0             0      0     1     7            5      5  38.0412   \n",
       "4             0             0      0     1     7            5      4  38.4689   \n",
       "\n",
       "       long  logprice  \n",
       "0  -86.7568  6.621406  \n",
       "1  -98.4032  6.803505  \n",
       "2  -83.6457  6.908755  \n",
       "3 -104.7160  7.090910  \n",
       "4 -121.3440  7.313887  "
      ]
     },
     "execution_count": 60,
     "metadata": {},
     "output_type": "execute_result"
    }
   ],
   "source": [
    "df.head()"
   ]
  },
  {
   "cell_type": "markdown",
   "execution_count": null,
   "metadata": {
    "papermill": {
     "duration": 0.046093,
     "end_time": "2020-09-09T22:50:28.840165",
     "exception": false,
     "start_time": "2020-09-09T22:50:28.794072",
     "status": "completed"
    },
    "tags": []
   },
   "source": [
    "Next, we need to rescale and uniformize the values in selected columns. If these values are uniformly distributed, machine-learning algorithms will process them efficiently.\n",
    "\n",
    "The logprice column is already uniformly distributed. To uniformize the other numerical columns, we will use the StandardScaler module of scikit-learn. StandardScaler can rescale a set of numerical values, giving the set a mean of 0 and a standard deviation of&nbsp;1.\n",
    "\n",
    "Here is code that implements our requirements:"
   ]
  },
  {
   "cell_type": "code",
   "execution_count": 61,
   "metadata": {
    "execution": {
     "iopub.execute_input": "2020-09-09T22:50:28.938204Z",
     "iopub.status.busy": "2020-09-09T22:50:28.937430Z",
     "iopub.status.idle": "2020-09-09T22:50:28.940617Z",
     "shell.execute_reply": "2020-09-09T22:50:28.939974Z"
    },
    "papermill": {
     "duration": 0.054231,
     "end_time": "2020-09-09T22:50:28.940737",
     "exception": false,
     "start_time": "2020-09-09T22:50:28.886506",
     "status": "completed"
    },
    "tags": []
   },
   "outputs": [],
   "source": [
    "columns_to_scale = numerical + ['model', 'region']"
   ]
  },
  {
   "cell_type": "code",
   "execution_count": 62,
   "metadata": {
    "execution": {
     "iopub.execute_input": "2020-09-09T22:50:29.051697Z",
     "iopub.status.busy": "2020-09-09T22:50:29.042354Z",
     "iopub.status.idle": "2020-09-09T22:50:29.062306Z",
     "shell.execute_reply": "2020-09-09T22:50:29.061503Z"
    },
    "papermill": {
     "duration": 0.074884,
     "end_time": "2020-09-09T22:50:29.062431",
     "exception": false,
     "start_time": "2020-09-09T22:50:28.987547",
     "status": "completed"
    },
    "tags": []
   },
   "outputs": [],
   "source": [
    "from sklearn.preprocessing import StandardScaler\n",
    "\n",
    "scaler = StandardScaler()\n",
    "\n",
    "for col in columns_to_scale:\n",
    "    df[col] = scaler.fit_transform(np.array(df[col]).reshape(-1,1))"
   ]
  },
  {
   "cell_type": "markdown",
   "execution_count": null,
   "metadata": {
    "papermill": {
     "duration": 0.047163,
     "end_time": "2020-09-09T22:50:29.156637",
     "exception": false,
     "start_time": "2020-09-09T22:50:29.109474",
     "status": "completed"
    },
    "tags": []
   },
   "source": [
    "Having normalized relevant values, we will now apply the IQR method to remove any additional outliers from the dataset."
   ]
  },
  {
   "cell_type": "code",
   "execution_count": 63,
   "metadata": {
    "execution": {
     "iopub.execute_input": "2020-09-09T22:50:29.259286Z",
     "iopub.status.busy": "2020-09-09T22:50:29.258437Z",
     "iopub.status.idle": "2020-09-09T22:50:29.280084Z",
     "shell.execute_reply": "2020-09-09T22:50:29.279170Z"
    },
    "papermill": {
     "duration": 0.076129,
     "end_time": "2020-09-09T22:50:29.280219",
     "exception": false,
     "start_time": "2020-09-09T22:50:29.204090",
     "status": "completed"
    },
    "tags": []
   },
   "outputs": [],
   "source": [
    "Q1 = df.logprice.quantile(0.25)\n",
    "Q3 = df.logprice.quantile(0.75)\n",
    "IQR = Q3 - Q1\n",
    "\n",
    "df = df[(df.logprice >= (Q1 - 1.5 * IQR)) & (df.logprice <= (Q3 + 1.5 * IQR))]"
   ]
  },
  {
   "cell_type": "markdown",
   "execution_count": null,
   "metadata": {
    "papermill": {
     "duration": 0.046971,
     "end_time": "2020-09-09T22:50:29.374699",
     "exception": false,
     "start_time": "2020-09-09T22:50:29.327728",
     "status": "completed"
    },
    "tags": []
   },
   "source": [
    "Let us look at the first few rows of the updated dataset:"
   ]
  },
  {
   "cell_type": "code",
   "execution_count": 64,
   "metadata": {
    "execution": {
     "iopub.execute_input": "2020-09-09T22:50:29.548858Z",
     "iopub.status.busy": "2020-09-09T22:50:29.548019Z",
     "iopub.status.idle": "2020-09-09T22:50:29.552905Z",
     "shell.execute_reply": "2020-09-09T22:50:29.552166Z"
    },
    "papermill": {
     "duration": 0.073596,
     "end_time": "2020-09-09T22:50:29.553035",
     "exception": false,
     "start_time": "2020-09-09T22:50:29.479439",
     "status": "completed"
    },
    "tags": []
   },
   "outputs": [
    {
     "data": {
      "text/html": [
       "<div>\n",
       "<style scoped>\n",
       "    .dataframe tbody tr th:only-of-type {\n",
       "        vertical-align: middle;\n",
       "    }\n",
       "\n",
       "    .dataframe tbody tr th {\n",
       "        vertical-align: top;\n",
       "    }\n",
       "\n",
       "    .dataframe thead th {\n",
       "        text-align: right;\n",
       "    }\n",
       "</style>\n",
       "<table border=\"1\" class=\"dataframe\">\n",
       "  <thead>\n",
       "    <tr style=\"text-align: right;\">\n",
       "      <th></th>\n",
       "      <th>region</th>\n",
       "      <th>year</th>\n",
       "      <th>manufacturer</th>\n",
       "      <th>model</th>\n",
       "      <th>condition</th>\n",
       "      <th>cylinders</th>\n",
       "      <th>fuel</th>\n",
       "      <th>odometer</th>\n",
       "      <th>title_status</th>\n",
       "      <th>transmission</th>\n",
       "      <th>drive</th>\n",
       "      <th>size</th>\n",
       "      <th>type</th>\n",
       "      <th>paint_color</th>\n",
       "      <th>state</th>\n",
       "      <th>lat</th>\n",
       "      <th>long</th>\n",
       "      <th>logprice</th>\n",
       "    </tr>\n",
       "  </thead>\n",
       "  <tbody>\n",
       "    <tr>\n",
       "      <th>4</th>\n",
       "      <td>0.867755</td>\n",
       "      <td>-3.130577</td>\n",
       "      <td>0</td>\n",
       "      <td>1.364678</td>\n",
       "      <td>1</td>\n",
       "      <td>4</td>\n",
       "      <td>2</td>\n",
       "      <td>1.137709</td>\n",
       "      <td>0</td>\n",
       "      <td>0</td>\n",
       "      <td>0</td>\n",
       "      <td>1</td>\n",
       "      <td>7</td>\n",
       "      <td>5</td>\n",
       "      <td>4</td>\n",
       "      <td>0.008451</td>\n",
       "      <td>-1.730603</td>\n",
       "      <td>7.313887</td>\n",
       "    </tr>\n",
       "    <tr>\n",
       "      <th>5</th>\n",
       "      <td>0.600470</td>\n",
       "      <td>-3.130577</td>\n",
       "      <td>0</td>\n",
       "      <td>1.489928</td>\n",
       "      <td>2</td>\n",
       "      <td>5</td>\n",
       "      <td>2</td>\n",
       "      <td>-0.369643</td>\n",
       "      <td>0</td>\n",
       "      <td>0</td>\n",
       "      <td>0</td>\n",
       "      <td>1</td>\n",
       "      <td>9</td>\n",
       "      <td>4</td>\n",
       "      <td>4</td>\n",
       "      <td>-0.883737</td>\n",
       "      <td>-1.409948</td>\n",
       "      <td>7.467942</td>\n",
       "    </tr>\n",
       "    <tr>\n",
       "      <th>6</th>\n",
       "      <td>1.609255</td>\n",
       "      <td>-3.130577</td>\n",
       "      <td>0</td>\n",
       "      <td>1.114178</td>\n",
       "      <td>1</td>\n",
       "      <td>4</td>\n",
       "      <td>2</td>\n",
       "      <td>-0.285521</td>\n",
       "      <td>0</td>\n",
       "      <td>1</td>\n",
       "      <td>0</td>\n",
       "      <td>1</td>\n",
       "      <td>7</td>\n",
       "      <td>5</td>\n",
       "      <td>48</td>\n",
       "      <td>1.149910</td>\n",
       "      <td>0.269022</td>\n",
       "      <td>7.601402</td>\n",
       "    </tr>\n",
       "    <tr>\n",
       "      <th>7</th>\n",
       "      <td>-0.830797</td>\n",
       "      <td>-3.130577</td>\n",
       "      <td>0</td>\n",
       "      <td>1.114178</td>\n",
       "      <td>1</td>\n",
       "      <td>4</td>\n",
       "      <td>2</td>\n",
       "      <td>0.825814</td>\n",
       "      <td>5</td>\n",
       "      <td>0</td>\n",
       "      <td>0</td>\n",
       "      <td>1</td>\n",
       "      <td>7</td>\n",
       "      <td>5</td>\n",
       "      <td>43</td>\n",
       "      <td>-1.250053</td>\n",
       "      <td>-0.800848</td>\n",
       "      <td>7.601402</td>\n",
       "    </tr>\n",
       "    <tr>\n",
       "      <th>8</th>\n",
       "      <td>1.264371</td>\n",
       "      <td>-3.130577</td>\n",
       "      <td>0</td>\n",
       "      <td>1.114178</td>\n",
       "      <td>2</td>\n",
       "      <td>6</td>\n",
       "      <td>2</td>\n",
       "      <td>0.874508</td>\n",
       "      <td>0</td>\n",
       "      <td>0</td>\n",
       "      <td>0</td>\n",
       "      <td>1</td>\n",
       "      <td>10</td>\n",
       "      <td>8</td>\n",
       "      <td>14</td>\n",
       "      <td>0.147373</td>\n",
       "      <td>0.265141</td>\n",
       "      <td>7.601402</td>\n",
       "    </tr>\n",
       "  </tbody>\n",
       "</table>\n",
       "</div>"
      ],
      "text/plain": [
       "     region      year  manufacturer     model  condition  cylinders  fuel  \\\n",
       "4  0.867755 -3.130577             0  1.364678          1          4     2   \n",
       "5  0.600470 -3.130577             0  1.489928          2          5     2   \n",
       "6  1.609255 -3.130577             0  1.114178          1          4     2   \n",
       "7 -0.830797 -3.130577             0  1.114178          1          4     2   \n",
       "8  1.264371 -3.130577             0  1.114178          2          6     2   \n",
       "\n",
       "   odometer  title_status  transmission  drive  size  type  paint_color  \\\n",
       "4  1.137709             0             0      0     1     7            5   \n",
       "5 -0.369643             0             0      0     1     9            4   \n",
       "6 -0.285521             0             1      0     1     7            5   \n",
       "7  0.825814             5             0      0     1     7            5   \n",
       "8  0.874508             0             0      0     1    10            8   \n",
       "\n",
       "   state       lat      long  logprice  \n",
       "4      4  0.008451 -1.730603  7.313887  \n",
       "5      4 -0.883737 -1.409948  7.467942  \n",
       "6     48  1.149910  0.269022  7.601402  \n",
       "7     43 -1.250053 -0.800848  7.601402  \n",
       "8     14  0.147373  0.265141  7.601402  "
      ]
     },
     "execution_count": 64,
     "metadata": {},
     "output_type": "execute_result"
    }
   ],
   "source": [
    "df.head()"
   ]
  },
  {
   "cell_type": "markdown",
   "execution_count": null,
   "metadata": {
    "papermill": {
     "duration": 0.046546,
     "end_time": "2020-09-09T22:50:29.646753",
     "exception": false,
     "start_time": "2020-09-09T22:50:29.600207",
     "status": "completed"
    },
    "tags": []
   },
   "source": [
    "Finally, we will split the dataset."
   ]
  },
  {
   "cell_type": "code",
   "execution_count": 65,
   "metadata": {
    "execution": {
     "iopub.execute_input": "2020-09-09T22:50:29.753506Z",
     "iopub.status.busy": "2020-09-09T22:50:29.752758Z",
     "iopub.status.idle": "2020-09-09T22:50:29.770571Z",
     "shell.execute_reply": "2020-09-09T22:50:29.771131Z"
    },
    "papermill": {
     "duration": 0.077337,
     "end_time": "2020-09-09T22:50:29.771344",
     "exception": false,
     "start_time": "2020-09-09T22:50:29.694007",
     "status": "completed"
    },
    "tags": []
   },
   "outputs": [],
   "source": [
    "from sklearn.model_selection import train_test_split\n",
    "\n",
    "X = df.iloc[:, :-1]\n",
    "y = df.iloc[:,-1:].values.T[0]\n",
    "\n",
    "X_train, X_test, y_train, y_test =\\\n",
    "train_test_split(X, y, train_size=0.9, test_size=0.1, random_state=0)"
   ]
  },
  {
   "cell_type": "markdown",
   "execution_count": null,
   "metadata": {
    "papermill": {
     "duration": 0.04698,
     "end_time": "2020-09-09T22:50:29.866212",
     "exception": false,
     "start_time": "2020-09-09T22:50:29.819232",
     "status": "completed"
    },
    "tags": []
   },
   "source": [
    "Before we proceed to the next step, let us write a couple of helper functions."
   ]
  },
  {
   "cell_type": "code",
   "execution_count": 66,
   "metadata": {
    "execution": {
     "iopub.execute_input": "2020-09-09T22:50:29.968137Z",
     "iopub.status.busy": "2020-09-09T22:50:29.967358Z",
     "iopub.status.idle": "2020-09-09T22:50:29.971073Z",
     "shell.execute_reply": "2020-09-09T22:50:29.970329Z"
    },
    "papermill": {
     "duration": 0.057645,
     "end_time": "2020-09-09T22:50:29.971208",
     "exception": false,
     "start_time": "2020-09-09T22:50:29.913563",
     "status": "completed"
    },
    "tags": []
   },
   "outputs": [],
   "source": [
    "def remove_negatives(y_test, y_pred):\n",
    "    '''This function will remove any negative values from predictions'''\n",
    "    ind = [index for index in range(len(y_pred)) if(y_pred[index]>0)]\n",
    "    y_pred = y_pred[ind]\n",
    "    y_test = y_test[ind]\n",
    "    return (y_test, y_pred)    "
   ]
  },
  {
   "cell_type": "code",
   "execution_count": 67,
   "metadata": {
    "execution": {
     "iopub.execute_input": "2020-09-09T22:50:30.075383Z",
     "iopub.status.busy": "2020-09-09T22:50:30.074431Z",
     "iopub.status.idle": "2020-09-09T22:50:30.077252Z",
     "shell.execute_reply": "2020-09-09T22:50:30.077855Z"
    },
    "papermill": {
     "duration": 0.059058,
     "end_time": "2020-09-09T22:50:30.078008",
     "exception": false,
     "start_time": "2020-09-09T22:50:30.018950",
     "status": "completed"
    },
    "tags": []
   },
   "outputs": [],
   "source": [
    "from sklearn.metrics import mean_squared_log_error,\\\n",
    "r2_score\n",
    "\n",
    "def evaluate_perf(y_test, y_pred):\n",
    "    '''This function will generate metrics about the\n",
    "    performance of a model.'''\n",
    "    res = []\n",
    "    res.append(mean_squared_log_error(y_test, y_pred))\n",
    "    res.append(np.sqrt(res[0]))\n",
    "    res.append(r2_score(y_test, y_pred))\n",
    "    res.append(round(r2_score(y_test, y_pred)*100, 4))\n",
    "    return (res)"
   ]
  },
  {
   "cell_type": "markdown",
   "execution_count": null,
   "metadata": {
    "papermill": {
     "duration": 0.047711,
     "end_time": "2020-09-09T22:50:30.173274",
     "exception": false,
     "start_time": "2020-09-09T22:50:30.125563",
     "status": "completed"
    },
    "tags": []
   },
   "source": [
    "We will also create a dataframe to store any performance metrics that the `evaluate_perf` function returns. This dataframe will contain four&nbsp;rows.\n",
    "\n",
    "Among the row indexes of the dataframe, MSLE stands for mean squared logarithmic error and RMSLE is root MSLE. We can use MSLE and RMSLE to determine the variation between actual target values and target values that are predicted by a machine-learning model.\n",
    "\n",
    "The third index, R2 score, refers to the r-squared (R2) statistical measure. Like MSLE, R2 also signifies the variance between predicted and actual values. R2 \"is the proportion of the variance in the dependent variable that is predictable from the independent variable(s)<sup id=\"r2\" style=\"font-size: x-small\">[[1]](#r2-wiki)</sup>\"\n",
    "\n",
    "R2 scores are restricted to the range 0–1. A positive R2 score means that the machine-learning algorithm that we are evaluating is effective. An R2 score of 0 means that the machine-learning model is just returning the average of the actual variables."
   ]
  },
  {
   "cell_type": "code",
   "execution_count": 68,
   "metadata": {
    "execution": {
     "iopub.execute_input": "2020-09-09T22:50:30.275076Z",
     "iopub.status.busy": "2020-09-09T22:50:30.274075Z",
     "iopub.status.idle": "2020-09-09T22:50:30.277416Z",
     "shell.execute_reply": "2020-09-09T22:50:30.276651Z"
    },
    "papermill": {
     "duration": 0.056872,
     "end_time": "2020-09-09T22:50:30.277550",
     "exception": false,
     "start_time": "2020-09-09T22:50:30.220678",
     "status": "completed"
    },
    "tags": []
   },
   "outputs": [],
   "source": [
    "df_metrics = pd.DataFrame(index=['MSLE', 'RMSLE',\\\n",
    "                                 'R2 score','Accuracy(%)'])"
   ]
  },
  {
   "cell_type": "markdown",
   "execution_count": null,
   "metadata": {
    "papermill": {
     "duration": 0.047301,
     "end_time": "2020-09-09T22:50:30.373325",
     "exception": false,
     "start_time": "2020-09-09T22:50:30.326024",
     "status": "completed"
    },
    "tags": []
   },
   "source": [
    "<h2>Step 6: Building and validating models<a aria-pressed=\"true\" class=\"btn btn-primary btn-sm\" data-toggle=\"popover\" name='step6-desc' id='step6-desc' href=\"#step6\" role=\"button\" style=\"color: white; margin-left: 20px; target='_self'\">Go to steplist</a></h2>"
   ]
  },
  {
   "cell_type": "markdown",
   "execution_count": null,
   "metadata": {
    "papermill": {
     "duration": 0.046964,
     "end_time": "2020-09-09T22:50:30.467689",
     "exception": false,
     "start_time": "2020-09-09T22:50:30.420725",
     "status": "completed"
    },
    "tags": []
   },
   "source": [
    "Our first model will be a linear regressor.\n",
    "\n",
    "### Building the linear regressor\n",
    "\n",
    "We will use the following code to build the model:"
   ]
  },
  {
   "cell_type": "code",
   "execution_count": 69,
   "metadata": {
    "execution": {
     "iopub.execute_input": "2020-09-09T22:50:30.572438Z",
     "iopub.status.busy": "2020-09-09T22:50:30.571681Z",
     "iopub.status.idle": "2020-09-09T22:50:30.648971Z",
     "shell.execute_reply": "2020-09-09T22:50:30.648244Z"
    },
    "papermill": {
     "duration": 0.133285,
     "end_time": "2020-09-09T22:50:30.649131",
     "exception": false,
     "start_time": "2020-09-09T22:50:30.515846",
     "status": "completed"
    },
    "tags": []
   },
   "outputs": [],
   "source": [
    "from sklearn.linear_model import LinearRegression\n",
    "\n",
    "# Instantiating a linear regressor\n",
    "lin_reg = LinearRegression()\n",
    "\n",
    "# Fitting a linear-regression model\n",
    "lin_reg.fit(X_train, y_train)\n",
    "y_pred = lin_reg.predict(X_test)"
   ]
  },
  {
   "cell_type": "markdown",
   "execution_count": null,
   "metadata": {
    "papermill": {
     "duration": 0.04698,
     "end_time": "2020-09-09T22:50:30.745629",
     "exception": false,
     "start_time": "2020-09-09T22:50:30.698649",
     "status": "completed"
    },
    "tags": []
   },
   "source": [
    "### Validating the linear regressor\n",
    "\n",
    "Here is code that will validate the model:"
   ]
  },
  {
   "cell_type": "code",
   "execution_count": 70,
   "metadata": {
    "execution": {
     "iopub.execute_input": "2020-09-09T22:50:30.862898Z",
     "iopub.status.busy": "2020-09-09T22:50:30.861613Z",
     "iopub.status.idle": "2020-09-09T22:50:30.872100Z",
     "shell.execute_reply": "2020-09-09T22:50:30.871478Z"
    },
    "papermill": {
     "duration": 0.078783,
     "end_time": "2020-09-09T22:50:30.872223",
     "exception": false,
     "start_time": "2020-09-09T22:50:30.793440",
     "status": "completed"
    },
    "tags": []
   },
   "outputs": [
    {
     "name": "stdout",
     "output_type": "stream",
     "text": [
      "Coefficients: \n",
      " [-0.00106939  0.41597776  0.00156748  0.06488573 -0.02969429  0.20085743\n",
      " -0.18483949 -0.17602264 -0.08075278  0.10994868 -0.15163292 -0.0110252\n",
      " -0.00878096  0.00270627  0.00063005 -0.00495675 -0.06174536]\n",
      "MSLE : 0.0021318140749874872\n",
      "Root MSLE : 0.04617157215200157\n",
      "R2 Score : 0.6065810080383724 or 60.6581%\n"
     ]
    }
   ],
   "source": [
    "# Validating the model by identifying errors\n",
    "y_test_1, y_pred_1 = remove_negatives(y_test, y_pred)\n",
    "res_lin_reg = evaluate_perf(y_test_1, y_pred_1)\n",
    "\n",
    "print(\"Coefficients: \\n\", lin_reg.coef_)\n",
    "print(f\"MSLE : {res_lin_reg[0]}\")\n",
    "print(f\"Root MSLE : {res_lin_reg[1]}\")\n",
    "print(f\"R2 Score : {res_lin_reg[2]} or {res_lin_reg[3]}%\")\n",
    "\n",
    "df_metrics[\"Linear\"] = res_lin_reg"
   ]
  },
  {
   "cell_type": "markdown",
   "execution_count": null,
   "metadata": {
    "papermill": {
     "duration": 0.047232,
     "end_time": "2020-09-09T22:50:30.966893",
     "exception": false,
     "start_time": "2020-09-09T22:50:30.919661",
     "status": "completed"
    },
    "tags": []
   },
   "source": [
    "How did the actual and predicted values vary? Let us draw a bar graph to compare some of these values."
   ]
  },
  {
   "cell_type": "code",
   "execution_count": 71,
   "metadata": {
    "execution": {
     "iopub.execute_input": "2020-09-09T22:50:31.071083Z",
     "iopub.status.busy": "2020-09-09T22:50:31.070277Z",
     "iopub.status.idle": "2020-09-09T22:50:31.601642Z",
     "shell.execute_reply": "2020-09-09T22:50:31.602305Z"
    },
    "papermill": {
     "duration": 0.588152,
     "end_time": "2020-09-09T22:50:31.602502",
     "exception": false,
     "start_time": "2020-09-09T22:50:31.014350",
     "status": "completed"
    },
    "tags": []
   },
   "outputs": [
    {
     "data": {
      "image/png": "[encoded data removed]",
      "text/plain": [
       "<Figure size 720x360 with 1 Axes>"
      ]
     },
     "metadata": {},
     "output_type": "display_data"
    }
   ],
   "source": [
    "df_lin_comp = pd.DataFrame({'Actual': y_test_1, 'Predicted': y_pred_1})\n",
    "df_lin_comp = df_lin_comp.head(25)\n",
    "\n",
    "df_lin_comp.plot(kind='bar', figsize=(10,5))\n",
    "\n",
    "plt.grid(which='major', linestyle='-', linewidth='0.1', color='green')\n",
    "plt.title('Linear regressor: Actual vs. predicted')\n",
    "plt.ylabel('MSLE')\n",
    "plt.show()"
   ]
  },
  {
   "cell_type": "markdown",
   "execution_count": null,
   "metadata": {
    "papermill": {
     "duration": 0.048654,
     "end_time": "2020-09-09T22:50:31.700354",
     "exception": false,
     "start_time": "2020-09-09T22:50:31.651700",
     "status": "completed"
    },
    "tags": []
   },
   "source": [
    "Next, let us see how the linear regressor ranked independent variables."
   ]
  },
  {
   "cell_type": "code",
   "execution_count": 72,
   "metadata": {
    "execution": {
     "iopub.execute_input": "2020-09-09T22:50:31.821234Z",
     "iopub.status.busy": "2020-09-09T22:50:31.818712Z",
     "iopub.status.idle": "2020-09-09T22:50:32.178995Z",
     "shell.execute_reply": "2020-09-09T22:50:32.178262Z"
    },
    "papermill": {
     "duration": 0.429319,
     "end_time": "2020-09-09T22:50:32.179125",
     "exception": false,
     "start_time": "2020-09-09T22:50:31.749806",
     "status": "completed"
    },
    "tags": []
   },
   "outputs": [
    {
     "data": {
      "image/png": "[encoded data removed]",
      "text/plain": [
       "<Figure size 432x216 with 1 Axes>"
      ]
     },
     "metadata": {},
     "output_type": "display_data"
    }
   ],
   "source": [
    "coefs = pd.Series(lin_reg.coef_, index = X_train.columns)\n",
    "sorted_coefs = coefs.sort_values()\n",
    "\n",
    "sorted_coefs.plot(kind = \"barh\")\n",
    "\n",
    "plt.rcParams['figure.figsize'] = (6.0, 6.0)\n",
    "plt.xlabel('Score'); \n",
    "plt.ylabel('Feature'); \n",
    "plt.title('Linear regressor: Feature importance')\n",
    "\n",
    "plt.show()"
   ]
  },
  {
   "cell_type": "markdown",
   "execution_count": null,
   "metadata": {
    "papermill": {
     "duration": 0.047979,
     "end_time": "2020-09-09T22:50:32.275795",
     "exception": false,
     "start_time": "2020-09-09T22:50:32.227816",
     "status": "completed"
    },
    "tags": []
   },
   "source": [
    "Next, we will work on a random-forest regressor.\n",
    "\n",
    "## Building the random-forest regressor"
   ]
  },
  {
   "cell_type": "code",
   "execution_count": 73,
   "metadata": {
    "execution": {
     "iopub.execute_input": "2020-09-09T22:50:32.385792Z",
     "iopub.status.busy": "2020-09-09T22:50:32.384996Z",
     "iopub.status.idle": "2020-09-09T22:51:02.059797Z",
     "shell.execute_reply": "2020-09-09T22:51:02.059085Z"
    },
    "papermill": {
     "duration": 29.73533,
     "end_time": "2020-09-09T22:51:02.059934",
     "exception": false,
     "start_time": "2020-09-09T22:50:32.324604",
     "status": "completed"
    },
    "tags": []
   },
   "outputs": [],
   "source": [
    "from sklearn.ensemble import RandomForestRegressor\n",
    "\n",
    "rf_reg = RandomForestRegressor(n_estimators=180,\n",
    "                               random_state=0,\n",
    "                               min_samples_leaf=1,\n",
    "                               max_features=0.5,\n",
    "                               n_jobs=-1,\n",
    "                               oob_score=True)\n",
    "\n",
    "rf_reg.fit(X_train,y_train)\n",
    "y_pred = rf_reg.predict(X_test)"
   ]
  },
  {
   "cell_type": "markdown",
   "execution_count": null,
   "metadata": {
    "papermill": {
     "duration": 0.048278,
     "end_time": "2020-09-09T22:51:02.157202",
     "exception": false,
     "start_time": "2020-09-09T22:51:02.108924",
     "status": "completed"
    },
    "tags": []
   },
   "source": [
    "## Validating the random-forest regressor"
   ]
  },
  {
   "cell_type": "code",
   "execution_count": 74,
   "metadata": {
    "execution": {
     "iopub.execute_input": "2020-09-09T22:51:02.276547Z",
     "iopub.status.busy": "2020-09-09T22:51:02.275298Z",
     "iopub.status.idle": "2020-09-09T22:51:02.284112Z",
     "shell.execute_reply": "2020-09-09T22:51:02.283366Z"
    },
    "papermill": {
     "duration": 0.078129,
     "end_time": "2020-09-09T22:51:02.284245",
     "exception": false,
     "start_time": "2020-09-09T22:51:02.206116",
     "status": "completed"
    },
    "tags": []
   },
   "outputs": [
    {
     "name": "stdout",
     "output_type": "stream",
     "text": [
      "MSLE : 0.0005697816726796551\n",
      "Root MSLE : 0.023870099972133657\n",
      "R2 Score : 0.8999038772230806 or 89.9904%\n"
     ]
    }
   ],
   "source": [
    "y_test_1, y_pred_1 = remove_negatives(y_test, y_pred)\n",
    "res_rf_reg = evaluate_perf(y_test_1, y_pred_1)\n",
    "\n",
    "print(f\"MSLE : {res_rf_reg[0]}\")\n",
    "print(f\"Root MSLE : {res_rf_reg[1]}\")\n",
    "print(f\"R2 Score : {res_rf_reg[2]} or {res_rf_reg[3]}%\")\n",
    "\n",
    "df_metrics['RandomForest'] = res_rf_reg"
   ]
  },
  {
   "cell_type": "markdown",
   "execution_count": null,
   "metadata": {
    "papermill": {
     "duration": 0.04883,
     "end_time": "2020-09-09T22:51:02.382068",
     "exception": false,
     "start_time": "2020-09-09T22:51:02.333238",
     "status": "completed"
    },
    "tags": []
   },
   "source": [
    "How did the actual and predicted values vary? Let us draw a bar graph to compare some of these values."
   ]
  },
  {
   "cell_type": "code",
   "execution_count": 75,
   "metadata": {
    "execution": {
     "iopub.execute_input": "2020-09-09T22:51:02.488869Z",
     "iopub.status.busy": "2020-09-09T22:51:02.488098Z",
     "iopub.status.idle": "2020-09-09T22:51:03.021218Z",
     "shell.execute_reply": "2020-09-09T22:51:03.020453Z"
    },
    "papermill": {
     "duration": 0.590721,
     "end_time": "2020-09-09T22:51:03.021350",
     "exception": false,
     "start_time": "2020-09-09T22:51:02.430629",
     "status": "completed"
    },
    "tags": []
   },
   "outputs": [
    {
     "data": {
      "image/png": "[encoded data removed]",
      "text/plain": [
       "<Figure size 720x360 with 1 Axes>"
      ]
     },
     "metadata": {},
     "output_type": "display_data"
    }
   ],
   "source": [
    "df_rf_comp = pd.DataFrame({'Actual': y_test_1, 'Predicted': y_pred_1})\n",
    "df_rf_comp = df_rf_comp.head(25)\n",
    "\n",
    "df_rf_comp.plot(kind='bar', figsize=(10,5))\n",
    "\n",
    "plt.grid(which='major', linestyle='-', linewidth='0.1', color='green')\n",
    "plt.title('Random forest: Actual vs. predicted')\n",
    "plt.ylabel('MSLE')\n",
    "\n",
    "plt.show()"
   ]
  },
  {
   "cell_type": "markdown",
   "execution_count": null,
   "metadata": {
    "papermill": {
     "duration": 0.048582,
     "end_time": "2020-09-09T22:51:03.119190",
     "exception": false,
     "start_time": "2020-09-09T22:51:03.070608",
     "status": "completed"
    },
    "tags": []
   },
   "source": [
    "Let us also depict the random-forest ranking of independent variables."
   ]
  },
  {
   "cell_type": "code",
   "execution_count": 76,
   "metadata": {
    "execution": {
     "iopub.execute_input": "2020-09-09T22:51:03.227717Z",
     "iopub.status.busy": "2020-09-09T22:51:03.226683Z",
     "iopub.status.idle": "2020-09-09T22:51:03.718543Z",
     "shell.execute_reply": "2020-09-09T22:51:03.717872Z"
    },
    "papermill": {
     "duration": 0.550041,
     "end_time": "2020-09-09T22:51:03.718671",
     "exception": false,
     "start_time": "2020-09-09T22:51:03.168630",
     "status": "completed"
    },
    "tags": []
   },
   "outputs": [
    {
     "data": {
      "image/png": "[encoded data removed]",
      "text/plain": [
       "<Figure size 432x432 with 1 Axes>"
      ]
     },
     "metadata": {},
     "output_type": "display_data"
    }
   ],
   "source": [
    "importances = rf_reg.feature_importances_\n",
    "features = X_train.columns\n",
    "x_vals = list(range(len(importances)))\n",
    "\n",
    "plt.figure(figsize=(6,6))\n",
    "plt.bar(x_vals, importances, orientation = ('vertical'))\n",
    "\n",
    "plt.xticks(x_vals, features, rotation=90)\n",
    "plt.ylabel('Score'); \n",
    "plt.xlabel('Feature'); \n",
    "plt.title('Random forest: Feature importance')\n",
    "\n",
    "plt.tight_layout()\n",
    "plt.show();"
   ]
  },
  {
   "cell_type": "markdown",
   "execution_count": null,
   "metadata": {
    "papermill": {
     "duration": 0.04914,
     "end_time": "2020-09-09T22:51:03.818190",
     "exception": false,
     "start_time": "2020-09-09T22:51:03.769050",
     "status": "completed"
    },
    "tags": []
   },
   "source": [
    "Finally, we will work on an XGBoost regressor.\n",
    "\n",
    "## Building the XGBoost regressor"
   ]
  },
  {
   "cell_type": "code",
   "execution_count": 77,
   "metadata": {
    "execution": {
     "iopub.execute_input": "2020-09-09T22:51:03.924103Z",
     "iopub.status.busy": "2020-09-09T22:51:03.923183Z",
     "iopub.status.idle": "2020-09-09T22:51:59.461076Z",
     "shell.execute_reply": "2020-09-09T22:51:59.461862Z"
    },
    "papermill": {
     "duration": 55.594625,
     "end_time": "2020-09-09T22:51:59.462083",
     "exception": false,
     "start_time": "2020-09-09T22:51:03.867458",
     "status": "completed"
    },
    "tags": []
   },
   "outputs": [],
   "source": [
    "import xgboost as xgb\n",
    "\n",
    "xg_reg = xgb.XGBRegressor(objective ='reg:squarederror',\n",
    "                          learning_rate = 0.4,\n",
    "                          max_depth = 24,\n",
    "                          alpha = 5,\n",
    "                          n_estimators = 200)\n",
    "\n",
    "xg_reg.fit(X_train,y_train)\n",
    "y_pred = xg_reg.predict(X_test)"
   ]
  },
  {
   "cell_type": "markdown",
   "execution_count": null,
   "metadata": {
    "papermill": {
     "duration": 0.061962,
     "end_time": "2020-09-09T22:51:59.589860",
     "exception": false,
     "start_time": "2020-09-09T22:51:59.527898",
     "status": "completed"
    },
    "tags": []
   },
   "source": [
    "## Validating the XGBoost regressor"
   ]
  },
  {
   "cell_type": "code",
   "execution_count": 78,
   "metadata": {
    "execution": {
     "iopub.execute_input": "2020-09-09T22:51:59.726372Z",
     "iopub.status.busy": "2020-09-09T22:51:59.715990Z",
     "iopub.status.idle": "2020-09-09T22:51:59.770320Z",
     "shell.execute_reply": "2020-09-09T22:51:59.769554Z"
    },
    "papermill": {
     "duration": 0.118701,
     "end_time": "2020-09-09T22:51:59.770447",
     "exception": false,
     "start_time": "2020-09-09T22:51:59.651746",
     "status": "completed"
    },
    "tags": []
   },
   "outputs": [
    {
     "name": "stdout",
     "output_type": "stream",
     "text": [
      "MSLE : 0.0005691103610996453\n",
      "Root MSLE : 0.023856034060581933\n",
      "R2 Score : 0.8993441534684019 or 89.9344%\n"
     ]
    }
   ],
   "source": [
    "y_test_1, y_pred_1 = remove_negatives(y_test, y_pred)\n",
    "res_xg_reg = evaluate_perf(y_test_1,y_pred_1)\n",
    "\n",
    "print(f\"MSLE : {res_xg_reg[0]}\")\n",
    "print(f\"Root MSLE : {res_xg_reg[1]}\")\n",
    "print(f\"R2 Score : {res_xg_reg[2]} or {res_xg_reg[3]}%\")\n",
    "\n",
    "df_metrics['XGBoost'] = res_xg_reg\n",
    "\n",
    "# Saving the metrics dataframe as a CSV file because\n",
    "# it contains data about each of the three models now\n",
    "df_metrics.to_csv('error_metrics.csv')"
   ]
  },
  {
   "cell_type": "markdown",
   "execution_count": null,
   "metadata": {
    "papermill": {
     "duration": 0.049489,
     "end_time": "2020-09-09T22:51:59.870070",
     "exception": false,
     "start_time": "2020-09-09T22:51:59.820581",
     "status": "completed"
    },
    "tags": []
   },
   "source": [
    "To round off this step, let us depict the XGBoost ranking of independent variables."
   ]
  },
  {
   "cell_type": "code",
   "execution_count": 79,
   "metadata": {
    "execution": {
     "iopub.execute_input": "2020-09-09T22:51:59.976763Z",
     "iopub.status.busy": "2020-09-09T22:51:59.976003Z",
     "iopub.status.idle": "2020-09-09T22:52:02.985206Z",
     "shell.execute_reply": "2020-09-09T22:52:02.984366Z"
    },
    "papermill": {
     "duration": 3.065233,
     "end_time": "2020-09-09T22:52:02.985337",
     "exception": false,
     "start_time": "2020-09-09T22:51:59.920104",
     "status": "completed"
    },
    "tags": []
   },
   "outputs": [
    {
     "data": {
      "image/png": "[encoded data removed]",
      "text/plain": [
       "<Figure size 432x432 with 1 Axes>"
      ]
     },
     "metadata": {},
     "output_type": "display_data"
    }
   ],
   "source": [
    "xgb.plot_importance(xg_reg)\n",
    "\n",
    "plt.rcParams['figure.figsize'] = [5, 5]\n",
    "plt.title('XGBoost: Feature importance')\n",
    "\n",
    "plt.tight_layout()\n",
    "plt.show();"
   ]
  },
  {
   "cell_type": "markdown",
   "execution_count": null,
   "metadata": {
    "papermill": {
     "duration": 0.050172,
     "end_time": "2020-09-09T22:52:03.086797",
     "exception": false,
     "start_time": "2020-09-09T22:52:03.036625",
     "status": "completed"
    },
    "tags": []
   },
   "source": [
    "<h2>Step 7: Identifying the most appropriate model<a aria-pressed=\"true\" class=\"btn btn-primary btn-sm\" data-toggle=\"popover\" name='step7-desc' id='step7-desc' href=\"#step7\" role=\"button\" style=\"color: white; margin-left: 20px; target='_self'\">Go to steplist</a></h2>"
   ]
  },
  {
   "cell_type": "markdown",
   "execution_count": null,
   "metadata": {
    "papermill": {
     "duration": 0.050577,
     "end_time": "2020-09-09T22:52:03.187802",
     "exception": false,
     "start_time": "2020-09-09T22:52:03.137225",
     "status": "completed"
    },
    "tags": []
   },
   "source": [
    "As the following table and graph indicate, the linear regressor is the least accurate model. Random forest and XGBoost have performed much better than the linear regressor in multiple iterations of the code. And the accuracies of these high performers have been on a par mostly. \n",
    "\n",
    "But if I had to choose one regressor for this type of project, it would be XGBoost. If an XGBoost model is tuned properly, it can reduce bias and variance and give accurate results. What adds to its appeal is that it is optimized for speed and real-world performance."
   ]
  },
  {
   "cell_type": "code",
   "execution_count": 80,
   "metadata": {
    "execution": {
     "iopub.execute_input": "2020-09-09T22:52:03.304828Z",
     "iopub.status.busy": "2020-09-09T22:52:03.303591Z",
     "iopub.status.idle": "2020-09-09T22:52:03.308899Z",
     "shell.execute_reply": "2020-09-09T22:52:03.308147Z"
    },
    "papermill": {
     "duration": 0.070619,
     "end_time": "2020-09-09T22:52:03.309026",
     "exception": false,
     "start_time": "2020-09-09T22:52:03.238407",
     "status": "completed"
    },
    "tags": []
   },
   "outputs": [
    {
     "data": {
      "text/html": [
       "<div>\n",
       "<style scoped>\n",
       "    .dataframe tbody tr th:only-of-type {\n",
       "        vertical-align: middle;\n",
       "    }\n",
       "\n",
       "    .dataframe tbody tr th {\n",
       "        vertical-align: top;\n",
       "    }\n",
       "\n",
       "    .dataframe thead th {\n",
       "        text-align: right;\n",
       "    }\n",
       "</style>\n",
       "<table border=\"1\" class=\"dataframe\">\n",
       "  <thead>\n",
       "    <tr style=\"text-align: right;\">\n",
       "      <th></th>\n",
       "      <th>Linear</th>\n",
       "      <th>RandomForest</th>\n",
       "      <th>XGBoost</th>\n",
       "    </tr>\n",
       "  </thead>\n",
       "  <tbody>\n",
       "    <tr>\n",
       "      <th>MSLE</th>\n",
       "      <td>0.002132</td>\n",
       "      <td>0.000570</td>\n",
       "      <td>0.000569</td>\n",
       "    </tr>\n",
       "    <tr>\n",
       "      <th>RMSLE</th>\n",
       "      <td>0.046172</td>\n",
       "      <td>0.023870</td>\n",
       "      <td>0.023856</td>\n",
       "    </tr>\n",
       "    <tr>\n",
       "      <th>R2 score</th>\n",
       "      <td>0.606581</td>\n",
       "      <td>0.899904</td>\n",
       "      <td>0.899344</td>\n",
       "    </tr>\n",
       "    <tr>\n",
       "      <th>Accuracy(%)</th>\n",
       "      <td>60.658100</td>\n",
       "      <td>89.990400</td>\n",
       "      <td>89.934400</td>\n",
       "    </tr>\n",
       "  </tbody>\n",
       "</table>\n",
       "</div>"
      ],
      "text/plain": [
       "                Linear  RandomForest    XGBoost\n",
       "MSLE          0.002132      0.000570   0.000569\n",
       "RMSLE         0.046172      0.023870   0.023856\n",
       "R2 score      0.606581      0.899904   0.899344\n",
       "Accuracy(%)  60.658100     89.990400  89.934400"
      ]
     },
     "execution_count": 80,
     "metadata": {},
     "output_type": "execute_result"
    }
   ],
   "source": [
    "df_metrics = pd.read_csv('error_metrics.csv', index_col=0)\n",
    "df_metrics"
   ]
  },
  {
   "cell_type": "code",
   "execution_count": 81,
   "metadata": {
    "execution": {
     "iopub.execute_input": "2020-09-09T22:52:03.470020Z",
     "iopub.status.busy": "2020-09-09T22:52:03.464890Z",
     "iopub.status.idle": "2020-09-09T22:52:03.698937Z",
     "shell.execute_reply": "2020-09-09T22:52:03.699520Z"
    },
    "papermill": {
     "duration": 0.294691,
     "end_time": "2020-09-09T22:52:03.699678",
     "exception": false,
     "start_time": "2020-09-09T22:52:03.404987",
     "status": "completed"
    },
    "tags": []
   },
   "outputs": [
    {
     "data": {
      "image/png": "[encoded data removed]",
      "text/plain": [
       "<Figure size 1440x432 with 1 Axes>"
      ]
     },
     "metadata": {},
     "output_type": "display_data"
    }
   ],
   "source": [
    "accuracies = df_metrics.loc['Accuracy(%)']\n",
    "\n",
    "x = list(range(len(accuracies)))\n",
    "y = list(range(0, 101, 10))\n",
    "\n",
    "props = dict(boxstyle='round', facecolor='white', alpha=0.8)\n",
    "plt.figure(figsize=(20, 6))\n",
    "\n",
    "plt.plot(accuracies)\n",
    "\n",
    "plt.yticks(y)\n",
    "plt.xticks(fontsize=20)\n",
    "plt.xlabel(\"Model\", fontsize=30)\n",
    "plt.ylabel(\"Accuracy(%)\", fontsize=30)\n",
    "plt.title(\"Accuracies of models\")\n",
    "\n",
    "for a, b in zip(x, y):\n",
    "    b = accuracies[a]\n",
    "    val=\"(\" + str(round(accuracies[a], 2)) + \" %)\"\n",
    "    plt.text(a, b + 4.5, val, horizontalalignment='center',\\\n",
    "             verticalalignment='center', color='green', bbox=props)\n",
    "    plt.text(a, b + 3.5, '.', horizontalalignment='center',\\\n",
    "             verticalalignment='center', color='red', fontsize=50)\n",
    "    \n",
    "plt.tight_layout()\n",
    "plt.show();"
   ]
  },
  {
   "cell_type": "markdown",
   "execution_count": null,
   "metadata": {
    "papermill": {
     "duration": 0.050999,
     "end_time": "2020-09-09T22:52:03.802989",
     "exception": false,
     "start_time": "2020-09-09T22:52:03.751990",
     "status": "completed"
    },
    "tags": []
   },
   "source": [
    "## References\n",
    "\n",
    "- Panwar Abhash Anil, \"Used Car Price Prediction using Machine Learning,\" Medium (blog), Towards Data Science, August 3, 2020, https://towardsdatascience.com/used-car-price-prediction-using-machine-learning-e3be02d977b2.\n",
    "\n",
    "- Soner Yıldırım, \"Predicting Used Car Prices with Machine Learning,\" Medium (blog), Towards Data Science, January 28, 2020, https://towardsdatascience.com/predicting-used-car-prices-with-machine-learning-fea53811b1ab."
   ]
  },
  {
   "cell_type": "markdown",
   "execution_count": null,
   "metadata": {
    "papermill": {
     "duration": 0.050758,
     "end_time": "2020-09-09T22:52:03.905178",
     "exception": false,
     "start_time": "2020-09-09T22:52:03.854420",
     "status": "completed"
    },
    "tags": []
   },
   "source": [
    "## Footnote\n",
    "\n",
    "<a name=\"r2-wiki\">1</a>: \"Coefficient of determination,\" Wikimedia Foundation, last modified September 4, 2020, 04:49, https://en.wikipedia.org/wiki/Coefficient_of_determination. [↩](#r2)"
   ]
  }
 ],
 "metadata": {
  "kernelspec": {
   "display_name": "Python 3",
   "language": "python",
   "name": "python3"
  },
  "language_info": {
   "codemirror_mode": {
    "name": "ipython",
    "version": 3
   },
   "file_extension": ".py",
   "mimetype": "text/x-python",
   "name": "python",
   "nbconvert_exporter": "python",
   "pygments_lexer": "ipython3",
   "version": "3.7.6"
  },
  "papermill": {
   "duration": 402.190033,
   "end_time": "2020-09-09T22:52:05.565889",
   "environment_variables": {},
   "exception": null,
   "input_path": "__notebook__.ipynb",
   "output_path": "__notebook__.ipynb",
   "parameters": {},
   "start_time": "2020-09-09T22:45:23.375856",
   "version": "2.1.0"
  }
 },
 "nbformat": 4,
 "nbformat_minor": 4
}
